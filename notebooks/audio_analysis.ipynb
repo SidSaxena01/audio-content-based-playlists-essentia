{
 "cells": [
  {
   "cell_type": "markdown",
   "metadata": {},
   "source": [
    "# Preprocessing"
   ]
  },
  {
   "cell_type": "code",
   "execution_count": 142,
   "metadata": {},
   "outputs": [],
   "source": [
    "MODELS_DIRECTORY = \"models\""
   ]
  },
  {
   "cell_type": "code",
   "execution_count": 143,
   "metadata": {},
   "outputs": [],
   "source": [
    "import glob\n",
    "import json\n",
    "import random\n",
    "\n",
    "import essentia\n",
    "import essentia.standard as es\n",
    "import essentia.streaming as ess\n",
    "import numpy as np\n",
    "from essentia.standard import (\n",
    "    MonoLoader,\n",
    "    TensorflowPredict2D,\n",
    "    TensorflowPredictEffnetDiscogs,\n",
    "    TensorflowPredictMusiCNN,\n",
    ")\n",
    "from IPython.display import Audio\n",
    "from matplotlib import pyplot as plt\n"
   ]
  },
  {
   "cell_type": "code",
   "execution_count": 144,
   "metadata": {},
   "outputs": [
    {
     "name": "stdout",
     "output_type": "stream",
     "text": [
      "Selected file: data/sample_audio/audio.000/0V/0VygR6ax8MWew7vLZsY9Yr.mp3\n"
     ]
    }
   ],
   "source": [
    "# Get all mp3 files from data/ directory and its subdirectories\n",
    "mp3_files = glob.glob(\"data/sample_audio/**/*.mp3\", recursive=True)\n",
    "\n",
    "# Pick a random file\n",
    "if mp3_files:\n",
    "    random_file = random.choice(mp3_files)\n",
    "    print(f\"Selected file: {random_file}\")\n",
    "else:\n",
    "    print(\"No MP3 files found in directory\")"
   ]
  },
  {
   "cell_type": "code",
   "execution_count": 152,
   "metadata": {},
   "outputs": [],
   "source": [
    "# Load the audio file once as stereo.\n",
    "# AudioLoader returns multiple outputs including the number of channels.\n",
    "# (Reference: https://essentia.upf.edu/reference/std_AudioLoader.html)\n",
    "audio_loader = es.AudioLoader(filename=random_file)\n",
    "audio, sr, num_channels, md5, bit_rate, codec = audio_loader()\n",
    "\n",
    "# Downmix the stereo signal to mono.\n",
    "# MonoMixer requires the stereo audio and its number of channels.\n",
    "# (Reference: https://essentia.upf.edu/reference/std_MonoMixer.html)\n",
    "mono_mixer = es.MonoMixer(type=\"mix\")\n",
    "audio_mono = mono_mixer(audio, num_channels)\n",
    "\n",
    "# Resample the mono audio to 44.1KHz.\n",
    "# Resample takes the input signal and the input/output sampling rates.\n",
    "# (Reference: https://essentia.upf.edu/reference/std_Resample.html)\n",
    "resample = es.Resample(inputSampleRate=sr, outputSampleRate=44100, quality=1)\n",
    "audio_mono_resampled = resample(audio_mono)\n",
    "\n",
    "# 'audio_mono_resampled' is now a 44.1KHz mono signal ready for further processing."
   ]
  },
  {
   "cell_type": "markdown",
   "metadata": {},
   "source": [
    "# BPM tempo estimation"
   ]
  },
  {
   "cell_type": "markdown",
   "metadata": {},
   "source": [
    "you can either use the default settings for the RhythmExtractor2013\n",
    "signal processing algorithm in Essentia or the TempoCNN ML model."
   ]
  },
  {
   "cell_type": "markdown",
   "metadata": {},
   "source": [
    "## RhythmExtractor2013"
   ]
  },
  {
   "cell_type": "markdown",
   "metadata": {},
   "source": [
    "\n",
    "We generally recommend using [RhythmExtractor2013](https://essentia.upf.edu/reference/std_RhythmExtractor2013.html) for beat and tempo estimation. This a wrapper algorithm providing two approaches, slower and more accurate `multifeature` vs. faster `degara`, using the auxiliary [BeatTrackerMultiFeature](https://essentia.upf.edu/reference/std_BeatTrackerMultiFeature.html) and [BeatTrackerDegara](https://essentia.upf.edu/reference/std_BeatTrackerDegara.html) for beat position estimation, respectively. \n",
    "\n",
    "The RhythmExtractor2013 algorithm outputs the estimated tempo (BPM), time positions of each beat, and confidence of their detection (in the case of using `multifeature`). In addition, it outputs the list of BPM estimates and periods between consecutive beats throughout the entire input audio signal. The algorithm relies on statistics gathered over the whole music track, and therefore it is not suited for real-time detection.\n",
    "\n",
    "Similarly to our *onset detection tutorial*, to sonify the results, we mark the estimated beat positions in the audio, using [AudioOnsetsMarker](http://essentia.upf.edu/documentation/reference/std_AudioOnsetsMarker.html). To save the audio to a file, we use [MonoWriter](https://essentia.upf.edu/reference/std_MonoWriter.html). Consult that tutorial for more details."
   ]
  },
  {
   "cell_type": "code",
   "execution_count": 153,
   "metadata": {},
   "outputs": [
    {
     "name": "stdout",
     "output_type": "stream",
     "text": [
      "BPM: 139.76763916015625\n",
      "Beat estimation confidence: 3.280425548553467\n"
     ]
    }
   ],
   "source": [
    "# Loading an audio file.\n",
    "# audio = es.MonoLoader(filename=random_file)()\n",
    "\n",
    "# Compute beat positions and BPM.\n",
    "rhythm_extractor = es.RhythmExtractor2013(method=\"multifeature\")\n",
    "bpm, beats, beats_confidence, _, beats_intervals = rhythm_extractor(audio_mono_resampled)\n",
    "\n",
    "print(\"BPM:\", bpm)\n",
    "# print(\"Beat positions (sec.):\", beats)\n",
    "print(\"Beat estimation confidence:\", beats_confidence)"
   ]
  },
  {
   "cell_type": "markdown",
   "metadata": {},
   "source": [
    "## BPM histogram"
   ]
  },
  {
   "cell_type": "markdown",
   "metadata": {},
   "source": [
    "The BPM value output by RhythmExtactor2013 is the average of all BPM estimates done for each interval between two consecutive beats. Alternatively, we can analyze the distribution of all those intervals using [BpmHistogramDescriptors](http://essentia.upf.edu/documentation/reference/std_BpmHistogramDescriptors.html). This is especially useful for music with a varying tempo (which is not the case in our example)."
   ]
  },
  {
   "cell_type": "code",
   "execution_count": 154,
   "metadata": {},
   "outputs": [
    {
     "name": "stdout",
     "output_type": "stream",
     "text": [
      "Overall BPM (estimated before): 139.8\n",
      "First histogram peak: 140.0 bpm\n",
      "Second histogram peak: 133.0 bpm\n"
     ]
    },
    {
     "data": {
      "image/png": "[encoded data removed]",
      "text/plain": [
       "<Figure size 640x480 with 1 Axes>"
      ]
     },
     "metadata": {},
     "output_type": "display_data"
    }
   ],
   "source": [
    "(\n",
    "    peak1_bpm,\n",
    "    peak1_weight,\n",
    "    peak1_spread,\n",
    "    peak2_bpm,\n",
    "    peak2_weight,\n",
    "    peak2_spread,\n",
    "    histogram,\n",
    ") = es.BpmHistogramDescriptors()(beats_intervals)\n",
    "\n",
    "print(\"Overall BPM (estimated before): %0.1f\" % bpm)\n",
    "print(\"First histogram peak: %0.1f bpm\" % peak1_bpm)\n",
    "print(\"Second histogram peak: %0.1f bpm\" % peak2_bpm)\n",
    "\n",
    "fig, ax = plt.subplots()\n",
    "ax.bar(range(len(histogram)), histogram, width=1)\n",
    "ax.set_xlabel(\"BPM\")\n",
    "ax.set_ylabel(\"Frequency of occurrence\")\n",
    "plt.title(\"BPM histogram\")\n",
    "ax.set_xticks([20 * x + 0.5 for x in range(int(len(histogram) / 20))])\n",
    "ax.set_xticklabels([str(20 * x) for x in range(int(len(histogram) / 20))])\n",
    "plt.show()"
   ]
  },
  {
   "cell_type": "markdown",
   "metadata": {},
   "source": [
    "## TempoCNN"
   ]
  },
  {
   "cell_type": "markdown",
   "metadata": {},
   "source": [
    "Essentia supports inference with TensorFlow models for a variety of MIR tasks, in particular tempo estimation, for which we provide the `TempoCNN` models. \n",
    "\n",
    "The [TempoCNN](https://essentia.upf.edu/reference/std_TempoCNN.html) algorithm outputs a global BPM estimation on the entire audio input as well as local estimations on short audio segments (patches) throughout the track. For local estimations, it provides their probabilities that can be used as a confidence measure.\n",
    "\n",
    "To use this algorithm in Python, follow [our instructions for using TensorFlow models](https://essentia.upf.edu/machine_learning.html#using-pre-trained-tensorflow-models)."
   ]
  },
  {
   "cell_type": "markdown",
   "metadata": {},
   "source": [
    "To download the model:"
   ]
  },
  {
   "cell_type": "code",
   "execution_count": null,
   "metadata": {},
   "outputs": [],
   "source": [
    "# !curl -SLO https://essentia.upf.edu/models/tempo/tempocnn/deeptemp-k16-3.pb"
   ]
  },
  {
   "cell_type": "code",
   "execution_count": 155,
   "metadata": {},
   "outputs": [
    {
     "name": "stdout",
     "output_type": "stream",
     "text": [
      "Available TempoCNN models:\n",
      " 0: models/tempo/deeptemp-k16-3.pb\n",
      " 1: models/tempo/deepsquare-k16-3.pb\n",
      "Using model: models/tempo/deeptemp-k16-3.pb\n",
      "song BPM: 140.0\n"
     ]
    },
    {
     "name": "stderr",
     "output_type": "stream",
     "text": [
      "[   INFO   ] TensorflowPredict: Successfully loaded graph file: `models/tempo/deeptemp-k16-3.pb`\n"
     ]
    }
   ],
   "source": [
    "sr = 11025\n",
    "audio_11khz = es.MonoLoader(filename=random_file, sampleRate=sr)()\n",
    "\n",
    "# List the available models, let the user pick one by changing user_selection\n",
    "pb_models = glob.glob(f\"{MODELS_DIRECTORY}/tempo/*.pb\")\n",
    "if pb_models:\n",
    "    print(\"Available TempoCNN models:\")\n",
    "    for i, model_file in enumerate(pb_models):\n",
    "        print(f\" {i}: {model_file}\")\n",
    "    user_selection = 0  # Change to another index to select a different model\n",
    "\n",
    "    TempoCNN_model_path = pb_models[user_selection]\n",
    "    print(\"Using model:\", TempoCNN_model_path)\n",
    "else:\n",
    "    TempoCNN_model_path = f\"{MODELS_DIRECTORY}/tempo/deeptemp-k16-3.pb\"\n",
    "    print(\"Using default model:\", TempoCNN_model_path)\n",
    "\n",
    "global_bpm, local_bpm, local_probs = es.TempoCNN(graphFilename=TempoCNN_model_path)(\n",
    "    audio_11khz\n",
    ")\n",
    "\n",
    "print(\"song BPM: {}\".format(global_bpm))"
   ]
  },
  {
   "cell_type": "markdown",
   "metadata": {},
   "source": [
    "# Key"
   ]
  },
  {
   "cell_type": "markdown",
   "metadata": {},
   "source": [
    "Key: use KeyExtractor algorithm to compute key and scale. Because our collection is\n",
    "diverse in genres, use three different profiles for key estimation (`temperley\n",
    "`\n",
    ",\n",
    "`krumhansl`\n",
    "`\n",
    "edma\n",
    ",\n",
    "`) so that we can compare them later. For scale detection, our\n",
    "algorithm is limited to major/minor."
   ]
  },
  {
   "cell_type": "code",
   "execution_count": 156,
   "metadata": {},
   "outputs": [
    {
     "name": "stdout",
     "output_type": "stream",
     "text": [
      "Profile: temperley\n",
      "  Key: G major\n",
      "  Strength: 0.6702316999435425\n",
      "Profile: krumhansl\n",
      "  Key: E minor\n",
      "  Strength: 0.719264566898346\n",
      "Profile: edma\n",
      "  Key: E minor\n",
      "  Strength: 0.8515754342079163\n"
     ]
    }
   ],
   "source": [
    "for profile in [\"temperley\", \"krumhansl\", \"edma\"]:\n",
    "    key_extractor = es.KeyExtractor(profileType=profile)\n",
    "    key, scale, strength = key_extractor(audio_mono_resampled)\n",
    "    print(\"Profile:\", profile)\n",
    "    print(\"  Key:\", key, scale)\n",
    "    print(\"  Strength:\", strength)\n"
   ]
  },
  {
   "cell_type": "markdown",
   "metadata": {},
   "source": [
    "# Loudness"
   ]
  },
  {
   "cell_type": "markdown",
   "metadata": {},
   "source": [
    "use LoudnessEBUR128 to compute integrated loudness in LUFS.\n",
    "\n",
    "\n",
    "Essentia provides the [LoudnessEBUR128](https://essentia.upf.edu/documentation/reference/std_LoudnessEBUR128.html) algorithm which implements a [common standard in broadcasting](https://en.wikipedia.org/wiki/EBU_R_128). It allows estimating overall loudness and its momentary and short-term fluctuations and dynamic range."
   ]
  },
  {
   "cell_type": "code",
   "execution_count": 158,
   "metadata": {},
   "outputs": [
    {
     "data": {
      "image/png": "[encoded data removed]",
      "text/plain": [
       "<Figure size 640x480 with 1 Axes>"
      ]
     },
     "metadata": {},
     "output_type": "display_data"
    }
   ],
   "source": [
    "# LoudnessEBUR128 requires stereo in 44100 Hz sample rate\n",
    "SEGMENT_LENGTH = 10\n",
    "\n",
    "audio_st = es.StereoTrimmer(startTime=0, endTime=SEGMENT_LENGTH)(audio)\n",
    "ebu_momentary, ebu_shortterm, ebu_integrated, dr = es.LoudnessEBUR128(\n",
    "    hopSize=1024 / 44100, startAtZero=True\n",
    ")(audio_st)\n",
    "\n",
    "plt.plot(ebu_momentary)\n",
    "plt.plot(ebu_shortterm)\n",
    "plt.title(\"EBU R128 momentary and short-term loudness\")\n",
    "plt.xlim(0)\n",
    "plt.show()"
   ]
  },
  {
   "cell_type": "code",
   "execution_count": 159,
   "metadata": {},
   "outputs": [
    {
     "name": "stdout",
     "output_type": "stream",
     "text": [
      "Integrated loudness: -15.876068115234375\n",
      "Dynamic range: 1.9826831817626953\n"
     ]
    }
   ],
   "source": [
    "print(\"Integrated loudness:\", ebu_integrated)\n",
    "print(\"Dynamic range:\", dr)"
   ]
  },
  {
   "cell_type": "markdown",
   "metadata": {},
   "source": [
    "# Embeddings"
   ]
  },
  {
   "cell_type": "markdown",
   "metadata": {},
   "source": [
    "Load the Audio for all extractions"
   ]
  },
  {
   "cell_type": "code",
   "execution_count": 164,
   "metadata": {},
   "outputs": [],
   "source": [
    "# audio = MonoLoader(filename=random_file, sampleRate=16000, resampleQuality=4)()\n",
    "audio = es.Resample(inputSampleRate=44100, outputSampleRate=16000, quality=4)(audio_mono_resampled)"
   ]
  },
  {
   "cell_type": "code",
   "execution_count": 165,
   "metadata": {},
   "outputs": [],
   "source": [
    "# discogs\n",
    "discogs_embeddings_path = f\"{MODELS_DIRECTORY}/embeddings/discogs-effnet-bs64-1.pb\"\n",
    "discogs_metadata_path = f\"{MODELS_DIRECTORY}/embeddings/discogs-effnet-bs64-1.json\"\n",
    "\n",
    "# musicnn\n",
    "musicnn_embeddings_path = f\"{MODELS_DIRECTORY}/embeddings/msd-musicnn-1.pb\"\n",
    "musicnn_metadata_path = f\"{MODELS_DIRECTORY}/embeddings/msd-musicnn-1.json\""
   ]
  },
  {
   "cell_type": "code",
   "execution_count": 166,
   "metadata": {},
   "outputs": [
    {
     "name": "stderr",
     "output_type": "stream",
     "text": [
      "[   INFO   ] TensorflowPredict: Successfully loaded graph file: `models/embeddings/discogs-effnet-bs64-1.pb`\n"
     ]
    }
   ],
   "source": [
    "discogs_model = TensorflowPredictEffnetDiscogs(\n",
    "    graphFilename=discogs_embeddings_path, output=\"PartitionedCall:1\"\n",
    ")\n",
    "discogs_embeddings = discogs_model(audio)"
   ]
  },
  {
   "cell_type": "code",
   "execution_count": 167,
   "metadata": {},
   "outputs": [
    {
     "name": "stderr",
     "output_type": "stream",
     "text": [
      "[   INFO   ] TensorflowPredict: Successfully loaded graph file: `models/embeddings/msd-musicnn-1.pb`\n"
     ]
    }
   ],
   "source": [
    "musicnn_model = TensorflowPredictMusiCNN(graphFilename=musicnn_embeddings_path, output='model/dense/BiasAdd')\n",
    "musicnn_activations = musicnn_model(audio)"
   ]
  },
  {
   "cell_type": "code",
   "execution_count": 168,
   "metadata": {},
   "outputs": [
    {
     "name": "stdout",
     "output_type": "stream",
     "text": [
      "dict_keys(['name', 'type', 'link', 'version', 'description', 'author', 'email', 'release_date', 'framework', 'framework_version', 'classes', 'model_types', 'dataset', 'schema', 'citation', 'inference'])\n"
     ]
    }
   ],
   "source": [
    "with open(discogs_metadata_path, \"r\") as json_file:\n",
    "    discogs_metadata = json.load(json_file)\n",
    "\n",
    "print(discogs_metadata.keys())"
   ]
  },
  {
   "cell_type": "code",
   "execution_count": 169,
   "metadata": {},
   "outputs": [
    {
     "name": "stdout",
     "output_type": "stream",
     "text": [
      "dict_keys(['name', 'type', 'link', 'version', 'description', 'author', 'email', 'release_date', 'framework', 'framework_version', 'classes', 'model_types', 'dataset', 'schema', 'citation', 'inference'])\n"
     ]
    }
   ],
   "source": [
    "with open(musicnn_metadata_path, \"r\") as json_file:\n",
    "    musicnn_metadata = json.load(json_file)\n",
    "\n",
    "print(musicnn_metadata.keys())"
   ]
  },
  {
   "cell_type": "markdown",
   "metadata": {},
   "source": [
    "# Danceability"
   ]
  },
  {
   "cell_type": "code",
   "execution_count": 170,
   "metadata": {},
   "outputs": [],
   "source": [
    "danceability_metadata_path = (\n",
    "    f\"{MODELS_DIRECTORY}/danceability/danceability-discogs-effnet-1.json\"\n",
    ")\n",
    "danceability_weights_path = (\n",
    "    f\"{MODELS_DIRECTORY}/danceability/danceability-discogs-effnet-1.pb\"\n",
    ")"
   ]
  },
  {
   "cell_type": "code",
   "execution_count": 171,
   "metadata": {},
   "outputs": [
    {
     "name": "stdout",
     "output_type": "stream",
     "text": [
      "dict_keys(['name', 'type', 'link', 'version', 'description', 'author', 'email', 'release_date', 'framework', 'framework_version', 'classes', 'model_types', 'dataset', 'schema', 'citation', 'inference'])\n"
     ]
    }
   ],
   "source": [
    "with open(danceability_metadata_path, \"r\") as json_file:\n",
    "    danceability_metadata = json.load(json_file)\n",
    "\n",
    "print(danceability_metadata.keys())"
   ]
  },
  {
   "cell_type": "code",
   "execution_count": 172,
   "metadata": {},
   "outputs": [
    {
     "name": "stderr",
     "output_type": "stream",
     "text": [
      "[   INFO   ] TensorflowPredict: Successfully loaded graph file: `models/danceability/danceability-discogs-effnet-1.pb`\n",
      "[   INFO   ] TensorflowPredict: Successfully loaded graph file: `models/danceability/danceability-discogs-effnet-1.pb`\n"
     ]
    }
   ],
   "source": [
    "danceability_model = TensorflowPredict2D(\n",
    "    graphFilename=danceability_weights_path, output=\"model/Softmax\"\n",
    ")\n",
    "danceability_predictions = danceability_model(discogs_embeddings)"
   ]
  },
  {
   "cell_type": "markdown",
   "metadata": {},
   "source": [
    "Finally, we can compute the global accuracy as the mean of the activations along the temporal axis."
   ]
  },
  {
   "cell_type": "code",
   "execution_count": 173,
   "metadata": {},
   "outputs": [
    {
     "name": "stdout",
     "output_type": "stream",
     "text": [
      "danceable: 99.7%\n",
      "not_danceable: 0.3%\n"
     ]
    }
   ],
   "source": [
    "for label, probability in zip(\n",
    "    danceability_metadata[\"classes\"], danceability_predictions.mean(axis=0)\n",
    "):\n",
    "    print(f\"{label}: {100 * probability:.1f}%\")"
   ]
  },
  {
   "cell_type": "code",
   "execution_count": 174,
   "metadata": {},
   "outputs": [
    {
     "name": "stdout",
     "output_type": "stream",
     "text": [
      "Danceability: 1.7899137735366821\n",
      "Normalized Danceability: 0.5966379245122274\n"
     ]
    }
   ],
   "source": [
    "# use tha audio_mono_resampled\n",
    "\n",
    "# Compute beat positions and BPM.\n",
    "danceability_algo = es.Danceability()\n",
    "\n",
    "# danceability (real) - the danceability value. Normal values range from 0 to ~3. The higher, the more danceable.\n",
    "# dfa (vector_real) - the DFA exponent vector for considered segment length (tau) values\n",
    "\n",
    "danceability, dfa = danceability_algo(audio_mono_resampled)\n",
    "\n",
    "print(\"Danceability:\", danceability)\n",
    "# Normalize danceability to a 0-1 range\n",
    "normalized_danceability = danceability / 3.0\n",
    "\n",
    "print(\"Normalized Danceability:\", normalized_danceability)\n",
    "# print(\"DFA exponent vector:\", dfa)"
   ]
  },
  {
   "cell_type": "markdown",
   "metadata": {},
   "source": [
    "# Valence & Arousal"
   ]
  },
  {
   "cell_type": "code",
   "execution_count": 175,
   "metadata": {},
   "outputs": [],
   "source": [
    "va_metadata_path = f\"{MODELS_DIRECTORY}/valence-arousal/emomusic-msd-musicnn-2.json\"\n",
    "va_weights_path = f\"{MODELS_DIRECTORY}/valence-arousal/emomusic-msd-musicnn-2.pb\""
   ]
  },
  {
   "cell_type": "code",
   "execution_count": 176,
   "metadata": {},
   "outputs": [
    {
     "name": "stdout",
     "output_type": "stream",
     "text": [
      "dict_keys(['name', 'type', 'link', 'version', 'description', 'author', 'email', 'release_date', 'framework', 'framework_version', 'classes', 'programming_env', 'model_types', 'dataset', 'schema', 'citation', 'inference'])\n"
     ]
    }
   ],
   "source": [
    "with open(va_metadata_path, \"r\") as json_file:\n",
    "    va_metadata = json.load(json_file)\n",
    "\n",
    "print(va_metadata.keys())"
   ]
  },
  {
   "cell_type": "code",
   "execution_count": 177,
   "metadata": {},
   "outputs": [
    {
     "name": "stderr",
     "output_type": "stream",
     "text": [
      "[   INFO   ] TensorflowPredict: Successfully loaded graph file: `models/valence-arousal/emomusic-msd-musicnn-2.pb`\n"
     ]
    }
   ],
   "source": [
    "va_model = TensorflowPredict2D(\n",
    "    graphFilename=\"models/valence-arousal/emomusic-msd-musicnn-2.pb\",\n",
    "    output=\"model/Identity\",\n",
    ")\n",
    "va_predictions = va_model(musicnn_activations)"
   ]
  },
  {
   "cell_type": "code",
   "execution_count": 178,
   "metadata": {},
   "outputs": [
    {
     "name": "stdout",
     "output_type": "stream",
     "text": [
      "valence: 41.4%\n",
      "arousal: 67.9%\n"
     ]
    }
   ],
   "source": [
    "for label, prediction in zip(va_metadata[\"classes\"], va_predictions.mean(axis=0)):\n",
    "    # Scale the prediction from the range [1, 9] to [0, 1]\n",
    "    scaled_prediction = (prediction - 1) / 8\n",
    "    print(f\"{label}: {100 * scaled_prediction:.1f}%\")"
   ]
  },
  {
   "cell_type": "markdown",
   "metadata": {},
   "source": [
    "# Voice/Instrumental"
   ]
  },
  {
   "cell_type": "code",
   "execution_count": 179,
   "metadata": {},
   "outputs": [
    {
     "name": "stdout",
     "output_type": "stream",
     "text": [
      "dict_keys(['name', 'type', 'link', 'version', 'description', 'author', 'email', 'release_date', 'framework', 'framework_version', 'classes', 'model_types', 'dataset', 'schema', 'citation', 'inference'])\n"
     ]
    }
   ],
   "source": [
    "voice_instrumental_metadata_path = (\n",
    "    f\"{MODELS_DIRECTORY}/voice-instrumental/voice_instrumental-discogs-effnet-1.json\"\n",
    ")\n",
    "voice_instrumental_weights_path = (\n",
    "    f\"{MODELS_DIRECTORY}/voice-instrumental/voice_instrumental-discogs-effnet-1.pb\"\n",
    ")\n",
    "\n",
    "with open(voice_instrumental_metadata_path, \"r\") as json_file:\n",
    "    voice_instrumental_metadata = json.load(json_file)\n",
    "\n",
    "print(voice_instrumental_metadata.keys())"
   ]
  },
  {
   "cell_type": "code",
   "execution_count": 180,
   "metadata": {},
   "outputs": [
    {
     "name": "stderr",
     "output_type": "stream",
     "text": [
      "[   INFO   ] TensorflowPredict: Successfully loaded graph file: `models/voice-instrumental/voice_instrumental-discogs-effnet-1.pb`\n",
      "[   INFO   ] TensorflowPredict: Successfully loaded graph file: `models/voice-instrumental/voice_instrumental-discogs-effnet-1.pb`\n"
     ]
    }
   ],
   "source": [
    "voice_instrumental_model = TensorflowPredict2D(\n",
    "    graphFilename=voice_instrumental_weights_path, output=\"model/Softmax\"\n",
    ")\n",
    "voice_instrumental_predictions = voice_instrumental_model(discogs_embeddings)"
   ]
  },
  {
   "cell_type": "code",
   "execution_count": 181,
   "metadata": {},
   "outputs": [
    {
     "name": "stdout",
     "output_type": "stream",
     "text": [
      "instrumental: 0.1%\n",
      "voice: 99.9%\n"
     ]
    }
   ],
   "source": [
    "for label, probability in zip(\n",
    "    voice_instrumental_metadata[\"classes\"], voice_instrumental_predictions.mean(axis=0)\n",
    "):\n",
    "    print(f\"{label}: {100 * probability:.1f}%\")"
   ]
  },
  {
   "cell_type": "markdown",
   "metadata": {},
   "source": [
    "# Genre / Style"
   ]
  },
  {
   "cell_type": "code",
   "execution_count": 182,
   "metadata": {},
   "outputs": [
    {
     "name": "stdout",
     "output_type": "stream",
     "text": [
      "dict_keys(['name', 'type', 'link', 'version', 'description', 'author', 'email', 'release_date', 'framework', 'framework_version', 'classes', 'model_types', 'dataset', 'schema', 'citation', 'inference'])\n"
     ]
    }
   ],
   "source": [
    "genre_metadata_path = f\"{MODELS_DIRECTORY}/genre/genre_discogs400-discogs-effnet-1.json\"\n",
    "genre_weights_path = f\"{MODELS_DIRECTORY}/genre/genre_discogs400-discogs-effnet-1.pb\"\n",
    "\n",
    "with open(genre_metadata_path, \"r\") as json_file:\n",
    "    genre_metadata = json.load(json_file)\n",
    "\n",
    "print(genre_metadata.keys())"
   ]
  },
  {
   "cell_type": "code",
   "execution_count": 183,
   "metadata": {},
   "outputs": [
    {
     "name": "stderr",
     "output_type": "stream",
     "text": [
      "[   INFO   ] TensorflowPredict: Successfully loaded graph file: `models/genre/genre_discogs400-discogs-effnet-1.pb`\n",
      "[   INFO   ] TensorflowPredict: Successfully loaded graph file: `models/genre/genre_discogs400-discogs-effnet-1.pb`\n"
     ]
    }
   ],
   "source": [
    "genre_model = TensorflowPredict2D(\n",
    "    graphFilename=genre_weights_path,\n",
    "    input=\"serving_default_model_Placeholder\",\n",
    "    output=\"PartitionedCall:0\",\n",
    ")\n",
    "genre_predictions = genre_model(discogs_embeddings)"
   ]
  },
  {
   "cell_type": "code",
   "execution_count": 184,
   "metadata": {},
   "outputs": [
    {
     "name": "stdout",
     "output_type": "stream",
     "text": [
      "Hip Hop---Grime: 52.5%\n",
      "Electronic---Grime: 40.3%\n",
      "Hip Hop---Gangsta: 6.5%\n",
      "Hip Hop---Pop Rap: 5.1%\n",
      "Electronic---Hip Hop: 5.0%\n",
      "Hip Hop---G-Funk: 4.0%\n",
      "Electronic---UK Garage: 3.4%\n",
      "Hip Hop---Horrorcore: 3.1%\n",
      "Reggae---Dancehall: 3.1%\n",
      "Pop---Bubblegum: 3.0%\n",
      "Reggae---Ragga: 2.9%\n",
      "Hip Hop---Ragga HipHop: 2.5%\n",
      "Hip Hop---Hardcore Hip-Hop: 2.1%\n",
      "Funk / Soul---Contemporary R&B: 1.9%\n",
      "Hip Hop---Thug Rap: 1.8%\n",
      "Hip Hop---RnB/Swing: 1.7%\n",
      "Electronic---House: 1.7%\n",
      "Hip Hop---Crunk: 1.6%\n",
      "Funk / Soul---Soul: 1.6%\n",
      "Electronic---Drum n Bass: 1.4%\n",
      "Hip Hop---Screw: 1.4%\n",
      "Electronic---Dubstep: 1.3%\n",
      "Reggae---Reggae: 1.2%\n",
      "Hip Hop---Conscious: 1.1%\n",
      "Pop---Vocal: 1.1%\n",
      "Pop---Europop: 1.0%\n",
      "Funk / Soul---Rhythm & Blues: 1.0%\n",
      "Pop---K-pop: 1.0%\n",
      "Hip Hop---Trap: 1.0%\n",
      "Funk / Soul---Free Funk: 1.0%\n",
      "Hip Hop---Bounce: 0.9%\n",
      "Hip Hop---Electro: 0.8%\n",
      "Hip Hop---Boom Bap: 0.8%\n",
      "Latin---Reggaeton: 0.8%\n",
      "Electronic---Euro House: 0.8%\n",
      "Hip Hop---Turntablism: 0.8%\n",
      "Reggae---Dub: 0.7%\n",
      "Electronic---Eurodance: 0.7%\n",
      "Electronic---Electro: 0.6%\n",
      "Funk / Soul---Swingbeat: 0.6%\n",
      "Pop---Ballad: 0.6%\n",
      "Hip Hop---Bass Music: 0.6%\n",
      "Hip Hop---Instrumental: 0.6%\n",
      "Hip Hop---Cut-up/DJ: 0.6%\n",
      "Reggae---Reggae-Pop: 0.5%\n",
      "Hip Hop---Jazzy Hip-Hop: 0.4%\n",
      "Funk / Soul---Funk: 0.4%\n",
      "Rock---Pop Rock: 0.4%\n",
      "Hip Hop---Cloud Rap: 0.4%\n",
      "Funk / Soul---Neo Soul: 0.3%\n",
      "Electronic---Downtempo: 0.3%\n",
      "Electronic---Dance-pop: 0.3%\n",
      "Reggae---Roots Reggae: 0.3%\n",
      "Electronic---Jungle: 0.3%\n",
      "Funk / Soul---P.Funk: 0.3%\n",
      "Funk / Soul---Gospel: 0.3%\n",
      "Electronic---Breakbeat: 0.3%\n",
      "Electronic---Synth-pop: 0.3%\n",
      "Funk / Soul---New Jack Swing: 0.3%\n",
      "Electronic---Speed Garage: 0.3%\n",
      "Electronic---Garage House: 0.3%\n",
      "Folk, World, & Country---Folk: 0.2%\n",
      "Electronic---Dub: 0.2%\n",
      "Electronic---Bassline: 0.2%\n",
      "Electronic---Experimental: 0.2%\n",
      "Hip Hop---Trip Hop: 0.2%\n",
      "Pop---Parody: 0.2%\n",
      "Stage & Screen---Soundtrack: 0.2%\n",
      "Electronic---Big Beat: 0.2%\n",
      "Electronic---Freestyle: 0.2%\n",
      "Electronic---Electro House: 0.2%\n",
      "Folk, World, & Country---Laïkó: 0.2%\n",
      "Hip Hop---Miami Bass: 0.2%\n",
      "Electronic---Broken Beat: 0.1%\n",
      "Electronic---Trip Hop: 0.1%\n",
      "Electronic---Latin: 0.1%\n",
      "Electronic---Ghetto: 0.1%\n",
      "Electronic---Trance: 0.1%\n",
      "Reggae---Soca: 0.1%\n",
      "Electronic---Hip-House: 0.1%\n",
      "Electronic---Breaks: 0.1%\n",
      "Rock---Acoustic: 0.1%\n",
      "Pop---J-pop: 0.1%\n",
      "Electronic---Hands Up: 0.1%\n",
      "Funk / Soul---UK Street Soul: 0.1%\n",
      "Electronic---Juke: 0.1%\n",
      "Electronic---Progressive House: 0.1%\n",
      "Non-Music---Comedy: 0.1%\n",
      "Electronic---Abstract: 0.1%\n",
      "Pop---Novelty: 0.1%\n",
      "Folk, World, & Country---Zouk: 0.1%\n",
      "Electronic---Techno: 0.1%\n",
      "Folk, World, & Country---African: 0.1%\n",
      "Electronic---Glitch: 0.1%\n",
      "Electronic---Chiptune: 0.1%\n",
      "Electronic---Leftfield: 0.1%\n",
      "Electronic---Italodance: 0.1%\n",
      "Rock---Alternative Rock: 0.1%\n",
      "Reggae---Lovers Rock: 0.1%\n",
      "Electronic---Hardcore: 0.1%\n",
      "Hip Hop---DJ Battle Tool: 0.1%\n",
      "Non-Music---Interview: 0.1%\n",
      "Electronic---Future Jazz: 0.1%\n",
      "Electronic---Breakcore: 0.1%\n",
      "Pop---Chanson: 0.1%\n",
      "Folk, World, & Country---Raï: 0.1%\n",
      "Pop---Light Music: 0.1%\n",
      "Electronic---Hard Trance: 0.1%\n",
      "Hip Hop---Britcore: 0.1%\n",
      "Rock---Nu Metal: 0.0%\n",
      "Electronic---Happy Hardcore: 0.0%\n",
      "Electronic---Tribal: 0.0%\n",
      "Rock---Soft Rock: 0.0%\n",
      "Electronic---Hard House: 0.0%\n",
      "Electronic---Tech House: 0.0%\n",
      "Electronic---Ambient: 0.0%\n",
      "Folk, World, & Country---Gospel: 0.0%\n",
      "Pop---Indie Pop: 0.0%\n",
      "Electronic---Hardstyle: 0.0%\n",
      "Brass & Military---Brass Band: 0.0%\n",
      "Electronic---Acid Jazz: 0.0%\n",
      "Folk, World, & Country---Romani: 0.0%\n",
      "Electronic---Deep House: 0.0%\n",
      "Electronic---Disco Polo: 0.0%\n",
      "Electronic---Tribal House: 0.0%\n",
      "Blues---Rhythm & Blues: 0.0%\n",
      "Rock---Parody: 0.0%\n",
      "Electronic---Euro-Disco: 0.0%\n",
      "Electronic---Tropical House: 0.0%\n",
      "Electronic---Halftime: 0.0%\n",
      "Electronic---Gabber: 0.0%\n",
      "Folk, World, & Country---Celtic: 0.0%\n",
      "Electronic---Jazzdance: 0.0%\n",
      "Rock---Funk Metal: 0.0%\n",
      "Funk / Soul---Afrobeat: 0.0%\n",
      "Electronic---IDM: 0.0%\n",
      "Electronic---Chillwave: 0.0%\n",
      "Latin---Cumbia: 0.0%\n",
      "Reggae---Rocksteady: 0.0%\n",
      "Electronic---Jumpstyle: 0.0%\n",
      "Funk / Soul---Boogie: 0.0%\n",
      "Rock---Punk: 0.0%\n",
      "Rock---Brit Pop: 0.0%\n",
      "Rock---Folk Rock: 0.0%\n",
      "Latin---Bossanova: 0.0%\n",
      "Electronic---Disco: 0.0%\n",
      "Stage & Screen---Musical: 0.0%\n",
      "Rock---Indie Rock: 0.0%\n",
      "Electronic---Donk: 0.0%\n",
      "Electronic---New Age: 0.0%\n",
      "Latin---Forró: 0.0%\n",
      "Non-Music---Dialogue: 0.0%\n",
      "Electronic---Electroclash: 0.0%\n",
      "Electronic---Eurobeat: 0.0%\n",
      "Folk, World, & Country---Soukous: 0.0%\n",
      "Funk / Soul---Disco: 0.0%\n",
      "Electronic---Acid House: 0.0%\n",
      "Folk, World, & Country---Polka: 0.0%\n",
      "Reggae---Ska: 0.0%\n",
      "Classical---Opera: 0.0%\n",
      "Electronic---Ghetto House: 0.0%\n",
      "Jazz---Soul-Jazz: 0.0%\n",
      "Electronic---Acid: 0.0%\n",
      "Latin---MPB: 0.0%\n",
      "Funk / Soul---Psychedelic: 0.0%\n",
      "Rock---Lounge: 0.0%\n",
      "Folk, World, & Country---Indian Classical: 0.0%\n",
      "Electronic---Italo House: 0.0%\n",
      "Jazz---Smooth Jazz: 0.0%\n",
      "Electronic---Hi NRG: 0.0%\n",
      "Electronic---EBM: 0.0%\n",
      "Folk, World, & Country---Éntekhno: 0.0%\n",
      "Rock---Psychedelic Rock: 0.0%\n",
      "Latin---Merengue: 0.0%\n",
      "Electronic---New Beat: 0.0%\n",
      "Non-Music---Spoken Word: 0.0%\n",
      "Rock---Pop Punk: 0.0%\n",
      "Jazz---Afro-Cuban Jazz: 0.0%\n",
      "Pop---Schlager: 0.0%\n",
      "Rock---Power Pop: 0.0%\n",
      "Rock---Hard Rock: 0.0%\n",
      "Electronic---Vaporwave: 0.0%\n",
      "Stage & Screen---Theme: 0.0%\n",
      "Electronic---Minimal: 0.0%\n",
      "Folk, World, & Country---Pacific: 0.0%\n",
      "Jazz---Gypsy Jazz: 0.0%\n",
      "Electronic---Industrial: 0.0%\n",
      "Electronic---Nu-Disco: 0.0%\n",
      "Rock---Heavy Metal: 0.0%\n",
      "Rock---Ska: 0.0%\n",
      "Electronic---Hard Techno: 0.0%\n",
      "Electronic---Tech Trance: 0.0%\n",
      "Electronic---Psy-Trance: 0.0%\n",
      "Jazz---Easy Listening: 0.0%\n",
      "Electronic---Progressive Trance: 0.0%\n",
      "Jazz---Swing: 0.0%\n",
      "Electronic---Makina: 0.0%\n",
      "Reggae---Calypso: 0.0%\n",
      "Electronic---Illbient: 0.0%\n",
      "Latin---Salsa: 0.0%\n",
      "Electronic---Dub Techno: 0.0%\n",
      "Electronic---Synthwave: 0.0%\n",
      "Pop---Bollywood: 0.0%\n",
      "Rock---Arena Rock: 0.0%\n",
      "Rock---Classic Rock: 0.0%\n",
      "Non-Music---Promotional: 0.0%\n",
      "Rock---Post-Hardcore: 0.0%\n",
      "Stage & Screen---Score: 0.0%\n",
      "Electronic---Sound Collage: 0.0%\n",
      "Jazz---Afrobeat: 0.0%\n",
      "Latin---Norteño: 0.0%\n",
      "Latin---Samba: 0.0%\n",
      "Jazz---Contemporary Jazz: 0.0%\n",
      "Non-Music---Poetry: 0.0%\n",
      "Rock---Beat: 0.0%\n",
      "Pop---Kayōkyoku: 0.0%\n",
      "Jazz---Fusion: 0.0%\n",
      "Latin---Rumba: 0.0%\n",
      "Electronic---Rhythmic Noise: 0.0%\n",
      "Electronic---Dark Ambient: 0.0%\n",
      "Rock---Experimental: 0.0%\n",
      "Jazz---Jazz-Funk: 0.0%\n",
      "Rock---Grunge: 0.0%\n",
      "Electronic---Speedcore: 0.0%\n",
      "Non-Music---Audiobook: 0.0%\n",
      "Rock---Symphonic Rock: 0.0%\n",
      "Rock---Surf: 0.0%\n",
      "Latin---Cubano: 0.0%\n",
      "Electronic---Neofolk: 0.0%\n",
      "Rock---Acid Rock: 0.0%\n",
      "Latin---Mambo: 0.0%\n",
      "Latin---Batucada: 0.0%\n",
      "Latin---Tango: 0.0%\n",
      "Rock---Glam: 0.0%\n",
      "Rock---Rock & Roll: 0.0%\n",
      "Rock---Blues Rock: 0.0%\n",
      "Rock---Prog Rock: 0.0%\n",
      "Rock---Metalcore: 0.0%\n",
      "Non-Music---Political: 0.0%\n",
      "Rock---Industrial: 0.0%\n",
      "Folk, World, & Country---Fado: 0.0%\n",
      "Electronic---Goa Trance: 0.0%\n",
      "Pop---Music Hall: 0.0%\n",
      "Folk, World, & Country---Flamenco: 0.0%\n",
      "Electronic---Noise: 0.0%\n",
      "Jazz---Cool Jazz: 0.0%\n",
      "Rock---Art Rock: 0.0%\n",
      "Latin---Afro-Cuban: 0.0%\n",
      "Non-Music---Religious: 0.0%\n",
      "Folk, World, & Country---Hindustani: 0.0%\n",
      "Rock---Space Rock: 0.0%\n",
      "Electronic---Darkwave: 0.0%\n",
      "Non-Music---Monolog: 0.0%\n",
      "Children's---Educational: 0.0%\n",
      "Rock---Garage Rock: 0.0%\n",
      "Electronic---Power Electronics: 0.0%\n",
      "Jazz---Jazz-Rock: 0.0%\n",
      "Electronic---Minimal Techno: 0.0%\n",
      "Latin---Tejano: 0.0%\n",
      "Folk, World, & Country---Highlife: 0.0%\n",
      "Electronic---Musique Concrète: 0.0%\n",
      "Folk, World, & Country---Country: 0.0%\n",
      "Rock---Hardcore: 0.0%\n",
      "Rock---AOR: 0.0%\n",
      "Latin---Baião: 0.0%\n",
      "Latin---Boogaloo: 0.0%\n",
      "Blues---Piano Blues: 0.0%\n",
      "Rock---Emo: 0.0%\n",
      "Electronic---New Wave: 0.0%\n",
      "Rock---Lo-Fi: 0.0%\n",
      "Folk, World, & Country---Canzone Napoletana: 0.0%\n",
      "Blues---Modern Electric Blues: 0.0%\n",
      "Electronic---Modern Classical: 0.0%\n",
      "Electronic---Italo-Disco: 0.0%\n",
      "Electronic---Deep Techno: 0.0%\n",
      "Electronic---Drone: 0.0%\n",
      "Non-Music---Radioplay: 0.0%\n",
      "Classical---Contemporary: 0.0%\n",
      "Rock---Mod: 0.0%\n",
      "Latin---Pachanga: 0.0%\n",
      "Jazz---Bossa Nova: 0.0%\n",
      "Children's---Story: 0.0%\n",
      "Jazz---Latin Jazz: 0.0%\n",
      "Folk, World, & Country---Bluegrass: 0.0%\n",
      "Electronic---Beatdown: 0.0%\n",
      "Electronic---Progressive Breaks: 0.0%\n",
      "Rock---Country Rock: 0.0%\n",
      "Electronic---Bleep: 0.0%\n",
      "Rock---Gothic Metal: 0.0%\n",
      "Rock---Grindcore: 0.0%\n",
      "Blues---Country Blues: 0.0%\n",
      "Jazz---Big Band: 0.0%\n",
      "Rock---Death Metal: 0.0%\n",
      "Latin---Compas: 0.0%\n",
      "Folk, World, & Country---Volksmusik: 0.0%\n",
      "Latin---Vallenato: 0.0%\n",
      "Rock---Deathcore: 0.0%\n",
      "Rock---Pornogrind: 0.0%\n",
      "Rock---Southern Rock: 0.0%\n",
      "Rock---Stoner Rock: 0.0%\n",
      "Non-Music---Field Recording: 0.0%\n",
      "Rock---Neofolk: 0.0%\n",
      "Children's---Nursery Rhymes: 0.0%\n",
      "Latin---Ranchera: 0.0%\n",
      "Rock---Goregrind: 0.0%\n",
      "Rock---Doo Wop: 0.0%\n",
      "Rock---Krautrock: 0.0%\n",
      "Rock---New Wave: 0.0%\n",
      "Rock---Psychobilly: 0.0%\n",
      "Latin---Mariachi: 0.0%\n",
      "Jazz---Dixieland: 0.0%\n",
      "Jazz---Ragtime: 0.0%\n",
      "Blues---Texas Blues: 0.0%\n",
      "Rock---Avantgarde: 0.0%\n",
      "Latin---Porro: 0.0%\n",
      "Electronic---Schranz: 0.0%\n",
      "Classical---Post-Modern: 0.0%\n",
      "Electronic---Berlin-School: 0.0%\n",
      "Blues---Electric Blues: 0.0%\n",
      "Rock---Power Metal: 0.0%\n",
      "Classical---Classical: 0.0%\n",
      "Rock---Twist: 0.0%\n",
      "Rock---Math Rock: 0.0%\n",
      "Rock---Dream Pop: 0.0%\n",
      "Latin---Bolero: 0.0%\n",
      "Rock---Pub Rock: 0.0%\n",
      "Folk, World, & Country---Nordic: 0.0%\n",
      "Rock---Post-Punk: 0.0%\n",
      "Jazz---Space-Age: 0.0%\n",
      "Pop---City Pop: 0.0%\n",
      "Jazz---Bop: 0.0%\n",
      "Rock---Ethereal: 0.0%\n",
      "Rock---Speed Metal: 0.0%\n",
      "Jazz---Free Improvisation: 0.0%\n",
      "Blues---Chicago Blues: 0.0%\n",
      "Rock---Melodic Death Metal: 0.0%\n",
      "Latin---Cha-Cha: 0.0%\n",
      "Rock---Oi: 0.0%\n",
      "Rock---Rockabilly: 0.0%\n",
      "Rock---Viking Metal: 0.0%\n",
      "Jazz---Avant-garde Jazz: 0.0%\n",
      "Rock---Black Metal: 0.0%\n",
      "Jazz---Free Jazz: 0.0%\n",
      "Latin---Nueva Cancion: 0.0%\n",
      "Blues---Boogie Woogie: 0.0%\n",
      "Rock---Progressive Metal: 0.0%\n",
      "Classical---Choral: 0.0%\n",
      "Rock---Goth Rock: 0.0%\n",
      "Classical---Romantic: 0.0%\n",
      "Rock---Noise: 0.0%\n",
      "Rock---Thrash: 0.0%\n",
      "Rock---No Wave: 0.0%\n",
      "Rock---Shoegaze: 0.0%\n",
      "Rock---Noisecore: 0.0%\n",
      "Jazz---Post Bop: 0.0%\n",
      "Latin---Guajira: 0.0%\n",
      "Rock---Post Rock: 0.0%\n",
      "Rock---Power Violence: 0.0%\n",
      "Classical---Modern: 0.0%\n",
      "Rock---Doom Metal: 0.0%\n",
      "Classical---Neo-Classical: 0.0%\n",
      "Rock---Coldwave: 0.0%\n",
      "Folk, World, & Country---Hillbilly: 0.0%\n",
      "Rock---Folk Metal: 0.0%\n",
      "Latin---Descarga: 0.0%\n",
      "Classical---Medieval: 0.0%\n",
      "Rock---Melodic Hardcore: 0.0%\n",
      "Blues---Jump Blues: 0.0%\n",
      "Rock---Post-Metal: 0.0%\n",
      "Folk, World, & Country---Catalan Music: 0.0%\n",
      "Folk, World, & Country---Honky Tonk: 0.0%\n",
      "Rock---Yé-Yé: 0.0%\n",
      "Blues---Louisiana Blues: 0.0%\n",
      "Latin---Son: 0.0%\n",
      "Classical---Baroque: 0.0%\n",
      "Blues---Delta Blues: 0.0%\n",
      "Rock---Crust: 0.0%\n",
      "Jazz---Modal: 0.0%\n",
      "Rock---Sludge Metal: 0.0%\n",
      "Classical---Neo-Romantic: 0.0%\n",
      "Rock---Depressive Black Metal: 0.0%\n",
      "Rock---Deathrock: 0.0%\n",
      "Non-Music---Education: 0.0%\n",
      "Blues---Harmonica Blues: 0.0%\n",
      "Latin---Charanga: 0.0%\n",
      "Brass & Military---Military: 0.0%\n",
      "Folk, World, & Country---Séga: 0.0%\n",
      "Latin---Guaguancó: 0.0%\n",
      "Jazz---Hard Bop: 0.0%\n",
      "Classical---Impressionist: 0.0%\n",
      "Brass & Military---Marches: 0.0%\n",
      "Latin---Beguine: 0.0%\n",
      "Rock---Technical Death Metal: 0.0%\n",
      "Latin---Guaracha: 0.0%\n",
      "Folk, World, & Country---Cajun: 0.0%\n",
      "Rock---Atmospheric Black Metal: 0.0%\n",
      "Electronic---Dungeon Synth: 0.0%\n",
      "Classical---Renaissance: 0.0%\n",
      "Rock---Funeral Doom Metal: 0.0%\n",
      "Latin---Son Montuno: 0.0%\n"
     ]
    }
   ],
   "source": [
    "sorted_genre_probabilities = sorted(\n",
    "    zip(genre_metadata[\"classes\"], genre_predictions.mean(axis=0)),\n",
    "    key=lambda x: x[1],\n",
    "    reverse=True,\n",
    ")\n",
    "\n",
    "for label, probability in sorted_genre_probabilities:\n",
    "    print(f\"{label}: {100 * probability:.1f}%\")"
   ]
  }
 ],
 "metadata": {
  "kernelspec": {
   "display_name": ".venv",
   "language": "python",
   "name": "python3"
  },
  "language_info": {
   "codemirror_mode": {
    "name": "ipython",
    "version": 3
   },
   "file_extension": ".py",
   "mimetype": "text/x-python",
   "name": "python",
   "nbconvert_exporter": "python",
   "pygments_lexer": "ipython3",
   "version": "3.10.15"
  }
 },
 "nbformat": 4,
 "nbformat_minor": 2
}
