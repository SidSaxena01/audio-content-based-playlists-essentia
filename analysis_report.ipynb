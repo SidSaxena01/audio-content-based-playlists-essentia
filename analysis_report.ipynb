{
 "cells": [
  {
   "cell_type": "markdown",
   "metadata": {},
   "source": [
    "# Music Collection Analysis\n",
    "\n",
    "This notebook provides interactive visualizations of the music collection analysis."
   ]
  },
  {
   "cell_type": "code",
   "execution_count": 22,
   "metadata": {},
   "outputs": [],
   "source": [
    "import colorsys\n",
    "import json\n",
    "import os\n",
    "from typing import Dict, List\n",
    "\n",
    "import matplotlib.pyplot as plt\n",
    "import pandas as pd\n",
    "import plotly.express as px\n",
    "import plotly.graph_objects as go\n",
    "import seaborn as sns\n",
    "from plotly.subplots import make_subplots\n",
    "from tqdm import tqdm\n",
    "\n",
    "\n",
    "# Static plot settings\n",
    "plt.style.use(\"seaborn-v0_8-deep\")\n",
    "sns.set_palette(\"husl\")\n",
    "plt.rcParams.update(\n",
    "    {\n",
    "        \"figure.figsize\": (12, 8),\n",
    "        \"font.size\": 12,\n",
    "        \"axes.titlesize\": 16,\n",
    "        \"axes.labelsize\": 14,\n",
    "        \"xtick.labelsize\": 12,\n",
    "        \"ytick.labelsize\": 12,\n",
    "        \"legend.fontsize\": 12,\n",
    "    }\n",
    ")"
   ]
  },
  {
   "cell_type": "markdown",
   "metadata": {},
   "source": [
    "## Data Loading and Processing\n",
    "\n",
    "Load the JSON analysis files and prepare the data for visualization."
   ]
  },
  {
   "cell_type": "code",
   "execution_count": 23,
   "metadata": {},
   "outputs": [
    {
     "name": "stderr",
     "output_type": "stream",
     "text": [
      "Loading files: 100%|██████████| 2100/2100 [00:00<00:00, 2754.59it/s]\n"
     ]
    }
   ],
   "source": [
    "def load_analysis_files(analysis_dir: str) -> pd.DataFrame:\n",
    "    \"\"\"Load and process analysis files\"\"\"\n",
    "    json_files = []\n",
    "    for root, _, files in os.walk(analysis_dir):\n",
    "        for f in files:\n",
    "            if f.endswith(\".json\"):\n",
    "                json_files.append(os.path.join(root, f))\n",
    "\n",
    "    data = []\n",
    "    for json_file in tqdm(json_files, desc=\"Loading files\"):\n",
    "        try:\n",
    "            with open(json_file) as f:\n",
    "                entry = json.load(f)\n",
    "                entry[\"path\"] = os.path.relpath(json_file, analysis_dir)\n",
    "                data.append(entry)\n",
    "        except Exception as e:\n",
    "            print(f\"Skipping {json_file}: {str(e)}\")\n",
    "\n",
    "    return pd.DataFrame(data)\n",
    "\n",
    "\n",
    "def process_genres(genres: Dict) -> List[Dict]:\n",
    "    \"\"\"Process genre entries with proper separator handling\"\"\"\n",
    "    processed = []\n",
    "    for genre_str, prob in genres.items():\n",
    "        if \"---\" in genre_str:\n",
    "            parts = genre_str.split(\"---\", 1)\n",
    "        elif \"—\" in genre_str:\n",
    "            parts = genre_str.split(\"—\", 1)\n",
    "        else:\n",
    "            parts = [genre_str, \"unknown-style\"]\n",
    "\n",
    "        parent = parts[0].strip()\n",
    "        style = parts[1].strip() if len(parts) > 1 else \"unknown-style\"\n",
    "        processed.append({\"parent\": parent, \"style\": style, \"probability\": prob})\n",
    "    return processed\n",
    "\n",
    "\n",
    "# Load data\n",
    "analysis_dir = \"results\"\n",
    "df = load_analysis_files(analysis_dir)\n",
    "\n",
    "# Preprocess data\n",
    "df[\"genres_processed\"] = df[\"music_styles\"].apply(process_genres)\n",
    "key_profiles = [\"temperley\", \"krumhansl\", \"edma\"]\n",
    "for profile in key_profiles:\n",
    "    df[f\"key_{profile}\"] = df[\"key\"].apply(\n",
    "        lambda x: f\"{x[profile]['key']} {x[profile]['scale'].capitalize()}\"\n",
    "    )"
   ]
  },
  {
   "cell_type": "markdown",
   "metadata": {},
   "source": [
    "## Genre & Style Analysis\n",
    "\n",
    "Analyze the distribution of music genres and sub-genres in the collection."
   ]
  },
  {
   "cell_type": "code",
   "execution_count": 24,
   "metadata": {},
   "outputs": [
    {
     "data": {
      "application/vnd.plotly.v1+json": {
       "config": {
        "plotlyServerURL": "https://plot.ly"
       },
       "data": [
        {
         "customdata": [
          [
           "Alternative Rock"
          ]
         ],
         "hovertemplate": "style=%{customdata[0]}<br>Genre=%{x}<br>Weight=%{y}<extra></extra>",
         "legendgroup": "Alternative Rock",
         "marker": {
          "color": "#636efa",
          "pattern": {
           "shape": ""
          }
         },
         "name": "Alternative Rock",
         "orientation": "v",
         "showlegend": true,
         "textposition": "auto",
         "type": "bar",
         "x": [
          "Rock"
         ],
         "xaxis": "x",
         "y": {
          "bdata": "inbBflgcQkA=",
          "dtype": "f8"
         },
         "yaxis": "y"
        },
        {
         "customdata": [
          [
           "Pop Rock"
          ]
         ],
         "hovertemplate": "style=%{customdata[0]}<br>Genre=%{x}<br>Weight=%{y}<extra></extra>",
         "legendgroup": "Pop Rock",
         "marker": {
          "color": "#EF553B",
          "pattern": {
           "shape": ""
          }
         },
         "name": "Pop Rock",
         "orientation": "v",
         "showlegend": true,
         "textposition": "auto",
         "type": "bar",
         "x": [
          "Rock"
         ],
         "xaxis": "x",
         "y": {
          "bdata": "aPeqDMNFQEA=",
          "dtype": "f8"
         },
         "yaxis": "y"
        },
        {
         "customdata": [
          [
           "Punk"
          ]
         ],
         "hovertemplate": "style=%{customdata[0]}<br>Genre=%{x}<br>Weight=%{y}<extra></extra>",
         "legendgroup": "Punk",
         "marker": {
          "color": "#00cc96",
          "pattern": {
           "shape": ""
          }
         },
         "name": "Punk",
         "orientation": "v",
         "showlegend": true,
         "textposition": "auto",
         "type": "bar",
         "x": [
          "Rock"
         ],
         "xaxis": "x",
         "y": {
          "bdata": "jTEBwQZmPEA=",
          "dtype": "f8"
         },
         "yaxis": "y"
        },
        {
         "customdata": [
          [
           "Indie Rock"
          ]
         ],
         "hovertemplate": "style=%{customdata[0]}<br>Genre=%{x}<br>Weight=%{y}<extra></extra>",
         "legendgroup": "Indie Rock",
         "marker": {
          "color": "#ab63fa",
          "pattern": {
           "shape": ""
          }
         },
         "name": "Indie Rock",
         "orientation": "v",
         "showlegend": true,
         "textposition": "auto",
         "type": "bar",
         "x": [
          "Rock"
         ],
         "xaxis": "x",
         "y": {
          "bdata": "VGb6I8NfOUA=",
          "dtype": "f8"
         },
         "yaxis": "y"
        },
        {
         "customdata": [
          [
           "Heavy Metal"
          ]
         ],
         "hovertemplate": "style=%{customdata[0]}<br>Genre=%{x}<br>Weight=%{y}<extra></extra>",
         "legendgroup": "Heavy Metal",
         "marker": {
          "color": "#FFA15A",
          "pattern": {
           "shape": ""
          }
         },
         "name": "Heavy Metal",
         "orientation": "v",
         "showlegend": true,
         "textposition": "auto",
         "type": "bar",
         "x": [
          "Rock"
         ],
         "xaxis": "x",
         "y": {
          "bdata": "cVUEvqt3M0A=",
          "dtype": "f8"
         },
         "yaxis": "y"
        },
        {
         "customdata": [
          [
           "Hard Rock"
          ]
         ],
         "hovertemplate": "style=%{customdata[0]}<br>Genre=%{x}<br>Weight=%{y}<extra></extra>",
         "legendgroup": "Hard Rock",
         "marker": {
          "color": "#19d3f3",
          "pattern": {
           "shape": ""
          }
         },
         "name": "Hard Rock",
         "orientation": "v",
         "showlegend": true,
         "textposition": "auto",
         "type": "bar",
         "x": [
          "Rock"
         ],
         "xaxis": "x",
         "y": {
          "bdata": "p8YBNJ1+MkA=",
          "dtype": "f8"
         },
         "yaxis": "y"
        },
        {
         "customdata": [
          [
           "Folk Rock"
          ]
         ],
         "hovertemplate": "style=%{customdata[0]}<br>Genre=%{x}<br>Weight=%{y}<extra></extra>",
         "legendgroup": "Folk Rock",
         "marker": {
          "color": "#FF6692",
          "pattern": {
           "shape": ""
          }
         },
         "name": "Folk Rock",
         "orientation": "v",
         "showlegend": true,
         "textposition": "auto",
         "type": "bar",
         "x": [
          "Rock"
         ],
         "xaxis": "x",
         "y": {
          "bdata": "PiSIs71qK0A=",
          "dtype": "f8"
         },
         "yaxis": "y"
        },
        {
         "customdata": [
          [
           "Hardcore"
          ],
          [
           "Hardcore"
          ]
         ],
         "hovertemplate": "style=%{customdata[0]}<br>Genre=%{x}<br>Weight=%{y}<extra></extra>",
         "legendgroup": "Hardcore",
         "marker": {
          "color": "#B6E880",
          "pattern": {
           "shape": ""
          }
         },
         "name": "Hardcore",
         "orientation": "v",
         "showlegend": true,
         "textposition": "auto",
         "type": "bar",
         "x": [
          "Electronic",
          "Rock"
         ],
         "xaxis": "x",
         "y": {
          "bdata": "79XBYLFHFEDOTeAZpaonQA==",
          "dtype": "f8"
         },
         "yaxis": "y"
        },
        {
         "customdata": [
          [
           "Psychedelic Rock"
          ]
         ],
         "hovertemplate": "style=%{customdata[0]}<br>Genre=%{x}<br>Weight=%{y}<extra></extra>",
         "legendgroup": "Psychedelic Rock",
         "marker": {
          "color": "#FF97FF",
          "pattern": {
           "shape": ""
          }
         },
         "name": "Psychedelic Rock",
         "orientation": "v",
         "showlegend": true,
         "textposition": "auto",
         "type": "bar",
         "x": [
          "Rock"
         ],
         "xaxis": "x",
         "y": {
          "bdata": "E8DfbanIJUA=",
          "dtype": "f8"
         },
         "yaxis": "y"
        },
        {
         "customdata": [
          [
           "Rock & Roll"
          ]
         ],
         "hovertemplate": "style=%{customdata[0]}<br>Genre=%{x}<br>Weight=%{y}<extra></extra>",
         "legendgroup": "Rock & Roll",
         "marker": {
          "color": "#FECB52",
          "pattern": {
           "shape": ""
          }
         },
         "name": "Rock & Roll",
         "orientation": "v",
         "showlegend": true,
         "textposition": "auto",
         "type": "bar",
         "x": [
          "Rock"
         ],
         "xaxis": "x",
         "y": {
          "bdata": "j1xyPEU3I0A=",
          "dtype": "f8"
         },
         "yaxis": "y"
        },
        {
         "customdata": [
          [
           "Brit Pop"
          ]
         ],
         "hovertemplate": "style=%{customdata[0]}<br>Genre=%{x}<br>Weight=%{y}<extra></extra>",
         "legendgroup": "Brit Pop",
         "marker": {
          "color": "#636efa",
          "pattern": {
           "shape": ""
          }
         },
         "name": "Brit Pop",
         "orientation": "v",
         "showlegend": true,
         "textposition": "auto",
         "type": "bar",
         "x": [
          "Rock"
         ],
         "xaxis": "x",
         "y": {
          "bdata": "Un6s8XwOI0A=",
          "dtype": "f8"
         },
         "yaxis": "y"
        },
        {
         "customdata": [
          [
           "Death Metal"
          ]
         ],
         "hovertemplate": "style=%{customdata[0]}<br>Genre=%{x}<br>Weight=%{y}<extra></extra>",
         "legendgroup": "Death Metal",
         "marker": {
          "color": "#EF553B",
          "pattern": {
           "shape": ""
          }
         },
         "name": "Death Metal",
         "orientation": "v",
         "showlegend": true,
         "textposition": "auto",
         "type": "bar",
         "x": [
          "Rock"
         ],
         "xaxis": "x",
         "y": {
          "bdata": "CEp5DiUgIkA=",
          "dtype": "f8"
         },
         "yaxis": "y"
        },
        {
         "customdata": [
          [
           "Prog Rock"
          ]
         ],
         "hovertemplate": "style=%{customdata[0]}<br>Genre=%{x}<br>Weight=%{y}<extra></extra>",
         "legendgroup": "Prog Rock",
         "marker": {
          "color": "#00cc96",
          "pattern": {
           "shape": ""
          }
         },
         "name": "Prog Rock",
         "orientation": "v",
         "showlegend": true,
         "textposition": "auto",
         "type": "bar",
         "x": [
          "Rock"
         ],
         "xaxis": "x",
         "y": {
          "bdata": "tVBPeqotIUA=",
          "dtype": "f8"
         },
         "yaxis": "y"
        },
        {
         "customdata": [
          [
           "AOR"
          ]
         ],
         "hovertemplate": "style=%{customdata[0]}<br>Genre=%{x}<br>Weight=%{y}<extra></extra>",
         "legendgroup": "AOR",
         "marker": {
          "color": "#ab63fa",
          "pattern": {
           "shape": ""
          }
         },
         "name": "AOR",
         "orientation": "v",
         "showlegend": true,
         "textposition": "auto",
         "type": "bar",
         "x": [
          "Rock"
         ],
         "xaxis": "x",
         "y": {
          "bdata": "HXX7hH8rIUA=",
          "dtype": "f8"
         },
         "yaxis": "y"
        },
        {
         "customdata": [
          [
           "Blues Rock"
          ]
         ],
         "hovertemplate": "style=%{customdata[0]}<br>Genre=%{x}<br>Weight=%{y}<extra></extra>",
         "legendgroup": "Blues Rock",
         "marker": {
          "color": "#FFA15A",
          "pattern": {
           "shape": ""
          }
         },
         "name": "Blues Rock",
         "orientation": "v",
         "showlegend": true,
         "textposition": "auto",
         "type": "bar",
         "x": [
          "Rock"
         ],
         "xaxis": "x",
         "y": {
          "bdata": "zQzq2lfYIEA=",
          "dtype": "f8"
         },
         "yaxis": "y"
        },
        {
         "customdata": [
          [
           "Power Metal"
          ]
         ],
         "hovertemplate": "style=%{customdata[0]}<br>Genre=%{x}<br>Weight=%{y}<extra></extra>",
         "legendgroup": "Power Metal",
         "marker": {
          "color": "#19d3f3",
          "pattern": {
           "shape": ""
          }
         },
         "name": "Power Metal",
         "orientation": "v",
         "showlegend": true,
         "textposition": "auto",
         "type": "bar",
         "x": [
          "Rock"
         ],
         "xaxis": "x",
         "y": {
          "bdata": "h6vY/Yi/IEA=",
          "dtype": "f8"
         },
         "yaxis": "y"
        },
        {
         "customdata": [
          [
           "Symphonic Rock"
          ]
         ],
         "hovertemplate": "style=%{customdata[0]}<br>Genre=%{x}<br>Weight=%{y}<extra></extra>",
         "legendgroup": "Symphonic Rock",
         "marker": {
          "color": "#FF6692",
          "pattern": {
           "shape": ""
          }
         },
         "name": "Symphonic Rock",
         "orientation": "v",
         "showlegend": true,
         "textposition": "auto",
         "type": "bar",
         "x": [
          "Rock"
         ],
         "xaxis": "x",
         "y": {
          "bdata": "laYpQ8yKIEA=",
          "dtype": "f8"
         },
         "yaxis": "y"
        },
        {
         "customdata": [
          [
           "Arena Rock"
          ]
         ],
         "hovertemplate": "style=%{customdata[0]}<br>Genre=%{x}<br>Weight=%{y}<extra></extra>",
         "legendgroup": "Arena Rock",
         "marker": {
          "color": "#B6E880",
          "pattern": {
           "shape": ""
          }
         },
         "name": "Arena Rock",
         "orientation": "v",
         "showlegend": true,
         "textposition": "auto",
         "type": "bar",
         "x": [
          "Rock"
         ],
         "xaxis": "x",
         "y": {
          "bdata": "8W6zfgqHIEA=",
          "dtype": "f8"
         },
         "yaxis": "y"
        },
        {
         "customdata": [
          [
           "Soft Rock"
          ]
         ],
         "hovertemplate": "style=%{customdata[0]}<br>Genre=%{x}<br>Weight=%{y}<extra></extra>",
         "legendgroup": "Soft Rock",
         "marker": {
          "color": "#FF97FF",
          "pattern": {
           "shape": ""
          }
         },
         "name": "Soft Rock",
         "orientation": "v",
         "showlegend": true,
         "textposition": "auto",
         "type": "bar",
         "x": [
          "Rock"
         ],
         "xaxis": "x",
         "y": {
          "bdata": "o3g5BFh/IEA=",
          "dtype": "f8"
         },
         "yaxis": "y"
        },
        {
         "customdata": [
          [
           "Emo"
          ]
         ],
         "hovertemplate": "style=%{customdata[0]}<br>Genre=%{x}<br>Weight=%{y}<extra></extra>",
         "legendgroup": "Emo",
         "marker": {
          "color": "#FECB52",
          "pattern": {
           "shape": ""
          }
         },
         "name": "Emo",
         "orientation": "v",
         "showlegend": true,
         "textposition": "auto",
         "type": "bar",
         "x": [
          "Rock"
         ],
         "xaxis": "x",
         "y": {
          "bdata": "/6Ff9/o9HkA=",
          "dtype": "f8"
         },
         "yaxis": "y"
        },
        {
         "customdata": [
          [
           "Black Metal"
          ]
         ],
         "hovertemplate": "style=%{customdata[0]}<br>Genre=%{x}<br>Weight=%{y}<extra></extra>",
         "legendgroup": "Black Metal",
         "marker": {
          "color": "#636efa",
          "pattern": {
           "shape": ""
          }
         },
         "name": "Black Metal",
         "orientation": "v",
         "showlegend": true,
         "textposition": "auto",
         "type": "bar",
         "x": [
          "Rock"
         ],
         "xaxis": "x",
         "y": {
          "bdata": "Io5dFTsUHkA=",
          "dtype": "f8"
         },
         "yaxis": "y"
        },
        {
         "customdata": [
          [
           "Acoustic"
          ]
         ],
         "hovertemplate": "style=%{customdata[0]}<br>Genre=%{x}<br>Weight=%{y}<extra></extra>",
         "legendgroup": "Acoustic",
         "marker": {
          "color": "#EF553B",
          "pattern": {
           "shape": ""
          }
         },
         "name": "Acoustic",
         "orientation": "v",
         "showlegend": true,
         "textposition": "auto",
         "type": "bar",
         "x": [
          "Rock"
         ],
         "xaxis": "x",
         "y": {
          "bdata": "7tMUDrHPHUA=",
          "dtype": "f8"
         },
         "yaxis": "y"
        },
        {
         "customdata": [
          [
           "Pop Punk"
          ]
         ],
         "hovertemplate": "style=%{customdata[0]}<br>Genre=%{x}<br>Weight=%{y}<extra></extra>",
         "legendgroup": "Pop Punk",
         "marker": {
          "color": "#00cc96",
          "pattern": {
           "shape": ""
          }
         },
         "name": "Pop Punk",
         "orientation": "v",
         "showlegend": true,
         "textposition": "auto",
         "type": "bar",
         "x": [
          "Rock"
         ],
         "xaxis": "x",
         "y": {
          "bdata": "cLQzoahzHUA=",
          "dtype": "f8"
         },
         "yaxis": "y"
        },
        {
         "customdata": [
          [
           "Classic Rock"
          ]
         ],
         "hovertemplate": "style=%{customdata[0]}<br>Genre=%{x}<br>Weight=%{y}<extra></extra>",
         "legendgroup": "Classic Rock",
         "marker": {
          "color": "#ab63fa",
          "pattern": {
           "shape": ""
          }
         },
         "name": "Classic Rock",
         "orientation": "v",
         "showlegend": true,
         "textposition": "auto",
         "type": "bar",
         "x": [
          "Rock"
         ],
         "xaxis": "x",
         "y": {
          "bdata": "kiuu/YlFHUA=",
          "dtype": "f8"
         },
         "yaxis": "y"
        },
        {
         "customdata": [
          [
           "Power Pop"
          ]
         ],
         "hovertemplate": "style=%{customdata[0]}<br>Genre=%{x}<br>Weight=%{y}<extra></extra>",
         "legendgroup": "Power Pop",
         "marker": {
          "color": "#FFA15A",
          "pattern": {
           "shape": ""
          }
         },
         "name": "Power Pop",
         "orientation": "v",
         "showlegend": true,
         "textposition": "auto",
         "type": "bar",
         "x": [
          "Rock"
         ],
         "xaxis": "x",
         "y": {
          "bdata": "gEgsIPixHEA=",
          "dtype": "f8"
         },
         "yaxis": "y"
        },
        {
         "customdata": [
          [
           "Dream Pop"
          ]
         ],
         "hovertemplate": "style=%{customdata[0]}<br>Genre=%{x}<br>Weight=%{y}<extra></extra>",
         "legendgroup": "Dream Pop",
         "marker": {
          "color": "#19d3f3",
          "pattern": {
           "shape": ""
          }
         },
         "name": "Dream Pop",
         "orientation": "v",
         "showlegend": true,
         "textposition": "auto",
         "type": "bar",
         "x": [
          "Rock"
         ],
         "xaxis": "x",
         "y": {
          "bdata": "NQobIrxRHEA=",
          "dtype": "f8"
         },
         "yaxis": "y"
        },
        {
         "customdata": [
          [
           "Metalcore"
          ]
         ],
         "hovertemplate": "style=%{customdata[0]}<br>Genre=%{x}<br>Weight=%{y}<extra></extra>",
         "legendgroup": "Metalcore",
         "marker": {
          "color": "#FF6692",
          "pattern": {
           "shape": ""
          }
         },
         "name": "Metalcore",
         "orientation": "v",
         "showlegend": true,
         "textposition": "auto",
         "type": "bar",
         "x": [
          "Rock"
         ],
         "xaxis": "x",
         "y": {
          "bdata": "jCop2yrAG0A=",
          "dtype": "f8"
         },
         "yaxis": "y"
        },
        {
         "customdata": [
          [
           "Nu Metal"
          ]
         ],
         "hovertemplate": "style=%{customdata[0]}<br>Genre=%{x}<br>Weight=%{y}<extra></extra>",
         "legendgroup": "Nu Metal",
         "marker": {
          "color": "#B6E880",
          "pattern": {
           "shape": ""
          }
         },
         "name": "Nu Metal",
         "orientation": "v",
         "showlegend": true,
         "textposition": "auto",
         "type": "bar",
         "x": [
          "Rock"
         ],
         "xaxis": "x",
         "y": {
          "bdata": "VhIm1BFWGUA=",
          "dtype": "f8"
         },
         "yaxis": "y"
        },
        {
         "customdata": [
          [
           "New Wave"
          ],
          [
           "New Wave"
          ]
         ],
         "hovertemplate": "style=%{customdata[0]}<br>Genre=%{x}<br>Weight=%{y}<extra></extra>",
         "legendgroup": "New Wave",
         "marker": {
          "color": "#FF97FF",
          "pattern": {
           "shape": ""
          }
         },
         "name": "New Wave",
         "orientation": "v",
         "showlegend": true,
         "textposition": "auto",
         "type": "bar",
         "x": [
          "Electronic",
          "Rock"
         ],
         "xaxis": "x",
         "y": {
          "bdata": "Yz5is+BgC0A/01k2PgsZQA==",
          "dtype": "f8"
         },
         "yaxis": "y"
        },
        {
         "customdata": [
          [
           "Shoegaze"
          ]
         ],
         "hovertemplate": "style=%{customdata[0]}<br>Genre=%{x}<br>Weight=%{y}<extra></extra>",
         "legendgroup": "Shoegaze",
         "marker": {
          "color": "#FECB52",
          "pattern": {
           "shape": ""
          }
         },
         "name": "Shoegaze",
         "orientation": "v",
         "showlegend": true,
         "textposition": "auto",
         "type": "bar",
         "x": [
          "Rock"
         ],
         "xaxis": "x",
         "y": {
          "bdata": "+O64/bD7GEA=",
          "dtype": "f8"
         },
         "yaxis": "y"
        },
        {
         "customdata": [
          [
           "Melodic Hardcore"
          ]
         ],
         "hovertemplate": "style=%{customdata[0]}<br>Genre=%{x}<br>Weight=%{y}<extra></extra>",
         "legendgroup": "Melodic Hardcore",
         "marker": {
          "color": "#636efa",
          "pattern": {
           "shape": ""
          }
         },
         "name": "Melodic Hardcore",
         "orientation": "v",
         "showlegend": true,
         "textposition": "auto",
         "type": "bar",
         "x": [
          "Rock"
         ],
         "xaxis": "x",
         "y": {
          "bdata": "nlJ7Y42MGEA=",
          "dtype": "f8"
         },
         "yaxis": "y"
        },
        {
         "customdata": [
          [
           "Ethereal"
          ]
         ],
         "hovertemplate": "style=%{customdata[0]}<br>Genre=%{x}<br>Weight=%{y}<extra></extra>",
         "legendgroup": "Ethereal",
         "marker": {
          "color": "#EF553B",
          "pattern": {
           "shape": ""
          }
         },
         "name": "Ethereal",
         "orientation": "v",
         "showlegend": true,
         "textposition": "auto",
         "type": "bar",
         "x": [
          "Rock"
         ],
         "xaxis": "x",
         "y": {
          "bdata": "DvoPbYE5GEA=",
          "dtype": "f8"
         },
         "yaxis": "y"
        },
        {
         "customdata": [
          [
           "Experimental"
          ],
          [
           "Experimental"
          ]
         ],
         "hovertemplate": "style=%{customdata[0]}<br>Genre=%{x}<br>Weight=%{y}<extra></extra>",
         "legendgroup": "Experimental",
         "marker": {
          "color": "#00cc96",
          "pattern": {
           "shape": ""
          }
         },
         "name": "Experimental",
         "orientation": "v",
         "showlegend": true,
         "textposition": "auto",
         "type": "bar",
         "x": [
          "Electronic",
          "Rock"
         ],
         "xaxis": "x",
         "y": {
          "bdata": "037WtyCbMECIOwwHHTUYQA==",
          "dtype": "f8"
         },
         "yaxis": "y"
        },
        {
         "customdata": [
          [
           "Gothic Metal"
          ]
         ],
         "hovertemplate": "style=%{customdata[0]}<br>Genre=%{x}<br>Weight=%{y}<extra></extra>",
         "legendgroup": "Gothic Metal",
         "marker": {
          "color": "#ab63fa",
          "pattern": {
           "shape": ""
          }
         },
         "name": "Gothic Metal",
         "orientation": "v",
         "showlegend": true,
         "textposition": "auto",
         "type": "bar",
         "x": [
          "Rock"
         ],
         "xaxis": "x",
         "y": {
          "bdata": "23MgMFzYFkA=",
          "dtype": "f8"
         },
         "yaxis": "y"
        },
        {
         "customdata": [
          [
           "Ska"
          ],
          [
           "Ska"
          ]
         ],
         "hovertemplate": "style=%{customdata[0]}<br>Genre=%{x}<br>Weight=%{y}<extra></extra>",
         "legendgroup": "Ska",
         "marker": {
          "color": "#FFA15A",
          "pattern": {
           "shape": ""
          }
         },
         "name": "Ska",
         "orientation": "v",
         "showlegend": true,
         "textposition": "auto",
         "type": "bar",
         "x": [
          "Reggae",
          "Rock"
         ],
         "xaxis": "x",
         "y": {
          "bdata": "nf+OaLXjEUDMHK2tGcoWQA==",
          "dtype": "f8"
         },
         "yaxis": "y"
        },
        {
         "customdata": [
          [
           "Oi"
          ]
         ],
         "hovertemplate": "style=%{customdata[0]}<br>Genre=%{x}<br>Weight=%{y}<extra></extra>",
         "legendgroup": "Oi",
         "marker": {
          "color": "#19d3f3",
          "pattern": {
           "shape": ""
          }
         },
         "name": "Oi",
         "orientation": "v",
         "showlegend": true,
         "textposition": "auto",
         "type": "bar",
         "x": [
          "Rock"
         ],
         "xaxis": "x",
         "y": {
          "bdata": "irRlkPhUFkA=",
          "dtype": "f8"
         },
         "yaxis": "y"
        },
        {
         "customdata": [
          [
           "Goth Rock"
          ]
         ],
         "hovertemplate": "style=%{customdata[0]}<br>Genre=%{x}<br>Weight=%{y}<extra></extra>",
         "legendgroup": "Goth Rock",
         "marker": {
          "color": "#FF6692",
          "pattern": {
           "shape": ""
          }
         },
         "name": "Goth Rock",
         "orientation": "v",
         "showlegend": true,
         "textposition": "auto",
         "type": "bar",
         "x": [
          "Rock"
         ],
         "xaxis": "x",
         "y": {
          "bdata": "M2Ibh7kaFkA=",
          "dtype": "f8"
         },
         "yaxis": "y"
        },
        {
         "customdata": [
          [
           "Southern Rock"
          ]
         ],
         "hovertemplate": "style=%{customdata[0]}<br>Genre=%{x}<br>Weight=%{y}<extra></extra>",
         "legendgroup": "Southern Rock",
         "marker": {
          "color": "#B6E880",
          "pattern": {
           "shape": ""
          }
         },
         "name": "Southern Rock",
         "orientation": "v",
         "showlegend": true,
         "textposition": "auto",
         "type": "bar",
         "x": [
          "Rock"
         ],
         "xaxis": "x",
         "y": {
          "bdata": "qkwC6PyLFUA=",
          "dtype": "f8"
         },
         "yaxis": "y"
        },
        {
         "customdata": [
          [
           "Post-Hardcore"
          ]
         ],
         "hovertemplate": "style=%{customdata[0]}<br>Genre=%{x}<br>Weight=%{y}<extra></extra>",
         "legendgroup": "Post-Hardcore",
         "marker": {
          "color": "#FF97FF",
          "pattern": {
           "shape": ""
          }
         },
         "name": "Post-Hardcore",
         "orientation": "v",
         "showlegend": true,
         "textposition": "auto",
         "type": "bar",
         "x": [
          "Rock"
         ],
         "xaxis": "x",
         "y": {
          "bdata": "goFLFslRFUA=",
          "dtype": "f8"
         },
         "yaxis": "y"
        },
        {
         "customdata": [
          [
           "Glam"
          ]
         ],
         "hovertemplate": "style=%{customdata[0]}<br>Genre=%{x}<br>Weight=%{y}<extra></extra>",
         "legendgroup": "Glam",
         "marker": {
          "color": "#FECB52",
          "pattern": {
           "shape": ""
          }
         },
         "name": "Glam",
         "orientation": "v",
         "showlegend": true,
         "textposition": "auto",
         "type": "bar",
         "x": [
          "Rock"
         ],
         "xaxis": "x",
         "y": {
          "bdata": "VejBmFkjFUA=",
          "dtype": "f8"
         },
         "yaxis": "y"
        },
        {
         "customdata": [
          [
           "Folk Metal"
          ]
         ],
         "hovertemplate": "style=%{customdata[0]}<br>Genre=%{x}<br>Weight=%{y}<extra></extra>",
         "legendgroup": "Folk Metal",
         "marker": {
          "color": "#636efa",
          "pattern": {
           "shape": ""
          }
         },
         "name": "Folk Metal",
         "orientation": "v",
         "showlegend": true,
         "textposition": "auto",
         "type": "bar",
         "x": [
          "Rock"
         ],
         "xaxis": "x",
         "y": {
          "bdata": "FcG5jXnxFEA=",
          "dtype": "f8"
         },
         "yaxis": "y"
        },
        {
         "customdata": [
          [
           "Doom Metal"
          ]
         ],
         "hovertemplate": "style=%{customdata[0]}<br>Genre=%{x}<br>Weight=%{y}<extra></extra>",
         "legendgroup": "Doom Metal",
         "marker": {
          "color": "#EF553B",
          "pattern": {
           "shape": ""
          }
         },
         "name": "Doom Metal",
         "orientation": "v",
         "showlegend": true,
         "textposition": "auto",
         "type": "bar",
         "x": [
          "Rock"
         ],
         "xaxis": "x",
         "y": {
          "bdata": "sd2NAAagFEA=",
          "dtype": "f8"
         },
         "yaxis": "y"
        },
        {
         "customdata": [
          [
           "Garage Rock"
          ]
         ],
         "hovertemplate": "style=%{customdata[0]}<br>Genre=%{x}<br>Weight=%{y}<extra></extra>",
         "legendgroup": "Garage Rock",
         "marker": {
          "color": "#00cc96",
          "pattern": {
           "shape": ""
          }
         },
         "name": "Garage Rock",
         "orientation": "v",
         "showlegend": true,
         "textposition": "auto",
         "type": "bar",
         "x": [
          "Rock"
         ],
         "xaxis": "x",
         "y": {
          "bdata": "pr9QFeCSFEA=",
          "dtype": "f8"
         },
         "yaxis": "y"
        },
        {
         "customdata": [
          [
           "Neofolk"
          ],
          [
           "Neofolk"
          ]
         ],
         "hovertemplate": "style=%{customdata[0]}<br>Genre=%{x}<br>Weight=%{y}<extra></extra>",
         "legendgroup": "Neofolk",
         "marker": {
          "color": "#ab63fa",
          "pattern": {
           "shape": ""
          }
         },
         "name": "Neofolk",
         "orientation": "v",
         "showlegend": true,
         "textposition": "auto",
         "type": "bar",
         "x": [
          "Electronic",
          "Rock"
         ],
         "xaxis": "x",
         "y": {
          "bdata": "fr7TeUO9DkAszGUOiBgUQA==",
          "dtype": "f8"
         },
         "yaxis": "y"
        },
        {
         "customdata": [
          [
           "Progressive Metal"
          ]
         ],
         "hovertemplate": "style=%{customdata[0]}<br>Genre=%{x}<br>Weight=%{y}<extra></extra>",
         "legendgroup": "Progressive Metal",
         "marker": {
          "color": "#FFA15A",
          "pattern": {
           "shape": ""
          }
         },
         "name": "Progressive Metal",
         "orientation": "v",
         "showlegend": true,
         "textposition": "auto",
         "type": "bar",
         "x": [
          "Rock"
         ],
         "xaxis": "x",
         "y": {
          "bdata": "JaZuV58WFEA=",
          "dtype": "f8"
         },
         "yaxis": "y"
        },
        {
         "customdata": [
          [
           "Thrash"
          ]
         ],
         "hovertemplate": "style=%{customdata[0]}<br>Genre=%{x}<br>Weight=%{y}<extra></extra>",
         "legendgroup": "Thrash",
         "marker": {
          "color": "#19d3f3",
          "pattern": {
           "shape": ""
          }
         },
         "name": "Thrash",
         "orientation": "v",
         "showlegend": true,
         "textposition": "auto",
         "type": "bar",
         "x": [
          "Rock"
         ],
         "xaxis": "x",
         "y": {
          "bdata": "d4moOlmtE0A=",
          "dtype": "f8"
         },
         "yaxis": "y"
        },
        {
         "customdata": [
          [
           "Grunge"
          ]
         ],
         "hovertemplate": "style=%{customdata[0]}<br>Genre=%{x}<br>Weight=%{y}<extra></extra>",
         "legendgroup": "Grunge",
         "marker": {
          "color": "#FF6692",
          "pattern": {
           "shape": ""
          }
         },
         "name": "Grunge",
         "orientation": "v",
         "showlegend": true,
         "textposition": "auto",
         "type": "bar",
         "x": [
          "Rock"
         ],
         "xaxis": "x",
         "y": {
          "bdata": "LVRULXo4E0A=",
          "dtype": "f8"
         },
         "yaxis": "y"
        },
        {
         "customdata": [
          [
           "Speed Metal"
          ]
         ],
         "hovertemplate": "style=%{customdata[0]}<br>Genre=%{x}<br>Weight=%{y}<extra></extra>",
         "legendgroup": "Speed Metal",
         "marker": {
          "color": "#B6E880",
          "pattern": {
           "shape": ""
          }
         },
         "name": "Speed Metal",
         "orientation": "v",
         "showlegend": true,
         "textposition": "auto",
         "type": "bar",
         "x": [
          "Rock"
         ],
         "xaxis": "x",
         "y": {
          "bdata": "x1TCfeUOE0A=",
          "dtype": "f8"
         },
         "yaxis": "y"
        },
        {
         "customdata": [
          [
           "Country Rock"
          ]
         ],
         "hovertemplate": "style=%{customdata[0]}<br>Genre=%{x}<br>Weight=%{y}<extra></extra>",
         "legendgroup": "Country Rock",
         "marker": {
          "color": "#FF97FF",
          "pattern": {
           "shape": ""
          }
         },
         "name": "Country Rock",
         "orientation": "v",
         "showlegend": true,
         "textposition": "auto",
         "type": "bar",
         "x": [
          "Rock"
         ],
         "xaxis": "x",
         "y": {
          "bdata": "Ry7oZR4CE0A=",
          "dtype": "f8"
         },
         "yaxis": "y"
        },
        {
         "customdata": [
          [
           "Art Rock"
          ]
         ],
         "hovertemplate": "style=%{customdata[0]}<br>Genre=%{x}<br>Weight=%{y}<extra></extra>",
         "legendgroup": "Art Rock",
         "marker": {
          "color": "#FECB52",
          "pattern": {
           "shape": ""
          }
         },
         "name": "Art Rock",
         "orientation": "v",
         "showlegend": true,
         "textposition": "auto",
         "type": "bar",
         "x": [
          "Rock"
         ],
         "xaxis": "x",
         "y": {
          "bdata": "/PZFJvz5EkA=",
          "dtype": "f8"
         },
         "yaxis": "y"
        },
        {
         "customdata": [
          [
           "Parody"
          ],
          [
           "Parody"
          ]
         ],
         "hovertemplate": "style=%{customdata[0]}<br>Genre=%{x}<br>Weight=%{y}<extra></extra>",
         "legendgroup": "Parody",
         "marker": {
          "color": "#636efa",
          "pattern": {
           "shape": ""
          }
         },
         "name": "Parody",
         "orientation": "v",
         "showlegend": true,
         "textposition": "auto",
         "type": "bar",
         "x": [
          "Pop",
          "Rock"
         ],
         "xaxis": "x",
         "y": {
          "bdata": "PypbDMWSF0D0lL1NaPgSQA==",
          "dtype": "f8"
         },
         "yaxis": "y"
        },
        {
         "customdata": [
          [
           "Post-Punk"
          ]
         ],
         "hovertemplate": "style=%{customdata[0]}<br>Genre=%{x}<br>Weight=%{y}<extra></extra>",
         "legendgroup": "Post-Punk",
         "marker": {
          "color": "#EF553B",
          "pattern": {
           "shape": ""
          }
         },
         "name": "Post-Punk",
         "orientation": "v",
         "showlegend": true,
         "textposition": "auto",
         "type": "bar",
         "x": [
          "Rock"
         ],
         "xaxis": "x",
         "y": {
          "bdata": "sACC0HvxEkA=",
          "dtype": "f8"
         },
         "yaxis": "y"
        },
        {
         "customdata": [
          [
           "Psychobilly"
          ]
         ],
         "hovertemplate": "style=%{customdata[0]}<br>Genre=%{x}<br>Weight=%{y}<extra></extra>",
         "legendgroup": "Psychobilly",
         "marker": {
          "color": "#00cc96",
          "pattern": {
           "shape": ""
          }
         },
         "name": "Psychobilly",
         "orientation": "v",
         "showlegend": true,
         "textposition": "auto",
         "type": "bar",
         "x": [
          "Rock"
         ],
         "xaxis": "x",
         "y": {
          "bdata": "iYvIiZP6EUA=",
          "dtype": "f8"
         },
         "yaxis": "y"
        },
        {
         "customdata": [
          [
           "Viking Metal"
          ]
         ],
         "hovertemplate": "style=%{customdata[0]}<br>Genre=%{x}<br>Weight=%{y}<extra></extra>",
         "legendgroup": "Viking Metal",
         "marker": {
          "color": "#ab63fa",
          "pattern": {
           "shape": ""
          }
         },
         "name": "Viking Metal",
         "orientation": "v",
         "showlegend": true,
         "textposition": "auto",
         "type": "bar",
         "x": [
          "Rock"
         ],
         "xaxis": "x",
         "y": {
          "bdata": "bT0iOPjBEUA=",
          "dtype": "f8"
         },
         "yaxis": "y"
        },
        {
         "customdata": [
          [
           "Melodic Death Metal"
          ]
         ],
         "hovertemplate": "style=%{customdata[0]}<br>Genre=%{x}<br>Weight=%{y}<extra></extra>",
         "legendgroup": "Melodic Death Metal",
         "marker": {
          "color": "#FFA15A",
          "pattern": {
           "shape": ""
          }
         },
         "name": "Melodic Death Metal",
         "orientation": "v",
         "showlegend": true,
         "textposition": "auto",
         "type": "bar",
         "x": [
          "Rock"
         ],
         "xaxis": "x",
         "y": {
          "bdata": "TGMfsHrdEEA=",
          "dtype": "f8"
         },
         "yaxis": "y"
        },
        {
         "customdata": [
          [
           "Lo-Fi"
          ]
         ],
         "hovertemplate": "style=%{customdata[0]}<br>Genre=%{x}<br>Weight=%{y}<extra></extra>",
         "legendgroup": "Lo-Fi",
         "marker": {
          "color": "#19d3f3",
          "pattern": {
           "shape": ""
          }
         },
         "name": "Lo-Fi",
         "orientation": "v",
         "showlegend": true,
         "textposition": "auto",
         "type": "bar",
         "x": [
          "Rock"
         ],
         "xaxis": "x",
         "y": {
          "bdata": "c8l+3ZFxEEA=",
          "dtype": "f8"
         },
         "yaxis": "y"
        },
        {
         "customdata": [
          [
           "Pub Rock"
          ]
         ],
         "hovertemplate": "style=%{customdata[0]}<br>Genre=%{x}<br>Weight=%{y}<extra></extra>",
         "legendgroup": "Pub Rock",
         "marker": {
          "color": "#FF6692",
          "pattern": {
           "shape": ""
          }
         },
         "name": "Pub Rock",
         "orientation": "v",
         "showlegend": true,
         "textposition": "auto",
         "type": "bar",
         "x": [
          "Rock"
         ],
         "xaxis": "x",
         "y": {
          "bdata": "XP95IjkZEEA=",
          "dtype": "f8"
         },
         "yaxis": "y"
        },
        {
         "customdata": [
          [
           "Mod"
          ]
         ],
         "hovertemplate": "style=%{customdata[0]}<br>Genre=%{x}<br>Weight=%{y}<extra></extra>",
         "legendgroup": "Mod",
         "marker": {
          "color": "#B6E880",
          "pattern": {
           "shape": ""
          }
         },
         "name": "Mod",
         "orientation": "v",
         "showlegend": true,
         "textposition": "auto",
         "type": "bar",
         "x": [
          "Rock"
         ],
         "xaxis": "x",
         "y": {
          "bdata": "bqAQP8KID0A=",
          "dtype": "f8"
         },
         "yaxis": "y"
        },
        {
         "customdata": [
          [
           "Space Rock"
          ]
         ],
         "hovertemplate": "style=%{customdata[0]}<br>Genre=%{x}<br>Weight=%{y}<extra></extra>",
         "legendgroup": "Space Rock",
         "marker": {
          "color": "#FF97FF",
          "pattern": {
           "shape": ""
          }
         },
         "name": "Space Rock",
         "orientation": "v",
         "showlegend": true,
         "textposition": "auto",
         "type": "bar",
         "x": [
          "Rock"
         ],
         "xaxis": "x",
         "y": {
          "bdata": "HlMoaQmID0A=",
          "dtype": "f8"
         },
         "yaxis": "y"
        },
        {
         "customdata": [
          [
           "Post Rock"
          ]
         ],
         "hovertemplate": "style=%{customdata[0]}<br>Genre=%{x}<br>Weight=%{y}<extra></extra>",
         "legendgroup": "Post Rock",
         "marker": {
          "color": "#FECB52",
          "pattern": {
           "shape": ""
          }
         },
         "name": "Post Rock",
         "orientation": "v",
         "showlegend": true,
         "textposition": "auto",
         "type": "bar",
         "x": [
          "Rock"
         ],
         "xaxis": "x",
         "y": {
          "bdata": "IeoFTFQ3DkA=",
          "dtype": "f8"
         },
         "yaxis": "y"
        },
        {
         "customdata": [
          [
           "Deathcore"
          ]
         ],
         "hovertemplate": "style=%{customdata[0]}<br>Genre=%{x}<br>Weight=%{y}<extra></extra>",
         "legendgroup": "Deathcore",
         "marker": {
          "color": "#636efa",
          "pattern": {
           "shape": ""
          }
         },
         "name": "Deathcore",
         "orientation": "v",
         "showlegend": true,
         "textposition": "auto",
         "type": "bar",
         "x": [
          "Rock"
         ],
         "xaxis": "x",
         "y": {
          "bdata": "T1MOeQmwDUA=",
          "dtype": "f8"
         },
         "yaxis": "y"
        },
        {
         "customdata": [
          [
           "Math Rock"
          ]
         ],
         "hovertemplate": "style=%{customdata[0]}<br>Genre=%{x}<br>Weight=%{y}<extra></extra>",
         "legendgroup": "Math Rock",
         "marker": {
          "color": "#EF553B",
          "pattern": {
           "shape": ""
          }
         },
         "name": "Math Rock",
         "orientation": "v",
         "showlegend": true,
         "textposition": "auto",
         "type": "bar",
         "x": [
          "Rock"
         ],
         "xaxis": "x",
         "y": {
          "bdata": "o+g5z8KDC0A=",
          "dtype": "f8"
         },
         "yaxis": "y"
        },
        {
         "customdata": [
          [
           "Stoner Rock"
          ]
         ],
         "hovertemplate": "style=%{customdata[0]}<br>Genre=%{x}<br>Weight=%{y}<extra></extra>",
         "legendgroup": "Stoner Rock",
         "marker": {
          "color": "#00cc96",
          "pattern": {
           "shape": ""
          }
         },
         "name": "Stoner Rock",
         "orientation": "v",
         "showlegend": true,
         "textposition": "auto",
         "type": "bar",
         "x": [
          "Rock"
         ],
         "xaxis": "x",
         "y": {
          "bdata": "K23g2/plC0A=",
          "dtype": "f8"
         },
         "yaxis": "y"
        },
        {
         "customdata": [
          [
           "Doo Wop"
          ]
         ],
         "hovertemplate": "style=%{customdata[0]}<br>Genre=%{x}<br>Weight=%{y}<extra></extra>",
         "legendgroup": "Doo Wop",
         "marker": {
          "color": "#ab63fa",
          "pattern": {
           "shape": ""
          }
         },
         "name": "Doo Wop",
         "orientation": "v",
         "showlegend": true,
         "textposition": "auto",
         "type": "bar",
         "x": [
          "Rock"
         ],
         "xaxis": "x",
         "y": {
          "bdata": "R/3eEwtnCkA=",
          "dtype": "f8"
         },
         "yaxis": "y"
        },
        {
         "customdata": [
          [
           "Lounge"
          ]
         ],
         "hovertemplate": "style=%{customdata[0]}<br>Genre=%{x}<br>Weight=%{y}<extra></extra>",
         "legendgroup": "Lounge",
         "marker": {
          "color": "#FFA15A",
          "pattern": {
           "shape": ""
          }
         },
         "name": "Lounge",
         "orientation": "v",
         "showlegend": true,
         "textposition": "auto",
         "type": "bar",
         "x": [
          "Rock"
         ],
         "xaxis": "x",
         "y": {
          "bdata": "VB0qag/XCUA=",
          "dtype": "f8"
         },
         "yaxis": "y"
        },
        {
         "customdata": [
          [
           "Rockabilly"
          ]
         ],
         "hovertemplate": "style=%{customdata[0]}<br>Genre=%{x}<br>Weight=%{y}<extra></extra>",
         "legendgroup": "Rockabilly",
         "marker": {
          "color": "#19d3f3",
          "pattern": {
           "shape": ""
          }
         },
         "name": "Rockabilly",
         "orientation": "v",
         "showlegend": true,
         "textposition": "auto",
         "type": "bar",
         "x": [
          "Rock"
         ],
         "xaxis": "x",
         "y": {
          "bdata": "9kqK8B4aCUA=",
          "dtype": "f8"
         },
         "yaxis": "y"
        },
        {
         "customdata": [
          [
           "Industrial"
          ],
          [
           "Industrial"
          ]
         ],
         "hovertemplate": "style=%{customdata[0]}<br>Genre=%{x}<br>Weight=%{y}<extra></extra>",
         "legendgroup": "Industrial",
         "marker": {
          "color": "#FF6692",
          "pattern": {
           "shape": ""
          }
         },
         "name": "Industrial",
         "orientation": "v",
         "showlegend": true,
         "textposition": "auto",
         "type": "bar",
         "x": [
          "Electronic",
          "Rock"
         ],
         "xaxis": "x",
         "y": {
          "bdata": "xAMDd/dbFkBhshut+KcIQA==",
          "dtype": "f8"
         },
         "yaxis": "y"
        },
        {
         "customdata": [
          [
           "Sludge Metal"
          ]
         ],
         "hovertemplate": "style=%{customdata[0]}<br>Genre=%{x}<br>Weight=%{y}<extra></extra>",
         "legendgroup": "Sludge Metal",
         "marker": {
          "color": "#B6E880",
          "pattern": {
           "shape": ""
          }
         },
         "name": "Sludge Metal",
         "orientation": "v",
         "showlegend": true,
         "textposition": "auto",
         "type": "bar",
         "x": [
          "Rock"
         ],
         "xaxis": "x",
         "y": {
          "bdata": "LW87vSjjB0A=",
          "dtype": "f8"
         },
         "yaxis": "y"
        },
        {
         "customdata": [
          [
           "Coldwave"
          ]
         ],
         "hovertemplate": "style=%{customdata[0]}<br>Genre=%{x}<br>Weight=%{y}<extra></extra>",
         "legendgroup": "Coldwave",
         "marker": {
          "color": "#FF97FF",
          "pattern": {
           "shape": ""
          }
         },
         "name": "Coldwave",
         "orientation": "v",
         "showlegend": true,
         "textposition": "auto",
         "type": "bar",
         "x": [
          "Rock"
         ],
         "xaxis": "x",
         "y": {
          "bdata": "lm4QWIY0B0A=",
          "dtype": "f8"
         },
         "yaxis": "y"
        },
        {
         "customdata": [
          [
           "Funk Metal"
          ]
         ],
         "hovertemplate": "style=%{customdata[0]}<br>Genre=%{x}<br>Weight=%{y}<extra></extra>",
         "legendgroup": "Funk Metal",
         "marker": {
          "color": "#FECB52",
          "pattern": {
           "shape": ""
          }
         },
         "name": "Funk Metal",
         "orientation": "v",
         "showlegend": true,
         "textposition": "auto",
         "type": "bar",
         "x": [
          "Rock"
         ],
         "xaxis": "x",
         "y": {
          "bdata": "nblDqUubBkA=",
          "dtype": "f8"
         },
         "yaxis": "y"
        },
        {
         "customdata": [
          [
           "Acid Rock"
          ]
         ],
         "hovertemplate": "style=%{customdata[0]}<br>Genre=%{x}<br>Weight=%{y}<extra></extra>",
         "legendgroup": "Acid Rock",
         "marker": {
          "color": "#636efa",
          "pattern": {
           "shape": ""
          }
         },
         "name": "Acid Rock",
         "orientation": "v",
         "showlegend": true,
         "textposition": "auto",
         "type": "bar",
         "x": [
          "Rock"
         ],
         "xaxis": "x",
         "y": {
          "bdata": "TTV2Ic+bBUA=",
          "dtype": "f8"
         },
         "yaxis": "y"
        },
        {
         "customdata": [
          [
           "Post-Metal"
          ]
         ],
         "hovertemplate": "style=%{customdata[0]}<br>Genre=%{x}<br>Weight=%{y}<extra></extra>",
         "legendgroup": "Post-Metal",
         "marker": {
          "color": "#EF553B",
          "pattern": {
           "shape": ""
          }
         },
         "name": "Post-Metal",
         "orientation": "v",
         "showlegend": true,
         "textposition": "auto",
         "type": "bar",
         "x": [
          "Rock"
         ],
         "xaxis": "x",
         "y": {
          "bdata": "WLg2/EgABUA=",
          "dtype": "f8"
         },
         "yaxis": "y"
        },
        {
         "customdata": [
          [
           "Technical Death Metal"
          ]
         ],
         "hovertemplate": "style=%{customdata[0]}<br>Genre=%{x}<br>Weight=%{y}<extra></extra>",
         "legendgroup": "Technical Death Metal",
         "marker": {
          "color": "#00cc96",
          "pattern": {
           "shape": ""
          }
         },
         "name": "Technical Death Metal",
         "orientation": "v",
         "showlegend": true,
         "textposition": "auto",
         "type": "bar",
         "x": [
          "Rock"
         ],
         "xaxis": "x",
         "y": {
          "bdata": "WBsQ7Wn6BEA=",
          "dtype": "f8"
         },
         "yaxis": "y"
        },
        {
         "customdata": [
          [
           "Krautrock"
          ]
         ],
         "hovertemplate": "style=%{customdata[0]}<br>Genre=%{x}<br>Weight=%{y}<extra></extra>",
         "legendgroup": "Krautrock",
         "marker": {
          "color": "#ab63fa",
          "pattern": {
           "shape": ""
          }
         },
         "name": "Krautrock",
         "orientation": "v",
         "showlegend": true,
         "textposition": "auto",
         "type": "bar",
         "x": [
          "Rock"
         ],
         "xaxis": "x",
         "y": {
          "bdata": "+lijNNigBEA=",
          "dtype": "f8"
         },
         "yaxis": "y"
        },
        {
         "customdata": [
          [
           "Surf"
          ]
         ],
         "hovertemplate": "style=%{customdata[0]}<br>Genre=%{x}<br>Weight=%{y}<extra></extra>",
         "legendgroup": "Surf",
         "marker": {
          "color": "#FFA15A",
          "pattern": {
           "shape": ""
          }
         },
         "name": "Surf",
         "orientation": "v",
         "showlegend": true,
         "textposition": "auto",
         "type": "bar",
         "x": [
          "Rock"
         ],
         "xaxis": "x",
         "y": {
          "bdata": "D/Hm9bk1BEA=",
          "dtype": "f8"
         },
         "yaxis": "y"
        },
        {
         "customdata": [
          [
           "Beat"
          ]
         ],
         "hovertemplate": "style=%{customdata[0]}<br>Genre=%{x}<br>Weight=%{y}<extra></extra>",
         "legendgroup": "Beat",
         "marker": {
          "color": "#19d3f3",
          "pattern": {
           "shape": ""
          }
         },
         "name": "Beat",
         "orientation": "v",
         "showlegend": true,
         "textposition": "auto",
         "type": "bar",
         "x": [
          "Rock"
         ],
         "xaxis": "x",
         "y": {
          "bdata": "FUShE7QlAkA=",
          "dtype": "f8"
         },
         "yaxis": "y"
        },
        {
         "customdata": [
          [
           "Atmospheric Black Metal"
          ]
         ],
         "hovertemplate": "style=%{customdata[0]}<br>Genre=%{x}<br>Weight=%{y}<extra></extra>",
         "legendgroup": "Atmospheric Black Metal",
         "marker": {
          "color": "#FF6692",
          "pattern": {
           "shape": ""
          }
         },
         "name": "Atmospheric Black Metal",
         "orientation": "v",
         "showlegend": true,
         "textposition": "auto",
         "type": "bar",
         "x": [
          "Rock"
         ],
         "xaxis": "x",
         "y": {
          "bdata": "rjYDuIg4AUA=",
          "dtype": "f8"
         },
         "yaxis": "y"
        },
        {
         "customdata": [
          [
           "Avantgarde"
          ]
         ],
         "hovertemplate": "style=%{customdata[0]}<br>Genre=%{x}<br>Weight=%{y}<extra></extra>",
         "legendgroup": "Avantgarde",
         "marker": {
          "color": "#B6E880",
          "pattern": {
           "shape": ""
          }
         },
         "name": "Avantgarde",
         "orientation": "v",
         "showlegend": true,
         "textposition": "auto",
         "type": "bar",
         "x": [
          "Rock"
         ],
         "xaxis": "x",
         "y": {
          "bdata": "ODEdieo0AUA=",
          "dtype": "f8"
         },
         "yaxis": "y"
        },
        {
         "customdata": [
          [
           "Deathrock"
          ]
         ],
         "hovertemplate": "style=%{customdata[0]}<br>Genre=%{x}<br>Weight=%{y}<extra></extra>",
         "legendgroup": "Deathrock",
         "marker": {
          "color": "#FF97FF",
          "pattern": {
           "shape": ""
          }
         },
         "name": "Deathrock",
         "orientation": "v",
         "showlegend": true,
         "textposition": "auto",
         "type": "bar",
         "x": [
          "Rock"
         ],
         "xaxis": "x",
         "y": {
          "bdata": "9/ef4LZn/j8=",
          "dtype": "f8"
         },
         "yaxis": "y"
        },
        {
         "customdata": [
          [
           "Noise"
          ],
          [
           "Noise"
          ]
         ],
         "hovertemplate": "style=%{customdata[0]}<br>Genre=%{x}<br>Weight=%{y}<extra></extra>",
         "legendgroup": "Noise",
         "marker": {
          "color": "#FECB52",
          "pattern": {
           "shape": ""
          }
         },
         "name": "Noise",
         "orientation": "v",
         "showlegend": true,
         "textposition": "auto",
         "type": "bar",
         "x": [
          "Electronic",
          "Rock"
         ],
         "xaxis": "x",
         "y": {
          "bdata": "gFCnVXvG+D8hQC2Vlwr6Pw==",
          "dtype": "f8"
         },
         "yaxis": "y"
        },
        {
         "customdata": [
          [
           "Crust"
          ]
         ],
         "hovertemplate": "style=%{customdata[0]}<br>Genre=%{x}<br>Weight=%{y}<extra></extra>",
         "legendgroup": "Crust",
         "marker": {
          "color": "#636efa",
          "pattern": {
           "shape": ""
          }
         },
         "name": "Crust",
         "orientation": "v",
         "showlegend": true,
         "textposition": "auto",
         "type": "bar",
         "x": [
          "Rock"
         ],
         "xaxis": "x",
         "y": {
          "bdata": "1ITHRyH89T8=",
          "dtype": "f8"
         },
         "yaxis": "y"
        },
        {
         "customdata": [
          [
           "Grindcore"
          ]
         ],
         "hovertemplate": "style=%{customdata[0]}<br>Genre=%{x}<br>Weight=%{y}<extra></extra>",
         "legendgroup": "Grindcore",
         "marker": {
          "color": "#EF553B",
          "pattern": {
           "shape": ""
          }
         },
         "name": "Grindcore",
         "orientation": "v",
         "showlegend": true,
         "textposition": "auto",
         "type": "bar",
         "x": [
          "Rock"
         ],
         "xaxis": "x",
         "y": {
          "bdata": "9TwIYJso9T8=",
          "dtype": "f8"
         },
         "yaxis": "y"
        },
        {
         "customdata": [
          [
           "No Wave"
          ]
         ],
         "hovertemplate": "style=%{customdata[0]}<br>Genre=%{x}<br>Weight=%{y}<extra></extra>",
         "legendgroup": "No Wave",
         "marker": {
          "color": "#00cc96",
          "pattern": {
           "shape": ""
          }
         },
         "name": "No Wave",
         "orientation": "v",
         "showlegend": true,
         "textposition": "auto",
         "type": "bar",
         "x": [
          "Rock"
         ],
         "xaxis": "x",
         "y": {
          "bdata": "36k0bTES9T8=",
          "dtype": "f8"
         },
         "yaxis": "y"
        },
        {
         "customdata": [
          [
           "Yé-Yé"
          ]
         ],
         "hovertemplate": "style=%{customdata[0]}<br>Genre=%{x}<br>Weight=%{y}<extra></extra>",
         "legendgroup": "Yé-Yé",
         "marker": {
          "color": "#ab63fa",
          "pattern": {
           "shape": ""
          }
         },
         "name": "Yé-Yé",
         "orientation": "v",
         "showlegend": true,
         "textposition": "auto",
         "type": "bar",
         "x": [
          "Rock"
         ],
         "xaxis": "x",
         "y": {
          "bdata": "oas4uf4v9D8=",
          "dtype": "f8"
         },
         "yaxis": "y"
        },
        {
         "customdata": [
          [
           "Depressive Black Metal"
          ]
         ],
         "hovertemplate": "style=%{customdata[0]}<br>Genre=%{x}<br>Weight=%{y}<extra></extra>",
         "legendgroup": "Depressive Black Metal",
         "marker": {
          "color": "#FFA15A",
          "pattern": {
           "shape": ""
          }
         },
         "name": "Depressive Black Metal",
         "orientation": "v",
         "showlegend": true,
         "textposition": "auto",
         "type": "bar",
         "x": [
          "Rock"
         ],
         "xaxis": "x",
         "y": {
          "bdata": "BBFvwd3j8j8=",
          "dtype": "f8"
         },
         "yaxis": "y"
        },
        {
         "customdata": [
          [
           "Twist"
          ]
         ],
         "hovertemplate": "style=%{customdata[0]}<br>Genre=%{x}<br>Weight=%{y}<extra></extra>",
         "legendgroup": "Twist",
         "marker": {
          "color": "#19d3f3",
          "pattern": {
           "shape": ""
          }
         },
         "name": "Twist",
         "orientation": "v",
         "showlegend": true,
         "textposition": "auto",
         "type": "bar",
         "x": [
          "Rock"
         ],
         "xaxis": "x",
         "y": {
          "bdata": "sMt0OS/r8T8=",
          "dtype": "f8"
         },
         "yaxis": "y"
        },
        {
         "customdata": [
          [
           "Funeral Doom Metal"
          ]
         ],
         "hovertemplate": "style=%{customdata[0]}<br>Genre=%{x}<br>Weight=%{y}<extra></extra>",
         "legendgroup": "Funeral Doom Metal",
         "marker": {
          "color": "#FF6692",
          "pattern": {
           "shape": ""
          }
         },
         "name": "Funeral Doom Metal",
         "orientation": "v",
         "showlegend": true,
         "textposition": "auto",
         "type": "bar",
         "x": [
          "Rock"
         ],
         "xaxis": "x",
         "y": {
          "bdata": "ABJx+BVH6z8=",
          "dtype": "f8"
         },
         "yaxis": "y"
        },
        {
         "customdata": [
          [
           "Noisecore"
          ]
         ],
         "hovertemplate": "style=%{customdata[0]}<br>Genre=%{x}<br>Weight=%{y}<extra></extra>",
         "legendgroup": "Noisecore",
         "marker": {
          "color": "#B6E880",
          "pattern": {
           "shape": ""
          }
         },
         "name": "Noisecore",
         "orientation": "v",
         "showlegend": true,
         "textposition": "auto",
         "type": "bar",
         "x": [
          "Rock"
         ],
         "xaxis": "x",
         "y": {
          "bdata": "qSJQXWtu1D8=",
          "dtype": "f8"
         },
         "yaxis": "y"
        },
        {
         "customdata": [
          [
           "Power Violence"
          ]
         ],
         "hovertemplate": "style=%{customdata[0]}<br>Genre=%{x}<br>Weight=%{y}<extra></extra>",
         "legendgroup": "Power Violence",
         "marker": {
          "color": "#FF97FF",
          "pattern": {
           "shape": ""
          }
         },
         "name": "Power Violence",
         "orientation": "v",
         "showlegend": true,
         "textposition": "auto",
         "type": "bar",
         "x": [
          "Rock"
         ],
         "xaxis": "x",
         "y": {
          "bdata": "z89pjZ1T0j8=",
          "dtype": "f8"
         },
         "yaxis": "y"
        },
        {
         "customdata": [
          [
           "Goregrind"
          ]
         ],
         "hovertemplate": "style=%{customdata[0]}<br>Genre=%{x}<br>Weight=%{y}<extra></extra>",
         "legendgroup": "Goregrind",
         "marker": {
          "color": "#FECB52",
          "pattern": {
           "shape": ""
          }
         },
         "name": "Goregrind",
         "orientation": "v",
         "showlegend": true,
         "textposition": "auto",
         "type": "bar",
         "x": [
          "Rock"
         ],
         "xaxis": "x",
         "y": {
          "bdata": "Fz1inqSQzz8=",
          "dtype": "f8"
         },
         "yaxis": "y"
        },
        {
         "customdata": [
          [
           "Pornogrind"
          ]
         ],
         "hovertemplate": "style=%{customdata[0]}<br>Genre=%{x}<br>Weight=%{y}<extra></extra>",
         "legendgroup": "Pornogrind",
         "marker": {
          "color": "#636efa",
          "pattern": {
           "shape": ""
          }
         },
         "name": "Pornogrind",
         "orientation": "v",
         "showlegend": true,
         "textposition": "auto",
         "type": "bar",
         "x": [
          "Rock"
         ],
         "xaxis": "x",
         "y": {
          "bdata": "uJM4L6LOxz8=",
          "dtype": "f8"
         },
         "yaxis": "y"
        },
        {
         "customdata": [
          [
           "House"
          ]
         ],
         "hovertemplate": "style=%{customdata[0]}<br>Genre=%{x}<br>Weight=%{y}<extra></extra>",
         "legendgroup": "House",
         "marker": {
          "color": "#EF553B",
          "pattern": {
           "shape": ""
          }
         },
         "name": "House",
         "orientation": "v",
         "showlegend": true,
         "textposition": "auto",
         "type": "bar",
         "x": [
          "Electronic"
         ],
         "xaxis": "x",
         "y": {
          "bdata": "uDWZC690QEA=",
          "dtype": "f8"
         },
         "yaxis": "y"
        },
        {
         "customdata": [
          [
           "Ambient"
          ]
         ],
         "hovertemplate": "style=%{customdata[0]}<br>Genre=%{x}<br>Weight=%{y}<extra></extra>",
         "legendgroup": "Ambient",
         "marker": {
          "color": "#00cc96",
          "pattern": {
           "shape": ""
          }
         },
         "name": "Ambient",
         "orientation": "v",
         "showlegend": true,
         "textposition": "auto",
         "type": "bar",
         "x": [
          "Electronic"
         ],
         "xaxis": "x",
         "y": {
          "bdata": "fo+81KUGN0A=",
          "dtype": "f8"
         },
         "yaxis": "y"
        },
        {
         "customdata": [
          [
           "Synth-pop"
          ]
         ],
         "hovertemplate": "style=%{customdata[0]}<br>Genre=%{x}<br>Weight=%{y}<extra></extra>",
         "legendgroup": "Synth-pop",
         "marker": {
          "color": "#ab63fa",
          "pattern": {
           "shape": ""
          }
         },
         "name": "Synth-pop",
         "orientation": "v",
         "showlegend": true,
         "textposition": "auto",
         "type": "bar",
         "x": [
          "Electronic"
         ],
         "xaxis": "x",
         "y": {
          "bdata": "XR3k02tCNkA=",
          "dtype": "f8"
         },
         "yaxis": "y"
        },
        {
         "customdata": [
          [
           "Downtempo"
          ]
         ],
         "hovertemplate": "style=%{customdata[0]}<br>Genre=%{x}<br>Weight=%{y}<extra></extra>",
         "legendgroup": "Downtempo",
         "marker": {
          "color": "#FFA15A",
          "pattern": {
           "shape": ""
          }
         },
         "name": "Downtempo",
         "orientation": "v",
         "showlegend": true,
         "textposition": "auto",
         "type": "bar",
         "x": [
          "Electronic"
         ],
         "xaxis": "x",
         "y": {
          "bdata": "RMdr3Fs4M0A=",
          "dtype": "f8"
         },
         "yaxis": "y"
        },
        {
         "customdata": [
          [
           "Electro"
          ],
          [
           "Electro"
          ]
         ],
         "hovertemplate": "style=%{customdata[0]}<br>Genre=%{x}<br>Weight=%{y}<extra></extra>",
         "legendgroup": "Electro",
         "marker": {
          "color": "#19d3f3",
          "pattern": {
           "shape": ""
          }
         },
         "name": "Electro",
         "orientation": "v",
         "showlegend": true,
         "textposition": "auto",
         "type": "bar",
         "x": [
          "Electronic",
          "Hip Hop"
         ],
         "xaxis": "x",
         "y": {
          "bdata": "ryx7S54dMkC4TvCnnfQGQA==",
          "dtype": "f8"
         },
         "yaxis": "y"
        },
        {
         "customdata": [
          [
           "Deep House"
          ]
         ],
         "hovertemplate": "style=%{customdata[0]}<br>Genre=%{x}<br>Weight=%{y}<extra></extra>",
         "legendgroup": "Deep House",
         "marker": {
          "color": "#FF6692",
          "pattern": {
           "shape": ""
          }
         },
         "name": "Deep House",
         "orientation": "v",
         "showlegend": true,
         "textposition": "auto",
         "type": "bar",
         "x": [
          "Electronic"
         ],
         "xaxis": "x",
         "y": {
          "bdata": "j91Pbne+K0A=",
          "dtype": "f8"
         },
         "yaxis": "y"
        },
        {
         "customdata": [
          [
           "Techno"
          ]
         ],
         "hovertemplate": "style=%{customdata[0]}<br>Genre=%{x}<br>Weight=%{y}<extra></extra>",
         "legendgroup": "Techno",
         "marker": {
          "color": "#B6E880",
          "pattern": {
           "shape": ""
          }
         },
         "name": "Techno",
         "orientation": "v",
         "showlegend": true,
         "textposition": "auto",
         "type": "bar",
         "x": [
          "Electronic"
         ],
         "xaxis": "x",
         "y": {
          "bdata": "h2vEj1PMKUA=",
          "dtype": "f8"
         },
         "yaxis": "y"
        },
        {
         "customdata": [
          [
           "Dance-pop"
          ]
         ],
         "hovertemplate": "style=%{customdata[0]}<br>Genre=%{x}<br>Weight=%{y}<extra></extra>",
         "legendgroup": "Dance-pop",
         "marker": {
          "color": "#FF97FF",
          "pattern": {
           "shape": ""
          }
         },
         "name": "Dance-pop",
         "orientation": "v",
         "showlegend": true,
         "textposition": "auto",
         "type": "bar",
         "x": [
          "Electronic"
         ],
         "xaxis": "x",
         "y": {
          "bdata": "EcYAv1YWKEA=",
          "dtype": "f8"
         },
         "yaxis": "y"
        },
        {
         "customdata": [
          [
           "Tropical House"
          ]
         ],
         "hovertemplate": "style=%{customdata[0]}<br>Genre=%{x}<br>Weight=%{y}<extra></extra>",
         "legendgroup": "Tropical House",
         "marker": {
          "color": "#FECB52",
          "pattern": {
           "shape": ""
          }
         },
         "name": "Tropical House",
         "orientation": "v",
         "showlegend": true,
         "textposition": "auto",
         "type": "bar",
         "x": [
          "Electronic"
         ],
         "xaxis": "x",
         "y": {
          "bdata": "EOn1NIkqI0A=",
          "dtype": "f8"
         },
         "yaxis": "y"
        },
        {
         "customdata": [
          [
           "Electro House"
          ]
         ],
         "hovertemplate": "style=%{customdata[0]}<br>Genre=%{x}<br>Weight=%{y}<extra></extra>",
         "legendgroup": "Electro House",
         "marker": {
          "color": "#636efa",
          "pattern": {
           "shape": ""
          }
         },
         "name": "Electro House",
         "orientation": "v",
         "showlegend": true,
         "textposition": "auto",
         "type": "bar",
         "x": [
          "Electronic"
         ],
         "xaxis": "x",
         "y": {
          "bdata": "pTyb5W0RIkA=",
          "dtype": "f8"
         },
         "yaxis": "y"
        },
        {
         "customdata": [
          [
           "Euro House"
          ]
         ],
         "hovertemplate": "style=%{customdata[0]}<br>Genre=%{x}<br>Weight=%{y}<extra></extra>",
         "legendgroup": "Euro House",
         "marker": {
          "color": "#EF553B",
          "pattern": {
           "shape": ""
          }
         },
         "name": "Euro House",
         "orientation": "v",
         "showlegend": true,
         "textposition": "auto",
         "type": "bar",
         "x": [
          "Electronic"
         ],
         "xaxis": "x",
         "y": {
          "bdata": "AaQdaJHAIUA=",
          "dtype": "f8"
         },
         "yaxis": "y"
        },
        {
         "customdata": [
          [
           "Trance"
          ]
         ],
         "hovertemplate": "style=%{customdata[0]}<br>Genre=%{x}<br>Weight=%{y}<extra></extra>",
         "legendgroup": "Trance",
         "marker": {
          "color": "#00cc96",
          "pattern": {
           "shape": ""
          }
         },
         "name": "Trance",
         "orientation": "v",
         "showlegend": true,
         "textposition": "auto",
         "type": "bar",
         "x": [
          "Electronic"
         ],
         "xaxis": "x",
         "y": {
          "bdata": "XrRQQrFuIUA=",
          "dtype": "f8"
         },
         "yaxis": "y"
        },
        {
         "customdata": [
          [
           "Drum n Bass"
          ]
         ],
         "hovertemplate": "style=%{customdata[0]}<br>Genre=%{x}<br>Weight=%{y}<extra></extra>",
         "legendgroup": "Drum n Bass",
         "marker": {
          "color": "#ab63fa",
          "pattern": {
           "shape": ""
          }
         },
         "name": "Drum n Bass",
         "orientation": "v",
         "showlegend": true,
         "textposition": "auto",
         "type": "bar",
         "x": [
          "Electronic"
         ],
         "xaxis": "x",
         "y": {
          "bdata": "UJSr/iMWIUA=",
          "dtype": "f8"
         },
         "yaxis": "y"
        },
        {
         "customdata": [
          [
           "Chillwave"
          ]
         ],
         "hovertemplate": "style=%{customdata[0]}<br>Genre=%{x}<br>Weight=%{y}<extra></extra>",
         "legendgroup": "Chillwave",
         "marker": {
          "color": "#FFA15A",
          "pattern": {
           "shape": ""
          }
         },
         "name": "Chillwave",
         "orientation": "v",
         "showlegend": true,
         "textposition": "auto",
         "type": "bar",
         "x": [
          "Electronic"
         ],
         "xaxis": "x",
         "y": {
          "bdata": "1NJLQu7ZIEA=",
          "dtype": "f8"
         },
         "yaxis": "y"
        },
        {
         "customdata": [
          [
           "Dubstep"
          ]
         ],
         "hovertemplate": "style=%{customdata[0]}<br>Genre=%{x}<br>Weight=%{y}<extra></extra>",
         "legendgroup": "Dubstep",
         "marker": {
          "color": "#19d3f3",
          "pattern": {
           "shape": ""
          }
         },
         "name": "Dubstep",
         "orientation": "v",
         "showlegend": true,
         "textposition": "auto",
         "type": "bar",
         "x": [
          "Electronic"
         ],
         "xaxis": "x",
         "y": {
          "bdata": "OPgaQnRGIEA=",
          "dtype": "f8"
         },
         "yaxis": "y"
        },
        {
         "customdata": [
          [
           "Hip Hop"
          ]
         ],
         "hovertemplate": "style=%{customdata[0]}<br>Genre=%{x}<br>Weight=%{y}<extra></extra>",
         "legendgroup": "Hip Hop",
         "marker": {
          "color": "#FF6692",
          "pattern": {
           "shape": ""
          }
         },
         "name": "Hip Hop",
         "orientation": "v",
         "showlegend": true,
         "textposition": "auto",
         "type": "bar",
         "x": [
          "Electronic"
         ],
         "xaxis": "x",
         "y": {
          "bdata": "eKVgW67CHUA=",
          "dtype": "f8"
         },
         "yaxis": "y"
        },
        {
         "customdata": [
          [
           "Progressive House"
          ]
         ],
         "hovertemplate": "style=%{customdata[0]}<br>Genre=%{x}<br>Weight=%{y}<extra></extra>",
         "legendgroup": "Progressive House",
         "marker": {
          "color": "#B6E880",
          "pattern": {
           "shape": ""
          }
         },
         "name": "Progressive House",
         "orientation": "v",
         "showlegend": true,
         "textposition": "auto",
         "type": "bar",
         "x": [
          "Electronic"
         ],
         "xaxis": "x",
         "y": {
          "bdata": "vP6B5JVOHUA=",
          "dtype": "f8"
         },
         "yaxis": "y"
        },
        {
         "customdata": [
          [
           "Disco"
          ],
          [
           "Disco"
          ]
         ],
         "hovertemplate": "style=%{customdata[0]}<br>Genre=%{x}<br>Weight=%{y}<extra></extra>",
         "legendgroup": "Disco",
         "marker": {
          "color": "#FF97FF",
          "pattern": {
           "shape": ""
          }
         },
         "name": "Disco",
         "orientation": "v",
         "showlegend": true,
         "textposition": "auto",
         "type": "bar",
         "x": [
          "Electronic",
          "Funk / Soul"
         ],
         "xaxis": "x",
         "y": {
          "bdata": "scrv6YGjHEDtS292ijYTQA==",
          "dtype": "f8"
         },
         "yaxis": "y"
        },
        {
         "customdata": [
          [
           "New Age"
          ]
         ],
         "hovertemplate": "style=%{customdata[0]}<br>Genre=%{x}<br>Weight=%{y}<extra></extra>",
         "legendgroup": "New Age",
         "marker": {
          "color": "#FECB52",
          "pattern": {
           "shape": ""
          }
         },
         "name": "New Age",
         "orientation": "v",
         "showlegend": true,
         "textposition": "auto",
         "type": "bar",
         "x": [
          "Electronic"
         ],
         "xaxis": "x",
         "y": {
          "bdata": "2YipnDRhGkA=",
          "dtype": "f8"
         },
         "yaxis": "y"
        },
        {
         "customdata": [
          [
           "Grime"
          ],
          [
           "Grime"
          ]
         ],
         "hovertemplate": "style=%{customdata[0]}<br>Genre=%{x}<br>Weight=%{y}<extra></extra>",
         "legendgroup": "Grime",
         "marker": {
          "color": "#636efa",
          "pattern": {
           "shape": ""
          }
         },
         "name": "Grime",
         "orientation": "v",
         "showlegend": true,
         "textposition": "auto",
         "type": "bar",
         "x": [
          "Electronic",
          "Hip Hop"
         ],
         "xaxis": "x",
         "y": {
          "bdata": "aNO41PEaGkBXlGnHuOMoQA==",
          "dtype": "f8"
         },
         "yaxis": "y"
        },
        {
         "customdata": [
          [
           "Synthwave"
          ]
         ],
         "hovertemplate": "style=%{customdata[0]}<br>Genre=%{x}<br>Weight=%{y}<extra></extra>",
         "legendgroup": "Synthwave",
         "marker": {
          "color": "#EF553B",
          "pattern": {
           "shape": ""
          }
         },
         "name": "Synthwave",
         "orientation": "v",
         "showlegend": true,
         "textposition": "auto",
         "type": "bar",
         "x": [
          "Electronic"
         ],
         "xaxis": "x",
         "y": {
          "bdata": "WkWvD/f1GUA=",
          "dtype": "f8"
         },
         "yaxis": "y"
        },
        {
         "customdata": [
          [
           "Nu-Disco"
          ]
         ],
         "hovertemplate": "style=%{customdata[0]}<br>Genre=%{x}<br>Weight=%{y}<extra></extra>",
         "legendgroup": "Nu-Disco",
         "marker": {
          "color": "#00cc96",
          "pattern": {
           "shape": ""
          }
         },
         "name": "Nu-Disco",
         "orientation": "v",
         "showlegend": true,
         "textposition": "auto",
         "type": "bar",
         "x": [
          "Electronic"
         ],
         "xaxis": "x",
         "y": {
          "bdata": "SxMOWJplF0A=",
          "dtype": "f8"
         },
         "yaxis": "y"
        },
        {
         "customdata": [
          [
           "Trip Hop"
          ],
          [
           "Trip Hop"
          ]
         ],
         "hovertemplate": "style=%{customdata[0]}<br>Genre=%{x}<br>Weight=%{y}<extra></extra>",
         "legendgroup": "Trip Hop",
         "marker": {
          "color": "#ab63fa",
          "pattern": {
           "shape": ""
          }
         },
         "name": "Trip Hop",
         "orientation": "v",
         "showlegend": true,
         "textposition": "auto",
         "type": "bar",
         "x": [
          "Electronic",
          "Hip Hop"
         ],
         "xaxis": "x",
         "y": {
          "bdata": "L1uZ+dMdF0D38VPOGrcWQA==",
          "dtype": "f8"
         },
         "yaxis": "y"
        },
        {
         "customdata": [
          [
           "Disco Polo"
          ]
         ],
         "hovertemplate": "style=%{customdata[0]}<br>Genre=%{x}<br>Weight=%{y}<extra></extra>",
         "legendgroup": "Disco Polo",
         "marker": {
          "color": "#FFA15A",
          "pattern": {
           "shape": ""
          }
         },
         "name": "Disco Polo",
         "orientation": "v",
         "showlegend": true,
         "textposition": "auto",
         "type": "bar",
         "x": [
          "Electronic"
         ],
         "xaxis": "x",
         "y": {
          "bdata": "Aism829gFkA=",
          "dtype": "f8"
         },
         "yaxis": "y"
        },
        {
         "customdata": [
          [
           "Tech House"
          ]
         ],
         "hovertemplate": "style=%{customdata[0]}<br>Genre=%{x}<br>Weight=%{y}<extra></extra>",
         "legendgroup": "Tech House",
         "marker": {
          "color": "#19d3f3",
          "pattern": {
           "shape": ""
          }
         },
         "name": "Tech House",
         "orientation": "v",
         "showlegend": true,
         "textposition": "auto",
         "type": "bar",
         "x": [
          "Electronic"
         ],
         "xaxis": "x",
         "y": {
          "bdata": "HLlOFI1UFUA=",
          "dtype": "f8"
         },
         "yaxis": "y"
        },
        {
         "customdata": [
          [
           "Tech Trance"
          ]
         ],
         "hovertemplate": "style=%{customdata[0]}<br>Genre=%{x}<br>Weight=%{y}<extra></extra>",
         "legendgroup": "Tech Trance",
         "marker": {
          "color": "#FF6692",
          "pattern": {
           "shape": ""
          }
         },
         "name": "Tech Trance",
         "orientation": "v",
         "showlegend": true,
         "textposition": "auto",
         "type": "bar",
         "x": [
          "Electronic"
         ],
         "xaxis": "x",
         "y": {
          "bdata": "+LWdyvsjFEA=",
          "dtype": "f8"
         },
         "yaxis": "y"
        },
        {
         "customdata": [
          [
           "Latin"
          ]
         ],
         "hovertemplate": "style=%{customdata[0]}<br>Genre=%{x}<br>Weight=%{y}<extra></extra>",
         "legendgroup": "Latin",
         "marker": {
          "color": "#B6E880",
          "pattern": {
           "shape": ""
          }
         },
         "name": "Latin",
         "orientation": "v",
         "showlegend": true,
         "textposition": "auto",
         "type": "bar",
         "x": [
          "Electronic"
         ],
         "xaxis": "x",
         "y": {
          "bdata": "gH+Z000PFEA=",
          "dtype": "f8"
         },
         "yaxis": "y"
        },
        {
         "customdata": [
          [
           "Bassline"
          ]
         ],
         "hovertemplate": "style=%{customdata[0]}<br>Genre=%{x}<br>Weight=%{y}<extra></extra>",
         "legendgroup": "Bassline",
         "marker": {
          "color": "#FF97FF",
          "pattern": {
           "shape": ""
          }
         },
         "name": "Bassline",
         "orientation": "v",
         "showlegend": true,
         "textposition": "auto",
         "type": "bar",
         "x": [
          "Electronic"
         ],
         "xaxis": "x",
         "y": {
          "bdata": "Q2Y65nL9E0A=",
          "dtype": "f8"
         },
         "yaxis": "y"
        },
        {
         "customdata": [
          [
           "Chiptune"
          ]
         ],
         "hovertemplate": "style=%{customdata[0]}<br>Genre=%{x}<br>Weight=%{y}<extra></extra>",
         "legendgroup": "Chiptune",
         "marker": {
          "color": "#FECB52",
          "pattern": {
           "shape": ""
          }
         },
         "name": "Chiptune",
         "orientation": "v",
         "showlegend": true,
         "textposition": "auto",
         "type": "bar",
         "x": [
          "Electronic"
         ],
         "xaxis": "x",
         "y": {
          "bdata": "gw8U6/htE0A=",
          "dtype": "f8"
         },
         "yaxis": "y"
        },
        {
         "customdata": [
          [
           "Hardstyle"
          ]
         ],
         "hovertemplate": "style=%{customdata[0]}<br>Genre=%{x}<br>Weight=%{y}<extra></extra>",
         "legendgroup": "Hardstyle",
         "marker": {
          "color": "#636efa",
          "pattern": {
           "shape": ""
          }
         },
         "name": "Hardstyle",
         "orientation": "v",
         "showlegend": true,
         "textposition": "auto",
         "type": "bar",
         "x": [
          "Electronic"
         ],
         "xaxis": "x",
         "y": {
          "bdata": "pXb3Ir1dE0A=",
          "dtype": "f8"
         },
         "yaxis": "y"
        },
        {
         "customdata": [
          [
           "Eurodance"
          ]
         ],
         "hovertemplate": "style=%{customdata[0]}<br>Genre=%{x}<br>Weight=%{y}<extra></extra>",
         "legendgroup": "Eurodance",
         "marker": {
          "color": "#EF553B",
          "pattern": {
           "shape": ""
          }
         },
         "name": "Eurodance",
         "orientation": "v",
         "showlegend": true,
         "textposition": "auto",
         "type": "bar",
         "x": [
          "Electronic"
         ],
         "xaxis": "x",
         "y": {
          "bdata": "aUizbKwUE0A=",
          "dtype": "f8"
         },
         "yaxis": "y"
        },
        {
         "customdata": [
          [
           "Abstract"
          ]
         ],
         "hovertemplate": "style=%{customdata[0]}<br>Genre=%{x}<br>Weight=%{y}<extra></extra>",
         "legendgroup": "Abstract",
         "marker": {
          "color": "#00cc96",
          "pattern": {
           "shape": ""
          }
         },
         "name": "Abstract",
         "orientation": "v",
         "showlegend": true,
         "textposition": "auto",
         "type": "bar",
         "x": [
          "Electronic"
         ],
         "xaxis": "x",
         "y": {
          "bdata": "/IjOW2jTEkA=",
          "dtype": "f8"
         },
         "yaxis": "y"
        },
        {
         "customdata": [
          [
           "Vaporwave"
          ]
         ],
         "hovertemplate": "style=%{customdata[0]}<br>Genre=%{x}<br>Weight=%{y}<extra></extra>",
         "legendgroup": "Vaporwave",
         "marker": {
          "color": "#ab63fa",
          "pattern": {
           "shape": ""
          }
         },
         "name": "Vaporwave",
         "orientation": "v",
         "showlegend": true,
         "textposition": "auto",
         "type": "bar",
         "x": [
          "Electronic"
         ],
         "xaxis": "x",
         "y": {
          "bdata": "kVE3LqSfEUA=",
          "dtype": "f8"
         },
         "yaxis": "y"
        },
        {
         "customdata": [
          [
           "Darkwave"
          ]
         ],
         "hovertemplate": "style=%{customdata[0]}<br>Genre=%{x}<br>Weight=%{y}<extra></extra>",
         "legendgroup": "Darkwave",
         "marker": {
          "color": "#FFA15A",
          "pattern": {
           "shape": ""
          }
         },
         "name": "Darkwave",
         "orientation": "v",
         "showlegend": true,
         "textposition": "auto",
         "type": "bar",
         "x": [
          "Electronic"
         ],
         "xaxis": "x",
         "y": {
          "bdata": "P0OgPh3oEEA=",
          "dtype": "f8"
         },
         "yaxis": "y"
        },
        {
         "customdata": [
          [
           "Hands Up"
          ]
         ],
         "hovertemplate": "style=%{customdata[0]}<br>Genre=%{x}<br>Weight=%{y}<extra></extra>",
         "legendgroup": "Hands Up",
         "marker": {
          "color": "#19d3f3",
          "pattern": {
           "shape": ""
          }
         },
         "name": "Hands Up",
         "orientation": "v",
         "showlegend": true,
         "textposition": "auto",
         "type": "bar",
         "x": [
          "Electronic"
         ],
         "xaxis": "x",
         "y": {
          "bdata": "aZEskLpyEEA=",
          "dtype": "f8"
         },
         "yaxis": "y"
        },
        {
         "customdata": [
          [
           "Psy-Trance"
          ]
         ],
         "hovertemplate": "style=%{customdata[0]}<br>Genre=%{x}<br>Weight=%{y}<extra></extra>",
         "legendgroup": "Psy-Trance",
         "marker": {
          "color": "#FF6692",
          "pattern": {
           "shape": ""
          }
         },
         "name": "Psy-Trance",
         "orientation": "v",
         "showlegend": true,
         "textposition": "auto",
         "type": "bar",
         "x": [
          "Electronic"
         ],
         "xaxis": "x",
         "y": {
          "bdata": "cMn0bWcaEEA=",
          "dtype": "f8"
         },
         "yaxis": "y"
        },
        {
         "customdata": [
          [
           "Broken Beat"
          ]
         ],
         "hovertemplate": "style=%{customdata[0]}<br>Genre=%{x}<br>Weight=%{y}<extra></extra>",
         "legendgroup": "Broken Beat",
         "marker": {
          "color": "#B6E880",
          "pattern": {
           "shape": ""
          }
         },
         "name": "Broken Beat",
         "orientation": "v",
         "showlegend": true,
         "textposition": "auto",
         "type": "bar",
         "x": [
          "Electronic"
         ],
         "xaxis": "x",
         "y": {
          "bdata": "vKTNPsbZD0A=",
          "dtype": "f8"
         },
         "yaxis": "y"
        },
        {
         "customdata": [
          [
           "Italo-Disco"
          ]
         ],
         "hovertemplate": "style=%{customdata[0]}<br>Genre=%{x}<br>Weight=%{y}<extra></extra>",
         "legendgroup": "Italo-Disco",
         "marker": {
          "color": "#FF97FF",
          "pattern": {
           "shape": ""
          }
         },
         "name": "Italo-Disco",
         "orientation": "v",
         "showlegend": true,
         "textposition": "auto",
         "type": "bar",
         "x": [
          "Electronic"
         ],
         "xaxis": "x",
         "y": {
          "bdata": "/HBJb+rDD0A=",
          "dtype": "f8"
         },
         "yaxis": "y"
        },
        {
         "customdata": [
          [
           "Euro-Disco"
          ]
         ],
         "hovertemplate": "style=%{customdata[0]}<br>Genre=%{x}<br>Weight=%{y}<extra></extra>",
         "legendgroup": "Euro-Disco",
         "marker": {
          "color": "#FECB52",
          "pattern": {
           "shape": ""
          }
         },
         "name": "Euro-Disco",
         "orientation": "v",
         "showlegend": true,
         "textposition": "auto",
         "type": "bar",
         "x": [
          "Electronic"
         ],
         "xaxis": "x",
         "y": {
          "bdata": "JewjIktWD0A=",
          "dtype": "f8"
         },
         "yaxis": "y"
        },
        {
         "customdata": [
          [
           "Minimal"
          ]
         ],
         "hovertemplate": "style=%{customdata[0]}<br>Genre=%{x}<br>Weight=%{y}<extra></extra>",
         "legendgroup": "Minimal",
         "marker": {
          "color": "#636efa",
          "pattern": {
           "shape": ""
          }
         },
         "name": "Minimal",
         "orientation": "v",
         "showlegend": true,
         "textposition": "auto",
         "type": "bar",
         "x": [
          "Electronic"
         ],
         "xaxis": "x",
         "y": {
          "bdata": "nGZ0OxgGDkA=",
          "dtype": "f8"
         },
         "yaxis": "y"
        },
        {
         "customdata": [
          [
           "Hard Trance"
          ]
         ],
         "hovertemplate": "style=%{customdata[0]}<br>Genre=%{x}<br>Weight=%{y}<extra></extra>",
         "legendgroup": "Hard Trance",
         "marker": {
          "color": "#EF553B",
          "pattern": {
           "shape": ""
          }
         },
         "name": "Hard Trance",
         "orientation": "v",
         "showlegend": true,
         "textposition": "auto",
         "type": "bar",
         "x": [
          "Electronic"
         ],
         "xaxis": "x",
         "y": {
          "bdata": "I5xScxBYDUA=",
          "dtype": "f8"
         },
         "yaxis": "y"
        },
        {
         "customdata": [
          [
           "Future Jazz"
          ]
         ],
         "hovertemplate": "style=%{customdata[0]}<br>Genre=%{x}<br>Weight=%{y}<extra></extra>",
         "legendgroup": "Future Jazz",
         "marker": {
          "color": "#00cc96",
          "pattern": {
           "shape": ""
          }
         },
         "name": "Future Jazz",
         "orientation": "v",
         "showlegend": true,
         "textposition": "auto",
         "type": "bar",
         "x": [
          "Electronic"
         ],
         "xaxis": "x",
         "y": {
          "bdata": "1f4y3+3lDEA=",
          "dtype": "f8"
         },
         "yaxis": "y"
        },
        {
         "customdata": [
          [
           "UK Garage"
          ]
         ],
         "hovertemplate": "style=%{customdata[0]}<br>Genre=%{x}<br>Weight=%{y}<extra></extra>",
         "legendgroup": "UK Garage",
         "marker": {
          "color": "#ab63fa",
          "pattern": {
           "shape": ""
          }
         },
         "name": "UK Garage",
         "orientation": "v",
         "showlegend": true,
         "textposition": "auto",
         "type": "bar",
         "x": [
          "Electronic"
         ],
         "xaxis": "x",
         "y": {
          "bdata": "W8oPapORDEA=",
          "dtype": "f8"
         },
         "yaxis": "y"
        },
        {
         "customdata": [
          [
           "Glitch"
          ]
         ],
         "hovertemplate": "style=%{customdata[0]}<br>Genre=%{x}<br>Weight=%{y}<extra></extra>",
         "legendgroup": "Glitch",
         "marker": {
          "color": "#FFA15A",
          "pattern": {
           "shape": ""
          }
         },
         "name": "Glitch",
         "orientation": "v",
         "showlegend": true,
         "textposition": "auto",
         "type": "bar",
         "x": [
          "Electronic"
         ],
         "xaxis": "x",
         "y": {
          "bdata": "6eu0qShhDEA=",
          "dtype": "f8"
         },
         "yaxis": "y"
        },
        {
         "customdata": [
          [
           "Modern Classical"
          ]
         ],
         "hovertemplate": "style=%{customdata[0]}<br>Genre=%{x}<br>Weight=%{y}<extra></extra>",
         "legendgroup": "Modern Classical",
         "marker": {
          "color": "#19d3f3",
          "pattern": {
           "shape": ""
          }
         },
         "name": "Modern Classical",
         "orientation": "v",
         "showlegend": true,
         "textposition": "auto",
         "type": "bar",
         "x": [
          "Electronic"
         ],
         "xaxis": "x",
         "y": {
          "bdata": "7/eHEkglDEA=",
          "dtype": "f8"
         },
         "yaxis": "y"
        },
        {
         "customdata": [
          [
           "Breakbeat"
          ]
         ],
         "hovertemplate": "style=%{customdata[0]}<br>Genre=%{x}<br>Weight=%{y}<extra></extra>",
         "legendgroup": "Breakbeat",
         "marker": {
          "color": "#FF6692",
          "pattern": {
           "shape": ""
          }
         },
         "name": "Breakbeat",
         "orientation": "v",
         "showlegend": true,
         "textposition": "auto",
         "type": "bar",
         "x": [
          "Electronic"
         ],
         "xaxis": "x",
         "y": {
          "bdata": "WaJFZdOtC0A=",
          "dtype": "f8"
         },
         "yaxis": "y"
        },
        {
         "customdata": [
          [
           "Progressive Trance"
          ]
         ],
         "hovertemplate": "style=%{customdata[0]}<br>Genre=%{x}<br>Weight=%{y}<extra></extra>",
         "legendgroup": "Progressive Trance",
         "marker": {
          "color": "#B6E880",
          "pattern": {
           "shape": ""
          }
         },
         "name": "Progressive Trance",
         "orientation": "v",
         "showlegend": true,
         "textposition": "auto",
         "type": "bar",
         "x": [
          "Electronic"
         ],
         "xaxis": "x",
         "y": {
          "bdata": "lXpmz45oC0A=",
          "dtype": "f8"
         },
         "yaxis": "y"
        },
        {
         "customdata": [
          [
           "Halftime"
          ]
         ],
         "hovertemplate": "style=%{customdata[0]}<br>Genre=%{x}<br>Weight=%{y}<extra></extra>",
         "legendgroup": "Halftime",
         "marker": {
          "color": "#FF97FF",
          "pattern": {
           "shape": ""
          }
         },
         "name": "Halftime",
         "orientation": "v",
         "showlegend": true,
         "textposition": "auto",
         "type": "bar",
         "x": [
          "Electronic"
         ],
         "xaxis": "x",
         "y": {
          "bdata": "F1D+Dx/kCkA=",
          "dtype": "f8"
         },
         "yaxis": "y"
        },
        {
         "customdata": [
          [
           "Italodance"
          ]
         ],
         "hovertemplate": "style=%{customdata[0]}<br>Genre=%{x}<br>Weight=%{y}<extra></extra>",
         "legendgroup": "Italodance",
         "marker": {
          "color": "#FECB52",
          "pattern": {
           "shape": ""
          }
         },
         "name": "Italodance",
         "orientation": "v",
         "showlegend": true,
         "textposition": "auto",
         "type": "bar",
         "x": [
          "Electronic"
         ],
         "xaxis": "x",
         "y": {
          "bdata": "8913VoAyCkA=",
          "dtype": "f8"
         },
         "yaxis": "y"
        },
        {
         "customdata": [
          [
           "Leftfield"
          ]
         ],
         "hovertemplate": "style=%{customdata[0]}<br>Genre=%{x}<br>Weight=%{y}<extra></extra>",
         "legendgroup": "Leftfield",
         "marker": {
          "color": "#636efa",
          "pattern": {
           "shape": ""
          }
         },
         "name": "Leftfield",
         "orientation": "v",
         "showlegend": true,
         "textposition": "auto",
         "type": "bar",
         "x": [
          "Electronic"
         ],
         "xaxis": "x",
         "y": {
          "bdata": "k4649SnnCUA=",
          "dtype": "f8"
         },
         "yaxis": "y"
        },
        {
         "customdata": [
          [
           "Big Beat"
          ]
         ],
         "hovertemplate": "style=%{customdata[0]}<br>Genre=%{x}<br>Weight=%{y}<extra></extra>",
         "legendgroup": "Big Beat",
         "marker": {
          "color": "#EF553B",
          "pattern": {
           "shape": ""
          }
         },
         "name": "Big Beat",
         "orientation": "v",
         "showlegend": true,
         "textposition": "auto",
         "type": "bar",
         "x": [
          "Electronic"
         ],
         "xaxis": "x",
         "y": {
          "bdata": "yAh/6DdzCUA=",
          "dtype": "f8"
         },
         "yaxis": "y"
        },
        {
         "customdata": [
          [
           "Drone"
          ]
         ],
         "hovertemplate": "style=%{customdata[0]}<br>Genre=%{x}<br>Weight=%{y}<extra></extra>",
         "legendgroup": "Drone",
         "marker": {
          "color": "#00cc96",
          "pattern": {
           "shape": ""
          }
         },
         "name": "Drone",
         "orientation": "v",
         "showlegend": true,
         "textposition": "auto",
         "type": "bar",
         "x": [
          "Electronic"
         ],
         "xaxis": "x",
         "y": {
          "bdata": "bJ1ykug9CUA=",
          "dtype": "f8"
         },
         "yaxis": "y"
        },
        {
         "customdata": [
          [
           "Minimal Techno"
          ]
         ],
         "hovertemplate": "style=%{customdata[0]}<br>Genre=%{x}<br>Weight=%{y}<extra></extra>",
         "legendgroup": "Minimal Techno",
         "marker": {
          "color": "#ab63fa",
          "pattern": {
           "shape": ""
          }
         },
         "name": "Minimal Techno",
         "orientation": "v",
         "showlegend": true,
         "textposition": "auto",
         "type": "bar",
         "x": [
          "Electronic"
         ],
         "xaxis": "x",
         "y": {
          "bdata": "Rvu3V4/aCEA=",
          "dtype": "f8"
         },
         "yaxis": "y"
        },
        {
         "customdata": [
          [
           "Dub"
          ],
          [
           "Dub"
          ]
         ],
         "hovertemplate": "style=%{customdata[0]}<br>Genre=%{x}<br>Weight=%{y}<extra></extra>",
         "legendgroup": "Dub",
         "marker": {
          "color": "#FFA15A",
          "pattern": {
           "shape": ""
          }
         },
         "name": "Dub",
         "orientation": "v",
         "showlegend": true,
         "textposition": "auto",
         "type": "bar",
         "x": [
          "Electronic",
          "Reggae"
         ],
         "xaxis": "x",
         "y": {
          "bdata": "4vwWVai0CED6JGSxWl0OQA==",
          "dtype": "f8"
         },
         "yaxis": "y"
        },
        {
         "customdata": [
          [
           "Freestyle"
          ]
         ],
         "hovertemplate": "style=%{customdata[0]}<br>Genre=%{x}<br>Weight=%{y}<extra></extra>",
         "legendgroup": "Freestyle",
         "marker": {
          "color": "#19d3f3",
          "pattern": {
           "shape": ""
          }
         },
         "name": "Freestyle",
         "orientation": "v",
         "showlegend": true,
         "textposition": "auto",
         "type": "bar",
         "x": [
          "Electronic"
         ],
         "xaxis": "x",
         "y": {
          "bdata": "d1E2FG1nCEA=",
          "dtype": "f8"
         },
         "yaxis": "y"
        },
        {
         "customdata": [
          [
           "IDM"
          ]
         ],
         "hovertemplate": "style=%{customdata[0]}<br>Genre=%{x}<br>Weight=%{y}<extra></extra>",
         "legendgroup": "IDM",
         "marker": {
          "color": "#FF6692",
          "pattern": {
           "shape": ""
          }
         },
         "name": "IDM",
         "orientation": "v",
         "showlegend": true,
         "textposition": "auto",
         "type": "bar",
         "x": [
          "Electronic"
         ],
         "xaxis": "x",
         "y": {
          "bdata": "TceBs4cQCEA=",
          "dtype": "f8"
         },
         "yaxis": "y"
        },
        {
         "customdata": [
          [
           "Tribal House"
          ]
         ],
         "hovertemplate": "style=%{customdata[0]}<br>Genre=%{x}<br>Weight=%{y}<extra></extra>",
         "legendgroup": "Tribal House",
         "marker": {
          "color": "#B6E880",
          "pattern": {
           "shape": ""
          }
         },
         "name": "Tribal House",
         "orientation": "v",
         "showlegend": true,
         "textposition": "auto",
         "type": "bar",
         "x": [
          "Electronic"
         ],
         "xaxis": "x",
         "y": {
          "bdata": "WOjZrMTuB0A=",
          "dtype": "f8"
         },
         "yaxis": "y"
        },
        {
         "customdata": [
          [
           "Jazzdance"
          ]
         ],
         "hovertemplate": "style=%{customdata[0]}<br>Genre=%{x}<br>Weight=%{y}<extra></extra>",
         "legendgroup": "Jazzdance",
         "marker": {
          "color": "#FF97FF",
          "pattern": {
           "shape": ""
          }
         },
         "name": "Jazzdance",
         "orientation": "v",
         "showlegend": true,
         "textposition": "auto",
         "type": "bar",
         "x": [
          "Electronic"
         ],
         "xaxis": "x",
         "y": {
          "bdata": "JYVuSLrRB0A=",
          "dtype": "f8"
         },
         "yaxis": "y"
        },
        {
         "customdata": [
          [
           "Dark Ambient"
          ]
         ],
         "hovertemplate": "style=%{customdata[0]}<br>Genre=%{x}<br>Weight=%{y}<extra></extra>",
         "legendgroup": "Dark Ambient",
         "marker": {
          "color": "#FECB52",
          "pattern": {
           "shape": ""
          }
         },
         "name": "Dark Ambient",
         "orientation": "v",
         "showlegend": true,
         "textposition": "auto",
         "type": "bar",
         "x": [
          "Electronic"
         ],
         "xaxis": "x",
         "y": {
          "bdata": "xWDd7aW0BkA=",
          "dtype": "f8"
         },
         "yaxis": "y"
        },
        {
         "customdata": [
          [
           "Breaks"
          ]
         ],
         "hovertemplate": "style=%{customdata[0]}<br>Genre=%{x}<br>Weight=%{y}<extra></extra>",
         "legendgroup": "Breaks",
         "marker": {
          "color": "#636efa",
          "pattern": {
           "shape": ""
          }
         },
         "name": "Breaks",
         "orientation": "v",
         "showlegend": true,
         "textposition": "auto",
         "type": "bar",
         "x": [
          "Electronic"
         ],
         "xaxis": "x",
         "y": {
          "bdata": "lTPrsoSTBkA=",
          "dtype": "f8"
         },
         "yaxis": "y"
        },
        {
         "customdata": [
          [
           "Happy Hardcore"
          ]
         ],
         "hovertemplate": "style=%{customdata[0]}<br>Genre=%{x}<br>Weight=%{y}<extra></extra>",
         "legendgroup": "Happy Hardcore",
         "marker": {
          "color": "#EF553B",
          "pattern": {
           "shape": ""
          }
         },
         "name": "Happy Hardcore",
         "orientation": "v",
         "showlegend": true,
         "textposition": "auto",
         "type": "bar",
         "x": [
          "Electronic"
         ],
         "xaxis": "x",
         "y": {
          "bdata": "iyo171MkBkA=",
          "dtype": "f8"
         },
         "yaxis": "y"
        },
        {
         "customdata": [
          [
           "Berlin-School"
          ]
         ],
         "hovertemplate": "style=%{customdata[0]}<br>Genre=%{x}<br>Weight=%{y}<extra></extra>",
         "legendgroup": "Berlin-School",
         "marker": {
          "color": "#00cc96",
          "pattern": {
           "shape": ""
          }
         },
         "name": "Berlin-School",
         "orientation": "v",
         "showlegend": true,
         "textposition": "auto",
         "type": "bar",
         "x": [
          "Electronic"
         ],
         "xaxis": "x",
         "y": {
          "bdata": "iFSDMEH2BUA=",
          "dtype": "f8"
         },
         "yaxis": "y"
        },
        {
         "customdata": [
          [
           "Tribal"
          ]
         ],
         "hovertemplate": "style=%{customdata[0]}<br>Genre=%{x}<br>Weight=%{y}<extra></extra>",
         "legendgroup": "Tribal",
         "marker": {
          "color": "#ab63fa",
          "pattern": {
           "shape": ""
          }
         },
         "name": "Tribal",
         "orientation": "v",
         "showlegend": true,
         "textposition": "auto",
         "type": "bar",
         "x": [
          "Electronic"
         ],
         "xaxis": "x",
         "y": {
          "bdata": "USAr9SPRBUA=",
          "dtype": "f8"
         },
         "yaxis": "y"
        },
        {
         "customdata": [
          [
           "Acid Jazz"
          ]
         ],
         "hovertemplate": "style=%{customdata[0]}<br>Genre=%{x}<br>Weight=%{y}<extra></extra>",
         "legendgroup": "Acid Jazz",
         "marker": {
          "color": "#FFA15A",
          "pattern": {
           "shape": ""
          }
         },
         "name": "Acid Jazz",
         "orientation": "v",
         "showlegend": true,
         "textposition": "auto",
         "type": "bar",
         "x": [
          "Electronic"
         ],
         "xaxis": "x",
         "y": {
          "bdata": "m0YYg1ysBUA=",
          "dtype": "f8"
         },
         "yaxis": "y"
        },
        {
         "customdata": [
          [
           "EBM"
          ]
         ],
         "hovertemplate": "style=%{customdata[0]}<br>Genre=%{x}<br>Weight=%{y}<extra></extra>",
         "legendgroup": "EBM",
         "marker": {
          "color": "#19d3f3",
          "pattern": {
           "shape": ""
          }
         },
         "name": "EBM",
         "orientation": "v",
         "showlegend": true,
         "textposition": "auto",
         "type": "bar",
         "x": [
          "Electronic"
         ],
         "xaxis": "x",
         "y": {
          "bdata": "Ua0BZlmSBUA=",
          "dtype": "f8"
         },
         "yaxis": "y"
        },
        {
         "customdata": [
          [
           "Garage House"
          ]
         ],
         "hovertemplate": "style=%{customdata[0]}<br>Genre=%{x}<br>Weight=%{y}<extra></extra>",
         "legendgroup": "Garage House",
         "marker": {
          "color": "#FF6692",
          "pattern": {
           "shape": ""
          }
         },
         "name": "Garage House",
         "orientation": "v",
         "showlegend": true,
         "textposition": "auto",
         "type": "bar",
         "x": [
          "Electronic"
         ],
         "xaxis": "x",
         "y": {
          "bdata": "j42eHUvTBEA=",
          "dtype": "f8"
         },
         "yaxis": "y"
        },
        {
         "customdata": [
          [
           "Hip-House"
          ]
         ],
         "hovertemplate": "style=%{customdata[0]}<br>Genre=%{x}<br>Weight=%{y}<extra></extra>",
         "legendgroup": "Hip-House",
         "marker": {
          "color": "#B6E880",
          "pattern": {
           "shape": ""
          }
         },
         "name": "Hip-House",
         "orientation": "v",
         "showlegend": true,
         "textposition": "auto",
         "type": "bar",
         "x": [
          "Electronic"
         ],
         "xaxis": "x",
         "y": {
          "bdata": "X2D5/PugBEA=",
          "dtype": "f8"
         },
         "yaxis": "y"
        },
        {
         "customdata": [
          [
           "Eurobeat"
          ]
         ],
         "hovertemplate": "style=%{customdata[0]}<br>Genre=%{x}<br>Weight=%{y}<extra></extra>",
         "legendgroup": "Eurobeat",
         "marker": {
          "color": "#FF97FF",
          "pattern": {
           "shape": ""
          }
         },
         "name": "Eurobeat",
         "orientation": "v",
         "showlegend": true,
         "textposition": "auto",
         "type": "bar",
         "x": [
          "Electronic"
         ],
         "xaxis": "x",
         "y": {
          "bdata": "1EodkMMlBEA=",
          "dtype": "f8"
         },
         "yaxis": "y"
        },
        {
         "customdata": [
          [
           "Juke"
          ]
         ],
         "hovertemplate": "style=%{customdata[0]}<br>Genre=%{x}<br>Weight=%{y}<extra></extra>",
         "legendgroup": "Juke",
         "marker": {
          "color": "#FECB52",
          "pattern": {
           "shape": ""
          }
         },
         "name": "Juke",
         "orientation": "v",
         "showlegend": true,
         "textposition": "auto",
         "type": "bar",
         "x": [
          "Electronic"
         ],
         "xaxis": "x",
         "y": {
          "bdata": "FBMVtzEHBEA=",
          "dtype": "f8"
         },
         "yaxis": "y"
        },
        {
         "customdata": [
          [
           "Deep Techno"
          ]
         ],
         "hovertemplate": "style=%{customdata[0]}<br>Genre=%{x}<br>Weight=%{y}<extra></extra>",
         "legendgroup": "Deep Techno",
         "marker": {
          "color": "#636efa",
          "pattern": {
           "shape": ""
          }
         },
         "name": "Deep Techno",
         "orientation": "v",
         "showlegend": true,
         "textposition": "auto",
         "type": "bar",
         "x": [
          "Electronic"
         ],
         "xaxis": "x",
         "y": {
          "bdata": "BVqQPU7yA0A=",
          "dtype": "f8"
         },
         "yaxis": "y"
        },
        {
         "customdata": [
          [
           "Jungle"
          ]
         ],
         "hovertemplate": "style=%{customdata[0]}<br>Genre=%{x}<br>Weight=%{y}<extra></extra>",
         "legendgroup": "Jungle",
         "marker": {
          "color": "#EF553B",
          "pattern": {
           "shape": ""
          }
         },
         "name": "Jungle",
         "orientation": "v",
         "showlegend": true,
         "textposition": "auto",
         "type": "bar",
         "x": [
          "Electronic"
         ],
         "xaxis": "x",
         "y": {
          "bdata": "C1EATAk+A0A=",
          "dtype": "f8"
         },
         "yaxis": "y"
        },
        {
         "customdata": [
          [
           "Goa Trance"
          ]
         ],
         "hovertemplate": "style=%{customdata[0]}<br>Genre=%{x}<br>Weight=%{y}<extra></extra>",
         "legendgroup": "Goa Trance",
         "marker": {
          "color": "#00cc96",
          "pattern": {
           "shape": ""
          }
         },
         "name": "Goa Trance",
         "orientation": "v",
         "showlegend": true,
         "textposition": "auto",
         "type": "bar",
         "x": [
          "Electronic"
         ],
         "xaxis": "x",
         "y": {
          "bdata": "b+i+ovLYAkA=",
          "dtype": "f8"
         },
         "yaxis": "y"
        },
        {
         "customdata": [
          [
           "Progressive Breaks"
          ]
         ],
         "hovertemplate": "style=%{customdata[0]}<br>Genre=%{x}<br>Weight=%{y}<extra></extra>",
         "legendgroup": "Progressive Breaks",
         "marker": {
          "color": "#ab63fa",
          "pattern": {
           "shape": ""
          }
         },
         "name": "Progressive Breaks",
         "orientation": "v",
         "showlegend": true,
         "textposition": "auto",
         "type": "bar",
         "x": [
          "Electronic"
         ],
         "xaxis": "x",
         "y": {
          "bdata": "IxekrUS4AkA=",
          "dtype": "f8"
         },
         "yaxis": "y"
        },
        {
         "customdata": [
          [
           "Hi NRG"
          ]
         ],
         "hovertemplate": "style=%{customdata[0]}<br>Genre=%{x}<br>Weight=%{y}<extra></extra>",
         "legendgroup": "Hi NRG",
         "marker": {
          "color": "#FFA15A",
          "pattern": {
           "shape": ""
          }
         },
         "name": "Hi NRG",
         "orientation": "v",
         "showlegend": true,
         "textposition": "auto",
         "type": "bar",
         "x": [
          "Electronic"
         ],
         "xaxis": "x",
         "y": {
          "bdata": "tl4yDj0iAkA=",
          "dtype": "f8"
         },
         "yaxis": "y"
        },
        {
         "customdata": [
          [
           "Dungeon Synth"
          ]
         ],
         "hovertemplate": "style=%{customdata[0]}<br>Genre=%{x}<br>Weight=%{y}<extra></extra>",
         "legendgroup": "Dungeon Synth",
         "marker": {
          "color": "#19d3f3",
          "pattern": {
           "shape": ""
          }
         },
         "name": "Dungeon Synth",
         "orientation": "v",
         "showlegend": true,
         "textposition": "auto",
         "type": "bar",
         "x": [
          "Electronic"
         ],
         "xaxis": "x",
         "y": {
          "bdata": "ad2wjtazAUA=",
          "dtype": "f8"
         },
         "yaxis": "y"
        },
        {
         "customdata": [
          [
           "Jumpstyle"
          ]
         ],
         "hovertemplate": "style=%{customdata[0]}<br>Genre=%{x}<br>Weight=%{y}<extra></extra>",
         "legendgroup": "Jumpstyle",
         "marker": {
          "color": "#FF6692",
          "pattern": {
           "shape": ""
          }
         },
         "name": "Jumpstyle",
         "orientation": "v",
         "showlegend": true,
         "textposition": "auto",
         "type": "bar",
         "x": [
          "Electronic"
         ],
         "xaxis": "x",
         "y": {
          "bdata": "uwL0yC7V/z8=",
          "dtype": "f8"
         },
         "yaxis": "y"
        },
        {
         "customdata": [
          [
           "Beatdown"
          ]
         ],
         "hovertemplate": "style=%{customdata[0]}<br>Genre=%{x}<br>Weight=%{y}<extra></extra>",
         "legendgroup": "Beatdown",
         "marker": {
          "color": "#B6E880",
          "pattern": {
           "shape": ""
          }
         },
         "name": "Beatdown",
         "orientation": "v",
         "showlegend": true,
         "textposition": "auto",
         "type": "bar",
         "x": [
          "Electronic"
         ],
         "xaxis": "x",
         "y": {
          "bdata": "y8RsmgUO/T8=",
          "dtype": "f8"
         },
         "yaxis": "y"
        },
        {
         "customdata": [
          [
           "Breakcore"
          ]
         ],
         "hovertemplate": "style=%{customdata[0]}<br>Genre=%{x}<br>Weight=%{y}<extra></extra>",
         "legendgroup": "Breakcore",
         "marker": {
          "color": "#FF97FF",
          "pattern": {
           "shape": ""
          }
         },
         "name": "Breakcore",
         "orientation": "v",
         "showlegend": true,
         "textposition": "auto",
         "type": "bar",
         "x": [
          "Electronic"
         ],
         "xaxis": "x",
         "y": {
          "bdata": "DOhxCJe4/D8=",
          "dtype": "f8"
         },
         "yaxis": "y"
        },
        {
         "customdata": [
          [
           "Gabber"
          ]
         ],
         "hovertemplate": "style=%{customdata[0]}<br>Genre=%{x}<br>Weight=%{y}<extra></extra>",
         "legendgroup": "Gabber",
         "marker": {
          "color": "#FECB52",
          "pattern": {
           "shape": ""
          }
         },
         "name": "Gabber",
         "orientation": "v",
         "showlegend": true,
         "textposition": "auto",
         "type": "bar",
         "x": [
          "Electronic"
         ],
         "xaxis": "x",
         "y": {
          "bdata": "MeEULZhN/D8=",
          "dtype": "f8"
         },
         "yaxis": "y"
        },
        {
         "customdata": [
          [
           "Electroclash"
          ]
         ],
         "hovertemplate": "style=%{customdata[0]}<br>Genre=%{x}<br>Weight=%{y}<extra></extra>",
         "legendgroup": "Electroclash",
         "marker": {
          "color": "#636efa",
          "pattern": {
           "shape": ""
          }
         },
         "name": "Electroclash",
         "orientation": "v",
         "showlegend": true,
         "textposition": "auto",
         "type": "bar",
         "x": [
          "Electronic"
         ],
         "xaxis": "x",
         "y": {
          "bdata": "oDvSxRLF+j8=",
          "dtype": "f8"
         },
         "yaxis": "y"
        },
        {
         "customdata": [
          [
           "Speed Garage"
          ]
         ],
         "hovertemplate": "style=%{customdata[0]}<br>Genre=%{x}<br>Weight=%{y}<extra></extra>",
         "legendgroup": "Speed Garage",
         "marker": {
          "color": "#EF553B",
          "pattern": {
           "shape": ""
          }
         },
         "name": "Speed Garage",
         "orientation": "v",
         "showlegend": true,
         "textposition": "auto",
         "type": "bar",
         "x": [
          "Electronic"
         ],
         "xaxis": "x",
         "y": {
          "bdata": "I2JLy9aa+j8=",
          "dtype": "f8"
         },
         "yaxis": "y"
        },
        {
         "customdata": [
          [
           "Acid"
          ]
         ],
         "hovertemplate": "style=%{customdata[0]}<br>Genre=%{x}<br>Weight=%{y}<extra></extra>",
         "legendgroup": "Acid",
         "marker": {
          "color": "#00cc96",
          "pattern": {
           "shape": ""
          }
         },
         "name": "Acid",
         "orientation": "v",
         "showlegend": true,
         "textposition": "auto",
         "type": "bar",
         "x": [
          "Electronic"
         ],
         "xaxis": "x",
         "y": {
          "bdata": "UM0ILzCG+j8=",
          "dtype": "f8"
         },
         "yaxis": "y"
        },
        {
         "customdata": [
          [
           "Ghetto"
          ]
         ],
         "hovertemplate": "style=%{customdata[0]}<br>Genre=%{x}<br>Weight=%{y}<extra></extra>",
         "legendgroup": "Ghetto",
         "marker": {
          "color": "#ab63fa",
          "pattern": {
           "shape": ""
          }
         },
         "name": "Ghetto",
         "orientation": "v",
         "showlegend": true,
         "textposition": "auto",
         "type": "bar",
         "x": [
          "Electronic"
         ],
         "xaxis": "x",
         "y": {
          "bdata": "K8WfDFHd+T8=",
          "dtype": "f8"
         },
         "yaxis": "y"
        },
        {
         "customdata": [
          [
           "New Beat"
          ]
         ],
         "hovertemplate": "style=%{customdata[0]}<br>Genre=%{x}<br>Weight=%{y}<extra></extra>",
         "legendgroup": "New Beat",
         "marker": {
          "color": "#FFA15A",
          "pattern": {
           "shape": ""
          }
         },
         "name": "New Beat",
         "orientation": "v",
         "showlegend": true,
         "textposition": "auto",
         "type": "bar",
         "x": [
          "Electronic"
         ],
         "xaxis": "x",
         "y": {
          "bdata": "CIu3zSh9+T8=",
          "dtype": "f8"
         },
         "yaxis": "y"
        },
        {
         "customdata": [
          [
           "Italo House"
          ]
         ],
         "hovertemplate": "style=%{customdata[0]}<br>Genre=%{x}<br>Weight=%{y}<extra></extra>",
         "legendgroup": "Italo House",
         "marker": {
          "color": "#19d3f3",
          "pattern": {
           "shape": ""
          }
         },
         "name": "Italo House",
         "orientation": "v",
         "showlegend": true,
         "textposition": "auto",
         "type": "bar",
         "x": [
          "Electronic"
         ],
         "xaxis": "x",
         "y": {
          "bdata": "wnTE9wV7+T8=",
          "dtype": "f8"
         },
         "yaxis": "y"
        },
        {
         "customdata": [
          [
           "Speedcore"
          ]
         ],
         "hovertemplate": "style=%{customdata[0]}<br>Genre=%{x}<br>Weight=%{y}<extra></extra>",
         "legendgroup": "Speedcore",
         "marker": {
          "color": "#FF6692",
          "pattern": {
           "shape": ""
          }
         },
         "name": "Speedcore",
         "orientation": "v",
         "showlegend": true,
         "textposition": "auto",
         "type": "bar",
         "x": [
          "Electronic"
         ],
         "xaxis": "x",
         "y": {
          "bdata": "RZrUahBU+T8=",
          "dtype": "f8"
         },
         "yaxis": "y"
        },
        {
         "customdata": [
          [
           "Dub Techno"
          ]
         ],
         "hovertemplate": "style=%{customdata[0]}<br>Genre=%{x}<br>Weight=%{y}<extra></extra>",
         "legendgroup": "Dub Techno",
         "marker": {
          "color": "#B6E880",
          "pattern": {
           "shape": ""
          }
         },
         "name": "Dub Techno",
         "orientation": "v",
         "showlegend": true,
         "textposition": "auto",
         "type": "bar",
         "x": [
          "Electronic"
         ],
         "xaxis": "x",
         "y": {
          "bdata": "5OtZif/++D8=",
          "dtype": "f8"
         },
         "yaxis": "y"
        },
        {
         "customdata": [
          [
           "Acid House"
          ]
         ],
         "hovertemplate": "style=%{customdata[0]}<br>Genre=%{x}<br>Weight=%{y}<extra></extra>",
         "legendgroup": "Acid House",
         "marker": {
          "color": "#FF97FF",
          "pattern": {
           "shape": ""
          }
         },
         "name": "Acid House",
         "orientation": "v",
         "showlegend": true,
         "textposition": "auto",
         "type": "bar",
         "x": [
          "Electronic"
         ],
         "xaxis": "x",
         "y": {
          "bdata": "7b0OqykK9z8=",
          "dtype": "f8"
         },
         "yaxis": "y"
        },
        {
         "customdata": [
          [
           "Hard House"
          ]
         ],
         "hovertemplate": "style=%{customdata[0]}<br>Genre=%{x}<br>Weight=%{y}<extra></extra>",
         "legendgroup": "Hard House",
         "marker": {
          "color": "#FECB52",
          "pattern": {
           "shape": ""
          }
         },
         "name": "Hard House",
         "orientation": "v",
         "showlegend": true,
         "textposition": "auto",
         "type": "bar",
         "x": [
          "Electronic"
         ],
         "xaxis": "x",
         "y": {
          "bdata": "KySCVcn29T8=",
          "dtype": "f8"
         },
         "yaxis": "y"
        },
        {
         "customdata": [
          [
           "Sound Collage"
          ]
         ],
         "hovertemplate": "style=%{customdata[0]}<br>Genre=%{x}<br>Weight=%{y}<extra></extra>",
         "legendgroup": "Sound Collage",
         "marker": {
          "color": "#636efa",
          "pattern": {
           "shape": ""
          }
         },
         "name": "Sound Collage",
         "orientation": "v",
         "showlegend": true,
         "textposition": "auto",
         "type": "bar",
         "x": [
          "Electronic"
         ],
         "xaxis": "x",
         "y": {
          "bdata": "/i3Z/USt9T8=",
          "dtype": "f8"
         },
         "yaxis": "y"
        },
        {
         "customdata": [
          [
           "Illbient"
          ]
         ],
         "hovertemplate": "style=%{customdata[0]}<br>Genre=%{x}<br>Weight=%{y}<extra></extra>",
         "legendgroup": "Illbient",
         "marker": {
          "color": "#EF553B",
          "pattern": {
           "shape": ""
          }
         },
         "name": "Illbient",
         "orientation": "v",
         "showlegend": true,
         "textposition": "auto",
         "type": "bar",
         "x": [
          "Electronic"
         ],
         "xaxis": "x",
         "y": {
          "bdata": "hZkH9aKa9D8=",
          "dtype": "f8"
         },
         "yaxis": "y"
        },
        {
         "customdata": [
          [
           "Musique Concrète"
          ]
         ],
         "hovertemplate": "style=%{customdata[0]}<br>Genre=%{x}<br>Weight=%{y}<extra></extra>",
         "legendgroup": "Musique Concrète",
         "marker": {
          "color": "#00cc96",
          "pattern": {
           "shape": ""
          }
         },
         "name": "Musique Concrète",
         "orientation": "v",
         "showlegend": true,
         "textposition": "auto",
         "type": "bar",
         "x": [
          "Electronic"
         ],
         "xaxis": "x",
         "y": {
          "bdata": "mObCQEDk8z8=",
          "dtype": "f8"
         },
         "yaxis": "y"
        },
        {
         "customdata": [
          [
           "Rhythmic Noise"
          ]
         ],
         "hovertemplate": "style=%{customdata[0]}<br>Genre=%{x}<br>Weight=%{y}<extra></extra>",
         "legendgroup": "Rhythmic Noise",
         "marker": {
          "color": "#ab63fa",
          "pattern": {
           "shape": ""
          }
         },
         "name": "Rhythmic Noise",
         "orientation": "v",
         "showlegend": true,
         "textposition": "auto",
         "type": "bar",
         "x": [
          "Electronic"
         ],
         "xaxis": "x",
         "y": {
          "bdata": "Wy3zpACP8j8=",
          "dtype": "f8"
         },
         "yaxis": "y"
        },
        {
         "customdata": [
          [
           "Power Electronics"
          ]
         ],
         "hovertemplate": "style=%{customdata[0]}<br>Genre=%{x}<br>Weight=%{y}<extra></extra>",
         "legendgroup": "Power Electronics",
         "marker": {
          "color": "#FFA15A",
          "pattern": {
           "shape": ""
          }
         },
         "name": "Power Electronics",
         "orientation": "v",
         "showlegend": true,
         "textposition": "auto",
         "type": "bar",
         "x": [
          "Electronic"
         ],
         "xaxis": "x",
         "y": {
          "bdata": "2DulKwRV7z8=",
          "dtype": "f8"
         },
         "yaxis": "y"
        },
        {
         "customdata": [
          [
           "Donk"
          ]
         ],
         "hovertemplate": "style=%{customdata[0]}<br>Genre=%{x}<br>Weight=%{y}<extra></extra>",
         "legendgroup": "Donk",
         "marker": {
          "color": "#19d3f3",
          "pattern": {
           "shape": ""
          }
         },
         "name": "Donk",
         "orientation": "v",
         "showlegend": true,
         "textposition": "auto",
         "type": "bar",
         "x": [
          "Electronic"
         ],
         "xaxis": "x",
         "y": {
          "bdata": "AGRX0KGp7T8=",
          "dtype": "f8"
         },
         "yaxis": "y"
        },
        {
         "customdata": [
          [
           "Ghetto House"
          ]
         ],
         "hovertemplate": "style=%{customdata[0]}<br>Genre=%{x}<br>Weight=%{y}<extra></extra>",
         "legendgroup": "Ghetto House",
         "marker": {
          "color": "#FF6692",
          "pattern": {
           "shape": ""
          }
         },
         "name": "Ghetto House",
         "orientation": "v",
         "showlegend": true,
         "textposition": "auto",
         "type": "bar",
         "x": [
          "Electronic"
         ],
         "xaxis": "x",
         "y": {
          "bdata": "S6XElcXs7D8=",
          "dtype": "f8"
         },
         "yaxis": "y"
        },
        {
         "customdata": [
          [
           "Hard Techno"
          ]
         ],
         "hovertemplate": "style=%{customdata[0]}<br>Genre=%{x}<br>Weight=%{y}<extra></extra>",
         "legendgroup": "Hard Techno",
         "marker": {
          "color": "#B6E880",
          "pattern": {
           "shape": ""
          }
         },
         "name": "Hard Techno",
         "orientation": "v",
         "showlegend": true,
         "textposition": "auto",
         "type": "bar",
         "x": [
          "Electronic"
         ],
         "xaxis": "x",
         "y": {
          "bdata": "YsIikdRz6j8=",
          "dtype": "f8"
         },
         "yaxis": "y"
        },
        {
         "customdata": [
          [
           "Makina"
          ]
         ],
         "hovertemplate": "style=%{customdata[0]}<br>Genre=%{x}<br>Weight=%{y}<extra></extra>",
         "legendgroup": "Makina",
         "marker": {
          "color": "#FF97FF",
          "pattern": {
           "shape": ""
          }
         },
         "name": "Makina",
         "orientation": "v",
         "showlegend": true,
         "textposition": "auto",
         "type": "bar",
         "x": [
          "Electronic"
         ],
         "xaxis": "x",
         "y": {
          "bdata": "Xg1gS3QO6T8=",
          "dtype": "f8"
         },
         "yaxis": "y"
        },
        {
         "customdata": [
          [
           "Schranz"
          ]
         ],
         "hovertemplate": "style=%{customdata[0]}<br>Genre=%{x}<br>Weight=%{y}<extra></extra>",
         "legendgroup": "Schranz",
         "marker": {
          "color": "#FECB52",
          "pattern": {
           "shape": ""
          }
         },
         "name": "Schranz",
         "orientation": "v",
         "showlegend": true,
         "textposition": "auto",
         "type": "bar",
         "x": [
          "Electronic"
         ],
         "xaxis": "x",
         "y": {
          "bdata": "6BzOgm0B5j8=",
          "dtype": "f8"
         },
         "yaxis": "y"
        },
        {
         "customdata": [
          [
           "Bleep"
          ]
         ],
         "hovertemplate": "style=%{customdata[0]}<br>Genre=%{x}<br>Weight=%{y}<extra></extra>",
         "legendgroup": "Bleep",
         "marker": {
          "color": "#636efa",
          "pattern": {
           "shape": ""
          }
         },
         "name": "Bleep",
         "orientation": "v",
         "showlegend": true,
         "textposition": "auto",
         "type": "bar",
         "x": [
          "Electronic"
         ],
         "xaxis": "x",
         "y": {
          "bdata": "IuCnCIcq1D8=",
          "dtype": "f8"
         },
         "yaxis": "y"
        },
        {
         "customdata": [
          [
           "Trap"
          ]
         ],
         "hovertemplate": "style=%{customdata[0]}<br>Genre=%{x}<br>Weight=%{y}<extra></extra>",
         "legendgroup": "Trap",
         "marker": {
          "color": "#EF553B",
          "pattern": {
           "shape": ""
          }
         },
         "name": "Trap",
         "orientation": "v",
         "showlegend": true,
         "textposition": "auto",
         "type": "bar",
         "x": [
          "Hip Hop"
         ],
         "xaxis": "x",
         "y": {
          "bdata": "0LOg0JGTQEA=",
          "dtype": "f8"
         },
         "yaxis": "y"
        },
        {
         "customdata": [
          [
           "Cloud Rap"
          ]
         ],
         "hovertemplate": "style=%{customdata[0]}<br>Genre=%{x}<br>Weight=%{y}<extra></extra>",
         "legendgroup": "Cloud Rap",
         "marker": {
          "color": "#00cc96",
          "pattern": {
           "shape": ""
          }
         },
         "name": "Cloud Rap",
         "orientation": "v",
         "showlegend": true,
         "textposition": "auto",
         "type": "bar",
         "x": [
          "Hip Hop"
         ],
         "xaxis": "x",
         "y": {
          "bdata": "g9sqgTGiPUA=",
          "dtype": "f8"
         },
         "yaxis": "y"
        },
        {
         "customdata": [
          [
           "Gangsta"
          ]
         ],
         "hovertemplate": "style=%{customdata[0]}<br>Genre=%{x}<br>Weight=%{y}<extra></extra>",
         "legendgroup": "Gangsta",
         "marker": {
          "color": "#ab63fa",
          "pattern": {
           "shape": ""
          }
         },
         "name": "Gangsta",
         "orientation": "v",
         "showlegend": true,
         "textposition": "auto",
         "type": "bar",
         "x": [
          "Hip Hop"
         ],
         "xaxis": "x",
         "y": {
          "bdata": "HhrDQ8tEM0A=",
          "dtype": "f8"
         },
         "yaxis": "y"
        },
        {
         "customdata": [
          [
           "Hardcore Hip-Hop"
          ]
         ],
         "hovertemplate": "style=%{customdata[0]}<br>Genre=%{x}<br>Weight=%{y}<extra></extra>",
         "legendgroup": "Hardcore Hip-Hop",
         "marker": {
          "color": "#FFA15A",
          "pattern": {
           "shape": ""
          }
         },
         "name": "Hardcore Hip-Hop",
         "orientation": "v",
         "showlegend": true,
         "textposition": "auto",
         "type": "bar",
         "x": [
          "Hip Hop"
         ],
         "xaxis": "x",
         "y": {
          "bdata": "cHSnK3InMEA=",
          "dtype": "f8"
         },
         "yaxis": "y"
        },
        {
         "customdata": [
          [
           "Pop Rap"
          ]
         ],
         "hovertemplate": "style=%{customdata[0]}<br>Genre=%{x}<br>Weight=%{y}<extra></extra>",
         "legendgroup": "Pop Rap",
         "marker": {
          "color": "#19d3f3",
          "pattern": {
           "shape": ""
          }
         },
         "name": "Pop Rap",
         "orientation": "v",
         "showlegend": true,
         "textposition": "auto",
         "type": "bar",
         "x": [
          "Hip Hop"
         ],
         "xaxis": "x",
         "y": {
          "bdata": "NHnZtp2GK0A=",
          "dtype": "f8"
         },
         "yaxis": "y"
        },
        {
         "customdata": [
          [
           "Boom Bap"
          ]
         ],
         "hovertemplate": "style=%{customdata[0]}<br>Genre=%{x}<br>Weight=%{y}<extra></extra>",
         "legendgroup": "Boom Bap",
         "marker": {
          "color": "#FF6692",
          "pattern": {
           "shape": ""
          }
         },
         "name": "Boom Bap",
         "orientation": "v",
         "showlegend": true,
         "textposition": "auto",
         "type": "bar",
         "x": [
          "Hip Hop"
         ],
         "xaxis": "x",
         "y": {
          "bdata": "e4hOe5unKUA=",
          "dtype": "f8"
         },
         "yaxis": "y"
        },
        {
         "customdata": [
          [
           "Conscious"
          ]
         ],
         "hovertemplate": "style=%{customdata[0]}<br>Genre=%{x}<br>Weight=%{y}<extra></extra>",
         "legendgroup": "Conscious",
         "marker": {
          "color": "#B6E880",
          "pattern": {
           "shape": ""
          }
         },
         "name": "Conscious",
         "orientation": "v",
         "showlegend": true,
         "textposition": "auto",
         "type": "bar",
         "x": [
          "Hip Hop"
         ],
         "xaxis": "x",
         "y": {
          "bdata": "tEhOPTWXKUA=",
          "dtype": "f8"
         },
         "yaxis": "y"
        },
        {
         "customdata": [
          [
           "RnB/Swing"
          ]
         ],
         "hovertemplate": "style=%{customdata[0]}<br>Genre=%{x}<br>Weight=%{y}<extra></extra>",
         "legendgroup": "RnB/Swing",
         "marker": {
          "color": "#FF97FF",
          "pattern": {
           "shape": ""
          }
         },
         "name": "RnB/Swing",
         "orientation": "v",
         "showlegend": true,
         "textposition": "auto",
         "type": "bar",
         "x": [
          "Hip Hop"
         ],
         "xaxis": "x",
         "y": {
          "bdata": "F73G/sOYJkA=",
          "dtype": "f8"
         },
         "yaxis": "y"
        },
        {
         "customdata": [
          [
           "Horrorcore"
          ]
         ],
         "hovertemplate": "style=%{customdata[0]}<br>Genre=%{x}<br>Weight=%{y}<extra></extra>",
         "legendgroup": "Horrorcore",
         "marker": {
          "color": "#FECB52",
          "pattern": {
           "shape": ""
          }
         },
         "name": "Horrorcore",
         "orientation": "v",
         "showlegend": true,
         "textposition": "auto",
         "type": "bar",
         "x": [
          "Hip Hop"
         ],
         "xaxis": "x",
         "y": {
          "bdata": "meJ6XT1iJkA=",
          "dtype": "f8"
         },
         "yaxis": "y"
        },
        {
         "customdata": [
          [
           "Jazzy Hip-Hop"
          ]
         ],
         "hovertemplate": "style=%{customdata[0]}<br>Genre=%{x}<br>Weight=%{y}<extra></extra>",
         "legendgroup": "Jazzy Hip-Hop",
         "marker": {
          "color": "#636efa",
          "pattern": {
           "shape": ""
          }
         },
         "name": "Jazzy Hip-Hop",
         "orientation": "v",
         "showlegend": true,
         "textposition": "auto",
         "type": "bar",
         "x": [
          "Hip Hop"
         ],
         "xaxis": "x",
         "y": {
          "bdata": "lOrSkAtnIUA=",
          "dtype": "f8"
         },
         "yaxis": "y"
        },
        {
         "customdata": [
          [
           "Instrumental"
          ]
         ],
         "hovertemplate": "style=%{customdata[0]}<br>Genre=%{x}<br>Weight=%{y}<extra></extra>",
         "legendgroup": "Instrumental",
         "marker": {
          "color": "#EF553B",
          "pattern": {
           "shape": ""
          }
         },
         "name": "Instrumental",
         "orientation": "v",
         "showlegend": true,
         "textposition": "auto",
         "type": "bar",
         "x": [
          "Hip Hop"
         ],
         "xaxis": "x",
         "y": {
          "bdata": "foSl9TYtIEA=",
          "dtype": "f8"
         },
         "yaxis": "y"
        },
        {
         "customdata": [
          [
           "Bounce"
          ]
         ],
         "hovertemplate": "style=%{customdata[0]}<br>Genre=%{x}<br>Weight=%{y}<extra></extra>",
         "legendgroup": "Bounce",
         "marker": {
          "color": "#00cc96",
          "pattern": {
           "shape": ""
          }
         },
         "name": "Bounce",
         "orientation": "v",
         "showlegend": true,
         "textposition": "auto",
         "type": "bar",
         "x": [
          "Hip Hop"
         ],
         "xaxis": "x",
         "y": {
          "bdata": "3JPLzHv8H0A=",
          "dtype": "f8"
         },
         "yaxis": "y"
        },
        {
         "customdata": [
          [
           "Thug Rap"
          ]
         ],
         "hovertemplate": "style=%{customdata[0]}<br>Genre=%{x}<br>Weight=%{y}<extra></extra>",
         "legendgroup": "Thug Rap",
         "marker": {
          "color": "#ab63fa",
          "pattern": {
           "shape": ""
          }
         },
         "name": "Thug Rap",
         "orientation": "v",
         "showlegend": true,
         "textposition": "auto",
         "type": "bar",
         "x": [
          "Hip Hop"
         ],
         "xaxis": "x",
         "y": {
          "bdata": "5Ox2epFnHkA=",
          "dtype": "f8"
         },
         "yaxis": "y"
        },
        {
         "customdata": [
          [
           "Ragga HipHop"
          ]
         ],
         "hovertemplate": "style=%{customdata[0]}<br>Genre=%{x}<br>Weight=%{y}<extra></extra>",
         "legendgroup": "Ragga HipHop",
         "marker": {
          "color": "#FFA15A",
          "pattern": {
           "shape": ""
          }
         },
         "name": "Ragga HipHop",
         "orientation": "v",
         "showlegend": true,
         "textposition": "auto",
         "type": "bar",
         "x": [
          "Hip Hop"
         ],
         "xaxis": "x",
         "y": {
          "bdata": "L/EsscZeHkA=",
          "dtype": "f8"
         },
         "yaxis": "y"
        },
        {
         "customdata": [
          [
           "Crunk"
          ]
         ],
         "hovertemplate": "style=%{customdata[0]}<br>Genre=%{x}<br>Weight=%{y}<extra></extra>",
         "legendgroup": "Crunk",
         "marker": {
          "color": "#19d3f3",
          "pattern": {
           "shape": ""
          }
         },
         "name": "Crunk",
         "orientation": "v",
         "showlegend": true,
         "textposition": "auto",
         "type": "bar",
         "x": [
          "Hip Hop"
         ],
         "xaxis": "x",
         "y": {
          "bdata": "cs0PHzE7HEA=",
          "dtype": "f8"
         },
         "yaxis": "y"
        },
        {
         "customdata": [
          [
           "G-Funk"
          ]
         ],
         "hovertemplate": "style=%{customdata[0]}<br>Genre=%{x}<br>Weight=%{y}<extra></extra>",
         "legendgroup": "G-Funk",
         "marker": {
          "color": "#FF6692",
          "pattern": {
           "shape": ""
          }
         },
         "name": "G-Funk",
         "orientation": "v",
         "showlegend": true,
         "textposition": "auto",
         "type": "bar",
         "x": [
          "Hip Hop"
         ],
         "xaxis": "x",
         "y": {
          "bdata": "l/PabdlNGEA=",
          "dtype": "f8"
         },
         "yaxis": "y"
        },
        {
         "customdata": [
          [
           "Screw"
          ]
         ],
         "hovertemplate": "style=%{customdata[0]}<br>Genre=%{x}<br>Weight=%{y}<extra></extra>",
         "legendgroup": "Screw",
         "marker": {
          "color": "#B6E880",
          "pattern": {
           "shape": ""
          }
         },
         "name": "Screw",
         "orientation": "v",
         "showlegend": true,
         "textposition": "auto",
         "type": "bar",
         "x": [
          "Hip Hop"
         ],
         "xaxis": "x",
         "y": {
          "bdata": "rBdmIZtHFEA=",
          "dtype": "f8"
         },
         "yaxis": "y"
        },
        {
         "customdata": [
          [
           "Turntablism"
          ]
         ],
         "hovertemplate": "style=%{customdata[0]}<br>Genre=%{x}<br>Weight=%{y}<extra></extra>",
         "legendgroup": "Turntablism",
         "marker": {
          "color": "#FF97FF",
          "pattern": {
           "shape": ""
          }
         },
         "name": "Turntablism",
         "orientation": "v",
         "showlegend": true,
         "textposition": "auto",
         "type": "bar",
         "x": [
          "Hip Hop"
         ],
         "xaxis": "x",
         "y": {
          "bdata": "m5w9i1rlCkA=",
          "dtype": "f8"
         },
         "yaxis": "y"
        },
        {
         "customdata": [
          [
           "Bass Music"
          ]
         ],
         "hovertemplate": "style=%{customdata[0]}<br>Genre=%{x}<br>Weight=%{y}<extra></extra>",
         "legendgroup": "Bass Music",
         "marker": {
          "color": "#FECB52",
          "pattern": {
           "shape": ""
          }
         },
         "name": "Bass Music",
         "orientation": "v",
         "showlegend": true,
         "textposition": "auto",
         "type": "bar",
         "x": [
          "Hip Hop"
         ],
         "xaxis": "x",
         "y": {
          "bdata": "1ScqJB/nBUA=",
          "dtype": "f8"
         },
         "yaxis": "y"
        },
        {
         "customdata": [
          [
           "Cut-up/DJ"
          ]
         ],
         "hovertemplate": "style=%{customdata[0]}<br>Genre=%{x}<br>Weight=%{y}<extra></extra>",
         "legendgroup": "Cut-up/DJ",
         "marker": {
          "color": "#636efa",
          "pattern": {
           "shape": ""
          }
         },
         "name": "Cut-up/DJ",
         "orientation": "v",
         "showlegend": true,
         "textposition": "auto",
         "type": "bar",
         "x": [
          "Hip Hop"
         ],
         "xaxis": "x",
         "y": {
          "bdata": "HjJ/Td56/j8=",
          "dtype": "f8"
         },
         "yaxis": "y"
        },
        {
         "customdata": [
          [
           "Britcore"
          ]
         ],
         "hovertemplate": "style=%{customdata[0]}<br>Genre=%{x}<br>Weight=%{y}<extra></extra>",
         "legendgroup": "Britcore",
         "marker": {
          "color": "#EF553B",
          "pattern": {
           "shape": ""
          }
         },
         "name": "Britcore",
         "orientation": "v",
         "showlegend": true,
         "textposition": "auto",
         "type": "bar",
         "x": [
          "Hip Hop"
         ],
         "xaxis": "x",
         "y": {
          "bdata": "v2Id/fTP9T8=",
          "dtype": "f8"
         },
         "yaxis": "y"
        },
        {
         "customdata": [
          [
           "DJ Battle Tool"
          ]
         ],
         "hovertemplate": "style=%{customdata[0]}<br>Genre=%{x}<br>Weight=%{y}<extra></extra>",
         "legendgroup": "DJ Battle Tool",
         "marker": {
          "color": "#00cc96",
          "pattern": {
           "shape": ""
          }
         },
         "name": "DJ Battle Tool",
         "orientation": "v",
         "showlegend": true,
         "textposition": "auto",
         "type": "bar",
         "x": [
          "Hip Hop"
         ],
         "xaxis": "x",
         "y": {
          "bdata": "39PfrNAV8j8=",
          "dtype": "f8"
         },
         "yaxis": "y"
        },
        {
         "customdata": [
          [
           "Miami Bass"
          ]
         ],
         "hovertemplate": "style=%{customdata[0]}<br>Genre=%{x}<br>Weight=%{y}<extra></extra>",
         "legendgroup": "Miami Bass",
         "marker": {
          "color": "#ab63fa",
          "pattern": {
           "shape": ""
          }
         },
         "name": "Miami Bass",
         "orientation": "v",
         "showlegend": true,
         "textposition": "auto",
         "type": "bar",
         "x": [
          "Hip Hop"
         ],
         "xaxis": "x",
         "y": {
          "bdata": "yvcZ8OL38T8=",
          "dtype": "f8"
         },
         "yaxis": "y"
        },
        {
         "customdata": [
          [
           "Folk"
          ]
         ],
         "hovertemplate": "style=%{customdata[0]}<br>Genre=%{x}<br>Weight=%{y}<extra></extra>",
         "legendgroup": "Folk",
         "marker": {
          "color": "#FFA15A",
          "pattern": {
           "shape": ""
          }
         },
         "name": "Folk",
         "orientation": "v",
         "showlegend": true,
         "textposition": "auto",
         "type": "bar",
         "x": [
          "Folk, World, & Country"
         ],
         "xaxis": "x",
         "y": {
          "bdata": "3XDiRcuEQUA=",
          "dtype": "f8"
         },
         "yaxis": "y"
        },
        {
         "customdata": [
          [
           "African"
          ]
         ],
         "hovertemplate": "style=%{customdata[0]}<br>Genre=%{x}<br>Weight=%{y}<extra></extra>",
         "legendgroup": "African",
         "marker": {
          "color": "#19d3f3",
          "pattern": {
           "shape": ""
          }
         },
         "name": "African",
         "orientation": "v",
         "showlegend": true,
         "textposition": "auto",
         "type": "bar",
         "x": [
          "Folk, World, & Country"
         ],
         "xaxis": "x",
         "y": {
          "bdata": "ik+5NvNAJEA=",
          "dtype": "f8"
         },
         "yaxis": "y"
        },
        {
         "customdata": [
          [
           "Laïkó"
          ]
         ],
         "hovertemplate": "style=%{customdata[0]}<br>Genre=%{x}<br>Weight=%{y}<extra></extra>",
         "legendgroup": "Laïkó",
         "marker": {
          "color": "#FF6692",
          "pattern": {
           "shape": ""
          }
         },
         "name": "Laïkó",
         "orientation": "v",
         "showlegend": true,
         "textposition": "auto",
         "type": "bar",
         "x": [
          "Folk, World, & Country"
         ],
         "xaxis": "x",
         "y": {
          "bdata": "srYEr6pEI0A=",
          "dtype": "f8"
         },
         "yaxis": "y"
        },
        {
         "customdata": [
          [
           "Celtic"
          ]
         ],
         "hovertemplate": "style=%{customdata[0]}<br>Genre=%{x}<br>Weight=%{y}<extra></extra>",
         "legendgroup": "Celtic",
         "marker": {
          "color": "#B6E880",
          "pattern": {
           "shape": ""
          }
         },
         "name": "Celtic",
         "orientation": "v",
         "showlegend": true,
         "textposition": "auto",
         "type": "bar",
         "x": [
          "Folk, World, & Country"
         ],
         "xaxis": "x",
         "y": {
          "bdata": "fHRooHyjIUA=",
          "dtype": "f8"
         },
         "yaxis": "y"
        },
        {
         "customdata": [
          [
           "Éntekhno"
          ]
         ],
         "hovertemplate": "style=%{customdata[0]}<br>Genre=%{x}<br>Weight=%{y}<extra></extra>",
         "legendgroup": "Éntekhno",
         "marker": {
          "color": "#FF97FF",
          "pattern": {
           "shape": ""
          }
         },
         "name": "Éntekhno",
         "orientation": "v",
         "showlegend": true,
         "textposition": "auto",
         "type": "bar",
         "x": [
          "Folk, World, & Country"
         ],
         "xaxis": "x",
         "y": {
          "bdata": "op//mEw7IEA=",
          "dtype": "f8"
         },
         "yaxis": "y"
        },
        {
         "customdata": [
          [
           "Country"
          ]
         ],
         "hovertemplate": "style=%{customdata[0]}<br>Genre=%{x}<br>Weight=%{y}<extra></extra>",
         "legendgroup": "Country",
         "marker": {
          "color": "#FECB52",
          "pattern": {
           "shape": ""
          }
         },
         "name": "Country",
         "orientation": "v",
         "showlegend": true,
         "textposition": "auto",
         "type": "bar",
         "x": [
          "Folk, World, & Country"
         ],
         "xaxis": "x",
         "y": {
          "bdata": "oDtELukWIEA=",
          "dtype": "f8"
         },
         "yaxis": "y"
        },
        {
         "customdata": [
          [
           "Bluegrass"
          ]
         ],
         "hovertemplate": "style=%{customdata[0]}<br>Genre=%{x}<br>Weight=%{y}<extra></extra>",
         "legendgroup": "Bluegrass",
         "marker": {
          "color": "#636efa",
          "pattern": {
           "shape": ""
          }
         },
         "name": "Bluegrass",
         "orientation": "v",
         "showlegend": true,
         "textposition": "auto",
         "type": "bar",
         "x": [
          "Folk, World, & Country"
         ],
         "xaxis": "x",
         "y": {
          "bdata": "0BuwhWMDIEA=",
          "dtype": "f8"
         },
         "yaxis": "y"
        },
        {
         "customdata": [
          [
           "Flamenco"
          ]
         ],
         "hovertemplate": "style=%{customdata[0]}<br>Genre=%{x}<br>Weight=%{y}<extra></extra>",
         "legendgroup": "Flamenco",
         "marker": {
          "color": "#EF553B",
          "pattern": {
           "shape": ""
          }
         },
         "name": "Flamenco",
         "orientation": "v",
         "showlegend": true,
         "textposition": "auto",
         "type": "bar",
         "x": [
          "Folk, World, & Country"
         ],
         "xaxis": "x",
         "y": {
          "bdata": "a+z7k+EQG0A=",
          "dtype": "f8"
         },
         "yaxis": "y"
        },
        {
         "customdata": [
          [
           "Gospel"
          ],
          [
           "Gospel"
          ]
         ],
         "hovertemplate": "style=%{customdata[0]}<br>Genre=%{x}<br>Weight=%{y}<extra></extra>",
         "legendgroup": "Gospel",
         "marker": {
          "color": "#00cc96",
          "pattern": {
           "shape": ""
          }
         },
         "name": "Gospel",
         "orientation": "v",
         "showlegend": true,
         "textposition": "auto",
         "type": "bar",
         "x": [
          "Folk, World, & Country",
          "Funk / Soul"
         ],
         "xaxis": "x",
         "y": {
          "bdata": "54xKoFL/GEDNDSLVKZsUQA==",
          "dtype": "f8"
         },
         "yaxis": "y"
        },
        {
         "customdata": [
          [
           "Indian Classical"
          ]
         ],
         "hovertemplate": "style=%{customdata[0]}<br>Genre=%{x}<br>Weight=%{y}<extra></extra>",
         "legendgroup": "Indian Classical",
         "marker": {
          "color": "#ab63fa",
          "pattern": {
           "shape": ""
          }
         },
         "name": "Indian Classical",
         "orientation": "v",
         "showlegend": true,
         "textposition": "auto",
         "type": "bar",
         "x": [
          "Folk, World, & Country"
         ],
         "xaxis": "x",
         "y": {
          "bdata": "68tnJbouF0A=",
          "dtype": "f8"
         },
         "yaxis": "y"
        },
        {
         "customdata": [
          [
           "Hindustani"
          ]
         ],
         "hovertemplate": "style=%{customdata[0]}<br>Genre=%{x}<br>Weight=%{y}<extra></extra>",
         "legendgroup": "Hindustani",
         "marker": {
          "color": "#FFA15A",
          "pattern": {
           "shape": ""
          }
         },
         "name": "Hindustani",
         "orientation": "v",
         "showlegend": true,
         "textposition": "auto",
         "type": "bar",
         "x": [
          "Folk, World, & Country"
         ],
         "xaxis": "x",
         "y": {
          "bdata": "uwb9Z4MKFUA=",
          "dtype": "f8"
         },
         "yaxis": "y"
        },
        {
         "customdata": [
          [
           "Soukous"
          ]
         ],
         "hovertemplate": "style=%{customdata[0]}<br>Genre=%{x}<br>Weight=%{y}<extra></extra>",
         "legendgroup": "Soukous",
         "marker": {
          "color": "#19d3f3",
          "pattern": {
           "shape": ""
          }
         },
         "name": "Soukous",
         "orientation": "v",
         "showlegend": true,
         "textposition": "auto",
         "type": "bar",
         "x": [
          "Folk, World, & Country"
         ],
         "xaxis": "x",
         "y": {
          "bdata": "B0V0yYEsEkA=",
          "dtype": "f8"
         },
         "yaxis": "y"
        },
        {
         "customdata": [
          [
           "Romani"
          ]
         ],
         "hovertemplate": "style=%{customdata[0]}<br>Genre=%{x}<br>Weight=%{y}<extra></extra>",
         "legendgroup": "Romani",
         "marker": {
          "color": "#FF6692",
          "pattern": {
           "shape": ""
          }
         },
         "name": "Romani",
         "orientation": "v",
         "showlegend": true,
         "textposition": "auto",
         "type": "bar",
         "x": [
          "Folk, World, & Country"
         ],
         "xaxis": "x",
         "y": {
          "bdata": "73RurizREUA=",
          "dtype": "f8"
         },
         "yaxis": "y"
        },
        {
         "customdata": [
          [
           "Zouk"
          ]
         ],
         "hovertemplate": "style=%{customdata[0]}<br>Genre=%{x}<br>Weight=%{y}<extra></extra>",
         "legendgroup": "Zouk",
         "marker": {
          "color": "#B6E880",
          "pattern": {
           "shape": ""
          }
         },
         "name": "Zouk",
         "orientation": "v",
         "showlegend": true,
         "textposition": "auto",
         "type": "bar",
         "x": [
          "Folk, World, & Country"
         ],
         "xaxis": "x",
         "y": {
          "bdata": "yWgMXXGSEUA=",
          "dtype": "f8"
         },
         "yaxis": "y"
        },
        {
         "customdata": [
          [
           "Polka"
          ]
         ],
         "hovertemplate": "style=%{customdata[0]}<br>Genre=%{x}<br>Weight=%{y}<extra></extra>",
         "legendgroup": "Polka",
         "marker": {
          "color": "#FF97FF",
          "pattern": {
           "shape": ""
          }
         },
         "name": "Polka",
         "orientation": "v",
         "showlegend": true,
         "textposition": "auto",
         "type": "bar",
         "x": [
          "Folk, World, & Country"
         ],
         "xaxis": "x",
         "y": {
          "bdata": "y5kTepjREEA=",
          "dtype": "f8"
         },
         "yaxis": "y"
        },
        {
         "customdata": [
          [
           "Canzone Napoletana"
          ]
         ],
         "hovertemplate": "style=%{customdata[0]}<br>Genre=%{x}<br>Weight=%{y}<extra></extra>",
         "legendgroup": "Canzone Napoletana",
         "marker": {
          "color": "#FECB52",
          "pattern": {
           "shape": ""
          }
         },
         "name": "Canzone Napoletana",
         "orientation": "v",
         "showlegend": true,
         "textposition": "auto",
         "type": "bar",
         "x": [
          "Folk, World, & Country"
         ],
         "xaxis": "x",
         "y": {
          "bdata": "pybKihC9CUA=",
          "dtype": "f8"
         },
         "yaxis": "y"
        },
        {
         "customdata": [
          [
           "Raï"
          ]
         ],
         "hovertemplate": "style=%{customdata[0]}<br>Genre=%{x}<br>Weight=%{y}<extra></extra>",
         "legendgroup": "Raï",
         "marker": {
          "color": "#636efa",
          "pattern": {
           "shape": ""
          }
         },
         "name": "Raï",
         "orientation": "v",
         "showlegend": true,
         "textposition": "auto",
         "type": "bar",
         "x": [
          "Folk, World, & Country"
         ],
         "xaxis": "x",
         "y": {
          "bdata": "dLvqJOMGB0A=",
          "dtype": "f8"
         },
         "yaxis": "y"
        },
        {
         "customdata": [
          [
           "Nordic"
          ]
         ],
         "hovertemplate": "style=%{customdata[0]}<br>Genre=%{x}<br>Weight=%{y}<extra></extra>",
         "legendgroup": "Nordic",
         "marker": {
          "color": "#EF553B",
          "pattern": {
           "shape": ""
          }
         },
         "name": "Nordic",
         "orientation": "v",
         "showlegend": true,
         "textposition": "auto",
         "type": "bar",
         "x": [
          "Folk, World, & Country"
         ],
         "xaxis": "x",
         "y": {
          "bdata": "16xAnDP2BEA=",
          "dtype": "f8"
         },
         "yaxis": "y"
        },
        {
         "customdata": [
          [
           "Fado"
          ]
         ],
         "hovertemplate": "style=%{customdata[0]}<br>Genre=%{x}<br>Weight=%{y}<extra></extra>",
         "legendgroup": "Fado",
         "marker": {
          "color": "#00cc96",
          "pattern": {
           "shape": ""
          }
         },
         "name": "Fado",
         "orientation": "v",
         "showlegend": true,
         "textposition": "auto",
         "type": "bar",
         "x": [
          "Folk, World, & Country"
         ],
         "xaxis": "x",
         "y": {
          "bdata": "QVit5BbLBEA=",
          "dtype": "f8"
         },
         "yaxis": "y"
        },
        {
         "customdata": [
          [
           "Honky Tonk"
          ]
         ],
         "hovertemplate": "style=%{customdata[0]}<br>Genre=%{x}<br>Weight=%{y}<extra></extra>",
         "legendgroup": "Honky Tonk",
         "marker": {
          "color": "#ab63fa",
          "pattern": {
           "shape": ""
          }
         },
         "name": "Honky Tonk",
         "orientation": "v",
         "showlegend": true,
         "textposition": "auto",
         "type": "bar",
         "x": [
          "Folk, World, & Country"
         ],
         "xaxis": "x",
         "y": {
          "bdata": "0CUI0++yBEA=",
          "dtype": "f8"
         },
         "yaxis": "y"
        },
        {
         "customdata": [
          [
           "Highlife"
          ]
         ],
         "hovertemplate": "style=%{customdata[0]}<br>Genre=%{x}<br>Weight=%{y}<extra></extra>",
         "legendgroup": "Highlife",
         "marker": {
          "color": "#FFA15A",
          "pattern": {
           "shape": ""
          }
         },
         "name": "Highlife",
         "orientation": "v",
         "showlegend": true,
         "textposition": "auto",
         "type": "bar",
         "x": [
          "Folk, World, & Country"
         ],
         "xaxis": "x",
         "y": {
          "bdata": "7acoa/U8AkA=",
          "dtype": "f8"
         },
         "yaxis": "y"
        },
        {
         "customdata": [
          [
           "Volksmusik"
          ]
         ],
         "hovertemplate": "style=%{customdata[0]}<br>Genre=%{x}<br>Weight=%{y}<extra></extra>",
         "legendgroup": "Volksmusik",
         "marker": {
          "color": "#19d3f3",
          "pattern": {
           "shape": ""
          }
         },
         "name": "Volksmusik",
         "orientation": "v",
         "showlegend": true,
         "textposition": "auto",
         "type": "bar",
         "x": [
          "Folk, World, & Country"
         ],
         "xaxis": "x",
         "y": {
          "bdata": "KzVR4GPoAUA=",
          "dtype": "f8"
         },
         "yaxis": "y"
        },
        {
         "customdata": [
          [
           "Pacific"
          ]
         ],
         "hovertemplate": "style=%{customdata[0]}<br>Genre=%{x}<br>Weight=%{y}<extra></extra>",
         "legendgroup": "Pacific",
         "marker": {
          "color": "#FF6692",
          "pattern": {
           "shape": ""
          }
         },
         "name": "Pacific",
         "orientation": "v",
         "showlegend": true,
         "textposition": "auto",
         "type": "bar",
         "x": [
          "Folk, World, & Country"
         ],
         "xaxis": "x",
         "y": {
          "bdata": "0GndugySAEA=",
          "dtype": "f8"
         },
         "yaxis": "y"
        },
        {
         "customdata": [
          [
           "Séga"
          ]
         ],
         "hovertemplate": "style=%{customdata[0]}<br>Genre=%{x}<br>Weight=%{y}<extra></extra>",
         "legendgroup": "Séga",
         "marker": {
          "color": "#B6E880",
          "pattern": {
           "shape": ""
          }
         },
         "name": "Séga",
         "orientation": "v",
         "showlegend": true,
         "textposition": "auto",
         "type": "bar",
         "x": [
          "Folk, World, & Country"
         ],
         "xaxis": "x",
         "y": {
          "bdata": "nOl8cNmO/D8=",
          "dtype": "f8"
         },
         "yaxis": "y"
        },
        {
         "customdata": [
          [
           "Catalan Music"
          ]
         ],
         "hovertemplate": "style=%{customdata[0]}<br>Genre=%{x}<br>Weight=%{y}<extra></extra>",
         "legendgroup": "Catalan Music",
         "marker": {
          "color": "#FF97FF",
          "pattern": {
           "shape": ""
          }
         },
         "name": "Catalan Music",
         "orientation": "v",
         "showlegend": true,
         "textposition": "auto",
         "type": "bar",
         "x": [
          "Folk, World, & Country"
         ],
         "xaxis": "x",
         "y": {
          "bdata": "YIQ9HSmE9T8=",
          "dtype": "f8"
         },
         "yaxis": "y"
        },
        {
         "customdata": [
          [
           "Cajun"
          ]
         ],
         "hovertemplate": "style=%{customdata[0]}<br>Genre=%{x}<br>Weight=%{y}<extra></extra>",
         "legendgroup": "Cajun",
         "marker": {
          "color": "#FECB52",
          "pattern": {
           "shape": ""
          }
         },
         "name": "Cajun",
         "orientation": "v",
         "showlegend": true,
         "textposition": "auto",
         "type": "bar",
         "x": [
          "Folk, World, & Country"
         ],
         "xaxis": "x",
         "y": {
          "bdata": "tKeRlAuQ6z8=",
          "dtype": "f8"
         },
         "yaxis": "y"
        },
        {
         "customdata": [
          [
           "Hillbilly"
          ]
         ],
         "hovertemplate": "style=%{customdata[0]}<br>Genre=%{x}<br>Weight=%{y}<extra></extra>",
         "legendgroup": "Hillbilly",
         "marker": {
          "color": "#636efa",
          "pattern": {
           "shape": ""
          }
         },
         "name": "Hillbilly",
         "orientation": "v",
         "showlegend": true,
         "textposition": "auto",
         "type": "bar",
         "x": [
          "Folk, World, & Country"
         ],
         "xaxis": "x",
         "y": {
          "bdata": "ZMlylLm94T8=",
          "dtype": "f8"
         },
         "yaxis": "y"
        },
        {
         "customdata": [
          [
           "Ballad"
          ]
         ],
         "hovertemplate": "style=%{customdata[0]}<br>Genre=%{x}<br>Weight=%{y}<extra></extra>",
         "legendgroup": "Ballad",
         "marker": {
          "color": "#EF553B",
          "pattern": {
           "shape": ""
          }
         },
         "name": "Ballad",
         "orientation": "v",
         "showlegend": true,
         "textposition": "auto",
         "type": "bar",
         "x": [
          "Pop"
         ],
         "xaxis": "x",
         "y": {
          "bdata": "0s+j6oA8OUA=",
          "dtype": "f8"
         },
         "yaxis": "y"
        },
        {
         "customdata": [
          [
           "Vocal"
          ]
         ],
         "hovertemplate": "style=%{customdata[0]}<br>Genre=%{x}<br>Weight=%{y}<extra></extra>",
         "legendgroup": "Vocal",
         "marker": {
          "color": "#00cc96",
          "pattern": {
           "shape": ""
          }
         },
         "name": "Vocal",
         "orientation": "v",
         "showlegend": true,
         "textposition": "auto",
         "type": "bar",
         "x": [
          "Pop"
         ],
         "xaxis": "x",
         "y": {
          "bdata": "0oYnFK/uNUA=",
          "dtype": "f8"
         },
         "yaxis": "y"
        },
        {
         "customdata": [
          [
           "K-pop"
          ]
         ],
         "hovertemplate": "style=%{customdata[0]}<br>Genre=%{x}<br>Weight=%{y}<extra></extra>",
         "legendgroup": "K-pop",
         "marker": {
          "color": "#ab63fa",
          "pattern": {
           "shape": ""
          }
         },
         "name": "K-pop",
         "orientation": "v",
         "showlegend": true,
         "textposition": "auto",
         "type": "bar",
         "x": [
          "Pop"
         ],
         "xaxis": "x",
         "y": {
          "bdata": "9s7ggmLYLEA=",
          "dtype": "f8"
         },
         "yaxis": "y"
        },
        {
         "customdata": [
          [
           "J-pop"
          ]
         ],
         "hovertemplate": "style=%{customdata[0]}<br>Genre=%{x}<br>Weight=%{y}<extra></extra>",
         "legendgroup": "J-pop",
         "marker": {
          "color": "#FFA15A",
          "pattern": {
           "shape": ""
          }
         },
         "name": "J-pop",
         "orientation": "v",
         "showlegend": true,
         "textposition": "auto",
         "type": "bar",
         "x": [
          "Pop"
         ],
         "xaxis": "x",
         "y": {
          "bdata": "9Htf+x6sK0A=",
          "dtype": "f8"
         },
         "yaxis": "y"
        },
        {
         "customdata": [
          [
           "Chanson"
          ]
         ],
         "hovertemplate": "style=%{customdata[0]}<br>Genre=%{x}<br>Weight=%{y}<extra></extra>",
         "legendgroup": "Chanson",
         "marker": {
          "color": "#19d3f3",
          "pattern": {
           "shape": ""
          }
         },
         "name": "Chanson",
         "orientation": "v",
         "showlegend": true,
         "textposition": "auto",
         "type": "bar",
         "x": [
          "Pop"
         ],
         "xaxis": "x",
         "y": {
          "bdata": "ssDh3Di8IEA=",
          "dtype": "f8"
         },
         "yaxis": "y"
        },
        {
         "customdata": [
          [
           "Indie Pop"
          ]
         ],
         "hovertemplate": "style=%{customdata[0]}<br>Genre=%{x}<br>Weight=%{y}<extra></extra>",
         "legendgroup": "Indie Pop",
         "marker": {
          "color": "#FF6692",
          "pattern": {
           "shape": ""
          }
         },
         "name": "Indie Pop",
         "orientation": "v",
         "showlegend": true,
         "textposition": "auto",
         "type": "bar",
         "x": [
          "Pop"
         ],
         "xaxis": "x",
         "y": {
          "bdata": "zIwq3/pwIEA=",
          "dtype": "f8"
         },
         "yaxis": "y"
        },
        {
         "customdata": [
          [
           "Europop"
          ]
         ],
         "hovertemplate": "style=%{customdata[0]}<br>Genre=%{x}<br>Weight=%{y}<extra></extra>",
         "legendgroup": "Europop",
         "marker": {
          "color": "#B6E880",
          "pattern": {
           "shape": ""
          }
         },
         "name": "Europop",
         "orientation": "v",
         "showlegend": true,
         "textposition": "auto",
         "type": "bar",
         "x": [
          "Pop"
         ],
         "xaxis": "x",
         "y": {
          "bdata": "8iONaeZFIEA=",
          "dtype": "f8"
         },
         "yaxis": "y"
        },
        {
         "customdata": [
          [
           "Bollywood"
          ]
         ],
         "hovertemplate": "style=%{customdata[0]}<br>Genre=%{x}<br>Weight=%{y}<extra></extra>",
         "legendgroup": "Bollywood",
         "marker": {
          "color": "#FF97FF",
          "pattern": {
           "shape": ""
          }
         },
         "name": "Bollywood",
         "orientation": "v",
         "showlegend": true,
         "textposition": "auto",
         "type": "bar",
         "x": [
          "Pop"
         ],
         "xaxis": "x",
         "y": {
          "bdata": "UtIcM1T+FEA=",
          "dtype": "f8"
         },
         "yaxis": "y"
        },
        {
         "customdata": [
          [
           "Bubblegum"
          ]
         ],
         "hovertemplate": "style=%{customdata[0]}<br>Genre=%{x}<br>Weight=%{y}<extra></extra>",
         "legendgroup": "Bubblegum",
         "marker": {
          "color": "#FECB52",
          "pattern": {
           "shape": ""
          }
         },
         "name": "Bubblegum",
         "orientation": "v",
         "showlegend": true,
         "textposition": "auto",
         "type": "bar",
         "x": [
          "Pop"
         ],
         "xaxis": "x",
         "y": {
          "bdata": "kFkBYA8IEUA=",
          "dtype": "f8"
         },
         "yaxis": "y"
        },
        {
         "customdata": [
          [
           "Light Music"
          ]
         ],
         "hovertemplate": "style=%{customdata[0]}<br>Genre=%{x}<br>Weight=%{y}<extra></extra>",
         "legendgroup": "Light Music",
         "marker": {
          "color": "#636efa",
          "pattern": {
           "shape": ""
          }
         },
         "name": "Light Music",
         "orientation": "v",
         "showlegend": true,
         "textposition": "auto",
         "type": "bar",
         "x": [
          "Pop"
         ],
         "xaxis": "x",
         "y": {
          "bdata": "tcFIHtmEEEA=",
          "dtype": "f8"
         },
         "yaxis": "y"
        },
        {
         "customdata": [
          [
           "Schlager"
          ]
         ],
         "hovertemplate": "style=%{customdata[0]}<br>Genre=%{x}<br>Weight=%{y}<extra></extra>",
         "legendgroup": "Schlager",
         "marker": {
          "color": "#EF553B",
          "pattern": {
           "shape": ""
          }
         },
         "name": "Schlager",
         "orientation": "v",
         "showlegend": true,
         "textposition": "auto",
         "type": "bar",
         "x": [
          "Pop"
         ],
         "xaxis": "x",
         "y": {
          "bdata": "dQ80HVXHD0A=",
          "dtype": "f8"
         },
         "yaxis": "y"
        },
        {
         "customdata": [
          [
           "Novelty"
          ]
         ],
         "hovertemplate": "style=%{customdata[0]}<br>Genre=%{x}<br>Weight=%{y}<extra></extra>",
         "legendgroup": "Novelty",
         "marker": {
          "color": "#00cc96",
          "pattern": {
           "shape": ""
          }
         },
         "name": "Novelty",
         "orientation": "v",
         "showlegend": true,
         "textposition": "auto",
         "type": "bar",
         "x": [
          "Pop"
         ],
         "xaxis": "x",
         "y": {
          "bdata": "KDO6ACL8CUA=",
          "dtype": "f8"
         },
         "yaxis": "y"
        },
        {
         "customdata": [
          [
           "Kayōkyoku"
          ]
         ],
         "hovertemplate": "style=%{customdata[0]}<br>Genre=%{x}<br>Weight=%{y}<extra></extra>",
         "legendgroup": "Kayōkyoku",
         "marker": {
          "color": "#ab63fa",
          "pattern": {
           "shape": ""
          }
         },
         "name": "Kayōkyoku",
         "orientation": "v",
         "showlegend": true,
         "textposition": "auto",
         "type": "bar",
         "x": [
          "Pop"
         ],
         "xaxis": "x",
         "y": {
          "bdata": "jFFykYr5BkA=",
          "dtype": "f8"
         },
         "yaxis": "y"
        },
        {
         "customdata": [
          [
           "City Pop"
          ]
         ],
         "hovertemplate": "style=%{customdata[0]}<br>Genre=%{x}<br>Weight=%{y}<extra></extra>",
         "legendgroup": "City Pop",
         "marker": {
          "color": "#FFA15A",
          "pattern": {
           "shape": ""
          }
         },
         "name": "City Pop",
         "orientation": "v",
         "showlegend": true,
         "textposition": "auto",
         "type": "bar",
         "x": [
          "Pop"
         ],
         "xaxis": "x",
         "y": {
          "bdata": "ypDhJN5q/z8=",
          "dtype": "f8"
         },
         "yaxis": "y"
        },
        {
         "customdata": [
          [
           "Music Hall"
          ]
         ],
         "hovertemplate": "style=%{customdata[0]}<br>Genre=%{x}<br>Weight=%{y}<extra></extra>",
         "legendgroup": "Music Hall",
         "marker": {
          "color": "#19d3f3",
          "pattern": {
           "shape": ""
          }
         },
         "name": "Music Hall",
         "orientation": "v",
         "showlegend": true,
         "textposition": "auto",
         "type": "bar",
         "x": [
          "Pop"
         ],
         "xaxis": "x",
         "y": {
          "bdata": "ehSz1fXB/j8=",
          "dtype": "f8"
         },
         "yaxis": "y"
        },
        {
         "customdata": [
          [
           "Reggaeton"
          ]
         ],
         "hovertemplate": "style=%{customdata[0]}<br>Genre=%{x}<br>Weight=%{y}<extra></extra>",
         "legendgroup": "Reggaeton",
         "marker": {
          "color": "#FF6692",
          "pattern": {
           "shape": ""
          }
         },
         "name": "Reggaeton",
         "orientation": "v",
         "showlegend": true,
         "textposition": "auto",
         "type": "bar",
         "x": [
          "Latin"
         ],
         "xaxis": "x",
         "y": {
          "bdata": "6uniCj8YMkA=",
          "dtype": "f8"
         },
         "yaxis": "y"
        },
        {
         "customdata": [
          [
           "Cumbia"
          ]
         ],
         "hovertemplate": "style=%{customdata[0]}<br>Genre=%{x}<br>Weight=%{y}<extra></extra>",
         "legendgroup": "Cumbia",
         "marker": {
          "color": "#B6E880",
          "pattern": {
           "shape": ""
          }
         },
         "name": "Cumbia",
         "orientation": "v",
         "showlegend": true,
         "textposition": "auto",
         "type": "bar",
         "x": [
          "Latin"
         ],
         "xaxis": "x",
         "y": {
          "bdata": "/GnWJ7TBIEA=",
          "dtype": "f8"
         },
         "yaxis": "y"
        },
        {
         "customdata": [
          [
           "Norteño"
          ]
         ],
         "hovertemplate": "style=%{customdata[0]}<br>Genre=%{x}<br>Weight=%{y}<extra></extra>",
         "legendgroup": "Norteño",
         "marker": {
          "color": "#FF97FF",
          "pattern": {
           "shape": ""
          }
         },
         "name": "Norteño",
         "orientation": "v",
         "showlegend": true,
         "textposition": "auto",
         "type": "bar",
         "x": [
          "Latin"
         ],
         "xaxis": "x",
         "y": {
          "bdata": "pfmdCWcZG0A=",
          "dtype": "f8"
         },
         "yaxis": "y"
        },
        {
         "customdata": [
          [
           "Nueva Cancion"
          ]
         ],
         "hovertemplate": "style=%{customdata[0]}<br>Genre=%{x}<br>Weight=%{y}<extra></extra>",
         "legendgroup": "Nueva Cancion",
         "marker": {
          "color": "#FECB52",
          "pattern": {
           "shape": ""
          }
         },
         "name": "Nueva Cancion",
         "orientation": "v",
         "showlegend": true,
         "textposition": "auto",
         "type": "bar",
         "x": [
          "Latin"
         ],
         "xaxis": "x",
         "y": {
          "bdata": "tfzbXZ5EGUA=",
          "dtype": "f8"
         },
         "yaxis": "y"
        },
        {
         "customdata": [
          [
           "Salsa"
          ]
         ],
         "hovertemplate": "style=%{customdata[0]}<br>Genre=%{x}<br>Weight=%{y}<extra></extra>",
         "legendgroup": "Salsa",
         "marker": {
          "color": "#636efa",
          "pattern": {
           "shape": ""
          }
         },
         "name": "Salsa",
         "orientation": "v",
         "showlegend": true,
         "textposition": "auto",
         "type": "bar",
         "x": [
          "Latin"
         ],
         "xaxis": "x",
         "y": {
          "bdata": "zRx9us00FkA=",
          "dtype": "f8"
         },
         "yaxis": "y"
        },
        {
         "customdata": [
          [
           "Ranchera"
          ]
         ],
         "hovertemplate": "style=%{customdata[0]}<br>Genre=%{x}<br>Weight=%{y}<extra></extra>",
         "legendgroup": "Ranchera",
         "marker": {
          "color": "#EF553B",
          "pattern": {
           "shape": ""
          }
         },
         "name": "Ranchera",
         "orientation": "v",
         "showlegend": true,
         "textposition": "auto",
         "type": "bar",
         "x": [
          "Latin"
         ],
         "xaxis": "x",
         "y": {
          "bdata": "u3mc0BU8EkA=",
          "dtype": "f8"
         },
         "yaxis": "y"
        },
        {
         "customdata": [
          [
           "Tango"
          ]
         ],
         "hovertemplate": "style=%{customdata[0]}<br>Genre=%{x}<br>Weight=%{y}<extra></extra>",
         "legendgroup": "Tango",
         "marker": {
          "color": "#00cc96",
          "pattern": {
           "shape": ""
          }
         },
         "name": "Tango",
         "orientation": "v",
         "showlegend": true,
         "textposition": "auto",
         "type": "bar",
         "x": [
          "Latin"
         ],
         "xaxis": "x",
         "y": {
          "bdata": "smom0vMpEkA=",
          "dtype": "f8"
         },
         "yaxis": "y"
        },
        {
         "customdata": [
          [
           "Mariachi"
          ]
         ],
         "hovertemplate": "style=%{customdata[0]}<br>Genre=%{x}<br>Weight=%{y}<extra></extra>",
         "legendgroup": "Mariachi",
         "marker": {
          "color": "#ab63fa",
          "pattern": {
           "shape": ""
          }
         },
         "name": "Mariachi",
         "orientation": "v",
         "showlegend": true,
         "textposition": "auto",
         "type": "bar",
         "x": [
          "Latin"
         ],
         "xaxis": "x",
         "y": {
          "bdata": "xC4WviKAEUA=",
          "dtype": "f8"
         },
         "yaxis": "y"
        },
        {
         "customdata": [
          [
           "MPB"
          ]
         ],
         "hovertemplate": "style=%{customdata[0]}<br>Genre=%{x}<br>Weight=%{y}<extra></extra>",
         "legendgroup": "MPB",
         "marker": {
          "color": "#FFA15A",
          "pattern": {
           "shape": ""
          }
         },
         "name": "MPB",
         "orientation": "v",
         "showlegend": true,
         "textposition": "auto",
         "type": "bar",
         "x": [
          "Latin"
         ],
         "xaxis": "x",
         "y": {
          "bdata": "v9jHvukTD0A=",
          "dtype": "f8"
         },
         "yaxis": "y"
        },
        {
         "customdata": [
          [
           "Rumba"
          ]
         ],
         "hovertemplate": "style=%{customdata[0]}<br>Genre=%{x}<br>Weight=%{y}<extra></extra>",
         "legendgroup": "Rumba",
         "marker": {
          "color": "#19d3f3",
          "pattern": {
           "shape": ""
          }
         },
         "name": "Rumba",
         "orientation": "v",
         "showlegend": true,
         "textposition": "auto",
         "type": "bar",
         "x": [
          "Latin"
         ],
         "xaxis": "x",
         "y": {
          "bdata": "u/Ne+HenDUA=",
          "dtype": "f8"
         },
         "yaxis": "y"
        },
        {
         "customdata": [
          [
           "Vallenato"
          ]
         ],
         "hovertemplate": "style=%{customdata[0]}<br>Genre=%{x}<br>Weight=%{y}<extra></extra>",
         "legendgroup": "Vallenato",
         "marker": {
          "color": "#FF6692",
          "pattern": {
           "shape": ""
          }
         },
         "name": "Vallenato",
         "orientation": "v",
         "showlegend": true,
         "textposition": "auto",
         "type": "bar",
         "x": [
          "Latin"
         ],
         "xaxis": "x",
         "y": {
          "bdata": "X+WcKo7dC0A=",
          "dtype": "f8"
         },
         "yaxis": "y"
        },
        {
         "customdata": [
          [
           "Samba"
          ]
         ],
         "hovertemplate": "style=%{customdata[0]}<br>Genre=%{x}<br>Weight=%{y}<extra></extra>",
         "legendgroup": "Samba",
         "marker": {
          "color": "#B6E880",
          "pattern": {
           "shape": ""
          }
         },
         "name": "Samba",
         "orientation": "v",
         "showlegend": true,
         "textposition": "auto",
         "type": "bar",
         "x": [
          "Latin"
         ],
         "xaxis": "x",
         "y": {
          "bdata": "RKG/7L1JBkA=",
          "dtype": "f8"
         },
         "yaxis": "y"
        },
        {
         "customdata": [
          [
           "Bossanova"
          ]
         ],
         "hovertemplate": "style=%{customdata[0]}<br>Genre=%{x}<br>Weight=%{y}<extra></extra>",
         "legendgroup": "Bossanova",
         "marker": {
          "color": "#FF97FF",
          "pattern": {
           "shape": ""
          }
         },
         "name": "Bossanova",
         "orientation": "v",
         "showlegend": true,
         "textposition": "auto",
         "type": "bar",
         "x": [
          "Latin"
         ],
         "xaxis": "x",
         "y": {
          "bdata": "wplq/L01BkA=",
          "dtype": "f8"
         },
         "yaxis": "y"
        },
        {
         "customdata": [
          [
           "Bolero"
          ]
         ],
         "hovertemplate": "style=%{customdata[0]}<br>Genre=%{x}<br>Weight=%{y}<extra></extra>",
         "legendgroup": "Bolero",
         "marker": {
          "color": "#FECB52",
          "pattern": {
           "shape": ""
          }
         },
         "name": "Bolero",
         "orientation": "v",
         "showlegend": true,
         "textposition": "auto",
         "type": "bar",
         "x": [
          "Latin"
         ],
         "xaxis": "x",
         "y": {
          "bdata": "gpcWHuH7BEA=",
          "dtype": "f8"
         },
         "yaxis": "y"
        },
        {
         "customdata": [
          [
           "Merengue"
          ]
         ],
         "hovertemplate": "style=%{customdata[0]}<br>Genre=%{x}<br>Weight=%{y}<extra></extra>",
         "legendgroup": "Merengue",
         "marker": {
          "color": "#636efa",
          "pattern": {
           "shape": ""
          }
         },
         "name": "Merengue",
         "orientation": "v",
         "showlegend": true,
         "textposition": "auto",
         "type": "bar",
         "x": [
          "Latin"
         ],
         "xaxis": "x",
         "y": {
          "bdata": "DIzRTlkZAkA=",
          "dtype": "f8"
         },
         "yaxis": "y"
        },
        {
         "customdata": [
          [
           "Forró"
          ]
         ],
         "hovertemplate": "style=%{customdata[0]}<br>Genre=%{x}<br>Weight=%{y}<extra></extra>",
         "legendgroup": "Forró",
         "marker": {
          "color": "#EF553B",
          "pattern": {
           "shape": ""
          }
         },
         "name": "Forró",
         "orientation": "v",
         "showlegend": true,
         "textposition": "auto",
         "type": "bar",
         "x": [
          "Latin"
         ],
         "xaxis": "x",
         "y": {
          "bdata": "XuqJ8OCyAUA=",
          "dtype": "f8"
         },
         "yaxis": "y"
        },
        {
         "customdata": [
          [
           "Tejano"
          ]
         ],
         "hovertemplate": "style=%{customdata[0]}<br>Genre=%{x}<br>Weight=%{y}<extra></extra>",
         "legendgroup": "Tejano",
         "marker": {
          "color": "#00cc96",
          "pattern": {
           "shape": ""
          }
         },
         "name": "Tejano",
         "orientation": "v",
         "showlegend": true,
         "textposition": "auto",
         "type": "bar",
         "x": [
          "Latin"
         ],
         "xaxis": "x",
         "y": {
          "bdata": "8VpY3poR/z8=",
          "dtype": "f8"
         },
         "yaxis": "y"
        },
        {
         "customdata": [
          [
           "Cubano"
          ]
         ],
         "hovertemplate": "style=%{customdata[0]}<br>Genre=%{x}<br>Weight=%{y}<extra></extra>",
         "legendgroup": "Cubano",
         "marker": {
          "color": "#ab63fa",
          "pattern": {
           "shape": ""
          }
         },
         "name": "Cubano",
         "orientation": "v",
         "showlegend": true,
         "textposition": "auto",
         "type": "bar",
         "x": [
          "Latin"
         ],
         "xaxis": "x",
         "y": {
          "bdata": "5rGR15np+z8=",
          "dtype": "f8"
         },
         "yaxis": "y"
        },
        {
         "customdata": [
          [
           "Compas"
          ]
         ],
         "hovertemplate": "style=%{customdata[0]}<br>Genre=%{x}<br>Weight=%{y}<extra></extra>",
         "legendgroup": "Compas",
         "marker": {
          "color": "#FFA15A",
          "pattern": {
           "shape": ""
          }
         },
         "name": "Compas",
         "orientation": "v",
         "showlegend": true,
         "textposition": "auto",
         "type": "bar",
         "x": [
          "Latin"
         ],
         "xaxis": "x",
         "y": {
          "bdata": "EmavYjll+j8=",
          "dtype": "f8"
         },
         "yaxis": "y"
        },
        {
         "customdata": [
          [
           "Porro"
          ]
         ],
         "hovertemplate": "style=%{customdata[0]}<br>Genre=%{x}<br>Weight=%{y}<extra></extra>",
         "legendgroup": "Porro",
         "marker": {
          "color": "#19d3f3",
          "pattern": {
           "shape": ""
          }
         },
         "name": "Porro",
         "orientation": "v",
         "showlegend": true,
         "textposition": "auto",
         "type": "bar",
         "x": [
          "Latin"
         ],
         "xaxis": "x",
         "y": {
          "bdata": "mjyPOR5m+D8=",
          "dtype": "f8"
         },
         "yaxis": "y"
        },
        {
         "customdata": [
          [
           "Charanga"
          ]
         ],
         "hovertemplate": "style=%{customdata[0]}<br>Genre=%{x}<br>Weight=%{y}<extra></extra>",
         "legendgroup": "Charanga",
         "marker": {
          "color": "#FF6692",
          "pattern": {
           "shape": ""
          }
         },
         "name": "Charanga",
         "orientation": "v",
         "showlegend": true,
         "textposition": "auto",
         "type": "bar",
         "x": [
          "Latin"
         ],
         "xaxis": "x",
         "y": {
          "bdata": "NLLWLxZN9j8=",
          "dtype": "f8"
         },
         "yaxis": "y"
        },
        {
         "customdata": [
          [
           "Afro-Cuban"
          ]
         ],
         "hovertemplate": "style=%{customdata[0]}<br>Genre=%{x}<br>Weight=%{y}<extra></extra>",
         "legendgroup": "Afro-Cuban",
         "marker": {
          "color": "#B6E880",
          "pattern": {
           "shape": ""
          }
         },
         "name": "Afro-Cuban",
         "orientation": "v",
         "showlegend": true,
         "textposition": "auto",
         "type": "bar",
         "x": [
          "Latin"
         ],
         "xaxis": "x",
         "y": {
          "bdata": "K0el5Ir79D8=",
          "dtype": "f8"
         },
         "yaxis": "y"
        },
        {
         "customdata": [
          [
           "Pachanga"
          ]
         ],
         "hovertemplate": "style=%{customdata[0]}<br>Genre=%{x}<br>Weight=%{y}<extra></extra>",
         "legendgroup": "Pachanga",
         "marker": {
          "color": "#FF97FF",
          "pattern": {
           "shape": ""
          }
         },
         "name": "Pachanga",
         "orientation": "v",
         "showlegend": true,
         "textposition": "auto",
         "type": "bar",
         "x": [
          "Latin"
         ],
         "xaxis": "x",
         "y": {
          "bdata": "HgJHKo8O9D8=",
          "dtype": "f8"
         },
         "yaxis": "y"
        },
        {
         "customdata": [
          [
           "Son"
          ]
         ],
         "hovertemplate": "style=%{customdata[0]}<br>Genre=%{x}<br>Weight=%{y}<extra></extra>",
         "legendgroup": "Son",
         "marker": {
          "color": "#FECB52",
          "pattern": {
           "shape": ""
          }
         },
         "name": "Son",
         "orientation": "v",
         "showlegend": true,
         "textposition": "auto",
         "type": "bar",
         "x": [
          "Latin"
         ],
         "xaxis": "x",
         "y": {
          "bdata": "tm6cfArC8j8=",
          "dtype": "f8"
         },
         "yaxis": "y"
        },
        {
         "customdata": [
          [
           "Mambo"
          ]
         ],
         "hovertemplate": "style=%{customdata[0]}<br>Genre=%{x}<br>Weight=%{y}<extra></extra>",
         "legendgroup": "Mambo",
         "marker": {
          "color": "#636efa",
          "pattern": {
           "shape": ""
          }
         },
         "name": "Mambo",
         "orientation": "v",
         "showlegend": true,
         "textposition": "auto",
         "type": "bar",
         "x": [
          "Latin"
         ],
         "xaxis": "x",
         "y": {
          "bdata": "NgL0Gikn8T8=",
          "dtype": "f8"
         },
         "yaxis": "y"
        },
        {
         "customdata": [
          [
           "Batucada"
          ]
         ],
         "hovertemplate": "style=%{customdata[0]}<br>Genre=%{x}<br>Weight=%{y}<extra></extra>",
         "legendgroup": "Batucada",
         "marker": {
          "color": "#EF553B",
          "pattern": {
           "shape": ""
          }
         },
         "name": "Batucada",
         "orientation": "v",
         "showlegend": true,
         "textposition": "auto",
         "type": "bar",
         "x": [
          "Latin"
         ],
         "xaxis": "x",
         "y": {
          "bdata": "XKqYBIXQ8D8=",
          "dtype": "f8"
         },
         "yaxis": "y"
        },
        {
         "customdata": [
          [
           "Cha-Cha"
          ]
         ],
         "hovertemplate": "style=%{customdata[0]}<br>Genre=%{x}<br>Weight=%{y}<extra></extra>",
         "legendgroup": "Cha-Cha",
         "marker": {
          "color": "#00cc96",
          "pattern": {
           "shape": ""
          }
         },
         "name": "Cha-Cha",
         "orientation": "v",
         "showlegend": true,
         "textposition": "auto",
         "type": "bar",
         "x": [
          "Latin"
         ],
         "xaxis": "x",
         "y": {
          "bdata": "T5X0xD6F7D8=",
          "dtype": "f8"
         },
         "yaxis": "y"
        },
        {
         "customdata": [
          [
           "Boogaloo"
          ]
         ],
         "hovertemplate": "style=%{customdata[0]}<br>Genre=%{x}<br>Weight=%{y}<extra></extra>",
         "legendgroup": "Boogaloo",
         "marker": {
          "color": "#ab63fa",
          "pattern": {
           "shape": ""
          }
         },
         "name": "Boogaloo",
         "orientation": "v",
         "showlegend": true,
         "textposition": "auto",
         "type": "bar",
         "x": [
          "Latin"
         ],
         "xaxis": "x",
         "y": {
          "bdata": "tRhUe6sS6T8=",
          "dtype": "f8"
         },
         "yaxis": "y"
        },
        {
         "customdata": [
          [
           "Guaracha"
          ]
         ],
         "hovertemplate": "style=%{customdata[0]}<br>Genre=%{x}<br>Weight=%{y}<extra></extra>",
         "legendgroup": "Guaracha",
         "marker": {
          "color": "#FFA15A",
          "pattern": {
           "shape": ""
          }
         },
         "name": "Guaracha",
         "orientation": "v",
         "showlegend": true,
         "textposition": "auto",
         "type": "bar",
         "x": [
          "Latin"
         ],
         "xaxis": "x",
         "y": {
          "bdata": "Faed1aQM6D8=",
          "dtype": "f8"
         },
         "yaxis": "y"
        },
        {
         "customdata": [
          [
           "Guajira"
          ]
         ],
         "hovertemplate": "style=%{customdata[0]}<br>Genre=%{x}<br>Weight=%{y}<extra></extra>",
         "legendgroup": "Guajira",
         "marker": {
          "color": "#19d3f3",
          "pattern": {
           "shape": ""
          }
         },
         "name": "Guajira",
         "orientation": "v",
         "showlegend": true,
         "textposition": "auto",
         "type": "bar",
         "x": [
          "Latin"
         ],
         "xaxis": "x",
         "y": {
          "bdata": "30dHL0rm5D8=",
          "dtype": "f8"
         },
         "yaxis": "y"
        },
        {
         "customdata": [
          [
           "Baião"
          ]
         ],
         "hovertemplate": "style=%{customdata[0]}<br>Genre=%{x}<br>Weight=%{y}<extra></extra>",
         "legendgroup": "Baião",
         "marker": {
          "color": "#FF6692",
          "pattern": {
           "shape": ""
          }
         },
         "name": "Baião",
         "orientation": "v",
         "showlegend": true,
         "textposition": "auto",
         "type": "bar",
         "x": [
          "Latin"
         ],
         "xaxis": "x",
         "y": {
          "bdata": "ptAc3U444D8=",
          "dtype": "f8"
         },
         "yaxis": "y"
        },
        {
         "customdata": [
          [
           "Guaguancó"
          ]
         ],
         "hovertemplate": "style=%{customdata[0]}<br>Genre=%{x}<br>Weight=%{y}<extra></extra>",
         "legendgroup": "Guaguancó",
         "marker": {
          "color": "#B6E880",
          "pattern": {
           "shape": ""
          }
         },
         "name": "Guaguancó",
         "orientation": "v",
         "showlegend": true,
         "textposition": "auto",
         "type": "bar",
         "x": [
          "Latin"
         ],
         "xaxis": "x",
         "y": {
          "bdata": "U1CcwgqH3j8=",
          "dtype": "f8"
         },
         "yaxis": "y"
        },
        {
         "customdata": [
          [
           "Beguine"
          ]
         ],
         "hovertemplate": "style=%{customdata[0]}<br>Genre=%{x}<br>Weight=%{y}<extra></extra>",
         "legendgroup": "Beguine",
         "marker": {
          "color": "#FF97FF",
          "pattern": {
           "shape": ""
          }
         },
         "name": "Beguine",
         "orientation": "v",
         "showlegend": true,
         "textposition": "auto",
         "type": "bar",
         "x": [
          "Latin"
         ],
         "xaxis": "x",
         "y": {
          "bdata": "BD0eoM6M2z8=",
          "dtype": "f8"
         },
         "yaxis": "y"
        },
        {
         "customdata": [
          [
           "Descarga"
          ]
         ],
         "hovertemplate": "style=%{customdata[0]}<br>Genre=%{x}<br>Weight=%{y}<extra></extra>",
         "legendgroup": "Descarga",
         "marker": {
          "color": "#FECB52",
          "pattern": {
           "shape": ""
          }
         },
         "name": "Descarga",
         "orientation": "v",
         "showlegend": true,
         "textposition": "auto",
         "type": "bar",
         "x": [
          "Latin"
         ],
         "xaxis": "x",
         "y": {
          "bdata": "VqrphAA92z8=",
          "dtype": "f8"
         },
         "yaxis": "y"
        },
        {
         "customdata": [
          [
           "Son Montuno"
          ]
         ],
         "hovertemplate": "style=%{customdata[0]}<br>Genre=%{x}<br>Weight=%{y}<extra></extra>",
         "legendgroup": "Son Montuno",
         "marker": {
          "color": "#636efa",
          "pattern": {
           "shape": ""
          }
         },
         "name": "Son Montuno",
         "orientation": "v",
         "showlegend": true,
         "textposition": "auto",
         "type": "bar",
         "x": [
          "Latin"
         ],
         "xaxis": "x",
         "y": {
          "bdata": "UmoFcSTX2D8=",
          "dtype": "f8"
         },
         "yaxis": "y"
        },
        {
         "customdata": [
          [
           "Easy Listening"
          ]
         ],
         "hovertemplate": "style=%{customdata[0]}<br>Genre=%{x}<br>Weight=%{y}<extra></extra>",
         "legendgroup": "Easy Listening",
         "marker": {
          "color": "#EF553B",
          "pattern": {
           "shape": ""
          }
         },
         "name": "Easy Listening",
         "orientation": "v",
         "showlegend": true,
         "textposition": "auto",
         "type": "bar",
         "x": [
          "Jazz"
         ],
         "xaxis": "x",
         "y": {
          "bdata": "H+N6uDWAG0A=",
          "dtype": "f8"
         },
         "yaxis": "y"
        },
        {
         "customdata": [
          [
           "Contemporary Jazz"
          ]
         ],
         "hovertemplate": "style=%{customdata[0]}<br>Genre=%{x}<br>Weight=%{y}<extra></extra>",
         "legendgroup": "Contemporary Jazz",
         "marker": {
          "color": "#00cc96",
          "pattern": {
           "shape": ""
          }
         },
         "name": "Contemporary Jazz",
         "orientation": "v",
         "showlegend": true,
         "textposition": "auto",
         "type": "bar",
         "x": [
          "Jazz"
         ],
         "xaxis": "x",
         "y": {
          "bdata": "ttbycPQQGEA=",
          "dtype": "f8"
         },
         "yaxis": "y"
        },
        {
         "customdata": [
          [
           "Smooth Jazz"
          ]
         ],
         "hovertemplate": "style=%{customdata[0]}<br>Genre=%{x}<br>Weight=%{y}<extra></extra>",
         "legendgroup": "Smooth Jazz",
         "marker": {
          "color": "#ab63fa",
          "pattern": {
           "shape": ""
          }
         },
         "name": "Smooth Jazz",
         "orientation": "v",
         "showlegend": true,
         "textposition": "auto",
         "type": "bar",
         "x": [
          "Jazz"
         ],
         "xaxis": "x",
         "y": {
          "bdata": "y7YrqcSZEkA=",
          "dtype": "f8"
         },
         "yaxis": "y"
        },
        {
         "customdata": [
          [
           "Fusion"
          ]
         ],
         "hovertemplate": "style=%{customdata[0]}<br>Genre=%{x}<br>Weight=%{y}<extra></extra>",
         "legendgroup": "Fusion",
         "marker": {
          "color": "#FFA15A",
          "pattern": {
           "shape": ""
          }
         },
         "name": "Fusion",
         "orientation": "v",
         "showlegend": true,
         "textposition": "auto",
         "type": "bar",
         "x": [
          "Jazz"
         ],
         "xaxis": "x",
         "y": {
          "bdata": "8P+eQCxDEUA=",
          "dtype": "f8"
         },
         "yaxis": "y"
        },
        {
         "customdata": [
          [
           "Jazz-Funk"
          ]
         ],
         "hovertemplate": "style=%{customdata[0]}<br>Genre=%{x}<br>Weight=%{y}<extra></extra>",
         "legendgroup": "Jazz-Funk",
         "marker": {
          "color": "#19d3f3",
          "pattern": {
           "shape": ""
          }
         },
         "name": "Jazz-Funk",
         "orientation": "v",
         "showlegend": true,
         "textposition": "auto",
         "type": "bar",
         "x": [
          "Jazz"
         ],
         "xaxis": "x",
         "y": {
          "bdata": "RMuaIGG8DUA=",
          "dtype": "f8"
         },
         "yaxis": "y"
        },
        {
         "customdata": [
          [
           "Swing"
          ]
         ],
         "hovertemplate": "style=%{customdata[0]}<br>Genre=%{x}<br>Weight=%{y}<extra></extra>",
         "legendgroup": "Swing",
         "marker": {
          "color": "#FF6692",
          "pattern": {
           "shape": ""
          }
         },
         "name": "Swing",
         "orientation": "v",
         "showlegend": true,
         "textposition": "auto",
         "type": "bar",
         "x": [
          "Jazz"
         ],
         "xaxis": "x",
         "y": {
          "bdata": "arW3fh+yC0A=",
          "dtype": "f8"
         },
         "yaxis": "y"
        },
        {
         "customdata": [
          [
           "Latin Jazz"
          ]
         ],
         "hovertemplate": "style=%{customdata[0]}<br>Genre=%{x}<br>Weight=%{y}<extra></extra>",
         "legendgroup": "Latin Jazz",
         "marker": {
          "color": "#B6E880",
          "pattern": {
           "shape": ""
          }
         },
         "name": "Latin Jazz",
         "orientation": "v",
         "showlegend": true,
         "textposition": "auto",
         "type": "bar",
         "x": [
          "Jazz"
         ],
         "xaxis": "x",
         "y": {
          "bdata": "pXwLivgtC0A=",
          "dtype": "f8"
         },
         "yaxis": "y"
        },
        {
         "customdata": [
          [
           "Big Band"
          ]
         ],
         "hovertemplate": "style=%{customdata[0]}<br>Genre=%{x}<br>Weight=%{y}<extra></extra>",
         "legendgroup": "Big Band",
         "marker": {
          "color": "#FF97FF",
          "pattern": {
           "shape": ""
          }
         },
         "name": "Big Band",
         "orientation": "v",
         "showlegend": true,
         "textposition": "auto",
         "type": "bar",
         "x": [
          "Jazz"
         ],
         "xaxis": "x",
         "y": {
          "bdata": "ITN7eRh2CkA=",
          "dtype": "f8"
         },
         "yaxis": "y"
        },
        {
         "customdata": [
          [
           "Soul-Jazz"
          ]
         ],
         "hovertemplate": "style=%{customdata[0]}<br>Genre=%{x}<br>Weight=%{y}<extra></extra>",
         "legendgroup": "Soul-Jazz",
         "marker": {
          "color": "#FECB52",
          "pattern": {
           "shape": ""
          }
         },
         "name": "Soul-Jazz",
         "orientation": "v",
         "showlegend": true,
         "textposition": "auto",
         "type": "bar",
         "x": [
          "Jazz"
         ],
         "xaxis": "x",
         "y": {
          "bdata": "hhXS2SEWCUA=",
          "dtype": "f8"
         },
         "yaxis": "y"
        },
        {
         "customdata": [
          [
           "Jazz-Rock"
          ]
         ],
         "hovertemplate": "style=%{customdata[0]}<br>Genre=%{x}<br>Weight=%{y}<extra></extra>",
         "legendgroup": "Jazz-Rock",
         "marker": {
          "color": "#636efa",
          "pattern": {
           "shape": ""
          }
         },
         "name": "Jazz-Rock",
         "orientation": "v",
         "showlegend": true,
         "textposition": "auto",
         "type": "bar",
         "x": [
          "Jazz"
         ],
         "xaxis": "x",
         "y": {
          "bdata": "4B19Lz/4B0A=",
          "dtype": "f8"
         },
         "yaxis": "y"
        },
        {
         "customdata": [
          [
           "Bossa Nova"
          ]
         ],
         "hovertemplate": "style=%{customdata[0]}<br>Genre=%{x}<br>Weight=%{y}<extra></extra>",
         "legendgroup": "Bossa Nova",
         "marker": {
          "color": "#EF553B",
          "pattern": {
           "shape": ""
          }
         },
         "name": "Bossa Nova",
         "orientation": "v",
         "showlegend": true,
         "textposition": "auto",
         "type": "bar",
         "x": [
          "Jazz"
         ],
         "xaxis": "x",
         "y": {
          "bdata": "93/kJOPiBkA=",
          "dtype": "f8"
         },
         "yaxis": "y"
        },
        {
         "customdata": [
          [
           "Gypsy Jazz"
          ]
         ],
         "hovertemplate": "style=%{customdata[0]}<br>Genre=%{x}<br>Weight=%{y}<extra></extra>",
         "legendgroup": "Gypsy Jazz",
         "marker": {
          "color": "#00cc96",
          "pattern": {
           "shape": ""
          }
         },
         "name": "Gypsy Jazz",
         "orientation": "v",
         "showlegend": true,
         "textposition": "auto",
         "type": "bar",
         "x": [
          "Jazz"
         ],
         "xaxis": "x",
         "y": {
          "bdata": "wqFuoPxyBUA=",
          "dtype": "f8"
         },
         "yaxis": "y"
        },
        {
         "customdata": [
          [
           "Avant-garde Jazz"
          ]
         ],
         "hovertemplate": "style=%{customdata[0]}<br>Genre=%{x}<br>Weight=%{y}<extra></extra>",
         "legendgroup": "Avant-garde Jazz",
         "marker": {
          "color": "#ab63fa",
          "pattern": {
           "shape": ""
          }
         },
         "name": "Avant-garde Jazz",
         "orientation": "v",
         "showlegend": true,
         "textposition": "auto",
         "type": "bar",
         "x": [
          "Jazz"
         ],
         "xaxis": "x",
         "y": {
          "bdata": "mRtJijFnBUA=",
          "dtype": "f8"
         },
         "yaxis": "y"
        },
        {
         "customdata": [
          [
           "Afrobeat"
          ],
          [
           "Afrobeat"
          ]
         ],
         "hovertemplate": "style=%{customdata[0]}<br>Genre=%{x}<br>Weight=%{y}<extra></extra>",
         "legendgroup": "Afrobeat",
         "marker": {
          "color": "#FFA15A",
          "pattern": {
           "shape": ""
          }
         },
         "name": "Afrobeat",
         "orientation": "v",
         "showlegend": true,
         "textposition": "auto",
         "type": "bar",
         "x": [
          "Funk / Soul",
          "Jazz"
         ],
         "xaxis": "x",
         "y": {
          "bdata": "EuouBdwZBUCSlnvBeRsDQA==",
          "dtype": "f8"
         },
         "yaxis": "y"
        },
        {
         "customdata": [
          [
           "Post Bop"
          ]
         ],
         "hovertemplate": "style=%{customdata[0]}<br>Genre=%{x}<br>Weight=%{y}<extra></extra>",
         "legendgroup": "Post Bop",
         "marker": {
          "color": "#19d3f3",
          "pattern": {
           "shape": ""
          }
         },
         "name": "Post Bop",
         "orientation": "v",
         "showlegend": true,
         "textposition": "auto",
         "type": "bar",
         "x": [
          "Jazz"
         ],
         "xaxis": "x",
         "y": {
          "bdata": "E74kRFeDAkA=",
          "dtype": "f8"
         },
         "yaxis": "y"
        },
        {
         "customdata": [
          [
           "Cool Jazz"
          ]
         ],
         "hovertemplate": "style=%{customdata[0]}<br>Genre=%{x}<br>Weight=%{y}<extra></extra>",
         "legendgroup": "Cool Jazz",
         "marker": {
          "color": "#FF6692",
          "pattern": {
           "shape": ""
          }
         },
         "name": "Cool Jazz",
         "orientation": "v",
         "showlegend": true,
         "textposition": "auto",
         "type": "bar",
         "x": [
          "Jazz"
         ],
         "xaxis": "x",
         "y": {
          "bdata": "wO/FvBstAkA=",
          "dtype": "f8"
         },
         "yaxis": "y"
        },
        {
         "customdata": [
          [
           "Free Improvisation"
          ]
         ],
         "hovertemplate": "style=%{customdata[0]}<br>Genre=%{x}<br>Weight=%{y}<extra></extra>",
         "legendgroup": "Free Improvisation",
         "marker": {
          "color": "#B6E880",
          "pattern": {
           "shape": ""
          }
         },
         "name": "Free Improvisation",
         "orientation": "v",
         "showlegend": true,
         "textposition": "auto",
         "type": "bar",
         "x": [
          "Jazz"
         ],
         "xaxis": "x",
         "y": {
          "bdata": "LjVzrgkCAUA=",
          "dtype": "f8"
         },
         "yaxis": "y"
        },
        {
         "customdata": [
          [
           "Modal"
          ]
         ],
         "hovertemplate": "style=%{customdata[0]}<br>Genre=%{x}<br>Weight=%{y}<extra></extra>",
         "legendgroup": "Modal",
         "marker": {
          "color": "#FF97FF",
          "pattern": {
           "shape": ""
          }
         },
         "name": "Modal",
         "orientation": "v",
         "showlegend": true,
         "textposition": "auto",
         "type": "bar",
         "x": [
          "Jazz"
         ],
         "xaxis": "x",
         "y": {
          "bdata": "8AITwNlDAEA=",
          "dtype": "f8"
         },
         "yaxis": "y"
        },
        {
         "customdata": [
          [
           "Dixieland"
          ]
         ],
         "hovertemplate": "style=%{customdata[0]}<br>Genre=%{x}<br>Weight=%{y}<extra></extra>",
         "legendgroup": "Dixieland",
         "marker": {
          "color": "#FECB52",
          "pattern": {
           "shape": ""
          }
         },
         "name": "Dixieland",
         "orientation": "v",
         "showlegend": true,
         "textposition": "auto",
         "type": "bar",
         "x": [
          "Jazz"
         ],
         "xaxis": "x",
         "y": {
          "bdata": "3yIKS4uX/z8=",
          "dtype": "f8"
         },
         "yaxis": "y"
        },
        {
         "customdata": [
          [
           "Afro-Cuban Jazz"
          ]
         ],
         "hovertemplate": "style=%{customdata[0]}<br>Genre=%{x}<br>Weight=%{y}<extra></extra>",
         "legendgroup": "Afro-Cuban Jazz",
         "marker": {
          "color": "#636efa",
          "pattern": {
           "shape": ""
          }
         },
         "name": "Afro-Cuban Jazz",
         "orientation": "v",
         "showlegend": true,
         "textposition": "auto",
         "type": "bar",
         "x": [
          "Jazz"
         ],
         "xaxis": "x",
         "y": {
          "bdata": "8+Ibq3fg/j8=",
          "dtype": "f8"
         },
         "yaxis": "y"
        },
        {
         "customdata": [
          [
           "Space-Age"
          ]
         ],
         "hovertemplate": "style=%{customdata[0]}<br>Genre=%{x}<br>Weight=%{y}<extra></extra>",
         "legendgroup": "Space-Age",
         "marker": {
          "color": "#EF553B",
          "pattern": {
           "shape": ""
          }
         },
         "name": "Space-Age",
         "orientation": "v",
         "showlegend": true,
         "textposition": "auto",
         "type": "bar",
         "x": [
          "Jazz"
         ],
         "xaxis": "x",
         "y": {
          "bdata": "6ivegiXb/T8=",
          "dtype": "f8"
         },
         "yaxis": "y"
        },
        {
         "customdata": [
          [
           "Free Jazz"
          ]
         ],
         "hovertemplate": "style=%{customdata[0]}<br>Genre=%{x}<br>Weight=%{y}<extra></extra>",
         "legendgroup": "Free Jazz",
         "marker": {
          "color": "#00cc96",
          "pattern": {
           "shape": ""
          }
         },
         "name": "Free Jazz",
         "orientation": "v",
         "showlegend": true,
         "textposition": "auto",
         "type": "bar",
         "x": [
          "Jazz"
         ],
         "xaxis": "x",
         "y": {
          "bdata": "5Io9l15n/D8=",
          "dtype": "f8"
         },
         "yaxis": "y"
        },
        {
         "customdata": [
          [
           "Bop"
          ]
         ],
         "hovertemplate": "style=%{customdata[0]}<br>Genre=%{x}<br>Weight=%{y}<extra></extra>",
         "legendgroup": "Bop",
         "marker": {
          "color": "#ab63fa",
          "pattern": {
           "shape": ""
          }
         },
         "name": "Bop",
         "orientation": "v",
         "showlegend": true,
         "textposition": "auto",
         "type": "bar",
         "x": [
          "Jazz"
         ],
         "xaxis": "x",
         "y": {
          "bdata": "5AvEjssE+z8=",
          "dtype": "f8"
         },
         "yaxis": "y"
        },
        {
         "customdata": [
          [
           "Ragtime"
          ]
         ],
         "hovertemplate": "style=%{customdata[0]}<br>Genre=%{x}<br>Weight=%{y}<extra></extra>",
         "legendgroup": "Ragtime",
         "marker": {
          "color": "#FFA15A",
          "pattern": {
           "shape": ""
          }
         },
         "name": "Ragtime",
         "orientation": "v",
         "showlegend": true,
         "textposition": "auto",
         "type": "bar",
         "x": [
          "Jazz"
         ],
         "xaxis": "x",
         "y": {
          "bdata": "kKIAZ+qF+T8=",
          "dtype": "f8"
         },
         "yaxis": "y"
        },
        {
         "customdata": [
          [
           "Hard Bop"
          ]
         ],
         "hovertemplate": "style=%{customdata[0]}<br>Genre=%{x}<br>Weight=%{y}<extra></extra>",
         "legendgroup": "Hard Bop",
         "marker": {
          "color": "#19d3f3",
          "pattern": {
           "shape": ""
          }
         },
         "name": "Hard Bop",
         "orientation": "v",
         "showlegend": true,
         "textposition": "auto",
         "type": "bar",
         "x": [
          "Jazz"
         ],
         "xaxis": "x",
         "y": {
          "bdata": "I7W10AjI9j8=",
          "dtype": "f8"
         },
         "yaxis": "y"
        },
        {
         "customdata": [
          [
           "Contemporary"
          ]
         ],
         "hovertemplate": "style=%{customdata[0]}<br>Genre=%{x}<br>Weight=%{y}<extra></extra>",
         "legendgroup": "Contemporary",
         "marker": {
          "color": "#FF6692",
          "pattern": {
           "shape": ""
          }
         },
         "name": "Contemporary",
         "orientation": "v",
         "showlegend": true,
         "textposition": "auto",
         "type": "bar",
         "x": [
          "Classical"
         ],
         "xaxis": "x",
         "y": {
          "bdata": "8TbW104lIEA=",
          "dtype": "f8"
         },
         "yaxis": "y"
        },
        {
         "customdata": [
          [
           "Baroque"
          ]
         ],
         "hovertemplate": "style=%{customdata[0]}<br>Genre=%{x}<br>Weight=%{y}<extra></extra>",
         "legendgroup": "Baroque",
         "marker": {
          "color": "#B6E880",
          "pattern": {
           "shape": ""
          }
         },
         "name": "Baroque",
         "orientation": "v",
         "showlegend": true,
         "textposition": "auto",
         "type": "bar",
         "x": [
          "Classical"
         ],
         "xaxis": "x",
         "y": {
          "bdata": "aeQ2PgDeHkA=",
          "dtype": "f8"
         },
         "yaxis": "y"
        },
        {
         "customdata": [
          [
           "Neo-Classical"
          ]
         ],
         "hovertemplate": "style=%{customdata[0]}<br>Genre=%{x}<br>Weight=%{y}<extra></extra>",
         "legendgroup": "Neo-Classical",
         "marker": {
          "color": "#FF97FF",
          "pattern": {
           "shape": ""
          }
         },
         "name": "Neo-Classical",
         "orientation": "v",
         "showlegend": true,
         "textposition": "auto",
         "type": "bar",
         "x": [
          "Classical"
         ],
         "xaxis": "x",
         "y": {
          "bdata": "3OS/aictG0A=",
          "dtype": "f8"
         },
         "yaxis": "y"
        },
        {
         "customdata": [
          [
           "Classical"
          ]
         ],
         "hovertemplate": "style=%{customdata[0]}<br>Genre=%{x}<br>Weight=%{y}<extra></extra>",
         "legendgroup": "Classical",
         "marker": {
          "color": "#FECB52",
          "pattern": {
           "shape": ""
          }
         },
         "name": "Classical",
         "orientation": "v",
         "showlegend": true,
         "textposition": "auto",
         "type": "bar",
         "x": [
          "Classical"
         ],
         "xaxis": "x",
         "y": {
          "bdata": "AlDj3esNGkA=",
          "dtype": "f8"
         },
         "yaxis": "y"
        },
        {
         "customdata": [
          [
           "Choral"
          ]
         ],
         "hovertemplate": "style=%{customdata[0]}<br>Genre=%{x}<br>Weight=%{y}<extra></extra>",
         "legendgroup": "Choral",
         "marker": {
          "color": "#636efa",
          "pattern": {
           "shape": ""
          }
         },
         "name": "Choral",
         "orientation": "v",
         "showlegend": true,
         "textposition": "auto",
         "type": "bar",
         "x": [
          "Classical"
         ],
         "xaxis": "x",
         "y": {
          "bdata": "TsKEix/KGUA=",
          "dtype": "f8"
         },
         "yaxis": "y"
        },
        {
         "customdata": [
          [
           "Neo-Romantic"
          ]
         ],
         "hovertemplate": "style=%{customdata[0]}<br>Genre=%{x}<br>Weight=%{y}<extra></extra>",
         "legendgroup": "Neo-Romantic",
         "marker": {
          "color": "#EF553B",
          "pattern": {
           "shape": ""
          }
         },
         "name": "Neo-Romantic",
         "orientation": "v",
         "showlegend": true,
         "textposition": "auto",
         "type": "bar",
         "x": [
          "Classical"
         ],
         "xaxis": "x",
         "y": {
          "bdata": "Mco3kfoTFkA=",
          "dtype": "f8"
         },
         "yaxis": "y"
        },
        {
         "customdata": [
          [
           "Modern"
          ]
         ],
         "hovertemplate": "style=%{customdata[0]}<br>Genre=%{x}<br>Weight=%{y}<extra></extra>",
         "legendgroup": "Modern",
         "marker": {
          "color": "#00cc96",
          "pattern": {
           "shape": ""
          }
         },
         "name": "Modern",
         "orientation": "v",
         "showlegend": true,
         "textposition": "auto",
         "type": "bar",
         "x": [
          "Classical"
         ],
         "xaxis": "x",
         "y": {
          "bdata": "aUu8F58NFkA=",
          "dtype": "f8"
         },
         "yaxis": "y"
        },
        {
         "customdata": [
          [
           "Romantic"
          ]
         ],
         "hovertemplate": "style=%{customdata[0]}<br>Genre=%{x}<br>Weight=%{y}<extra></extra>",
         "legendgroup": "Romantic",
         "marker": {
          "color": "#ab63fa",
          "pattern": {
           "shape": ""
          }
         },
         "name": "Romantic",
         "orientation": "v",
         "showlegend": true,
         "textposition": "auto",
         "type": "bar",
         "x": [
          "Classical"
         ],
         "xaxis": "x",
         "y": {
          "bdata": "oEEoUvXYFUA=",
          "dtype": "f8"
         },
         "yaxis": "y"
        },
        {
         "customdata": [
          [
           "Impressionist"
          ]
         ],
         "hovertemplate": "style=%{customdata[0]}<br>Genre=%{x}<br>Weight=%{y}<extra></extra>",
         "legendgroup": "Impressionist",
         "marker": {
          "color": "#FFA15A",
          "pattern": {
           "shape": ""
          }
         },
         "name": "Impressionist",
         "orientation": "v",
         "showlegend": true,
         "textposition": "auto",
         "type": "bar",
         "x": [
          "Classical"
         ],
         "xaxis": "x",
         "y": {
          "bdata": "0rYn/osQEkA=",
          "dtype": "f8"
         },
         "yaxis": "y"
        },
        {
         "customdata": [
          [
           "Opera"
          ]
         ],
         "hovertemplate": "style=%{customdata[0]}<br>Genre=%{x}<br>Weight=%{y}<extra></extra>",
         "legendgroup": "Opera",
         "marker": {
          "color": "#19d3f3",
          "pattern": {
           "shape": ""
          }
         },
         "name": "Opera",
         "orientation": "v",
         "showlegend": true,
         "textposition": "auto",
         "type": "bar",
         "x": [
          "Classical"
         ],
         "xaxis": "x",
         "y": {
          "bdata": "6qBvH6ZYEEA=",
          "dtype": "f8"
         },
         "yaxis": "y"
        },
        {
         "customdata": [
          [
           "Post-Modern"
          ]
         ],
         "hovertemplate": "style=%{customdata[0]}<br>Genre=%{x}<br>Weight=%{y}<extra></extra>",
         "legendgroup": "Post-Modern",
         "marker": {
          "color": "#FF6692",
          "pattern": {
           "shape": ""
          }
         },
         "name": "Post-Modern",
         "orientation": "v",
         "showlegend": true,
         "textposition": "auto",
         "type": "bar",
         "x": [
          "Classical"
         ],
         "xaxis": "x",
         "y": {
          "bdata": "GlxC785SDkA=",
          "dtype": "f8"
         },
         "yaxis": "y"
        },
        {
         "customdata": [
          [
           "Medieval"
          ]
         ],
         "hovertemplate": "style=%{customdata[0]}<br>Genre=%{x}<br>Weight=%{y}<extra></extra>",
         "legendgroup": "Medieval",
         "marker": {
          "color": "#B6E880",
          "pattern": {
           "shape": ""
          }
         },
         "name": "Medieval",
         "orientation": "v",
         "showlegend": true,
         "textposition": "auto",
         "type": "bar",
         "x": [
          "Classical"
         ],
         "xaxis": "x",
         "y": {
          "bdata": "Gz5IX9fwC0A=",
          "dtype": "f8"
         },
         "yaxis": "y"
        },
        {
         "customdata": [
          [
           "Renaissance"
          ]
         ],
         "hovertemplate": "style=%{customdata[0]}<br>Genre=%{x}<br>Weight=%{y}<extra></extra>",
         "legendgroup": "Renaissance",
         "marker": {
          "color": "#FF97FF",
          "pattern": {
           "shape": ""
          }
         },
         "name": "Renaissance",
         "orientation": "v",
         "showlegend": true,
         "textposition": "auto",
         "type": "bar",
         "x": [
          "Classical"
         ],
         "xaxis": "x",
         "y": {
          "bdata": "Z8c1YKS+CkA=",
          "dtype": "f8"
         },
         "yaxis": "y"
        },
        {
         "customdata": [
          [
           "Soul"
          ]
         ],
         "hovertemplate": "style=%{customdata[0]}<br>Genre=%{x}<br>Weight=%{y}<extra></extra>",
         "legendgroup": "Soul",
         "marker": {
          "color": "#FECB52",
          "pattern": {
           "shape": ""
          }
         },
         "name": "Soul",
         "orientation": "v",
         "showlegend": true,
         "textposition": "auto",
         "type": "bar",
         "x": [
          "Funk / Soul"
         ],
         "xaxis": "x",
         "y": {
          "bdata": "jrRQmULbK0A=",
          "dtype": "f8"
         },
         "yaxis": "y"
        },
        {
         "customdata": [
          [
           "Funk"
          ]
         ],
         "hovertemplate": "style=%{customdata[0]}<br>Genre=%{x}<br>Weight=%{y}<extra></extra>",
         "legendgroup": "Funk",
         "marker": {
          "color": "#636efa",
          "pattern": {
           "shape": ""
          }
         },
         "name": "Funk",
         "orientation": "v",
         "showlegend": true,
         "textposition": "auto",
         "type": "bar",
         "x": [
          "Funk / Soul"
         ],
         "xaxis": "x",
         "y": {
          "bdata": "HpNOPAYbJEA=",
          "dtype": "f8"
         },
         "yaxis": "y"
        },
        {
         "customdata": [
          [
           "Contemporary R&B"
          ]
         ],
         "hovertemplate": "style=%{customdata[0]}<br>Genre=%{x}<br>Weight=%{y}<extra></extra>",
         "legendgroup": "Contemporary R&B",
         "marker": {
          "color": "#EF553B",
          "pattern": {
           "shape": ""
          }
         },
         "name": "Contemporary R&B",
         "orientation": "v",
         "showlegend": true,
         "textposition": "auto",
         "type": "bar",
         "x": [
          "Funk / Soul"
         ],
         "xaxis": "x",
         "y": {
          "bdata": "nau3wGHmIEA=",
          "dtype": "f8"
         },
         "yaxis": "y"
        },
        {
         "customdata": [
          [
           "Neo Soul"
          ]
         ],
         "hovertemplate": "style=%{customdata[0]}<br>Genre=%{x}<br>Weight=%{y}<extra></extra>",
         "legendgroup": "Neo Soul",
         "marker": {
          "color": "#00cc96",
          "pattern": {
           "shape": ""
          }
         },
         "name": "Neo Soul",
         "orientation": "v",
         "showlegend": true,
         "textposition": "auto",
         "type": "bar",
         "x": [
          "Funk / Soul"
         ],
         "xaxis": "x",
         "y": {
          "bdata": "nrgVrKaEHEA=",
          "dtype": "f8"
         },
         "yaxis": "y"
        },
        {
         "customdata": [
          [
           "Rhythm & Blues"
          ],
          [
           "Rhythm & Blues"
          ]
         ],
         "hovertemplate": "style=%{customdata[0]}<br>Genre=%{x}<br>Weight=%{y}<extra></extra>",
         "legendgroup": "Rhythm & Blues",
         "marker": {
          "color": "#ab63fa",
          "pattern": {
           "shape": ""
          }
         },
         "name": "Rhythm & Blues",
         "orientation": "v",
         "showlegend": true,
         "textposition": "auto",
         "type": "bar",
         "x": [
          "Blues",
          "Funk / Soul"
         ],
         "xaxis": "x",
         "y": {
          "bdata": "yp+pFvh8EEBeVA3IULsYQA==",
          "dtype": "f8"
         },
         "yaxis": "y"
        },
        {
         "customdata": [
          [
           "New Jack Swing"
          ]
         ],
         "hovertemplate": "style=%{customdata[0]}<br>Genre=%{x}<br>Weight=%{y}<extra></extra>",
         "legendgroup": "New Jack Swing",
         "marker": {
          "color": "#FFA15A",
          "pattern": {
           "shape": ""
          }
         },
         "name": "New Jack Swing",
         "orientation": "v",
         "showlegend": true,
         "textposition": "auto",
         "type": "bar",
         "x": [
          "Funk / Soul"
         ],
         "xaxis": "x",
         "y": {
          "bdata": "N2nzBF/yBEA=",
          "dtype": "f8"
         },
         "yaxis": "y"
        },
        {
         "customdata": [
          [
           "Psychedelic"
          ]
         ],
         "hovertemplate": "style=%{customdata[0]}<br>Genre=%{x}<br>Weight=%{y}<extra></extra>",
         "legendgroup": "Psychedelic",
         "marker": {
          "color": "#19d3f3",
          "pattern": {
           "shape": ""
          }
         },
         "name": "Psychedelic",
         "orientation": "v",
         "showlegend": true,
         "textposition": "auto",
         "type": "bar",
         "x": [
          "Funk / Soul"
         ],
         "xaxis": "x",
         "y": {
          "bdata": "jX8D78ARAkA=",
          "dtype": "f8"
         },
         "yaxis": "y"
        },
        {
         "customdata": [
          [
           "Boogie"
          ]
         ],
         "hovertemplate": "style=%{customdata[0]}<br>Genre=%{x}<br>Weight=%{y}<extra></extra>",
         "legendgroup": "Boogie",
         "marker": {
          "color": "#FF6692",
          "pattern": {
           "shape": ""
          }
         },
         "name": "Boogie",
         "orientation": "v",
         "showlegend": true,
         "textposition": "auto",
         "type": "bar",
         "x": [
          "Funk / Soul"
         ],
         "xaxis": "x",
         "y": {
          "bdata": "yDGm6ZiH/z8=",
          "dtype": "f8"
         },
         "yaxis": "y"
        },
        {
         "customdata": [
          [
           "Swingbeat"
          ]
         ],
         "hovertemplate": "style=%{customdata[0]}<br>Genre=%{x}<br>Weight=%{y}<extra></extra>",
         "legendgroup": "Swingbeat",
         "marker": {
          "color": "#B6E880",
          "pattern": {
           "shape": ""
          }
         },
         "name": "Swingbeat",
         "orientation": "v",
         "showlegend": true,
         "textposition": "auto",
         "type": "bar",
         "x": [
          "Funk / Soul"
         ],
         "xaxis": "x",
         "y": {
          "bdata": "xhoz9CTP+z8=",
          "dtype": "f8"
         },
         "yaxis": "y"
        },
        {
         "customdata": [
          [
           "Free Funk"
          ]
         ],
         "hovertemplate": "style=%{customdata[0]}<br>Genre=%{x}<br>Weight=%{y}<extra></extra>",
         "legendgroup": "Free Funk",
         "marker": {
          "color": "#FF97FF",
          "pattern": {
           "shape": ""
          }
         },
         "name": "Free Funk",
         "orientation": "v",
         "showlegend": true,
         "textposition": "auto",
         "type": "bar",
         "x": [
          "Funk / Soul"
         ],
         "xaxis": "x",
         "y": {
          "bdata": "EIqrTQY39D8=",
          "dtype": "f8"
         },
         "yaxis": "y"
        },
        {
         "customdata": [
          [
           "P.Funk"
          ]
         ],
         "hovertemplate": "style=%{customdata[0]}<br>Genre=%{x}<br>Weight=%{y}<extra></extra>",
         "legendgroup": "P.Funk",
         "marker": {
          "color": "#FECB52",
          "pattern": {
           "shape": ""
          }
         },
         "name": "P.Funk",
         "orientation": "v",
         "showlegend": true,
         "textposition": "auto",
         "type": "bar",
         "x": [
          "Funk / Soul"
         ],
         "xaxis": "x",
         "y": {
          "bdata": "OJ/gGnjz8z8=",
          "dtype": "f8"
         },
         "yaxis": "y"
        },
        {
         "customdata": [
          [
           "UK Street Soul"
          ]
         ],
         "hovertemplate": "style=%{customdata[0]}<br>Genre=%{x}<br>Weight=%{y}<extra></extra>",
         "legendgroup": "UK Street Soul",
         "marker": {
          "color": "#636efa",
          "pattern": {
           "shape": ""
          }
         },
         "name": "UK Street Soul",
         "orientation": "v",
         "showlegend": true,
         "textposition": "auto",
         "type": "bar",
         "x": [
          "Funk / Soul"
         ],
         "xaxis": "x",
         "y": {
          "bdata": "Q4KIsy6E2T8=",
          "dtype": "f8"
         },
         "yaxis": "y"
        },
        {
         "customdata": [
          [
           "Reggae"
          ]
         ],
         "hovertemplate": "style=%{customdata[0]}<br>Genre=%{x}<br>Weight=%{y}<extra></extra>",
         "legendgroup": "Reggae",
         "marker": {
          "color": "#EF553B",
          "pattern": {
           "shape": ""
          }
         },
         "name": "Reggae",
         "orientation": "v",
         "showlegend": true,
         "textposition": "auto",
         "type": "bar",
         "x": [
          "Reggae"
         ],
         "xaxis": "x",
         "y": {
          "bdata": "Ammv3+sRIUA=",
          "dtype": "f8"
         },
         "yaxis": "y"
        },
        {
         "customdata": [
          [
           "Reggae-Pop"
          ]
         ],
         "hovertemplate": "style=%{customdata[0]}<br>Genre=%{x}<br>Weight=%{y}<extra></extra>",
         "legendgroup": "Reggae-Pop",
         "marker": {
          "color": "#00cc96",
          "pattern": {
           "shape": ""
          }
         },
         "name": "Reggae-Pop",
         "orientation": "v",
         "showlegend": true,
         "textposition": "auto",
         "type": "bar",
         "x": [
          "Reggae"
         ],
         "xaxis": "x",
         "y": {
          "bdata": "Jd6vNkSXGUA=",
          "dtype": "f8"
         },
         "yaxis": "y"
        },
        {
         "customdata": [
          [
           "Dancehall"
          ]
         ],
         "hovertemplate": "style=%{customdata[0]}<br>Genre=%{x}<br>Weight=%{y}<extra></extra>",
         "legendgroup": "Dancehall",
         "marker": {
          "color": "#ab63fa",
          "pattern": {
           "shape": ""
          }
         },
         "name": "Dancehall",
         "orientation": "v",
         "showlegend": true,
         "textposition": "auto",
         "type": "bar",
         "x": [
          "Reggae"
         ],
         "xaxis": "x",
         "y": {
          "bdata": "m1tU/q5mGUA=",
          "dtype": "f8"
         },
         "yaxis": "y"
        },
        {
         "customdata": [
          [
           "Ragga"
          ]
         ],
         "hovertemplate": "style=%{customdata[0]}<br>Genre=%{x}<br>Weight=%{y}<extra></extra>",
         "legendgroup": "Ragga",
         "marker": {
          "color": "#FFA15A",
          "pattern": {
           "shape": ""
          }
         },
         "name": "Ragga",
         "orientation": "v",
         "showlegend": true,
         "textposition": "auto",
         "type": "bar",
         "x": [
          "Reggae"
         ],
         "xaxis": "x",
         "y": {
          "bdata": "aD6NbJYQF0A=",
          "dtype": "f8"
         },
         "yaxis": "y"
        },
        {
         "customdata": [
          [
           "Roots Reggae"
          ]
         ],
         "hovertemplate": "style=%{customdata[0]}<br>Genre=%{x}<br>Weight=%{y}<extra></extra>",
         "legendgroup": "Roots Reggae",
         "marker": {
          "color": "#19d3f3",
          "pattern": {
           "shape": ""
          }
         },
         "name": "Roots Reggae",
         "orientation": "v",
         "showlegend": true,
         "textposition": "auto",
         "type": "bar",
         "x": [
          "Reggae"
         ],
         "xaxis": "x",
         "y": {
          "bdata": "02RHLal7C0A=",
          "dtype": "f8"
         },
         "yaxis": "y"
        },
        {
         "customdata": [
          [
           "Lovers Rock"
          ]
         ],
         "hovertemplate": "style=%{customdata[0]}<br>Genre=%{x}<br>Weight=%{y}<extra></extra>",
         "legendgroup": "Lovers Rock",
         "marker": {
          "color": "#FF6692",
          "pattern": {
           "shape": ""
          }
         },
         "name": "Lovers Rock",
         "orientation": "v",
         "showlegend": true,
         "textposition": "auto",
         "type": "bar",
         "x": [
          "Reggae"
         ],
         "xaxis": "x",
         "y": {
          "bdata": "XFB4rxuqB0A=",
          "dtype": "f8"
         },
         "yaxis": "y"
        },
        {
         "customdata": [
          [
           "Soca"
          ]
         ],
         "hovertemplate": "style=%{customdata[0]}<br>Genre=%{x}<br>Weight=%{y}<extra></extra>",
         "legendgroup": "Soca",
         "marker": {
          "color": "#B6E880",
          "pattern": {
           "shape": ""
          }
         },
         "name": "Soca",
         "orientation": "v",
         "showlegend": true,
         "textposition": "auto",
         "type": "bar",
         "x": [
          "Reggae"
         ],
         "xaxis": "x",
         "y": {
          "bdata": "6jOC8noXAUA=",
          "dtype": "f8"
         },
         "yaxis": "y"
        },
        {
         "customdata": [
          [
           "Rocksteady"
          ]
         ],
         "hovertemplate": "style=%{customdata[0]}<br>Genre=%{x}<br>Weight=%{y}<extra></extra>",
         "legendgroup": "Rocksteady",
         "marker": {
          "color": "#FF97FF",
          "pattern": {
           "shape": ""
          }
         },
         "name": "Rocksteady",
         "orientation": "v",
         "showlegend": true,
         "textposition": "auto",
         "type": "bar",
         "x": [
          "Reggae"
         ],
         "xaxis": "x",
         "y": {
          "bdata": "8NX71Usx/j8=",
          "dtype": "f8"
         },
         "yaxis": "y"
        },
        {
         "customdata": [
          [
           "Calypso"
          ]
         ],
         "hovertemplate": "style=%{customdata[0]}<br>Genre=%{x}<br>Weight=%{y}<extra></extra>",
         "legendgroup": "Calypso",
         "marker": {
          "color": "#FECB52",
          "pattern": {
           "shape": ""
          }
         },
         "name": "Calypso",
         "orientation": "v",
         "showlegend": true,
         "textposition": "auto",
         "type": "bar",
         "x": [
          "Reggae"
         ],
         "xaxis": "x",
         "y": {
          "bdata": "kHe0WJMl/T8=",
          "dtype": "f8"
         },
         "yaxis": "y"
        },
        {
         "customdata": [
          [
           "Soundtrack"
          ]
         ],
         "hovertemplate": "style=%{customdata[0]}<br>Genre=%{x}<br>Weight=%{y}<extra></extra>",
         "legendgroup": "Soundtrack",
         "marker": {
          "color": "#636efa",
          "pattern": {
           "shape": ""
          }
         },
         "name": "Soundtrack",
         "orientation": "v",
         "showlegend": true,
         "textposition": "auto",
         "type": "bar",
         "x": [
          "Stage & Screen"
         ],
         "xaxis": "x",
         "y": {
          "bdata": "TQT5GFh/MkA=",
          "dtype": "f8"
         },
         "yaxis": "y"
        },
        {
         "customdata": [
          [
           "Score"
          ]
         ],
         "hovertemplate": "style=%{customdata[0]}<br>Genre=%{x}<br>Weight=%{y}<extra></extra>",
         "legendgroup": "Score",
         "marker": {
          "color": "#EF553B",
          "pattern": {
           "shape": ""
          }
         },
         "name": "Score",
         "orientation": "v",
         "showlegend": true,
         "textposition": "auto",
         "type": "bar",
         "x": [
          "Stage & Screen"
         ],
         "xaxis": "x",
         "y": {
          "bdata": "SSbnSN5BFkA=",
          "dtype": "f8"
         },
         "yaxis": "y"
        },
        {
         "customdata": [
          [
           "Musical"
          ]
         ],
         "hovertemplate": "style=%{customdata[0]}<br>Genre=%{x}<br>Weight=%{y}<extra></extra>",
         "legendgroup": "Musical",
         "marker": {
          "color": "#00cc96",
          "pattern": {
           "shape": ""
          }
         },
         "name": "Musical",
         "orientation": "v",
         "showlegend": true,
         "textposition": "auto",
         "type": "bar",
         "x": [
          "Stage & Screen"
         ],
         "xaxis": "x",
         "y": {
          "bdata": "tsbG9PJDEkA=",
          "dtype": "f8"
         },
         "yaxis": "y"
        },
        {
         "customdata": [
          [
           "Theme"
          ]
         ],
         "hovertemplate": "style=%{customdata[0]}<br>Genre=%{x}<br>Weight=%{y}<extra></extra>",
         "legendgroup": "Theme",
         "marker": {
          "color": "#ab63fa",
          "pattern": {
           "shape": ""
          }
         },
         "name": "Theme",
         "orientation": "v",
         "showlegend": true,
         "textposition": "auto",
         "type": "bar",
         "x": [
          "Stage & Screen"
         ],
         "xaxis": "x",
         "y": {
          "bdata": "y71Ym1UiDkA=",
          "dtype": "f8"
         },
         "yaxis": "y"
        },
        {
         "customdata": [
          [
           "Religious"
          ]
         ],
         "hovertemplate": "style=%{customdata[0]}<br>Genre=%{x}<br>Weight=%{y}<extra></extra>",
         "legendgroup": "Religious",
         "marker": {
          "color": "#FFA15A",
          "pattern": {
           "shape": ""
          }
         },
         "name": "Religious",
         "orientation": "v",
         "showlegend": true,
         "textposition": "auto",
         "type": "bar",
         "x": [
          "Non-Music"
         ],
         "xaxis": "x",
         "y": {
          "bdata": "aZNMKpkxFEA=",
          "dtype": "f8"
         },
         "yaxis": "y"
        },
        {
         "customdata": [
          [
           "Spoken Word"
          ]
         ],
         "hovertemplate": "style=%{customdata[0]}<br>Genre=%{x}<br>Weight=%{y}<extra></extra>",
         "legendgroup": "Spoken Word",
         "marker": {
          "color": "#19d3f3",
          "pattern": {
           "shape": ""
          }
         },
         "name": "Spoken Word",
         "orientation": "v",
         "showlegend": true,
         "textposition": "auto",
         "type": "bar",
         "x": [
          "Non-Music"
         ],
         "xaxis": "x",
         "y": {
          "bdata": "0Fl7K5BDD0A=",
          "dtype": "f8"
         },
         "yaxis": "y"
        },
        {
         "customdata": [
          [
           "Audiobook"
          ]
         ],
         "hovertemplate": "style=%{customdata[0]}<br>Genre=%{x}<br>Weight=%{y}<extra></extra>",
         "legendgroup": "Audiobook",
         "marker": {
          "color": "#FF6692",
          "pattern": {
           "shape": ""
          }
         },
         "name": "Audiobook",
         "orientation": "v",
         "showlegend": true,
         "textposition": "auto",
         "type": "bar",
         "x": [
          "Non-Music"
         ],
         "xaxis": "x",
         "y": {
          "bdata": "tENZ/0CfDUA=",
          "dtype": "f8"
         },
         "yaxis": "y"
        },
        {
         "customdata": [
          [
           "Comedy"
          ]
         ],
         "hovertemplate": "style=%{customdata[0]}<br>Genre=%{x}<br>Weight=%{y}<extra></extra>",
         "legendgroup": "Comedy",
         "marker": {
          "color": "#B6E880",
          "pattern": {
           "shape": ""
          }
         },
         "name": "Comedy",
         "orientation": "v",
         "showlegend": true,
         "textposition": "auto",
         "type": "bar",
         "x": [
          "Non-Music"
         ],
         "xaxis": "x",
         "y": {
          "bdata": "7mVHZmTBBUA=",
          "dtype": "f8"
         },
         "yaxis": "y"
        },
        {
         "customdata": [
          [
           "Radioplay"
          ]
         ],
         "hovertemplate": "style=%{customdata[0]}<br>Genre=%{x}<br>Weight=%{y}<extra></extra>",
         "legendgroup": "Radioplay",
         "marker": {
          "color": "#FF97FF",
          "pattern": {
           "shape": ""
          }
         },
         "name": "Radioplay",
         "orientation": "v",
         "showlegend": true,
         "textposition": "auto",
         "type": "bar",
         "x": [
          "Non-Music"
         ],
         "xaxis": "x",
         "y": {
          "bdata": "riw1KcB4BEA=",
          "dtype": "f8"
         },
         "yaxis": "y"
        },
        {
         "customdata": [
          [
           "Dialogue"
          ]
         ],
         "hovertemplate": "style=%{customdata[0]}<br>Genre=%{x}<br>Weight=%{y}<extra></extra>",
         "legendgroup": "Dialogue",
         "marker": {
          "color": "#FECB52",
          "pattern": {
           "shape": ""
          }
         },
         "name": "Dialogue",
         "orientation": "v",
         "showlegend": true,
         "textposition": "auto",
         "type": "bar",
         "x": [
          "Non-Music"
         ],
         "xaxis": "x",
         "y": {
          "bdata": "99K8bNJVBEA=",
          "dtype": "f8"
         },
         "yaxis": "y"
        },
        {
         "customdata": [
          [
           "Poetry"
          ]
         ],
         "hovertemplate": "style=%{customdata[0]}<br>Genre=%{x}<br>Weight=%{y}<extra></extra>",
         "legendgroup": "Poetry",
         "marker": {
          "color": "#636efa",
          "pattern": {
           "shape": ""
          }
         },
         "name": "Poetry",
         "orientation": "v",
         "showlegend": true,
         "textposition": "auto",
         "type": "bar",
         "x": [
          "Non-Music"
         ],
         "xaxis": "x",
         "y": {
          "bdata": "mieXubcMA0A=",
          "dtype": "f8"
         },
         "yaxis": "y"
        },
        {
         "customdata": [
          [
           "Interview"
          ]
         ],
         "hovertemplate": "style=%{customdata[0]}<br>Genre=%{x}<br>Weight=%{y}<extra></extra>",
         "legendgroup": "Interview",
         "marker": {
          "color": "#EF553B",
          "pattern": {
           "shape": ""
          }
         },
         "name": "Interview",
         "orientation": "v",
         "showlegend": true,
         "textposition": "auto",
         "type": "bar",
         "x": [
          "Non-Music"
         ],
         "xaxis": "x",
         "y": {
          "bdata": "EaBsWc8JA0A=",
          "dtype": "f8"
         },
         "yaxis": "y"
        },
        {
         "customdata": [
          [
           "Field Recording"
          ]
         ],
         "hovertemplate": "style=%{customdata[0]}<br>Genre=%{x}<br>Weight=%{y}<extra></extra>",
         "legendgroup": "Field Recording",
         "marker": {
          "color": "#00cc96",
          "pattern": {
           "shape": ""
          }
         },
         "name": "Field Recording",
         "orientation": "v",
         "showlegend": true,
         "textposition": "auto",
         "type": "bar",
         "x": [
          "Non-Music"
         ],
         "xaxis": "x",
         "y": {
          "bdata": "V0uC4XoFAEA=",
          "dtype": "f8"
         },
         "yaxis": "y"
        },
        {
         "customdata": [
          [
           "Political"
          ]
         ],
         "hovertemplate": "style=%{customdata[0]}<br>Genre=%{x}<br>Weight=%{y}<extra></extra>",
         "legendgroup": "Political",
         "marker": {
          "color": "#ab63fa",
          "pattern": {
           "shape": ""
          }
         },
         "name": "Political",
         "orientation": "v",
         "showlegend": true,
         "textposition": "auto",
         "type": "bar",
         "x": [
          "Non-Music"
         ],
         "xaxis": "x",
         "y": {
          "bdata": "sLCBbe9q8j8=",
          "dtype": "f8"
         },
         "yaxis": "y"
        },
        {
         "customdata": [
          [
           "Monolog"
          ]
         ],
         "hovertemplate": "style=%{customdata[0]}<br>Genre=%{x}<br>Weight=%{y}<extra></extra>",
         "legendgroup": "Monolog",
         "marker": {
          "color": "#FFA15A",
          "pattern": {
           "shape": ""
          }
         },
         "name": "Monolog",
         "orientation": "v",
         "showlegend": true,
         "textposition": "auto",
         "type": "bar",
         "x": [
          "Non-Music"
         ],
         "xaxis": "x",
         "y": {
          "bdata": "/wnbaaui7z8=",
          "dtype": "f8"
         },
         "yaxis": "y"
        },
        {
         "customdata": [
          [
           "Promotional"
          ]
         ],
         "hovertemplate": "style=%{customdata[0]}<br>Genre=%{x}<br>Weight=%{y}<extra></extra>",
         "legendgroup": "Promotional",
         "marker": {
          "color": "#19d3f3",
          "pattern": {
           "shape": ""
          }
         },
         "name": "Promotional",
         "orientation": "v",
         "showlegend": true,
         "textposition": "auto",
         "type": "bar",
         "x": [
          "Non-Music"
         ],
         "xaxis": "x",
         "y": {
          "bdata": "o2coijtO6j8=",
          "dtype": "f8"
         },
         "yaxis": "y"
        },
        {
         "customdata": [
          [
           "Education"
          ]
         ],
         "hovertemplate": "style=%{customdata[0]}<br>Genre=%{x}<br>Weight=%{y}<extra></extra>",
         "legendgroup": "Education",
         "marker": {
          "color": "#FF6692",
          "pattern": {
           "shape": ""
          }
         },
         "name": "Education",
         "orientation": "v",
         "showlegend": true,
         "textposition": "auto",
         "type": "bar",
         "x": [
          "Non-Music"
         ],
         "xaxis": "x",
         "y": {
          "bdata": "Tk2hV4gb5j8=",
          "dtype": "f8"
         },
         "yaxis": "y"
        },
        {
         "customdata": [
          [
           "Modern Electric Blues"
          ]
         ],
         "hovertemplate": "style=%{customdata[0]}<br>Genre=%{x}<br>Weight=%{y}<extra></extra>",
         "legendgroup": "Modern Electric Blues",
         "marker": {
          "color": "#B6E880",
          "pattern": {
           "shape": ""
          }
         },
         "name": "Modern Electric Blues",
         "orientation": "v",
         "showlegend": true,
         "textposition": "auto",
         "type": "bar",
         "x": [
          "Blues"
         ],
         "xaxis": "x",
         "y": {
          "bdata": "IADSA4RYCkA=",
          "dtype": "f8"
         },
         "yaxis": "y"
        },
        {
         "customdata": [
          [
           "Texas Blues"
          ]
         ],
         "hovertemplate": "style=%{customdata[0]}<br>Genre=%{x}<br>Weight=%{y}<extra></extra>",
         "legendgroup": "Texas Blues",
         "marker": {
          "color": "#FF97FF",
          "pattern": {
           "shape": ""
          }
         },
         "name": "Texas Blues",
         "orientation": "v",
         "showlegend": true,
         "textposition": "auto",
         "type": "bar",
         "x": [
          "Blues"
         ],
         "xaxis": "x",
         "y": {
          "bdata": "dMAPSxrQAUA=",
          "dtype": "f8"
         },
         "yaxis": "y"
        },
        {
         "customdata": [
          [
           "Electric Blues"
          ]
         ],
         "hovertemplate": "style=%{customdata[0]}<br>Genre=%{x}<br>Weight=%{y}<extra></extra>",
         "legendgroup": "Electric Blues",
         "marker": {
          "color": "#FECB52",
          "pattern": {
           "shape": ""
          }
         },
         "name": "Electric Blues",
         "orientation": "v",
         "showlegend": true,
         "textposition": "auto",
         "type": "bar",
         "x": [
          "Blues"
         ],
         "xaxis": "x",
         "y": {
          "bdata": "fT/RJc24AUA=",
          "dtype": "f8"
         },
         "yaxis": "y"
        },
        {
         "customdata": [
          [
           "Country Blues"
          ]
         ],
         "hovertemplate": "style=%{customdata[0]}<br>Genre=%{x}<br>Weight=%{y}<extra></extra>",
         "legendgroup": "Country Blues",
         "marker": {
          "color": "#636efa",
          "pattern": {
           "shape": ""
          }
         },
         "name": "Country Blues",
         "orientation": "v",
         "showlegend": true,
         "textposition": "auto",
         "type": "bar",
         "x": [
          "Blues"
         ],
         "xaxis": "x",
         "y": {
          "bdata": "uC0pMLVLAEA=",
          "dtype": "f8"
         },
         "yaxis": "y"
        },
        {
         "customdata": [
          [
           "Chicago Blues"
          ]
         ],
         "hovertemplate": "style=%{customdata[0]}<br>Genre=%{x}<br>Weight=%{y}<extra></extra>",
         "legendgroup": "Chicago Blues",
         "marker": {
          "color": "#EF553B",
          "pattern": {
           "shape": ""
          }
         },
         "name": "Chicago Blues",
         "orientation": "v",
         "showlegend": true,
         "textposition": "auto",
         "type": "bar",
         "x": [
          "Blues"
         ],
         "xaxis": "x",
         "y": {
          "bdata": "aHkpEktD/z8=",
          "dtype": "f8"
         },
         "yaxis": "y"
        },
        {
         "customdata": [
          [
           "Delta Blues"
          ]
         ],
         "hovertemplate": "style=%{customdata[0]}<br>Genre=%{x}<br>Weight=%{y}<extra></extra>",
         "legendgroup": "Delta Blues",
         "marker": {
          "color": "#00cc96",
          "pattern": {
           "shape": ""
          }
         },
         "name": "Delta Blues",
         "orientation": "v",
         "showlegend": true,
         "textposition": "auto",
         "type": "bar",
         "x": [
          "Blues"
         ],
         "xaxis": "x",
         "y": {
          "bdata": "PLMjjS/I/j8=",
          "dtype": "f8"
         },
         "yaxis": "y"
        },
        {
         "customdata": [
          [
           "Jump Blues"
          ]
         ],
         "hovertemplate": "style=%{customdata[0]}<br>Genre=%{x}<br>Weight=%{y}<extra></extra>",
         "legendgroup": "Jump Blues",
         "marker": {
          "color": "#ab63fa",
          "pattern": {
           "shape": ""
          }
         },
         "name": "Jump Blues",
         "orientation": "v",
         "showlegend": true,
         "textposition": "auto",
         "type": "bar",
         "x": [
          "Blues"
         ],
         "xaxis": "x",
         "y": {
          "bdata": "fS+SxT+A+D8=",
          "dtype": "f8"
         },
         "yaxis": "y"
        },
        {
         "customdata": [
          [
           "Piano Blues"
          ]
         ],
         "hovertemplate": "style=%{customdata[0]}<br>Genre=%{x}<br>Weight=%{y}<extra></extra>",
         "legendgroup": "Piano Blues",
         "marker": {
          "color": "#FFA15A",
          "pattern": {
           "shape": ""
          }
         },
         "name": "Piano Blues",
         "orientation": "v",
         "showlegend": true,
         "textposition": "auto",
         "type": "bar",
         "x": [
          "Blues"
         ],
         "xaxis": "x",
         "y": {
          "bdata": "DB6JUrgu+D8=",
          "dtype": "f8"
         },
         "yaxis": "y"
        },
        {
         "customdata": [
          [
           "Harmonica Blues"
          ]
         ],
         "hovertemplate": "style=%{customdata[0]}<br>Genre=%{x}<br>Weight=%{y}<extra></extra>",
         "legendgroup": "Harmonica Blues",
         "marker": {
          "color": "#19d3f3",
          "pattern": {
           "shape": ""
          }
         },
         "name": "Harmonica Blues",
         "orientation": "v",
         "showlegend": true,
         "textposition": "auto",
         "type": "bar",
         "x": [
          "Blues"
         ],
         "xaxis": "x",
         "y": {
          "bdata": "QDIi8kkY9T8=",
          "dtype": "f8"
         },
         "yaxis": "y"
        },
        {
         "customdata": [
          [
           "Louisiana Blues"
          ]
         ],
         "hovertemplate": "style=%{customdata[0]}<br>Genre=%{x}<br>Weight=%{y}<extra></extra>",
         "legendgroup": "Louisiana Blues",
         "marker": {
          "color": "#FF6692",
          "pattern": {
           "shape": ""
          }
         },
         "name": "Louisiana Blues",
         "orientation": "v",
         "showlegend": true,
         "textposition": "auto",
         "type": "bar",
         "x": [
          "Blues"
         ],
         "xaxis": "x",
         "y": {
          "bdata": "/XqC96T48j8=",
          "dtype": "f8"
         },
         "yaxis": "y"
        },
        {
         "customdata": [
          [
           "Boogie Woogie"
          ]
         ],
         "hovertemplate": "style=%{customdata[0]}<br>Genre=%{x}<br>Weight=%{y}<extra></extra>",
         "legendgroup": "Boogie Woogie",
         "marker": {
          "color": "#B6E880",
          "pattern": {
           "shape": ""
          }
         },
         "name": "Boogie Woogie",
         "orientation": "v",
         "showlegend": true,
         "textposition": "auto",
         "type": "bar",
         "x": [
          "Blues"
         ],
         "xaxis": "x",
         "y": {
          "bdata": "R5+o5gNK5j8=",
          "dtype": "f8"
         },
         "yaxis": "y"
        },
        {
         "customdata": [
          [
           "Nursery Rhymes"
          ]
         ],
         "hovertemplate": "style=%{customdata[0]}<br>Genre=%{x}<br>Weight=%{y}<extra></extra>",
         "legendgroup": "Nursery Rhymes",
         "marker": {
          "color": "#FF97FF",
          "pattern": {
           "shape": ""
          }
         },
         "name": "Nursery Rhymes",
         "orientation": "v",
         "showlegend": true,
         "textposition": "auto",
         "type": "bar",
         "x": [
          "Children's"
         ],
         "xaxis": "x",
         "y": {
          "bdata": "BBTV6VuDEEA=",
          "dtype": "f8"
         },
         "yaxis": "y"
        },
        {
         "customdata": [
          [
           "Story"
          ]
         ],
         "hovertemplate": "style=%{customdata[0]}<br>Genre=%{x}<br>Weight=%{y}<extra></extra>",
         "legendgroup": "Story",
         "marker": {
          "color": "#FECB52",
          "pattern": {
           "shape": ""
          }
         },
         "name": "Story",
         "orientation": "v",
         "showlegend": true,
         "textposition": "auto",
         "type": "bar",
         "x": [
          "Children's"
         ],
         "xaxis": "x",
         "y": {
          "bdata": "0CaGWTLEB0A=",
          "dtype": "f8"
         },
         "yaxis": "y"
        },
        {
         "customdata": [
          [
           "Educational"
          ]
         ],
         "hovertemplate": "style=%{customdata[0]}<br>Genre=%{x}<br>Weight=%{y}<extra></extra>",
         "legendgroup": "Educational",
         "marker": {
          "color": "#636efa",
          "pattern": {
           "shape": ""
          }
         },
         "name": "Educational",
         "orientation": "v",
         "showlegend": true,
         "textposition": "auto",
         "type": "bar",
         "x": [
          "Children's"
         ],
         "xaxis": "x",
         "y": {
          "bdata": "AyLjHCKYB0A=",
          "dtype": "f8"
         },
         "yaxis": "y"
        },
        {
         "customdata": [
          [
           "Brass Band"
          ]
         ],
         "hovertemplate": "style=%{customdata[0]}<br>Genre=%{x}<br>Weight=%{y}<extra></extra>",
         "legendgroup": "Brass Band",
         "marker": {
          "color": "#EF553B",
          "pattern": {
           "shape": ""
          }
         },
         "name": "Brass Band",
         "orientation": "v",
         "showlegend": true,
         "textposition": "auto",
         "type": "bar",
         "x": [
          "Brass & Military"
         ],
         "xaxis": "x",
         "y": {
          "bdata": "GZdsrk5LBkA=",
          "dtype": "f8"
         },
         "yaxis": "y"
        },
        {
         "customdata": [
          [
           "Marches"
          ]
         ],
         "hovertemplate": "style=%{customdata[0]}<br>Genre=%{x}<br>Weight=%{y}<extra></extra>",
         "legendgroup": "Marches",
         "marker": {
          "color": "#00cc96",
          "pattern": {
           "shape": ""
          }
         },
         "name": "Marches",
         "orientation": "v",
         "showlegend": true,
         "textposition": "auto",
         "type": "bar",
         "x": [
          "Brass & Military"
         ],
         "xaxis": "x",
         "y": {
          "bdata": "di+4J9+JAkA=",
          "dtype": "f8"
         },
         "yaxis": "y"
        },
        {
         "customdata": [
          [
           "Military"
          ]
         ],
         "hovertemplate": "style=%{customdata[0]}<br>Genre=%{x}<br>Weight=%{y}<extra></extra>",
         "legendgroup": "Military",
         "marker": {
          "color": "#ab63fa",
          "pattern": {
           "shape": ""
          }
         },
         "name": "Military",
         "orientation": "v",
         "showlegend": true,
         "textposition": "auto",
         "type": "bar",
         "x": [
          "Brass & Military"
         ],
         "xaxis": "x",
         "y": {
          "bdata": "MbGFBZeC8z8=",
          "dtype": "f8"
         },
         "yaxis": "y"
        }
       ],
       "layout": {
        "barmode": "relative",
        "height": 700,
        "legend": {
         "title": {
          "text": "style"
         },
         "tracegroupgap": 0
        },
        "showlegend": false,
        "template": {
         "data": {
          "bar": [
           {
            "error_x": {
             "color": "#2a3f5f"
            },
            "error_y": {
             "color": "#2a3f5f"
            },
            "marker": {
             "line": {
              "color": "#E5ECF6",
              "width": 0.5
             },
             "pattern": {
              "fillmode": "overlay",
              "size": 10,
              "solidity": 0.2
             }
            },
            "type": "bar"
           }
          ],
          "barpolar": [
           {
            "marker": {
             "line": {
              "color": "#E5ECF6",
              "width": 0.5
             },
             "pattern": {
              "fillmode": "overlay",
              "size": 10,
              "solidity": 0.2
             }
            },
            "type": "barpolar"
           }
          ],
          "carpet": [
           {
            "aaxis": {
             "endlinecolor": "#2a3f5f",
             "gridcolor": "white",
             "linecolor": "white",
             "minorgridcolor": "white",
             "startlinecolor": "#2a3f5f"
            },
            "baxis": {
             "endlinecolor": "#2a3f5f",
             "gridcolor": "white",
             "linecolor": "white",
             "minorgridcolor": "white",
             "startlinecolor": "#2a3f5f"
            },
            "type": "carpet"
           }
          ],
          "choropleth": [
           {
            "colorbar": {
             "outlinewidth": 0,
             "ticks": ""
            },
            "type": "choropleth"
           }
          ],
          "contour": [
           {
            "colorbar": {
             "outlinewidth": 0,
             "ticks": ""
            },
            "colorscale": [
             [
              0,
              "#0d0887"
             ],
             [
              0.1111111111111111,
              "#46039f"
             ],
             [
              0.2222222222222222,
              "#7201a8"
             ],
             [
              0.3333333333333333,
              "#9c179e"
             ],
             [
              0.4444444444444444,
              "#bd3786"
             ],
             [
              0.5555555555555556,
              "#d8576b"
             ],
             [
              0.6666666666666666,
              "#ed7953"
             ],
             [
              0.7777777777777778,
              "#fb9f3a"
             ],
             [
              0.8888888888888888,
              "#fdca26"
             ],
             [
              1,
              "#f0f921"
             ]
            ],
            "type": "contour"
           }
          ],
          "contourcarpet": [
           {
            "colorbar": {
             "outlinewidth": 0,
             "ticks": ""
            },
            "type": "contourcarpet"
           }
          ],
          "heatmap": [
           {
            "colorbar": {
             "outlinewidth": 0,
             "ticks": ""
            },
            "colorscale": [
             [
              0,
              "#0d0887"
             ],
             [
              0.1111111111111111,
              "#46039f"
             ],
             [
              0.2222222222222222,
              "#7201a8"
             ],
             [
              0.3333333333333333,
              "#9c179e"
             ],
             [
              0.4444444444444444,
              "#bd3786"
             ],
             [
              0.5555555555555556,
              "#d8576b"
             ],
             [
              0.6666666666666666,
              "#ed7953"
             ],
             [
              0.7777777777777778,
              "#fb9f3a"
             ],
             [
              0.8888888888888888,
              "#fdca26"
             ],
             [
              1,
              "#f0f921"
             ]
            ],
            "type": "heatmap"
           }
          ],
          "histogram": [
           {
            "marker": {
             "pattern": {
              "fillmode": "overlay",
              "size": 10,
              "solidity": 0.2
             }
            },
            "type": "histogram"
           }
          ],
          "histogram2d": [
           {
            "colorbar": {
             "outlinewidth": 0,
             "ticks": ""
            },
            "colorscale": [
             [
              0,
              "#0d0887"
             ],
             [
              0.1111111111111111,
              "#46039f"
             ],
             [
              0.2222222222222222,
              "#7201a8"
             ],
             [
              0.3333333333333333,
              "#9c179e"
             ],
             [
              0.4444444444444444,
              "#bd3786"
             ],
             [
              0.5555555555555556,
              "#d8576b"
             ],
             [
              0.6666666666666666,
              "#ed7953"
             ],
             [
              0.7777777777777778,
              "#fb9f3a"
             ],
             [
              0.8888888888888888,
              "#fdca26"
             ],
             [
              1,
              "#f0f921"
             ]
            ],
            "type": "histogram2d"
           }
          ],
          "histogram2dcontour": [
           {
            "colorbar": {
             "outlinewidth": 0,
             "ticks": ""
            },
            "colorscale": [
             [
              0,
              "#0d0887"
             ],
             [
              0.1111111111111111,
              "#46039f"
             ],
             [
              0.2222222222222222,
              "#7201a8"
             ],
             [
              0.3333333333333333,
              "#9c179e"
             ],
             [
              0.4444444444444444,
              "#bd3786"
             ],
             [
              0.5555555555555556,
              "#d8576b"
             ],
             [
              0.6666666666666666,
              "#ed7953"
             ],
             [
              0.7777777777777778,
              "#fb9f3a"
             ],
             [
              0.8888888888888888,
              "#fdca26"
             ],
             [
              1,
              "#f0f921"
             ]
            ],
            "type": "histogram2dcontour"
           }
          ],
          "mesh3d": [
           {
            "colorbar": {
             "outlinewidth": 0,
             "ticks": ""
            },
            "type": "mesh3d"
           }
          ],
          "parcoords": [
           {
            "line": {
             "colorbar": {
              "outlinewidth": 0,
              "ticks": ""
             }
            },
            "type": "parcoords"
           }
          ],
          "pie": [
           {
            "automargin": true,
            "type": "pie"
           }
          ],
          "scatter": [
           {
            "fillpattern": {
             "fillmode": "overlay",
             "size": 10,
             "solidity": 0.2
            },
            "type": "scatter"
           }
          ],
          "scatter3d": [
           {
            "line": {
             "colorbar": {
              "outlinewidth": 0,
              "ticks": ""
             }
            },
            "marker": {
             "colorbar": {
              "outlinewidth": 0,
              "ticks": ""
             }
            },
            "type": "scatter3d"
           }
          ],
          "scattercarpet": [
           {
            "marker": {
             "colorbar": {
              "outlinewidth": 0,
              "ticks": ""
             }
            },
            "type": "scattercarpet"
           }
          ],
          "scattergeo": [
           {
            "marker": {
             "colorbar": {
              "outlinewidth": 0,
              "ticks": ""
             }
            },
            "type": "scattergeo"
           }
          ],
          "scattergl": [
           {
            "marker": {
             "colorbar": {
              "outlinewidth": 0,
              "ticks": ""
             }
            },
            "type": "scattergl"
           }
          ],
          "scattermap": [
           {
            "marker": {
             "colorbar": {
              "outlinewidth": 0,
              "ticks": ""
             }
            },
            "type": "scattermap"
           }
          ],
          "scattermapbox": [
           {
            "marker": {
             "colorbar": {
              "outlinewidth": 0,
              "ticks": ""
             }
            },
            "type": "scattermapbox"
           }
          ],
          "scatterpolar": [
           {
            "marker": {
             "colorbar": {
              "outlinewidth": 0,
              "ticks": ""
             }
            },
            "type": "scatterpolar"
           }
          ],
          "scatterpolargl": [
           {
            "marker": {
             "colorbar": {
              "outlinewidth": 0,
              "ticks": ""
             }
            },
            "type": "scatterpolargl"
           }
          ],
          "scatterternary": [
           {
            "marker": {
             "colorbar": {
              "outlinewidth": 0,
              "ticks": ""
             }
            },
            "type": "scatterternary"
           }
          ],
          "surface": [
           {
            "colorbar": {
             "outlinewidth": 0,
             "ticks": ""
            },
            "colorscale": [
             [
              0,
              "#0d0887"
             ],
             [
              0.1111111111111111,
              "#46039f"
             ],
             [
              0.2222222222222222,
              "#7201a8"
             ],
             [
              0.3333333333333333,
              "#9c179e"
             ],
             [
              0.4444444444444444,
              "#bd3786"
             ],
             [
              0.5555555555555556,
              "#d8576b"
             ],
             [
              0.6666666666666666,
              "#ed7953"
             ],
             [
              0.7777777777777778,
              "#fb9f3a"
             ],
             [
              0.8888888888888888,
              "#fdca26"
             ],
             [
              1,
              "#f0f921"
             ]
            ],
            "type": "surface"
           }
          ],
          "table": [
           {
            "cells": {
             "fill": {
              "color": "#EBF0F8"
             },
             "line": {
              "color": "white"
             }
            },
            "header": {
             "fill": {
              "color": "#C8D4E3"
             },
             "line": {
              "color": "white"
             }
            },
            "type": "table"
           }
          ]
         },
         "layout": {
          "annotationdefaults": {
           "arrowcolor": "#2a3f5f",
           "arrowhead": 0,
           "arrowwidth": 1
          },
          "autotypenumbers": "strict",
          "coloraxis": {
           "colorbar": {
            "outlinewidth": 0,
            "ticks": ""
           }
          },
          "colorscale": {
           "diverging": [
            [
             0,
             "#8e0152"
            ],
            [
             0.1,
             "#c51b7d"
            ],
            [
             0.2,
             "#de77ae"
            ],
            [
             0.3,
             "#f1b6da"
            ],
            [
             0.4,
             "#fde0ef"
            ],
            [
             0.5,
             "#f7f7f7"
            ],
            [
             0.6,
             "#e6f5d0"
            ],
            [
             0.7,
             "#b8e186"
            ],
            [
             0.8,
             "#7fbc41"
            ],
            [
             0.9,
             "#4d9221"
            ],
            [
             1,
             "#276419"
            ]
           ],
           "sequential": [
            [
             0,
             "#0d0887"
            ],
            [
             0.1111111111111111,
             "#46039f"
            ],
            [
             0.2222222222222222,
             "#7201a8"
            ],
            [
             0.3333333333333333,
             "#9c179e"
            ],
            [
             0.4444444444444444,
             "#bd3786"
            ],
            [
             0.5555555555555556,
             "#d8576b"
            ],
            [
             0.6666666666666666,
             "#ed7953"
            ],
            [
             0.7777777777777778,
             "#fb9f3a"
            ],
            [
             0.8888888888888888,
             "#fdca26"
            ],
            [
             1,
             "#f0f921"
            ]
           ],
           "sequentialminus": [
            [
             0,
             "#0d0887"
            ],
            [
             0.1111111111111111,
             "#46039f"
            ],
            [
             0.2222222222222222,
             "#7201a8"
            ],
            [
             0.3333333333333333,
             "#9c179e"
            ],
            [
             0.4444444444444444,
             "#bd3786"
            ],
            [
             0.5555555555555556,
             "#d8576b"
            ],
            [
             0.6666666666666666,
             "#ed7953"
            ],
            [
             0.7777777777777778,
             "#fb9f3a"
            ],
            [
             0.8888888888888888,
             "#fdca26"
            ],
            [
             1,
             "#f0f921"
            ]
           ]
          },
          "colorway": [
           "#636efa",
           "#EF553B",
           "#00cc96",
           "#ab63fa",
           "#FFA15A",
           "#19d3f3",
           "#FF6692",
           "#B6E880",
           "#FF97FF",
           "#FECB52"
          ],
          "font": {
           "color": "#2a3f5f"
          },
          "geo": {
           "bgcolor": "white",
           "lakecolor": "white",
           "landcolor": "#E5ECF6",
           "showlakes": true,
           "showland": true,
           "subunitcolor": "white"
          },
          "hoverlabel": {
           "align": "left"
          },
          "hovermode": "closest",
          "mapbox": {
           "style": "light"
          },
          "paper_bgcolor": "white",
          "plot_bgcolor": "#E5ECF6",
          "polar": {
           "angularaxis": {
            "gridcolor": "white",
            "linecolor": "white",
            "ticks": ""
           },
           "bgcolor": "#E5ECF6",
           "radialaxis": {
            "gridcolor": "white",
            "linecolor": "white",
            "ticks": ""
           }
          },
          "scene": {
           "xaxis": {
            "backgroundcolor": "#E5ECF6",
            "gridcolor": "white",
            "gridwidth": 2,
            "linecolor": "white",
            "showbackground": true,
            "ticks": "",
            "zerolinecolor": "white"
           },
           "yaxis": {
            "backgroundcolor": "#E5ECF6",
            "gridcolor": "white",
            "gridwidth": 2,
            "linecolor": "white",
            "showbackground": true,
            "ticks": "",
            "zerolinecolor": "white"
           },
           "zaxis": {
            "backgroundcolor": "#E5ECF6",
            "gridcolor": "white",
            "gridwidth": 2,
            "linecolor": "white",
            "showbackground": true,
            "ticks": "",
            "zerolinecolor": "white"
           }
          },
          "shapedefaults": {
           "line": {
            "color": "#2a3f5f"
           }
          },
          "ternary": {
           "aaxis": {
            "gridcolor": "white",
            "linecolor": "white",
            "ticks": ""
           },
           "baxis": {
            "gridcolor": "white",
            "linecolor": "white",
            "ticks": ""
           },
           "bgcolor": "#E5ECF6",
           "caxis": {
            "gridcolor": "white",
            "linecolor": "white",
            "ticks": ""
           }
          },
          "title": {
           "x": 0.05
          },
          "xaxis": {
           "automargin": true,
           "gridcolor": "white",
           "linecolor": "white",
           "ticks": "",
           "title": {
            "standoff": 15
           },
           "zerolinecolor": "white",
           "zerolinewidth": 2
          },
          "yaxis": {
           "automargin": true,
           "gridcolor": "white",
           "linecolor": "white",
           "ticks": "",
           "title": {
            "standoff": 15
           },
           "zerolinecolor": "white",
           "zerolinewidth": 2
          }
         }
        },
        "title": {
         "text": "Genre & Style Distribution"
        },
        "xaxis": {
         "anchor": "y",
         "categoryarray": [
          "Rock",
          "Electronic",
          "Hip Hop",
          "Folk, World, & Country",
          "Pop",
          "Latin",
          "Jazz",
          "Classical",
          "Funk / Soul",
          "Reggae",
          "Stage & Screen",
          "Non-Music",
          "Blues",
          "Children's",
          "Brass & Military"
         ],
         "categoryorder": "array",
         "domain": [
          0,
          1
         ],
         "tickangle": -45,
         "title": {
          "text": "Genre"
         }
        },
        "yaxis": {
         "anchor": "x",
         "domain": [
          0,
          1
         ],
         "title": {
          "text": "Weight"
         }
        }
       }
      }
     },
     "metadata": {},
     "output_type": "display_data"
    }
   ],
   "source": [
    "# Process genre data\n",
    "parent_data = []\n",
    "for track in df.genres_processed:\n",
    "    total = sum(g[\"probability\"] for g in track)\n",
    "    for genre in track:\n",
    "        parent_data.append(\n",
    "            {\n",
    "                \"parent\": genre[\"parent\"],\n",
    "                \"style\": genre[\"style\"],\n",
    "                \"weight\": genre[\"probability\"] / total,\n",
    "            }\n",
    "        )\n",
    "\n",
    "parent_df = pd.DataFrame(parent_data)\n",
    "parent_totals = parent_df.groupby([\"parent\", \"style\"])[\"weight\"].sum().reset_index()\n",
    "parent_summary = parent_totals.groupby(\"parent\")[\"weight\"].sum().reset_index()\n",
    "\n",
    "# Sort parent genres by weight in descending order\n",
    "parent_summary = parent_summary.sort_values(by=\"weight\", ascending=False)\n",
    "\n",
    "# Sort styles within each parent genre by weight in descending order\n",
    "parent_totals = parent_totals.sort_values(\n",
    "    by=[\"parent\", \"weight\"], ascending=[True, False]\n",
    ")\n",
    "\n",
    "# Define a dictionary to store the sorted order of styles for each parent genre\n",
    "style_order = {}\n",
    "for parent in parent_summary[\"parent\"]:\n",
    "    # Get the styles for the current parent genre and sort them by weight in descending order\n",
    "    styles = (\n",
    "        parent_totals[parent_totals[\"parent\"] == parent]\n",
    "        .sort_values(by=\"weight\", ascending=False)[\"style\"]\n",
    "        .tolist()\n",
    "    )\n",
    "    # Add the sorted styles to the style_order dictionary\n",
    "    style_order[parent] = styles\n",
    "\n",
    "# Interactive plot\n",
    "fig = px.bar(\n",
    "    parent_totals,\n",
    "    x=\"parent\",\n",
    "    y=\"weight\",\n",
    "    color=\"style\",\n",
    "    hover_data=[\"style\", \"weight\"],\n",
    "    title=\"Genre & Style Distribution\",\n",
    "    labels={\"weight\": \"Weight\", \"parent\": \"Genre\"},\n",
    "    category_orders={\n",
    "        \"parent\": parent_summary[\"parent\"].tolist(),\n",
    "        \"style\": [\n",
    "            style\n",
    "            for parent in parent_summary[\"parent\"]\n",
    "            for style in style_order[parent]\n",
    "        ],\n",
    "    },\n",
    ")\n",
    "\n",
    "fig.update_layout(xaxis_tickangle=-45, height=700, showlegend=False)\n",
    "\n",
    "fig.show()\n"
   ]
  },
  {
   "cell_type": "markdown",
   "metadata": {},
   "source": [
    "Export TSV file with style distribution data"
   ]
  },
  {
   "cell_type": "code",
   "execution_count": 36,
   "metadata": {},
   "outputs": [],
   "source": [
    "output_dir = \"reports\"\n",
    "os.makedirs(output_dir, exist_ok=True)\n",
    "\n",
    "# Count each style only once per song\n",
    "unique_styles = []\n",
    "for track in df.genres_processed:\n",
    "    unique_styles.extend(set(genre[\"style\"] for genre in track))\n",
    "\n",
    "style_counts = pd.Series(unique_styles).value_counts().reset_index()\n",
    "style_counts.columns = [\"Style\", \"Count\"]\n",
    "\n",
    "style_counts.to_csv(\n",
    "    os.path.join(output_dir, \"all_styles_distribution.tsv\"),\n",
    "    sep=\"\\t\",\n",
    "    index=False,\n",
    ")\n",
    "\n",
    "threshold = 0.05  # only count style if probability is at least 5%\n",
    "filtered_styles = []\n",
    "for track in df.genres_processed:\n",
    "    # Use a set to avoid counting the same style more than once per track.\n",
    "    styles = {genre[\"style\"] for genre in track if genre[\"probability\"] >= threshold}\n",
    "    filtered_styles.extend(styles)\n",
    "\n",
    "style_counts = pd.Series(filtered_styles).value_counts().reset_index()\n",
    "style_counts.columns = [\"Style\", \"Count\"]\n",
    "\n",
    "style_counts.to_csv(\n",
    "    os.path.join(output_dir, \"threshold_styles_distribution.tsv\"),\n",
    "    sep=\"\\t\",\n",
    "    index=False,\n",
    ")"
   ]
  },
  {
   "cell_type": "markdown",
   "metadata": {},
   "source": [
    "## Tempo and Danceability Analysis\n",
    "\n",
    "Analyze the tempo and danceability distributions."
   ]
  },
  {
   "cell_type": "code",
   "execution_count": 18,
   "metadata": {},
   "outputs": [
    {
     "data": {
      "application/vnd.plotly.v1+json": {
       "config": {
        "plotlyServerURL": "https://plot.ly"
       },
       "data": [
        {
         "name": "Tempo",
         "nbinsx": 50,
         "type": "histogram",
         "x": {
          "bdata": "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",
          "dtype": "f8"
         },
         "xaxis": "x",
         "yaxis": "y"
        },
        {
         "name": "Danceability",
         "nbinsx": 30,
         "type": "histogram",
         "x": {
          "bdata": "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",
          "dtype": "f8"
         },
         "xaxis": "x2",
         "yaxis": "y2"
        }
       ],
       "layout": {
        "annotations": [
         {
          "font": {
           "size": 16
          },
          "showarrow": false,
          "text": "Tempo Distribution (Mean: 119.14, Median: 119.84, Std: 25.16)",
          "x": 0.225,
          "xanchor": "center",
          "xref": "paper",
          "y": 1,
          "yanchor": "bottom",
          "yref": "paper"
         },
         {
          "font": {
           "size": 16
          },
          "showarrow": false,
          "text": "Danceability Distribution (Mean: 0.58, Median: 0.68, Std: 0.39)",
          "x": 0.775,
          "xanchor": "center",
          "xref": "paper",
          "y": 1,
          "yanchor": "bottom",
          "yref": "paper"
         }
        ],
        "height": 600,
        "showlegend": false,
        "template": {
         "data": {
          "bar": [
           {
            "error_x": {
             "color": "#2a3f5f"
            },
            "error_y": {
             "color": "#2a3f5f"
            },
            "marker": {
             "line": {
              "color": "#E5ECF6",
              "width": 0.5
             },
             "pattern": {
              "fillmode": "overlay",
              "size": 10,
              "solidity": 0.2
             }
            },
            "type": "bar"
           }
          ],
          "barpolar": [
           {
            "marker": {
             "line": {
              "color": "#E5ECF6",
              "width": 0.5
             },
             "pattern": {
              "fillmode": "overlay",
              "size": 10,
              "solidity": 0.2
             }
            },
            "type": "barpolar"
           }
          ],
          "carpet": [
           {
            "aaxis": {
             "endlinecolor": "#2a3f5f",
             "gridcolor": "white",
             "linecolor": "white",
             "minorgridcolor": "white",
             "startlinecolor": "#2a3f5f"
            },
            "baxis": {
             "endlinecolor": "#2a3f5f",
             "gridcolor": "white",
             "linecolor": "white",
             "minorgridcolor": "white",
             "startlinecolor": "#2a3f5f"
            },
            "type": "carpet"
           }
          ],
          "choropleth": [
           {
            "colorbar": {
             "outlinewidth": 0,
             "ticks": ""
            },
            "type": "choropleth"
           }
          ],
          "contour": [
           {
            "colorbar": {
             "outlinewidth": 0,
             "ticks": ""
            },
            "colorscale": [
             [
              0,
              "#0d0887"
             ],
             [
              0.1111111111111111,
              "#46039f"
             ],
             [
              0.2222222222222222,
              "#7201a8"
             ],
             [
              0.3333333333333333,
              "#9c179e"
             ],
             [
              0.4444444444444444,
              "#bd3786"
             ],
             [
              0.5555555555555556,
              "#d8576b"
             ],
             [
              0.6666666666666666,
              "#ed7953"
             ],
             [
              0.7777777777777778,
              "#fb9f3a"
             ],
             [
              0.8888888888888888,
              "#fdca26"
             ],
             [
              1,
              "#f0f921"
             ]
            ],
            "type": "contour"
           }
          ],
          "contourcarpet": [
           {
            "colorbar": {
             "outlinewidth": 0,
             "ticks": ""
            },
            "type": "contourcarpet"
           }
          ],
          "heatmap": [
           {
            "colorbar": {
             "outlinewidth": 0,
             "ticks": ""
            },
            "colorscale": [
             [
              0,
              "#0d0887"
             ],
             [
              0.1111111111111111,
              "#46039f"
             ],
             [
              0.2222222222222222,
              "#7201a8"
             ],
             [
              0.3333333333333333,
              "#9c179e"
             ],
             [
              0.4444444444444444,
              "#bd3786"
             ],
             [
              0.5555555555555556,
              "#d8576b"
             ],
             [
              0.6666666666666666,
              "#ed7953"
             ],
             [
              0.7777777777777778,
              "#fb9f3a"
             ],
             [
              0.8888888888888888,
              "#fdca26"
             ],
             [
              1,
              "#f0f921"
             ]
            ],
            "type": "heatmap"
           }
          ],
          "histogram": [
           {
            "marker": {
             "pattern": {
              "fillmode": "overlay",
              "size": 10,
              "solidity": 0.2
             }
            },
            "type": "histogram"
           }
          ],
          "histogram2d": [
           {
            "colorbar": {
             "outlinewidth": 0,
             "ticks": ""
            },
            "colorscale": [
             [
              0,
              "#0d0887"
             ],
             [
              0.1111111111111111,
              "#46039f"
             ],
             [
              0.2222222222222222,
              "#7201a8"
             ],
             [
              0.3333333333333333,
              "#9c179e"
             ],
             [
              0.4444444444444444,
              "#bd3786"
             ],
             [
              0.5555555555555556,
              "#d8576b"
             ],
             [
              0.6666666666666666,
              "#ed7953"
             ],
             [
              0.7777777777777778,
              "#fb9f3a"
             ],
             [
              0.8888888888888888,
              "#fdca26"
             ],
             [
              1,
              "#f0f921"
             ]
            ],
            "type": "histogram2d"
           }
          ],
          "histogram2dcontour": [
           {
            "colorbar": {
             "outlinewidth": 0,
             "ticks": ""
            },
            "colorscale": [
             [
              0,
              "#0d0887"
             ],
             [
              0.1111111111111111,
              "#46039f"
             ],
             [
              0.2222222222222222,
              "#7201a8"
             ],
             [
              0.3333333333333333,
              "#9c179e"
             ],
             [
              0.4444444444444444,
              "#bd3786"
             ],
             [
              0.5555555555555556,
              "#d8576b"
             ],
             [
              0.6666666666666666,
              "#ed7953"
             ],
             [
              0.7777777777777778,
              "#fb9f3a"
             ],
             [
              0.8888888888888888,
              "#fdca26"
             ],
             [
              1,
              "#f0f921"
             ]
            ],
            "type": "histogram2dcontour"
           }
          ],
          "mesh3d": [
           {
            "colorbar": {
             "outlinewidth": 0,
             "ticks": ""
            },
            "type": "mesh3d"
           }
          ],
          "parcoords": [
           {
            "line": {
             "colorbar": {
              "outlinewidth": 0,
              "ticks": ""
             }
            },
            "type": "parcoords"
           }
          ],
          "pie": [
           {
            "automargin": true,
            "type": "pie"
           }
          ],
          "scatter": [
           {
            "fillpattern": {
             "fillmode": "overlay",
             "size": 10,
             "solidity": 0.2
            },
            "type": "scatter"
           }
          ],
          "scatter3d": [
           {
            "line": {
             "colorbar": {
              "outlinewidth": 0,
              "ticks": ""
             }
            },
            "marker": {
             "colorbar": {
              "outlinewidth": 0,
              "ticks": ""
             }
            },
            "type": "scatter3d"
           }
          ],
          "scattercarpet": [
           {
            "marker": {
             "colorbar": {
              "outlinewidth": 0,
              "ticks": ""
             }
            },
            "type": "scattercarpet"
           }
          ],
          "scattergeo": [
           {
            "marker": {
             "colorbar": {
              "outlinewidth": 0,
              "ticks": ""
             }
            },
            "type": "scattergeo"
           }
          ],
          "scattergl": [
           {
            "marker": {
             "colorbar": {
              "outlinewidth": 0,
              "ticks": ""
             }
            },
            "type": "scattergl"
           }
          ],
          "scattermap": [
           {
            "marker": {
             "colorbar": {
              "outlinewidth": 0,
              "ticks": ""
             }
            },
            "type": "scattermap"
           }
          ],
          "scattermapbox": [
           {
            "marker": {
             "colorbar": {
              "outlinewidth": 0,
              "ticks": ""
             }
            },
            "type": "scattermapbox"
           }
          ],
          "scatterpolar": [
           {
            "marker": {
             "colorbar": {
              "outlinewidth": 0,
              "ticks": ""
             }
            },
            "type": "scatterpolar"
           }
          ],
          "scatterpolargl": [
           {
            "marker": {
             "colorbar": {
              "outlinewidth": 0,
              "ticks": ""
             }
            },
            "type": "scatterpolargl"
           }
          ],
          "scatterternary": [
           {
            "marker": {
             "colorbar": {
              "outlinewidth": 0,
              "ticks": ""
             }
            },
            "type": "scatterternary"
           }
          ],
          "surface": [
           {
            "colorbar": {
             "outlinewidth": 0,
             "ticks": ""
            },
            "colorscale": [
             [
              0,
              "#0d0887"
             ],
             [
              0.1111111111111111,
              "#46039f"
             ],
             [
              0.2222222222222222,
              "#7201a8"
             ],
             [
              0.3333333333333333,
              "#9c179e"
             ],
             [
              0.4444444444444444,
              "#bd3786"
             ],
             [
              0.5555555555555556,
              "#d8576b"
             ],
             [
              0.6666666666666666,
              "#ed7953"
             ],
             [
              0.7777777777777778,
              "#fb9f3a"
             ],
             [
              0.8888888888888888,
              "#fdca26"
             ],
             [
              1,
              "#f0f921"
             ]
            ],
            "type": "surface"
           }
          ],
          "table": [
           {
            "cells": {
             "fill": {
              "color": "#EBF0F8"
             },
             "line": {
              "color": "white"
             }
            },
            "header": {
             "fill": {
              "color": "#C8D4E3"
             },
             "line": {
              "color": "white"
             }
            },
            "type": "table"
           }
          ]
         },
         "layout": {
          "annotationdefaults": {
           "arrowcolor": "#2a3f5f",
           "arrowhead": 0,
           "arrowwidth": 1
          },
          "autotypenumbers": "strict",
          "coloraxis": {
           "colorbar": {
            "outlinewidth": 0,
            "ticks": ""
           }
          },
          "colorscale": {
           "diverging": [
            [
             0,
             "#8e0152"
            ],
            [
             0.1,
             "#c51b7d"
            ],
            [
             0.2,
             "#de77ae"
            ],
            [
             0.3,
             "#f1b6da"
            ],
            [
             0.4,
             "#fde0ef"
            ],
            [
             0.5,
             "#f7f7f7"
            ],
            [
             0.6,
             "#e6f5d0"
            ],
            [
             0.7,
             "#b8e186"
            ],
            [
             0.8,
             "#7fbc41"
            ],
            [
             0.9,
             "#4d9221"
            ],
            [
             1,
             "#276419"
            ]
           ],
           "sequential": [
            [
             0,
             "#0d0887"
            ],
            [
             0.1111111111111111,
             "#46039f"
            ],
            [
             0.2222222222222222,
             "#7201a8"
            ],
            [
             0.3333333333333333,
             "#9c179e"
            ],
            [
             0.4444444444444444,
             "#bd3786"
            ],
            [
             0.5555555555555556,
             "#d8576b"
            ],
            [
             0.6666666666666666,
             "#ed7953"
            ],
            [
             0.7777777777777778,
             "#fb9f3a"
            ],
            [
             0.8888888888888888,
             "#fdca26"
            ],
            [
             1,
             "#f0f921"
            ]
           ],
           "sequentialminus": [
            [
             0,
             "#0d0887"
            ],
            [
             0.1111111111111111,
             "#46039f"
            ],
            [
             0.2222222222222222,
             "#7201a8"
            ],
            [
             0.3333333333333333,
             "#9c179e"
            ],
            [
             0.4444444444444444,
             "#bd3786"
            ],
            [
             0.5555555555555556,
             "#d8576b"
            ],
            [
             0.6666666666666666,
             "#ed7953"
            ],
            [
             0.7777777777777778,
             "#fb9f3a"
            ],
            [
             0.8888888888888888,
             "#fdca26"
            ],
            [
             1,
             "#f0f921"
            ]
           ]
          },
          "colorway": [
           "#636efa",
           "#EF553B",
           "#00cc96",
           "#ab63fa",
           "#FFA15A",
           "#19d3f3",
           "#FF6692",
           "#B6E880",
           "#FF97FF",
           "#FECB52"
          ],
          "font": {
           "color": "#2a3f5f"
          },
          "geo": {
           "bgcolor": "white",
           "lakecolor": "white",
           "landcolor": "#E5ECF6",
           "showlakes": true,
           "showland": true,
           "subunitcolor": "white"
          },
          "hoverlabel": {
           "align": "left"
          },
          "hovermode": "closest",
          "mapbox": {
           "style": "light"
          },
          "paper_bgcolor": "white",
          "plot_bgcolor": "#E5ECF6",
          "polar": {
           "angularaxis": {
            "gridcolor": "white",
            "linecolor": "white",
            "ticks": ""
           },
           "bgcolor": "#E5ECF6",
           "radialaxis": {
            "gridcolor": "white",
            "linecolor": "white",
            "ticks": ""
           }
          },
          "scene": {
           "xaxis": {
            "backgroundcolor": "#E5ECF6",
            "gridcolor": "white",
            "gridwidth": 2,
            "linecolor": "white",
            "showbackground": true,
            "ticks": "",
            "zerolinecolor": "white"
           },
           "yaxis": {
            "backgroundcolor": "#E5ECF6",
            "gridcolor": "white",
            "gridwidth": 2,
            "linecolor": "white",
            "showbackground": true,
            "ticks": "",
            "zerolinecolor": "white"
           },
           "zaxis": {
            "backgroundcolor": "#E5ECF6",
            "gridcolor": "white",
            "gridwidth": 2,
            "linecolor": "white",
            "showbackground": true,
            "ticks": "",
            "zerolinecolor": "white"
           }
          },
          "shapedefaults": {
           "line": {
            "color": "#2a3f5f"
           }
          },
          "ternary": {
           "aaxis": {
            "gridcolor": "white",
            "linecolor": "white",
            "ticks": ""
           },
           "baxis": {
            "gridcolor": "white",
            "linecolor": "white",
            "ticks": ""
           },
           "bgcolor": "#E5ECF6",
           "caxis": {
            "gridcolor": "white",
            "linecolor": "white",
            "ticks": ""
           }
          },
          "title": {
           "x": 0.05
          },
          "xaxis": {
           "automargin": true,
           "gridcolor": "white",
           "linecolor": "white",
           "ticks": "",
           "title": {
            "standoff": 15
           },
           "zerolinecolor": "white",
           "zerolinewidth": 2
          },
          "yaxis": {
           "automargin": true,
           "gridcolor": "white",
           "linecolor": "white",
           "ticks": "",
           "title": {
            "standoff": 15
           },
           "zerolinecolor": "white",
           "zerolinewidth": 2
          }
         }
        },
        "title": {
         "text": "Tempo and Danceability Analysis"
        },
        "xaxis": {
         "anchor": "y",
         "domain": [
          0,
          0.45
         ],
         "title": {
          "text": "Tempo (BPM)"
         }
        },
        "xaxis2": {
         "anchor": "y2",
         "domain": [
          0.55,
          1
         ],
         "title": {
          "text": "Danceability"
         }
        },
        "yaxis": {
         "anchor": "x",
         "domain": [
          0,
          1
         ],
         "title": {
          "text": "Count"
         }
        },
        "yaxis2": {
         "anchor": "x2",
         "domain": [
          0,
          1
         ],
         "title": {
          "text": "Count"
         }
        }
       }
      }
     },
     "metadata": {},
     "output_type": "display_data"
    }
   ],
   "source": [
    "# Calculate statistics for tempo\n",
    "tempo_mean = df[\"tempo\"].mean()\n",
    "tempo_median = df[\"tempo\"].median()\n",
    "tempo_std = df[\"tempo\"].std()\n",
    "tempo_variance = df[\"tempo\"].var()\n",
    "\n",
    "# Calculate statistics for danceability\n",
    "danceability_mean = df[\"danceability\"].mean()\n",
    "danceability_median = df[\"danceability\"].median()\n",
    "danceability_std = df[\"danceability\"].std()\n",
    "danceability_variance = df[\"danceability\"].var()\n",
    "\n",
    "# Interactive plot with statistics annotations\n",
    "fig = make_subplots(\n",
    "    rows=1,\n",
    "    cols=2,\n",
    "    subplot_titles=(\n",
    "        f\"Tempo Distribution (Mean: {tempo_mean:.2f}, Median: {tempo_median:.2f}, Std: {tempo_std:.2f})\",\n",
    "        f\"Danceability Distribution (Mean: {danceability_mean:.2f}, Median: {danceability_median:.2f}, Std: {danceability_std:.2f})\",\n",
    "    ),\n",
    ")\n",
    "\n",
    "fig.add_trace(go.Histogram(x=df[\"tempo\"], nbinsx=50, name=\"Tempo\"), row=1, col=1)\n",
    "\n",
    "fig.add_trace(\n",
    "    go.Histogram(x=df[\"danceability\"], nbinsx=30, name=\"Danceability\"), row=1, col=2\n",
    ")\n",
    "\n",
    "fig.update_layout(\n",
    "    height=600,\n",
    "    showlegend=False,\n",
    "    title_text=\"Tempo and Danceability Analysis\",\n",
    "    xaxis1_title=\"Tempo (BPM)\",\n",
    "    yaxis1_title=\"Count\",\n",
    "    xaxis2_title=\"Danceability\",\n",
    "    yaxis2_title=\"Count\",\n",
    ")\n",
    "\n",
    "fig.show()\n"
   ]
  },
  {
   "cell_type": "markdown",
   "metadata": {},
   "source": [
    "## Musical Key Analysis\n",
    "\n",
    "Compare key distributions across different estimation methods."
   ]
  },
  {
   "cell_type": "code",
   "execution_count": 19,
   "metadata": {},
   "outputs": [
    {
     "data": {
      "application/vnd.plotly.v1+json": {
       "config": {
        "plotlyServerURL": "https://plot.ly"
       },
       "data": [
        {
         "alignmentgroup": "True",
         "hovertemplate": "Scale=major<br>Profile=Edma<br>Key=%{x}<br>Count=%{y}<extra></extra>",
         "legendgroup": "major",
         "marker": {
          "color": "#1f77b4",
          "pattern": {
           "shape": ""
          }
         },
         "name": "major",
         "offsetgroup": "major",
         "orientation": "v",
         "showlegend": true,
         "textposition": "auto",
         "type": "bar",
         "x": [
          "A",
          "Ab",
          "B",
          "Bb",
          "C",
          "C#",
          "D",
          "E",
          "Eb",
          "F",
          "F#",
          "G"
         ],
         "xaxis": "x",
         "y": {
          "bdata": "YwBGADMANgC+AC0AcgBhAC0AaAAuAI8A",
          "dtype": "i2"
         },
         "yaxis": "y"
        },
        {
         "alignmentgroup": "True",
         "hovertemplate": "Scale=major<br>Profile=Krumhansl<br>Key=%{x}<br>Count=%{y}<extra></extra>",
         "legendgroup": "major",
         "marker": {
          "color": "#1f77b4",
          "pattern": {
           "shape": ""
          }
         },
         "name": "major",
         "offsetgroup": "major",
         "orientation": "v",
         "showlegend": false,
         "textposition": "auto",
         "type": "bar",
         "x": [
          "A",
          "Ab",
          "B",
          "Bb",
          "C",
          "C#",
          "D",
          "E",
          "Eb",
          "F",
          "F#",
          "G"
         ],
         "xaxis": "x2",
         "y": {
          "bdata": "eQBMADgARQDVADoAfwByAEMAgAA0AKAA",
          "dtype": "i2"
         },
         "yaxis": "y2"
        },
        {
         "alignmentgroup": "True",
         "hovertemplate": "Scale=major<br>Profile=Temperley<br>Key=%{x}<br>Count=%{y}<extra></extra>",
         "legendgroup": "major",
         "marker": {
          "color": "#1f77b4",
          "pattern": {
           "shape": ""
          }
         },
         "name": "major",
         "offsetgroup": "major",
         "orientation": "v",
         "showlegend": false,
         "textposition": "auto",
         "type": "bar",
         "x": [
          "A",
          "Ab",
          "B",
          "Bb",
          "C",
          "C#",
          "D",
          "E",
          "Eb",
          "F",
          "F#",
          "G"
         ],
         "xaxis": "x3",
         "y": {
          "bdata": "iABwAEYAXwD2AE4AfwB0AHMAywBKANoA",
          "dtype": "i2"
         },
         "yaxis": "y3"
        },
        {
         "alignmentgroup": "True",
         "hovertemplate": "Scale=minor<br>Profile=Edma<br>Key=%{x}<br>Count=%{y}<extra></extra>",
         "legendgroup": "minor",
         "marker": {
          "color": "#ff7f0e",
          "pattern": {
           "shape": "/"
          }
         },
         "name": "minor",
         "offsetgroup": "minor",
         "orientation": "v",
         "showlegend": true,
         "textposition": "auto",
         "type": "bar",
         "x": [
          "A",
          "Ab",
          "B",
          "Bb",
          "C",
          "C#",
          "D",
          "E",
          "Eb",
          "F",
          "F#",
          "G"
         ],
         "xaxis": "x",
         "y": {
          "bdata": "nAA8ADkANQCQADMAfQB7AC0AYwA1AEwA",
          "dtype": "i2"
         },
         "yaxis": "y"
        },
        {
         "alignmentgroup": "True",
         "hovertemplate": "Scale=minor<br>Profile=Krumhansl<br>Key=%{x}<br>Count=%{y}<extra></extra>",
         "legendgroup": "minor",
         "marker": {
          "color": "#ff7f0e",
          "pattern": {
           "shape": "/"
          }
         },
         "name": "minor",
         "offsetgroup": "minor",
         "orientation": "v",
         "showlegend": false,
         "textposition": "auto",
         "type": "bar",
         "x": [
          "A",
          "Ab",
          "B",
          "Bb",
          "C",
          "C#",
          "D",
          "E",
          "Eb",
          "F",
          "F#",
          "G"
         ],
         "xaxis": "x2",
         "y": {
          "bdata": "lAAyACoAJwB6ACUAXwBoAB4AUgAxAD0A",
          "dtype": "i2"
         },
         "yaxis": "y2"
        },
        {
         "alignmentgroup": "True",
         "hovertemplate": "Scale=minor<br>Profile=Temperley<br>Key=%{x}<br>Count=%{y}<extra></extra>",
         "legendgroup": "minor",
         "marker": {
          "color": "#ff7f0e",
          "pattern": {
           "shape": "/"
          }
         },
         "name": "minor",
         "offsetgroup": "minor",
         "orientation": "v",
         "showlegend": false,
         "textposition": "auto",
         "type": "bar",
         "x": [
          "A",
          "Ab",
          "B",
          "Bb",
          "C",
          "C#",
          "D",
          "E",
          "Eb",
          "F",
          "F#",
          "G"
         ],
         "xaxis": "x3",
         "y": {
          "bdata": "aBcOF08hIysVOhQ5",
          "dtype": "i1"
         },
         "yaxis": "y3"
        }
       ],
       "layout": {
        "annotations": [
         {
          "font": {},
          "showarrow": false,
          "text": "Edma",
          "x": 0.15999999999999998,
          "xanchor": "center",
          "xref": "paper",
          "y": 1,
          "yanchor": "bottom",
          "yref": "paper"
         },
         {
          "font": {},
          "showarrow": false,
          "text": "Krumhansl",
          "x": 0.49999999999999994,
          "xanchor": "center",
          "xref": "paper",
          "y": 1,
          "yanchor": "bottom",
          "yref": "paper"
         },
         {
          "font": {},
          "showarrow": false,
          "text": "Temperley",
          "x": 0.8399999999999999,
          "xanchor": "center",
          "xref": "paper",
          "y": 1,
          "yanchor": "bottom",
          "yref": "paper"
         }
        ],
        "barmode": "group",
        "height": 600,
        "legend": {
         "title": {
          "text": "Scale"
         },
         "tracegroupgap": 0
        },
        "margin": {
         "b": 20,
         "l": 20,
         "r": 20,
         "t": 40
        },
        "template": {
         "data": {
          "bar": [
           {
            "error_x": {
             "color": "#2a3f5f"
            },
            "error_y": {
             "color": "#2a3f5f"
            },
            "marker": {
             "line": {
              "color": "#E5ECF6",
              "width": 0.5
             },
             "pattern": {
              "fillmode": "overlay",
              "size": 10,
              "solidity": 0.2
             }
            },
            "type": "bar"
           }
          ],
          "barpolar": [
           {
            "marker": {
             "line": {
              "color": "#E5ECF6",
              "width": 0.5
             },
             "pattern": {
              "fillmode": "overlay",
              "size": 10,
              "solidity": 0.2
             }
            },
            "type": "barpolar"
           }
          ],
          "carpet": [
           {
            "aaxis": {
             "endlinecolor": "#2a3f5f",
             "gridcolor": "white",
             "linecolor": "white",
             "minorgridcolor": "white",
             "startlinecolor": "#2a3f5f"
            },
            "baxis": {
             "endlinecolor": "#2a3f5f",
             "gridcolor": "white",
             "linecolor": "white",
             "minorgridcolor": "white",
             "startlinecolor": "#2a3f5f"
            },
            "type": "carpet"
           }
          ],
          "choropleth": [
           {
            "colorbar": {
             "outlinewidth": 0,
             "ticks": ""
            },
            "type": "choropleth"
           }
          ],
          "contour": [
           {
            "colorbar": {
             "outlinewidth": 0,
             "ticks": ""
            },
            "colorscale": [
             [
              0,
              "#0d0887"
             ],
             [
              0.1111111111111111,
              "#46039f"
             ],
             [
              0.2222222222222222,
              "#7201a8"
             ],
             [
              0.3333333333333333,
              "#9c179e"
             ],
             [
              0.4444444444444444,
              "#bd3786"
             ],
             [
              0.5555555555555556,
              "#d8576b"
             ],
             [
              0.6666666666666666,
              "#ed7953"
             ],
             [
              0.7777777777777778,
              "#fb9f3a"
             ],
             [
              0.8888888888888888,
              "#fdca26"
             ],
             [
              1,
              "#f0f921"
             ]
            ],
            "type": "contour"
           }
          ],
          "contourcarpet": [
           {
            "colorbar": {
             "outlinewidth": 0,
             "ticks": ""
            },
            "type": "contourcarpet"
           }
          ],
          "heatmap": [
           {
            "colorbar": {
             "outlinewidth": 0,
             "ticks": ""
            },
            "colorscale": [
             [
              0,
              "#0d0887"
             ],
             [
              0.1111111111111111,
              "#46039f"
             ],
             [
              0.2222222222222222,
              "#7201a8"
             ],
             [
              0.3333333333333333,
              "#9c179e"
             ],
             [
              0.4444444444444444,
              "#bd3786"
             ],
             [
              0.5555555555555556,
              "#d8576b"
             ],
             [
              0.6666666666666666,
              "#ed7953"
             ],
             [
              0.7777777777777778,
              "#fb9f3a"
             ],
             [
              0.8888888888888888,
              "#fdca26"
             ],
             [
              1,
              "#f0f921"
             ]
            ],
            "type": "heatmap"
           }
          ],
          "histogram": [
           {
            "marker": {
             "pattern": {
              "fillmode": "overlay",
              "size": 10,
              "solidity": 0.2
             }
            },
            "type": "histogram"
           }
          ],
          "histogram2d": [
           {
            "colorbar": {
             "outlinewidth": 0,
             "ticks": ""
            },
            "colorscale": [
             [
              0,
              "#0d0887"
             ],
             [
              0.1111111111111111,
              "#46039f"
             ],
             [
              0.2222222222222222,
              "#7201a8"
             ],
             [
              0.3333333333333333,
              "#9c179e"
             ],
             [
              0.4444444444444444,
              "#bd3786"
             ],
             [
              0.5555555555555556,
              "#d8576b"
             ],
             [
              0.6666666666666666,
              "#ed7953"
             ],
             [
              0.7777777777777778,
              "#fb9f3a"
             ],
             [
              0.8888888888888888,
              "#fdca26"
             ],
             [
              1,
              "#f0f921"
             ]
            ],
            "type": "histogram2d"
           }
          ],
          "histogram2dcontour": [
           {
            "colorbar": {
             "outlinewidth": 0,
             "ticks": ""
            },
            "colorscale": [
             [
              0,
              "#0d0887"
             ],
             [
              0.1111111111111111,
              "#46039f"
             ],
             [
              0.2222222222222222,
              "#7201a8"
             ],
             [
              0.3333333333333333,
              "#9c179e"
             ],
             [
              0.4444444444444444,
              "#bd3786"
             ],
             [
              0.5555555555555556,
              "#d8576b"
             ],
             [
              0.6666666666666666,
              "#ed7953"
             ],
             [
              0.7777777777777778,
              "#fb9f3a"
             ],
             [
              0.8888888888888888,
              "#fdca26"
             ],
             [
              1,
              "#f0f921"
             ]
            ],
            "type": "histogram2dcontour"
           }
          ],
          "mesh3d": [
           {
            "colorbar": {
             "outlinewidth": 0,
             "ticks": ""
            },
            "type": "mesh3d"
           }
          ],
          "parcoords": [
           {
            "line": {
             "colorbar": {
              "outlinewidth": 0,
              "ticks": ""
             }
            },
            "type": "parcoords"
           }
          ],
          "pie": [
           {
            "automargin": true,
            "type": "pie"
           }
          ],
          "scatter": [
           {
            "fillpattern": {
             "fillmode": "overlay",
             "size": 10,
             "solidity": 0.2
            },
            "type": "scatter"
           }
          ],
          "scatter3d": [
           {
            "line": {
             "colorbar": {
              "outlinewidth": 0,
              "ticks": ""
             }
            },
            "marker": {
             "colorbar": {
              "outlinewidth": 0,
              "ticks": ""
             }
            },
            "type": "scatter3d"
           }
          ],
          "scattercarpet": [
           {
            "marker": {
             "colorbar": {
              "outlinewidth": 0,
              "ticks": ""
             }
            },
            "type": "scattercarpet"
           }
          ],
          "scattergeo": [
           {
            "marker": {
             "colorbar": {
              "outlinewidth": 0,
              "ticks": ""
             }
            },
            "type": "scattergeo"
           }
          ],
          "scattergl": [
           {
            "marker": {
             "colorbar": {
              "outlinewidth": 0,
              "ticks": ""
             }
            },
            "type": "scattergl"
           }
          ],
          "scattermap": [
           {
            "marker": {
             "colorbar": {
              "outlinewidth": 0,
              "ticks": ""
             }
            },
            "type": "scattermap"
           }
          ],
          "scattermapbox": [
           {
            "marker": {
             "colorbar": {
              "outlinewidth": 0,
              "ticks": ""
             }
            },
            "type": "scattermapbox"
           }
          ],
          "scatterpolar": [
           {
            "marker": {
             "colorbar": {
              "outlinewidth": 0,
              "ticks": ""
             }
            },
            "type": "scatterpolar"
           }
          ],
          "scatterpolargl": [
           {
            "marker": {
             "colorbar": {
              "outlinewidth": 0,
              "ticks": ""
             }
            },
            "type": "scatterpolargl"
           }
          ],
          "scatterternary": [
           {
            "marker": {
             "colorbar": {
              "outlinewidth": 0,
              "ticks": ""
             }
            },
            "type": "scatterternary"
           }
          ],
          "surface": [
           {
            "colorbar": {
             "outlinewidth": 0,
             "ticks": ""
            },
            "colorscale": [
             [
              0,
              "#0d0887"
             ],
             [
              0.1111111111111111,
              "#46039f"
             ],
             [
              0.2222222222222222,
              "#7201a8"
             ],
             [
              0.3333333333333333,
              "#9c179e"
             ],
             [
              0.4444444444444444,
              "#bd3786"
             ],
             [
              0.5555555555555556,
              "#d8576b"
             ],
             [
              0.6666666666666666,
              "#ed7953"
             ],
             [
              0.7777777777777778,
              "#fb9f3a"
             ],
             [
              0.8888888888888888,
              "#fdca26"
             ],
             [
              1,
              "#f0f921"
             ]
            ],
            "type": "surface"
           }
          ],
          "table": [
           {
            "cells": {
             "fill": {
              "color": "#EBF0F8"
             },
             "line": {
              "color": "white"
             }
            },
            "header": {
             "fill": {
              "color": "#C8D4E3"
             },
             "line": {
              "color": "white"
             }
            },
            "type": "table"
           }
          ]
         },
         "layout": {
          "annotationdefaults": {
           "arrowcolor": "#2a3f5f",
           "arrowhead": 0,
           "arrowwidth": 1
          },
          "autotypenumbers": "strict",
          "coloraxis": {
           "colorbar": {
            "outlinewidth": 0,
            "ticks": ""
           }
          },
          "colorscale": {
           "diverging": [
            [
             0,
             "#8e0152"
            ],
            [
             0.1,
             "#c51b7d"
            ],
            [
             0.2,
             "#de77ae"
            ],
            [
             0.3,
             "#f1b6da"
            ],
            [
             0.4,
             "#fde0ef"
            ],
            [
             0.5,
             "#f7f7f7"
            ],
            [
             0.6,
             "#e6f5d0"
            ],
            [
             0.7,
             "#b8e186"
            ],
            [
             0.8,
             "#7fbc41"
            ],
            [
             0.9,
             "#4d9221"
            ],
            [
             1,
             "#276419"
            ]
           ],
           "sequential": [
            [
             0,
             "#0d0887"
            ],
            [
             0.1111111111111111,
             "#46039f"
            ],
            [
             0.2222222222222222,
             "#7201a8"
            ],
            [
             0.3333333333333333,
             "#9c179e"
            ],
            [
             0.4444444444444444,
             "#bd3786"
            ],
            [
             0.5555555555555556,
             "#d8576b"
            ],
            [
             0.6666666666666666,
             "#ed7953"
            ],
            [
             0.7777777777777778,
             "#fb9f3a"
            ],
            [
             0.8888888888888888,
             "#fdca26"
            ],
            [
             1,
             "#f0f921"
            ]
           ],
           "sequentialminus": [
            [
             0,
             "#0d0887"
            ],
            [
             0.1111111111111111,
             "#46039f"
            ],
            [
             0.2222222222222222,
             "#7201a8"
            ],
            [
             0.3333333333333333,
             "#9c179e"
            ],
            [
             0.4444444444444444,
             "#bd3786"
            ],
            [
             0.5555555555555556,
             "#d8576b"
            ],
            [
             0.6666666666666666,
             "#ed7953"
            ],
            [
             0.7777777777777778,
             "#fb9f3a"
            ],
            [
             0.8888888888888888,
             "#fdca26"
            ],
            [
             1,
             "#f0f921"
            ]
           ]
          },
          "colorway": [
           "#636efa",
           "#EF553B",
           "#00cc96",
           "#ab63fa",
           "#FFA15A",
           "#19d3f3",
           "#FF6692",
           "#B6E880",
           "#FF97FF",
           "#FECB52"
          ],
          "font": {
           "color": "#2a3f5f"
          },
          "geo": {
           "bgcolor": "white",
           "lakecolor": "white",
           "landcolor": "#E5ECF6",
           "showlakes": true,
           "showland": true,
           "subunitcolor": "white"
          },
          "hoverlabel": {
           "align": "left"
          },
          "hovermode": "closest",
          "mapbox": {
           "style": "light"
          },
          "paper_bgcolor": "white",
          "plot_bgcolor": "#E5ECF6",
          "polar": {
           "angularaxis": {
            "gridcolor": "white",
            "linecolor": "white",
            "ticks": ""
           },
           "bgcolor": "#E5ECF6",
           "radialaxis": {
            "gridcolor": "white",
            "linecolor": "white",
            "ticks": ""
           }
          },
          "scene": {
           "xaxis": {
            "backgroundcolor": "#E5ECF6",
            "gridcolor": "white",
            "gridwidth": 2,
            "linecolor": "white",
            "showbackground": true,
            "ticks": "",
            "zerolinecolor": "white"
           },
           "yaxis": {
            "backgroundcolor": "#E5ECF6",
            "gridcolor": "white",
            "gridwidth": 2,
            "linecolor": "white",
            "showbackground": true,
            "ticks": "",
            "zerolinecolor": "white"
           },
           "zaxis": {
            "backgroundcolor": "#E5ECF6",
            "gridcolor": "white",
            "gridwidth": 2,
            "linecolor": "white",
            "showbackground": true,
            "ticks": "",
            "zerolinecolor": "white"
           }
          },
          "shapedefaults": {
           "line": {
            "color": "#2a3f5f"
           }
          },
          "ternary": {
           "aaxis": {
            "gridcolor": "white",
            "linecolor": "white",
            "ticks": ""
           },
           "baxis": {
            "gridcolor": "white",
            "linecolor": "white",
            "ticks": ""
           },
           "bgcolor": "#E5ECF6",
           "caxis": {
            "gridcolor": "white",
            "linecolor": "white",
            "ticks": ""
           }
          },
          "title": {
           "x": 0.05
          },
          "xaxis": {
           "automargin": true,
           "gridcolor": "white",
           "linecolor": "white",
           "ticks": "",
           "title": {
            "standoff": 15
           },
           "zerolinecolor": "white",
           "zerolinewidth": 2
          },
          "yaxis": {
           "automargin": true,
           "gridcolor": "white",
           "linecolor": "white",
           "ticks": "",
           "title": {
            "standoff": 15
           },
           "zerolinecolor": "white",
           "zerolinewidth": 2
          }
         }
        },
        "title": {
         "text": "Key Distribution by Algorithm (Major vs Minor)"
        },
        "xaxis": {
         "anchor": "y",
         "categoryarray": [
          "A",
          "Ab",
          "B",
          "Bb",
          "C",
          "C#",
          "D",
          "E",
          "Eb",
          "F",
          "F#",
          "G"
         ],
         "categoryorder": "array",
         "domain": [
          0,
          0.31999999999999995
         ],
         "tickangle": -45,
         "title": {
          "text": "Musical Key"
         }
        },
        "xaxis2": {
         "anchor": "y2",
         "categoryarray": [
          "A",
          "Ab",
          "B",
          "Bb",
          "C",
          "C#",
          "D",
          "E",
          "Eb",
          "F",
          "F#",
          "G"
         ],
         "categoryorder": "array",
         "domain": [
          0.33999999999999997,
          0.6599999999999999
         ],
         "matches": "x",
         "title": {
          "text": "Key"
         }
        },
        "xaxis3": {
         "anchor": "y3",
         "categoryarray": [
          "A",
          "Ab",
          "B",
          "Bb",
          "C",
          "C#",
          "D",
          "E",
          "Eb",
          "F",
          "F#",
          "G"
         ],
         "categoryorder": "array",
         "domain": [
          0.6799999999999999,
          0.9999999999999999
         ],
         "matches": "x",
         "title": {
          "text": "Key"
         }
        },
        "yaxis": {
         "anchor": "x",
         "domain": [
          0,
          1
         ],
         "title": {
          "text": "Number of Tracks"
         }
        },
        "yaxis2": {
         "anchor": "x2",
         "domain": [
          0,
          1
         ],
         "matches": "y",
         "showticklabels": false
        },
        "yaxis3": {
         "anchor": "x3",
         "domain": [
          0,
          1
         ],
         "matches": "y",
         "showticklabels": false
        }
       }
      }
     },
     "metadata": {},
     "output_type": "display_data"
    }
   ],
   "source": [
    "profiles = [\"temperley\", \"krumhansl\", \"edma\"]\n",
    "\n",
    "for profile in profiles:\n",
    "    df[f\"key_{profile}\"] = df[\"key\"].apply(\n",
    "        lambda x: x.get(profile, {}).get(\"key\") if isinstance(x, dict) else None\n",
    "    )\n",
    "    df[f\"scale_{profile}\"] = df[\"key\"].apply(\n",
    "        lambda x: x.get(profile, {}).get(\"scale\") if isinstance(x, dict) else None\n",
    "    )\n",
    "\n",
    "# Transform the data into long form:\n",
    "key_data = []\n",
    "for profile in profiles:\n",
    "    col_key = f\"key_{profile}\"\n",
    "    col_scale = f\"scale_{profile}\"\n",
    "    if col_key in df.columns and col_scale in df.columns:\n",
    "        temp = df[[col_key, col_scale]].dropna().copy()\n",
    "        temp = temp.rename(columns={col_key: \"Key\", col_scale: \"Scale\"})\n",
    "        temp[\"Profile\"] = profile.capitalize()\n",
    "        key_data.append(temp)\n",
    "\n",
    "if key_data:\n",
    "    key_df = pd.concat(key_data, ignore_index=True)\n",
    "else:\n",
    "    key_df = pd.DataFrame(columns=[\"Key\", \"Scale\", \"Profile\"])\n",
    "\n",
    "# Group the data to count occurrences per combination:\n",
    "key_df = key_df.groupby([\"Key\", \"Scale\", \"Profile\"]).size().reset_index(name=\"Count\")\n",
    "\n",
    "color_map = {\"major\": \"#1f77b4\", \"minor\": \"#ff7f0e\"}\n",
    "pattern_map = {\"major\": \"\", \"minor\": \"/\"}\n",
    "\n",
    "# Create a facet bar chart:\n",
    "fig = px.bar(\n",
    "    key_df,\n",
    "    x=\"Key\",\n",
    "    y=\"Count\",\n",
    "    color=\"Scale\",\n",
    "    facet_col=\"Profile\",\n",
    "    barmode=\"group\",\n",
    "    title=\"Key Distribution by Algorithm (Major vs Minor)\",\n",
    "    color_discrete_map=color_map,\n",
    "    category_orders={\"Key\": sorted(key_df[\"Key\"].unique())},\n",
    ")\n",
    "\n",
    "# Add pattern shapes manually using update_traces\n",
    "for trace in fig.data:\n",
    "    if \"major\" in trace.name.lower():\n",
    "        trace.marker.pattern.shape = pattern_map[\"major\"]\n",
    "    elif \"minor\" in trace.name.lower():\n",
    "        trace.marker.pattern.shape = pattern_map[\"minor\"]\n",
    "\n",
    "fig.for_each_annotation(lambda a: a.update(text=a.text.split(\"=\")[-1]))\n",
    "fig.update_layout(\n",
    "    xaxis_tickangle=-45,\n",
    "    height=600,\n",
    "    margin=dict(l=20, r=20, t=40, b=20),\n",
    "    xaxis_title=\"Musical Key\",\n",
    "    yaxis_title=\"Number of Tracks\",\n",
    ")\n",
    "\n",
    "fig.show()"
   ]
  },
  {
   "cell_type": "code",
   "execution_count": 20,
   "metadata": {},
   "outputs": [
    {
     "data": {
      "application/vnd.plotly.v1+json": {
       "config": {
        "plotlyServerURL": "https://plot.ly"
       },
       "data": [
        {
         "alignmentgroup": "True",
         "customdata": {
          "bdata": "mGZsIO22IkAhGioZDHcaQBn9pRkbSBNAGioZDHdqFECXSMp+WvUxQBWjvzRjAxFAHFeM/tKMJUCYV5vPI1YiQBWjvzRjAxFAGQx3auSoI0AWspCFLGQRQKOwYxI6CCtA",
          "dtype": "f8",
          "shape": "12, 1"
         },
         "hovertemplate": "<b>%{x}</b><br>Number of Tracks: %{y}<br>Percentage: %{customdata[0]:.2f}%<extra></extra>",
         "legendgroup": "Edma_major, Edma",
         "marker": {
          "color": "#8da0cb",
          "pattern": {
           "shape": "\\"
          }
         },
         "name": "Edma_major, Edma",
         "offsetgroup": "Edma_major, Edma",
         "orientation": "v",
         "showlegend": true,
         "textposition": "auto",
         "type": "bar",
         "x": [
          "A",
          "Ab",
          "B",
          "Bb",
          "C",
          "C#",
          "D",
          "E",
          "Eb",
          "F",
          "F#",
          "G"
         ],
         "xaxis": "x",
         "y": {
          "bdata": "YwBGADMANgC+AC0AcgBhAC0AaAAuAI8A",
          "dtype": "i2"
         },
         "yaxis": "y"
        },
        {
         "alignmentgroup": "True",
         "customdata": {
          "bdata": "UUN/VULxLUBS0SZpWggXQKcTGBeJ4RVAGmwE/3FYFED8x2Gxn6MrQFKY+nLmkxNACxoz2Aj+J0AnMC4Sw5snQP0c3c5DRhFAfTnzyX0AI0AabAT/cVgUQIpvdcm2LB1A",
          "dtype": "f8",
          "shape": "12, 1"
         },
         "hovertemplate": "<b>%{x}</b><br>Number of Tracks: %{y}<br>Percentage: %{customdata[0]:.2f}%<extra></extra>",
         "legendgroup": "Edma_minor, Edma",
         "marker": {
          "color": "#5d78b5",
          "pattern": {
           "shape": "\\"
          }
         },
         "name": "Edma_minor, Edma",
         "offsetgroup": "Edma_minor, Edma",
         "orientation": "v",
         "showlegend": true,
         "textposition": "auto",
         "type": "bar",
         "x": [
          "A",
          "Ab",
          "B",
          "Bb",
          "C",
          "C#",
          "D",
          "E",
          "Eb",
          "F",
          "F#",
          "G"
         ],
         "xaxis": "x",
         "y": {
          "bdata": "nAA8ADkANQCQADMAfQB7AC0AYwA1AEwA",
          "dtype": "i2"
         },
         "yaxis": "y"
        },
        {
         "alignmentgroup": "True",
         "customdata": {
          "bdata": "ayGOZxqAI0A90wBcEn8YQNwv2CjKDBJAQc3lFnk9FkDL/2g74CkxQP8MKWHRsRJAIG0HPKV3JEBungDFTV8iQB7wlN5xmBVAaaQbCuegJECVdTa4u8IQQIKNoswgySlA",
          "dtype": "f8",
          "shape": "12, 1"
         },
         "hovertemplate": "<b>%{x}</b><br>Number of Tracks: %{y}<br>Percentage: %{customdata[0]:.2f}%<extra></extra>",
         "legendgroup": "Krumhansl_major, Krumhansl",
         "marker": {
          "color": "#fc8d62",
          "pattern": {
           "shape": "/"
          }
         },
         "name": "Krumhansl_major, Krumhansl",
         "offsetgroup": "Krumhansl_major, Krumhansl",
         "orientation": "v",
         "showlegend": true,
         "textposition": "auto",
         "type": "bar",
         "x": [
          "A",
          "Ab",
          "B",
          "Bb",
          "C",
          "C#",
          "D",
          "E",
          "Eb",
          "F",
          "F#",
          "G"
         ],
         "xaxis": "x",
         "y": {
          "bdata": "eQBMADgARQDVADoAfwByAEMAgAA0AKAA",
          "dtype": "i2"
         },
         "yaxis": "y"
        },
        {
         "alignmentgroup": "True",
         "customdata": {
          "bdata": "+cfzyrU6MUAEdpxJa0gXQGBtg4XAjhNAIgr6eyApEkDm4T4XtmcsQPnH88q1OhFAUKNU7GUeJkAtuKL61TYoQNHAu76A8AtAS0wALYsXI0DwVBnxNdEWQObhPhe2ZxxA",
          "dtype": "f8",
          "shape": "12, 1"
         },
         "hovertemplate": "<b>%{x}</b><br>Number of Tracks: %{y}<br>Percentage: %{customdata[0]:.2f}%<extra></extra>",
         "legendgroup": "Krumhansl_minor, Krumhansl",
         "marker": {
          "color": "#fa5b1d",
          "pattern": {
           "shape": "/"
          }
         },
         "name": "Krumhansl_minor, Krumhansl",
         "offsetgroup": "Krumhansl_minor, Krumhansl",
         "orientation": "v",
         "showlegend": true,
         "textposition": "auto",
         "type": "bar",
         "x": [
          "A",
          "Ab",
          "B",
          "Bb",
          "C",
          "C#",
          "D",
          "E",
          "Eb",
          "F",
          "F#",
          "G"
         ],
         "xaxis": "x",
         "y": {
          "bdata": "lAAyACoAJwB6ACUAXwBoAB4AUgAxAD0A",
          "dtype": "i2"
         },
         "yaxis": "y"
        },
        {
         "alignmentgroup": "True",
         "customdata": {
          "bdata": "69Jj/l4bIUAaEEruFC0cQBBK7hQtnBFAXxuxLj3mF0Bln0NqgvEuQKUmGG9lnxNAr41Ylx7zH0Bk/l4bsS4dQNHCGRBK7hxAlx7z99qIKUBaOANCyZ0SQGJdeszfaytA",
          "dtype": "f8",
          "shape": "12, 1"
         },
         "hovertemplate": "<b>%{x}</b><br>Number of Tracks: %{y}<br>Percentage: %{customdata[0]:.2f}%<extra></extra>",
         "legendgroup": "Temperley_major, Temperley",
         "marker": {
          "color": "#66c2a5",
          "pattern": {
           "shape": ""
          }
         },
         "name": "Temperley_major, Temperley",
         "offsetgroup": "Temperley_major, Temperley",
         "orientation": "v",
         "showlegend": true,
         "textposition": "auto",
         "type": "bar",
         "x": [
          "A",
          "Ab",
          "B",
          "Bb",
          "C",
          "C#",
          "D",
          "E",
          "Eb",
          "F",
          "F#",
          "G"
         ],
         "xaxis": "x",
         "y": {
          "bdata": "iABwAEYAXwD2AE4AfwB0AHMAywBKANoA",
          "dtype": "i2"
         },
         "yaxis": "y"
        },
        {
         "alignmentgroup": "True",
         "customdata": {
          "bdata": "ZGRkZGRkNEAKCgoKCgoSQPb19fX19QVACgoKCgoKEkD7+vr6+vouQOPh4eHh4RlAdHNzc3NzG0Dd3Nzc3NwgQHh4eHh4eBBAv76+vr6+JkBfX19fX18PQFtaWlpaWiZA",
          "dtype": "f8",
          "shape": "12, 1"
         },
         "hovertemplate": "<b>%{x}</b><br>Number of Tracks: %{y}<br>Percentage: %{customdata[0]:.2f}%<extra></extra>",
         "legendgroup": "Temperley_minor, Temperley",
         "marker": {
          "color": "#43a989",
          "pattern": {
           "shape": ""
          }
         },
         "name": "Temperley_minor, Temperley",
         "offsetgroup": "Temperley_minor, Temperley",
         "orientation": "v",
         "showlegend": true,
         "textposition": "auto",
         "type": "bar",
         "x": [
          "A",
          "Ab",
          "B",
          "Bb",
          "C",
          "C#",
          "D",
          "E",
          "Eb",
          "F",
          "F#",
          "G"
         ],
         "xaxis": "x",
         "y": {
          "bdata": "aBcOF08hIysVOhQ5",
          "dtype": "i1"
         },
         "yaxis": "y"
        }
       ],
       "layout": {
        "bargroupgap": 0.2,
        "barmode": "group",
        "height": 700,
        "legend": {
         "title": {
          "text": "ProfileScale, Profile"
         },
         "tracegroupgap": 0
        },
        "template": {
         "data": {
          "bar": [
           {
            "error_x": {
             "color": "#2a3f5f"
            },
            "error_y": {
             "color": "#2a3f5f"
            },
            "marker": {
             "line": {
              "color": "#E5ECF6",
              "width": 0.5
             },
             "pattern": {
              "fillmode": "overlay",
              "size": 10,
              "solidity": 0.2
             }
            },
            "type": "bar"
           }
          ],
          "barpolar": [
           {
            "marker": {
             "line": {
              "color": "#E5ECF6",
              "width": 0.5
             },
             "pattern": {
              "fillmode": "overlay",
              "size": 10,
              "solidity": 0.2
             }
            },
            "type": "barpolar"
           }
          ],
          "carpet": [
           {
            "aaxis": {
             "endlinecolor": "#2a3f5f",
             "gridcolor": "white",
             "linecolor": "white",
             "minorgridcolor": "white",
             "startlinecolor": "#2a3f5f"
            },
            "baxis": {
             "endlinecolor": "#2a3f5f",
             "gridcolor": "white",
             "linecolor": "white",
             "minorgridcolor": "white",
             "startlinecolor": "#2a3f5f"
            },
            "type": "carpet"
           }
          ],
          "choropleth": [
           {
            "colorbar": {
             "outlinewidth": 0,
             "ticks": ""
            },
            "type": "choropleth"
           }
          ],
          "contour": [
           {
            "colorbar": {
             "outlinewidth": 0,
             "ticks": ""
            },
            "colorscale": [
             [
              0,
              "#0d0887"
             ],
             [
              0.1111111111111111,
              "#46039f"
             ],
             [
              0.2222222222222222,
              "#7201a8"
             ],
             [
              0.3333333333333333,
              "#9c179e"
             ],
             [
              0.4444444444444444,
              "#bd3786"
             ],
             [
              0.5555555555555556,
              "#d8576b"
             ],
             [
              0.6666666666666666,
              "#ed7953"
             ],
             [
              0.7777777777777778,
              "#fb9f3a"
             ],
             [
              0.8888888888888888,
              "#fdca26"
             ],
             [
              1,
              "#f0f921"
             ]
            ],
            "type": "contour"
           }
          ],
          "contourcarpet": [
           {
            "colorbar": {
             "outlinewidth": 0,
             "ticks": ""
            },
            "type": "contourcarpet"
           }
          ],
          "heatmap": [
           {
            "colorbar": {
             "outlinewidth": 0,
             "ticks": ""
            },
            "colorscale": [
             [
              0,
              "#0d0887"
             ],
             [
              0.1111111111111111,
              "#46039f"
             ],
             [
              0.2222222222222222,
              "#7201a8"
             ],
             [
              0.3333333333333333,
              "#9c179e"
             ],
             [
              0.4444444444444444,
              "#bd3786"
             ],
             [
              0.5555555555555556,
              "#d8576b"
             ],
             [
              0.6666666666666666,
              "#ed7953"
             ],
             [
              0.7777777777777778,
              "#fb9f3a"
             ],
             [
              0.8888888888888888,
              "#fdca26"
             ],
             [
              1,
              "#f0f921"
             ]
            ],
            "type": "heatmap"
           }
          ],
          "histogram": [
           {
            "marker": {
             "pattern": {
              "fillmode": "overlay",
              "size": 10,
              "solidity": 0.2
             }
            },
            "type": "histogram"
           }
          ],
          "histogram2d": [
           {
            "colorbar": {
             "outlinewidth": 0,
             "ticks": ""
            },
            "colorscale": [
             [
              0,
              "#0d0887"
             ],
             [
              0.1111111111111111,
              "#46039f"
             ],
             [
              0.2222222222222222,
              "#7201a8"
             ],
             [
              0.3333333333333333,
              "#9c179e"
             ],
             [
              0.4444444444444444,
              "#bd3786"
             ],
             [
              0.5555555555555556,
              "#d8576b"
             ],
             [
              0.6666666666666666,
              "#ed7953"
             ],
             [
              0.7777777777777778,
              "#fb9f3a"
             ],
             [
              0.8888888888888888,
              "#fdca26"
             ],
             [
              1,
              "#f0f921"
             ]
            ],
            "type": "histogram2d"
           }
          ],
          "histogram2dcontour": [
           {
            "colorbar": {
             "outlinewidth": 0,
             "ticks": ""
            },
            "colorscale": [
             [
              0,
              "#0d0887"
             ],
             [
              0.1111111111111111,
              "#46039f"
             ],
             [
              0.2222222222222222,
              "#7201a8"
             ],
             [
              0.3333333333333333,
              "#9c179e"
             ],
             [
              0.4444444444444444,
              "#bd3786"
             ],
             [
              0.5555555555555556,
              "#d8576b"
             ],
             [
              0.6666666666666666,
              "#ed7953"
             ],
             [
              0.7777777777777778,
              "#fb9f3a"
             ],
             [
              0.8888888888888888,
              "#fdca26"
             ],
             [
              1,
              "#f0f921"
             ]
            ],
            "type": "histogram2dcontour"
           }
          ],
          "mesh3d": [
           {
            "colorbar": {
             "outlinewidth": 0,
             "ticks": ""
            },
            "type": "mesh3d"
           }
          ],
          "parcoords": [
           {
            "line": {
             "colorbar": {
              "outlinewidth": 0,
              "ticks": ""
             }
            },
            "type": "parcoords"
           }
          ],
          "pie": [
           {
            "automargin": true,
            "type": "pie"
           }
          ],
          "scatter": [
           {
            "fillpattern": {
             "fillmode": "overlay",
             "size": 10,
             "solidity": 0.2
            },
            "type": "scatter"
           }
          ],
          "scatter3d": [
           {
            "line": {
             "colorbar": {
              "outlinewidth": 0,
              "ticks": ""
             }
            },
            "marker": {
             "colorbar": {
              "outlinewidth": 0,
              "ticks": ""
             }
            },
            "type": "scatter3d"
           }
          ],
          "scattercarpet": [
           {
            "marker": {
             "colorbar": {
              "outlinewidth": 0,
              "ticks": ""
             }
            },
            "type": "scattercarpet"
           }
          ],
          "scattergeo": [
           {
            "marker": {
             "colorbar": {
              "outlinewidth": 0,
              "ticks": ""
             }
            },
            "type": "scattergeo"
           }
          ],
          "scattergl": [
           {
            "marker": {
             "colorbar": {
              "outlinewidth": 0,
              "ticks": ""
             }
            },
            "type": "scattergl"
           }
          ],
          "scattermap": [
           {
            "marker": {
             "colorbar": {
              "outlinewidth": 0,
              "ticks": ""
             }
            },
            "type": "scattermap"
           }
          ],
          "scattermapbox": [
           {
            "marker": {
             "colorbar": {
              "outlinewidth": 0,
              "ticks": ""
             }
            },
            "type": "scattermapbox"
           }
          ],
          "scatterpolar": [
           {
            "marker": {
             "colorbar": {
              "outlinewidth": 0,
              "ticks": ""
             }
            },
            "type": "scatterpolar"
           }
          ],
          "scatterpolargl": [
           {
            "marker": {
             "colorbar": {
              "outlinewidth": 0,
              "ticks": ""
             }
            },
            "type": "scatterpolargl"
           }
          ],
          "scatterternary": [
           {
            "marker": {
             "colorbar": {
              "outlinewidth": 0,
              "ticks": ""
             }
            },
            "type": "scatterternary"
           }
          ],
          "surface": [
           {
            "colorbar": {
             "outlinewidth": 0,
             "ticks": ""
            },
            "colorscale": [
             [
              0,
              "#0d0887"
             ],
             [
              0.1111111111111111,
              "#46039f"
             ],
             [
              0.2222222222222222,
              "#7201a8"
             ],
             [
              0.3333333333333333,
              "#9c179e"
             ],
             [
              0.4444444444444444,
              "#bd3786"
             ],
             [
              0.5555555555555556,
              "#d8576b"
             ],
             [
              0.6666666666666666,
              "#ed7953"
             ],
             [
              0.7777777777777778,
              "#fb9f3a"
             ],
             [
              0.8888888888888888,
              "#fdca26"
             ],
             [
              1,
              "#f0f921"
             ]
            ],
            "type": "surface"
           }
          ],
          "table": [
           {
            "cells": {
             "fill": {
              "color": "#EBF0F8"
             },
             "line": {
              "color": "white"
             }
            },
            "header": {
             "fill": {
              "color": "#C8D4E3"
             },
             "line": {
              "color": "white"
             }
            },
            "type": "table"
           }
          ]
         },
         "layout": {
          "annotationdefaults": {
           "arrowcolor": "#2a3f5f",
           "arrowhead": 0,
           "arrowwidth": 1
          },
          "autotypenumbers": "strict",
          "coloraxis": {
           "colorbar": {
            "outlinewidth": 0,
            "ticks": ""
           }
          },
          "colorscale": {
           "diverging": [
            [
             0,
             "#8e0152"
            ],
            [
             0.1,
             "#c51b7d"
            ],
            [
             0.2,
             "#de77ae"
            ],
            [
             0.3,
             "#f1b6da"
            ],
            [
             0.4,
             "#fde0ef"
            ],
            [
             0.5,
             "#f7f7f7"
            ],
            [
             0.6,
             "#e6f5d0"
            ],
            [
             0.7,
             "#b8e186"
            ],
            [
             0.8,
             "#7fbc41"
            ],
            [
             0.9,
             "#4d9221"
            ],
            [
             1,
             "#276419"
            ]
           ],
           "sequential": [
            [
             0,
             "#0d0887"
            ],
            [
             0.1111111111111111,
             "#46039f"
            ],
            [
             0.2222222222222222,
             "#7201a8"
            ],
            [
             0.3333333333333333,
             "#9c179e"
            ],
            [
             0.4444444444444444,
             "#bd3786"
            ],
            [
             0.5555555555555556,
             "#d8576b"
            ],
            [
             0.6666666666666666,
             "#ed7953"
            ],
            [
             0.7777777777777778,
             "#fb9f3a"
            ],
            [
             0.8888888888888888,
             "#fdca26"
            ],
            [
             1,
             "#f0f921"
            ]
           ],
           "sequentialminus": [
            [
             0,
             "#0d0887"
            ],
            [
             0.1111111111111111,
             "#46039f"
            ],
            [
             0.2222222222222222,
             "#7201a8"
            ],
            [
             0.3333333333333333,
             "#9c179e"
            ],
            [
             0.4444444444444444,
             "#bd3786"
            ],
            [
             0.5555555555555556,
             "#d8576b"
            ],
            [
             0.6666666666666666,
             "#ed7953"
            ],
            [
             0.7777777777777778,
             "#fb9f3a"
            ],
            [
             0.8888888888888888,
             "#fdca26"
            ],
            [
             1,
             "#f0f921"
            ]
           ]
          },
          "colorway": [
           "#636efa",
           "#EF553B",
           "#00cc96",
           "#ab63fa",
           "#FFA15A",
           "#19d3f3",
           "#FF6692",
           "#B6E880",
           "#FF97FF",
           "#FECB52"
          ],
          "font": {
           "color": "#2a3f5f"
          },
          "geo": {
           "bgcolor": "white",
           "lakecolor": "white",
           "landcolor": "#E5ECF6",
           "showlakes": true,
           "showland": true,
           "subunitcolor": "white"
          },
          "hoverlabel": {
           "align": "left"
          },
          "hovermode": "closest",
          "mapbox": {
           "style": "light"
          },
          "paper_bgcolor": "white",
          "plot_bgcolor": "#E5ECF6",
          "polar": {
           "angularaxis": {
            "gridcolor": "white",
            "linecolor": "white",
            "ticks": ""
           },
           "bgcolor": "#E5ECF6",
           "radialaxis": {
            "gridcolor": "white",
            "linecolor": "white",
            "ticks": ""
           }
          },
          "scene": {
           "xaxis": {
            "backgroundcolor": "#E5ECF6",
            "gridcolor": "white",
            "gridwidth": 2,
            "linecolor": "white",
            "showbackground": true,
            "ticks": "",
            "zerolinecolor": "white"
           },
           "yaxis": {
            "backgroundcolor": "#E5ECF6",
            "gridcolor": "white",
            "gridwidth": 2,
            "linecolor": "white",
            "showbackground": true,
            "ticks": "",
            "zerolinecolor": "white"
           },
           "zaxis": {
            "backgroundcolor": "#E5ECF6",
            "gridcolor": "white",
            "gridwidth": 2,
            "linecolor": "white",
            "showbackground": true,
            "ticks": "",
            "zerolinecolor": "white"
           }
          },
          "shapedefaults": {
           "line": {
            "color": "#2a3f5f"
           }
          },
          "ternary": {
           "aaxis": {
            "gridcolor": "white",
            "linecolor": "white",
            "ticks": ""
           },
           "baxis": {
            "gridcolor": "white",
            "linecolor": "white",
            "ticks": ""
           },
           "bgcolor": "#E5ECF6",
           "caxis": {
            "gridcolor": "white",
            "linecolor": "white",
            "ticks": ""
           }
          },
          "title": {
           "x": 0.05
          },
          "xaxis": {
           "automargin": true,
           "gridcolor": "white",
           "linecolor": "white",
           "ticks": "",
           "title": {
            "standoff": 15
           },
           "zerolinecolor": "white",
           "zerolinewidth": 2
          },
          "yaxis": {
           "automargin": true,
           "gridcolor": "white",
           "linecolor": "white",
           "ticks": "",
           "title": {
            "standoff": 15
           },
           "zerolinecolor": "white",
           "zerolinewidth": 2
          }
         }
        },
        "title": {
         "text": "Key Distribution Comparison Across Profiles"
        },
        "xaxis": {
         "anchor": "y",
         "domain": [
          0,
          1
         ],
         "tickangle": -45,
         "title": {
          "text": "Musical Key"
         }
        },
        "yaxis": {
         "anchor": "x",
         "domain": [
          0,
          1
         ],
         "title": {
          "text": "Number of Tracks"
         }
        }
       }
      }
     },
     "metadata": {},
     "output_type": "display_data"
    }
   ],
   "source": [
    "key_data = []\n",
    "for profile in [\"temperley\", \"krumhansl\", \"edma\"]:\n",
    "    # Select only rows where both key and scale are available.\n",
    "    temp = df[[f\"key_{profile}\", f\"scale_{profile}\"]].dropna()\n",
    "    # Rename columns for consistency.\n",
    "    temp = temp.rename(columns={f\"key_{profile}\": \"Key\", f\"scale_{profile}\": \"Scale\"})\n",
    "    # Create a new column that combines the algorithm (capitalized) with scale.\n",
    "    temp[\"ProfileScale\"] = profile.capitalize() + \"_\" + temp[\"Scale\"].str.lower()\n",
    "    # Also add a column for the Profile name.\n",
    "    temp[\"Profile\"] = profile.capitalize()\n",
    "    key_data.append(temp)\n",
    "\n",
    "# Combine data from all profiles.\n",
    "key_df = pd.concat(key_data)\n",
    "\n",
    "# Now aggregate counts per Key and per ProfileScale.\n",
    "key_df = (\n",
    "    key_df.groupby([\"Key\", \"ProfileScale\", \"Profile\", \"Scale\"])\n",
    "    .size()\n",
    "    .reset_index(name=\"Count\")\n",
    ")\n",
    "\n",
    "# Calculate percentages\n",
    "total_counts = key_df.groupby(\"ProfileScale\")[\"Count\"].transform(\"sum\")\n",
    "key_df[\"Percentage\"] = (key_df[\"Count\"] / total_counts) * 100\n",
    "\n",
    "# --- Define base colors for each profile ---\n",
    "base_colors = {\"Temperley\": \"#66c2a5\", \"Krumhansl\": \"#fc8d62\", \"Edma\": \"#8da0cb\"}\n",
    "\n",
    "\n",
    "def adjust_color_brightness(hex_color: str, factor: float) -> str:\n",
    "    \"\"\"\n",
    "    Adjust the brightness of a hex color by multiplying its lightness by the given factor.\n",
    "    factor < 1 darkens the color; factor > 1 lightens the color.\n",
    "    \"\"\"\n",
    "    hex_color = hex_color.lstrip(\"#\")\n",
    "    r, g, b = tuple(int(hex_color[i : i + 2], 16) for i in (0, 2, 4))\n",
    "    # Convert RGB to HLS (Hue, Lightness, Saturation)\n",
    "    h, l, s = colorsys.rgb_to_hls(r / 255, g / 255, b / 255)\n",
    "    # Adjust the lightness\n",
    "    l = max(0, min(1, l * factor))\n",
    "    r_new, g_new, b_new = colorsys.hls_to_rgb(h, l, s)\n",
    "    return \"#{:02x}{:02x}{:02x}\".format(\n",
    "        int(r_new * 255), int(g_new * 255), int(b_new * 255)\n",
    "    )\n",
    "\n",
    "\n",
    "color_map = {\n",
    "    \"Temperley_major\": base_colors[\"Temperley\"],\n",
    "    \"Temperley_minor\": adjust_color_brightness(base_colors[\"Temperley\"], 0.8),\n",
    "    \"Krumhansl_major\": base_colors[\"Krumhansl\"],\n",
    "    \"Krumhansl_minor\": adjust_color_brightness(base_colors[\"Krumhansl\"], 0.8),\n",
    "    \"Edma_major\": base_colors[\"Edma\"],\n",
    "    \"Edma_minor\": adjust_color_brightness(base_colors[\"Edma\"], 0.8),\n",
    "}\n",
    "\n",
    "pattern_map = {\"Temperley\": \"\", \"Krumhansl\": \"/\", \"Edma\": \"\\\\\"}\n",
    "\n",
    "# Create the grouped bar chart.\n",
    "fig = px.bar(\n",
    "    key_df,\n",
    "    x=\"Key\",\n",
    "    y=\"Count\",\n",
    "    color=\"ProfileScale\",\n",
    "    barmode=\"group\",\n",
    "    title=\"Key Distribution Comparison Across Profiles\",\n",
    "    color_discrete_map=color_map,\n",
    "    pattern_shape=\"Profile\",\n",
    "    pattern_shape_map=pattern_map,\n",
    "    hover_data=[\"Percentage\"],\n",
    ")\n",
    "\n",
    "fig.update_layout(\n",
    "    xaxis_tickangle=-45,\n",
    "    height=700,\n",
    "    xaxis_title=\"Musical Key\",\n",
    "    yaxis_title=\"Number of Tracks\",\n",
    ")\n",
    "\n",
    "fig.update_traces(\n",
    "    hovertemplate=\"<b>%{x}</b><br>Number of Tracks: %{y}<br>Percentage: %{customdata[0]:.2f}%<extra></extra>\"\n",
    ")\n",
    "\n",
    "fig.update_layout(bargroupgap=0.2)\n",
    "\n",
    "fig.show()"
   ]
  },
  {
   "cell_type": "code",
   "execution_count": 21,
   "metadata": {},
   "outputs": [
    {
     "name": "stdout",
     "output_type": "stream",
     "text": [
      "Percentage of tracks with agreement across all profiles: 53.19%\n"
     ]
    }
   ],
   "source": [
    "# Calculate agreement between all three profiles\n",
    "df[\"agreement\"] = (\n",
    "    (df[\"key_temperley\"] == df[\"key_krumhansl\"])\n",
    "    & (df[\"key_krumhansl\"] == df[\"key_edma\"])\n",
    ").astype(int)\n",
    "\n",
    "agreement_percentage = df[\"agreement\"].mean() * 100\n",
    "print(f\"Percentage of tracks with agreement across all profiles: {agreement_percentage:.2f}%\")\n"
   ]
  },
  {
   "cell_type": "markdown",
   "metadata": {},
   "source": [
    "## Loudness Analysis\n",
    "\n",
    "Analyze the integrated loudness distribution."
   ]
  },
  {
   "cell_type": "code",
   "execution_count": 9,
   "metadata": {},
   "outputs": [
    {
     "data": {
      "application/vnd.plotly.v1+json": {
       "config": {
        "plotlyServerURL": "https://plot.ly"
       },
       "data": [
        {
         "marker": {
          "color": "rgba(100, 149, 237, 0.7)"
         },
         "name": "Integrated Loudness",
         "nbinsx": 30,
         "type": "histogram",
         "x": {
          "bdata": "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",
          "dtype": "f8"
         }
        }
       ],
       "layout": {
        "annotations": [
         {
          "showarrow": false,
          "text": "Target Range\n(-23 to -14 LUFS)",
          "x": -23,
          "xanchor": "left",
          "xref": "x",
          "y": 0,
          "yanchor": "bottom",
          "yref": "y domain"
         },
         {
          "showarrow": false,
          "text": "Apple Music (-16 LUFS)",
          "x": -16,
          "xanchor": "left",
          "xref": "x",
          "y": 0,
          "yanchor": "bottom",
          "yref": "y domain"
         },
         {
          "showarrow": false,
          "text": "Streaming Target (-14 LUFS)",
          "x": -14,
          "xanchor": "right",
          "xref": "x",
          "y": 1,
          "yanchor": "top",
          "yref": "y domain"
         },
         {
          "showarrow": false,
          "text": "Rock/Pop (~-8 LUFS)",
          "x": -8,
          "xanchor": "right",
          "xref": "x",
          "y": 1,
          "yanchor": "top",
          "yref": "y domain"
         },
         {
          "showarrow": false,
          "text": "Pop Master (-7 LUFS)",
          "x": -7,
          "xanchor": "right",
          "xref": "x",
          "y": 0,
          "yanchor": "bottom",
          "yref": "y domain"
         },
         {
          "showarrow": false,
          "text": "Aggressive EDM (-5 LUFS)",
          "x": -5,
          "xanchor": "left",
          "xref": "x",
          "y": 1,
          "yanchor": "top",
          "yref": "y domain"
         }
        ],
        "shapes": [
         {
          "fillcolor": "LightGreen",
          "layer": "below",
          "line": {
           "width": 0
          },
          "opacity": 0.2,
          "type": "rect",
          "x0": -23,
          "x1": -14,
          "xref": "x",
          "y0": 0,
          "y1": 1,
          "yref": "y domain"
         },
         {
          "line": {
           "color": "purple",
           "dash": "dash"
          },
          "type": "line",
          "x0": -16,
          "x1": -16,
          "xref": "x",
          "y0": 0,
          "y1": 1,
          "yref": "y domain"
         },
         {
          "line": {
           "color": "red",
           "dash": "dash"
          },
          "type": "line",
          "x0": -14,
          "x1": -14,
          "xref": "x",
          "y0": 0,
          "y1": 1,
          "yref": "y domain"
         },
         {
          "line": {
           "color": "orange",
           "dash": "dot"
          },
          "type": "line",
          "x0": -8,
          "x1": -8,
          "xref": "x",
          "y0": 0,
          "y1": 1,
          "yref": "y domain"
         },
         {
          "line": {
           "color": "darkorange",
           "dash": "dot"
          },
          "type": "line",
          "x0": -7,
          "x1": -7,
          "xref": "x",
          "y0": 0,
          "y1": 1,
          "yref": "y domain"
         },
         {
          "line": {
           "color": "blue",
           "dash": "dot"
          },
          "type": "line",
          "x0": -5,
          "x1": -5,
          "xref": "x",
          "y0": 0,
          "y1": 1,
          "yref": "y domain"
         }
        ],
        "template": {
         "data": {
          "bar": [
           {
            "error_x": {
             "color": "#2a3f5f"
            },
            "error_y": {
             "color": "#2a3f5f"
            },
            "marker": {
             "line": {
              "color": "white",
              "width": 0.5
             },
             "pattern": {
              "fillmode": "overlay",
              "size": 10,
              "solidity": 0.2
             }
            },
            "type": "bar"
           }
          ],
          "barpolar": [
           {
            "marker": {
             "line": {
              "color": "white",
              "width": 0.5
             },
             "pattern": {
              "fillmode": "overlay",
              "size": 10,
              "solidity": 0.2
             }
            },
            "type": "barpolar"
           }
          ],
          "carpet": [
           {
            "aaxis": {
             "endlinecolor": "#2a3f5f",
             "gridcolor": "#C8D4E3",
             "linecolor": "#C8D4E3",
             "minorgridcolor": "#C8D4E3",
             "startlinecolor": "#2a3f5f"
            },
            "baxis": {
             "endlinecolor": "#2a3f5f",
             "gridcolor": "#C8D4E3",
             "linecolor": "#C8D4E3",
             "minorgridcolor": "#C8D4E3",
             "startlinecolor": "#2a3f5f"
            },
            "type": "carpet"
           }
          ],
          "choropleth": [
           {
            "colorbar": {
             "outlinewidth": 0,
             "ticks": ""
            },
            "type": "choropleth"
           }
          ],
          "contour": [
           {
            "colorbar": {
             "outlinewidth": 0,
             "ticks": ""
            },
            "colorscale": [
             [
              0,
              "#0d0887"
             ],
             [
              0.1111111111111111,
              "#46039f"
             ],
             [
              0.2222222222222222,
              "#7201a8"
             ],
             [
              0.3333333333333333,
              "#9c179e"
             ],
             [
              0.4444444444444444,
              "#bd3786"
             ],
             [
              0.5555555555555556,
              "#d8576b"
             ],
             [
              0.6666666666666666,
              "#ed7953"
             ],
             [
              0.7777777777777778,
              "#fb9f3a"
             ],
             [
              0.8888888888888888,
              "#fdca26"
             ],
             [
              1,
              "#f0f921"
             ]
            ],
            "type": "contour"
           }
          ],
          "contourcarpet": [
           {
            "colorbar": {
             "outlinewidth": 0,
             "ticks": ""
            },
            "type": "contourcarpet"
           }
          ],
          "heatmap": [
           {
            "colorbar": {
             "outlinewidth": 0,
             "ticks": ""
            },
            "colorscale": [
             [
              0,
              "#0d0887"
             ],
             [
              0.1111111111111111,
              "#46039f"
             ],
             [
              0.2222222222222222,
              "#7201a8"
             ],
             [
              0.3333333333333333,
              "#9c179e"
             ],
             [
              0.4444444444444444,
              "#bd3786"
             ],
             [
              0.5555555555555556,
              "#d8576b"
             ],
             [
              0.6666666666666666,
              "#ed7953"
             ],
             [
              0.7777777777777778,
              "#fb9f3a"
             ],
             [
              0.8888888888888888,
              "#fdca26"
             ],
             [
              1,
              "#f0f921"
             ]
            ],
            "type": "heatmap"
           }
          ],
          "histogram": [
           {
            "marker": {
             "pattern": {
              "fillmode": "overlay",
              "size": 10,
              "solidity": 0.2
             }
            },
            "type": "histogram"
           }
          ],
          "histogram2d": [
           {
            "colorbar": {
             "outlinewidth": 0,
             "ticks": ""
            },
            "colorscale": [
             [
              0,
              "#0d0887"
             ],
             [
              0.1111111111111111,
              "#46039f"
             ],
             [
              0.2222222222222222,
              "#7201a8"
             ],
             [
              0.3333333333333333,
              "#9c179e"
             ],
             [
              0.4444444444444444,
              "#bd3786"
             ],
             [
              0.5555555555555556,
              "#d8576b"
             ],
             [
              0.6666666666666666,
              "#ed7953"
             ],
             [
              0.7777777777777778,
              "#fb9f3a"
             ],
             [
              0.8888888888888888,
              "#fdca26"
             ],
             [
              1,
              "#f0f921"
             ]
            ],
            "type": "histogram2d"
           }
          ],
          "histogram2dcontour": [
           {
            "colorbar": {
             "outlinewidth": 0,
             "ticks": ""
            },
            "colorscale": [
             [
              0,
              "#0d0887"
             ],
             [
              0.1111111111111111,
              "#46039f"
             ],
             [
              0.2222222222222222,
              "#7201a8"
             ],
             [
              0.3333333333333333,
              "#9c179e"
             ],
             [
              0.4444444444444444,
              "#bd3786"
             ],
             [
              0.5555555555555556,
              "#d8576b"
             ],
             [
              0.6666666666666666,
              "#ed7953"
             ],
             [
              0.7777777777777778,
              "#fb9f3a"
             ],
             [
              0.8888888888888888,
              "#fdca26"
             ],
             [
              1,
              "#f0f921"
             ]
            ],
            "type": "histogram2dcontour"
           }
          ],
          "mesh3d": [
           {
            "colorbar": {
             "outlinewidth": 0,
             "ticks": ""
            },
            "type": "mesh3d"
           }
          ],
          "parcoords": [
           {
            "line": {
             "colorbar": {
              "outlinewidth": 0,
              "ticks": ""
             }
            },
            "type": "parcoords"
           }
          ],
          "pie": [
           {
            "automargin": true,
            "type": "pie"
           }
          ],
          "scatter": [
           {
            "fillpattern": {
             "fillmode": "overlay",
             "size": 10,
             "solidity": 0.2
            },
            "type": "scatter"
           }
          ],
          "scatter3d": [
           {
            "line": {
             "colorbar": {
              "outlinewidth": 0,
              "ticks": ""
             }
            },
            "marker": {
             "colorbar": {
              "outlinewidth": 0,
              "ticks": ""
             }
            },
            "type": "scatter3d"
           }
          ],
          "scattercarpet": [
           {
            "marker": {
             "colorbar": {
              "outlinewidth": 0,
              "ticks": ""
             }
            },
            "type": "scattercarpet"
           }
          ],
          "scattergeo": [
           {
            "marker": {
             "colorbar": {
              "outlinewidth": 0,
              "ticks": ""
             }
            },
            "type": "scattergeo"
           }
          ],
          "scattergl": [
           {
            "marker": {
             "colorbar": {
              "outlinewidth": 0,
              "ticks": ""
             }
            },
            "type": "scattergl"
           }
          ],
          "scattermap": [
           {
            "marker": {
             "colorbar": {
              "outlinewidth": 0,
              "ticks": ""
             }
            },
            "type": "scattermap"
           }
          ],
          "scattermapbox": [
           {
            "marker": {
             "colorbar": {
              "outlinewidth": 0,
              "ticks": ""
             }
            },
            "type": "scattermapbox"
           }
          ],
          "scatterpolar": [
           {
            "marker": {
             "colorbar": {
              "outlinewidth": 0,
              "ticks": ""
             }
            },
            "type": "scatterpolar"
           }
          ],
          "scatterpolargl": [
           {
            "marker": {
             "colorbar": {
              "outlinewidth": 0,
              "ticks": ""
             }
            },
            "type": "scatterpolargl"
           }
          ],
          "scatterternary": [
           {
            "marker": {
             "colorbar": {
              "outlinewidth": 0,
              "ticks": ""
             }
            },
            "type": "scatterternary"
           }
          ],
          "surface": [
           {
            "colorbar": {
             "outlinewidth": 0,
             "ticks": ""
            },
            "colorscale": [
             [
              0,
              "#0d0887"
             ],
             [
              0.1111111111111111,
              "#46039f"
             ],
             [
              0.2222222222222222,
              "#7201a8"
             ],
             [
              0.3333333333333333,
              "#9c179e"
             ],
             [
              0.4444444444444444,
              "#bd3786"
             ],
             [
              0.5555555555555556,
              "#d8576b"
             ],
             [
              0.6666666666666666,
              "#ed7953"
             ],
             [
              0.7777777777777778,
              "#fb9f3a"
             ],
             [
              0.8888888888888888,
              "#fdca26"
             ],
             [
              1,
              "#f0f921"
             ]
            ],
            "type": "surface"
           }
          ],
          "table": [
           {
            "cells": {
             "fill": {
              "color": "#EBF0F8"
             },
             "line": {
              "color": "white"
             }
            },
            "header": {
             "fill": {
              "color": "#C8D4E3"
             },
             "line": {
              "color": "white"
             }
            },
            "type": "table"
           }
          ]
         },
         "layout": {
          "annotationdefaults": {
           "arrowcolor": "#2a3f5f",
           "arrowhead": 0,
           "arrowwidth": 1
          },
          "autotypenumbers": "strict",
          "coloraxis": {
           "colorbar": {
            "outlinewidth": 0,
            "ticks": ""
           }
          },
          "colorscale": {
           "diverging": [
            [
             0,
             "#8e0152"
            ],
            [
             0.1,
             "#c51b7d"
            ],
            [
             0.2,
             "#de77ae"
            ],
            [
             0.3,
             "#f1b6da"
            ],
            [
             0.4,
             "#fde0ef"
            ],
            [
             0.5,
             "#f7f7f7"
            ],
            [
             0.6,
             "#e6f5d0"
            ],
            [
             0.7,
             "#b8e186"
            ],
            [
             0.8,
             "#7fbc41"
            ],
            [
             0.9,
             "#4d9221"
            ],
            [
             1,
             "#276419"
            ]
           ],
           "sequential": [
            [
             0,
             "#0d0887"
            ],
            [
             0.1111111111111111,
             "#46039f"
            ],
            [
             0.2222222222222222,
             "#7201a8"
            ],
            [
             0.3333333333333333,
             "#9c179e"
            ],
            [
             0.4444444444444444,
             "#bd3786"
            ],
            [
             0.5555555555555556,
             "#d8576b"
            ],
            [
             0.6666666666666666,
             "#ed7953"
            ],
            [
             0.7777777777777778,
             "#fb9f3a"
            ],
            [
             0.8888888888888888,
             "#fdca26"
            ],
            [
             1,
             "#f0f921"
            ]
           ],
           "sequentialminus": [
            [
             0,
             "#0d0887"
            ],
            [
             0.1111111111111111,
             "#46039f"
            ],
            [
             0.2222222222222222,
             "#7201a8"
            ],
            [
             0.3333333333333333,
             "#9c179e"
            ],
            [
             0.4444444444444444,
             "#bd3786"
            ],
            [
             0.5555555555555556,
             "#d8576b"
            ],
            [
             0.6666666666666666,
             "#ed7953"
            ],
            [
             0.7777777777777778,
             "#fb9f3a"
            ],
            [
             0.8888888888888888,
             "#fdca26"
            ],
            [
             1,
             "#f0f921"
            ]
           ]
          },
          "colorway": [
           "#636efa",
           "#EF553B",
           "#00cc96",
           "#ab63fa",
           "#FFA15A",
           "#19d3f3",
           "#FF6692",
           "#B6E880",
           "#FF97FF",
           "#FECB52"
          ],
          "font": {
           "color": "#2a3f5f"
          },
          "geo": {
           "bgcolor": "white",
           "lakecolor": "white",
           "landcolor": "white",
           "showlakes": true,
           "showland": true,
           "subunitcolor": "#C8D4E3"
          },
          "hoverlabel": {
           "align": "left"
          },
          "hovermode": "closest",
          "mapbox": {
           "style": "light"
          },
          "paper_bgcolor": "white",
          "plot_bgcolor": "white",
          "polar": {
           "angularaxis": {
            "gridcolor": "#EBF0F8",
            "linecolor": "#EBF0F8",
            "ticks": ""
           },
           "bgcolor": "white",
           "radialaxis": {
            "gridcolor": "#EBF0F8",
            "linecolor": "#EBF0F8",
            "ticks": ""
           }
          },
          "scene": {
           "xaxis": {
            "backgroundcolor": "white",
            "gridcolor": "#DFE8F3",
            "gridwidth": 2,
            "linecolor": "#EBF0F8",
            "showbackground": true,
            "ticks": "",
            "zerolinecolor": "#EBF0F8"
           },
           "yaxis": {
            "backgroundcolor": "white",
            "gridcolor": "#DFE8F3",
            "gridwidth": 2,
            "linecolor": "#EBF0F8",
            "showbackground": true,
            "ticks": "",
            "zerolinecolor": "#EBF0F8"
           },
           "zaxis": {
            "backgroundcolor": "white",
            "gridcolor": "#DFE8F3",
            "gridwidth": 2,
            "linecolor": "#EBF0F8",
            "showbackground": true,
            "ticks": "",
            "zerolinecolor": "#EBF0F8"
           }
          },
          "shapedefaults": {
           "line": {
            "color": "#2a3f5f"
           }
          },
          "ternary": {
           "aaxis": {
            "gridcolor": "#DFE8F3",
            "linecolor": "#A2B1C6",
            "ticks": ""
           },
           "baxis": {
            "gridcolor": "#DFE8F3",
            "linecolor": "#A2B1C6",
            "ticks": ""
           },
           "bgcolor": "white",
           "caxis": {
            "gridcolor": "#DFE8F3",
            "linecolor": "#A2B1C6",
            "ticks": ""
           }
          },
          "title": {
           "x": 0.05
          },
          "xaxis": {
           "automargin": true,
           "gridcolor": "#EBF0F8",
           "linecolor": "#EBF0F8",
           "ticks": "",
           "title": {
            "standoff": 15
           },
           "zerolinecolor": "#EBF0F8",
           "zerolinewidth": 2
          },
          "yaxis": {
           "automargin": true,
           "gridcolor": "#EBF0F8",
           "linecolor": "#EBF0F8",
           "ticks": "",
           "title": {
            "standoff": 15
           },
           "zerolinecolor": "#EBF0F8",
           "zerolinewidth": 2
          }
         }
        },
        "title": {
         "text": "Integrated Loudness Distribution"
        },
        "xaxis": {
         "title": {
          "text": "Integrated Loudness (LUFS)"
         }
        },
        "yaxis": {
         "title": {
          "text": "Count"
         }
        }
       }
      }
     },
     "metadata": {},
     "output_type": "display_data"
    }
   ],
   "source": [
    "fig = go.Figure()\n",
    "\n",
    "# Histogram of integrated loudness values\n",
    "fig.add_trace(\n",
    "    go.Histogram(\n",
    "        x=df[\"loudness\"],\n",
    "        nbinsx=30,\n",
    "        name=\"Integrated Loudness\",\n",
    "        marker_color=\"rgba(100, 149, 237, 0.7)\",  # Cornflower blue\n",
    "    )\n",
    ")\n",
    "\n",
    "# Shaded target range: Broadcast (-23 LUFS) to Music Master (-14 LUFS)\n",
    "fig.add_vrect(\n",
    "    x0=-23,\n",
    "    x1=-14,\n",
    "    fillcolor=\"LightGreen\",\n",
    "    opacity=0.2,\n",
    "    layer=\"below\",\n",
    "    line_width=0,\n",
    "    annotation_text=\"Target Range\\n(-23 to -14 LUFS)\",\n",
    "    annotation_position=\"bottom left\",\n",
    ")\n",
    "\n",
    "# Add vertical dashed lines for key targets\n",
    "\n",
    "# Apple Music target: -16 LUFS\n",
    "fig.add_vline(\n",
    "    x=-16,\n",
    "    line_dash=\"dash\",\n",
    "    line_color=\"purple\",\n",
    "    annotation_text=\"Apple Music (-16 LUFS)\",\n",
    "    annotation_position=\"bottom right\",\n",
    ")\n",
    "\n",
    "# Spotify, SoundCloud, YouTube target: -14 LUFS\n",
    "fig.add_vline(\n",
    "    x=-14,\n",
    "    line_dash=\"dash\",\n",
    "    line_color=\"red\",\n",
    "    annotation_text=\"Streaming Target (-14 LUFS)\",\n",
    "    annotation_position=\"top left\",\n",
    ")\n",
    "\n",
    "# Typical rock/pop master: around -8 LUFS\n",
    "fig.add_vline(\n",
    "    x=-8,\n",
    "    line_dash=\"dot\",\n",
    "    line_color=\"orange\",\n",
    "    annotation_text=\"Rock/Pop (~-8 LUFS)\",\n",
    "    annotation_position=\"top left\",\n",
    ")\n",
    "\n",
    "# Pop track (where dynamics collapse): around -7 LUFS\n",
    "(\n",
    "    fig.add_vline(\n",
    "        x=-7,\n",
    "        line_dash=\"dot\",\n",
    "        line_color=\"darkorange\",\n",
    "        annotation_text=\"Pop Master (-7 LUFS)\",\n",
    "        annotation_position=\"bottom left\",\n",
    "    ),\n",
    ")\n",
    "# Aggressive EDM master: around -5 LUFS\n",
    "fig.add_vline(\n",
    "    x=-5,\n",
    "    line_dash=\"dot\",\n",
    "    line_color=\"blue\",\n",
    "    annotation_text=\"Aggressive EDM (-5 LUFS)\",\n",
    "    annotation_position=\"top right\",\n",
    ")\n",
    "\n",
    "fig.update_layout(\n",
    "    title=\"Integrated Loudness Distribution\",\n",
    "    xaxis_title=\"Integrated Loudness (LUFS)\",\n",
    "    yaxis_title=\"Count\",\n",
    "    template=\"plotly_white\",\n",
    ")\n",
    "\n",
    "fig.show()"
   ]
  },
  {
   "cell_type": "code",
   "execution_count": 10,
   "metadata": {},
   "outputs": [
    {
     "data": {
      "application/vnd.plotly.v1+json": {
       "config": {
        "plotlyServerURL": "https://plot.ly"
       },
       "data": [
        {
         "alignmentgroup": "True",
         "boxpoints": false,
         "hovertemplate": "Genre=%{x}<br>Integrated Loudness (LUFS)=%{y}<extra></extra>",
         "legendgroup": "",
         "marker": {
          "color": "#636efa"
         },
         "name": "",
         "notched": false,
         "offsetgroup": "",
         "orientation": "v",
         "showlegend": false,
         "type": "box",
         "x": [
          "Hip Hop",
          "Folk, World, & Country",
          "Rock",
          "Rock",
          "Rock",
          "Hip Hop",
          "Hip Hop",
          "Electronic",
          "Folk, World, & Country",
          "Stage & Screen",
          "Rock",
          "Reggae",
          "Electronic",
          "Hip Hop",
          "Non-Music",
          "Classical",
          "Rock",
          "Rock",
          "Rock",
          "Reggae",
          "Electronic",
          "Rock",
          "Pop",
          "Rock",
          "Electronic",
          "Rock",
          "Classical",
          "Electronic",
          "Pop",
          "Electronic",
          "Rock",
          "Electronic",
          "Rock",
          "Pop",
          "Folk, World, & Country",
          "Funk / Soul",
          "Rock",
          "Electronic",
          "Rock",
          "Hip Hop",
          "Rock",
          "Blues",
          "Electronic",
          "Stage & Screen",
          "Electronic",
          "Non-Music",
          "Children's",
          "Rock",
          "Rock",
          "Electronic",
          "Folk, World, & Country",
          "Electronic",
          "Rock",
          "Hip Hop",
          "Rock",
          "Electronic",
          "Folk, World, & Country",
          "Jazz",
          "Pop",
          "Pop",
          "Electronic",
          "Electronic",
          "Classical",
          "Folk, World, & Country",
          "Electronic",
          "Rock",
          "Classical",
          "Electronic",
          "Rock",
          "Folk, World, & Country",
          "Latin",
          "Electronic",
          "Hip Hop",
          "Electronic",
          "Hip Hop",
          "Rock",
          "Hip Hop",
          "Folk, World, & Country",
          "Electronic",
          "Non-Music",
          "Pop",
          "Electronic",
          "Rock",
          "Hip Hop",
          "Rock",
          "Latin",
          "Children's",
          "Rock",
          "Electronic",
          "Rock",
          "Latin",
          "Electronic",
          "Electronic",
          "Hip Hop",
          "Rock",
          "Rock",
          "Electronic",
          "Hip Hop",
          "Folk, World, & Country",
          "Pop",
          "Electronic",
          "Hip Hop",
          "Folk, World, & Country",
          "Rock",
          "Pop",
          "Latin",
          "Rock",
          "Electronic",
          "Rock",
          "Rock",
          "Classical",
          "Pop",
          "Rock",
          "Rock",
          "Electronic",
          "Electronic",
          "Electronic",
          "Electronic",
          "Rock",
          "Rock",
          "Funk / Soul",
          "Electronic",
          "Rock",
          "Electronic",
          "Folk, World, & Country",
          "Pop",
          "Electronic",
          "Electronic",
          "Latin",
          "Reggae",
          "Folk, World, & Country",
          "Non-Music",
          "Pop",
          "Jazz",
          "Rock",
          "Electronic",
          "Classical",
          "Pop",
          "Electronic",
          "Rock",
          "Folk, World, & Country",
          "Rock",
          "Latin",
          "Latin",
          "Electronic",
          "Electronic",
          "Rock",
          "Jazz",
          "Pop",
          "Pop",
          "Latin",
          "Rock",
          "Classical",
          "Rock",
          "Rock",
          "Classical",
          "Rock",
          "Rock",
          "Pop",
          "Hip Hop",
          "Electronic",
          "Hip Hop",
          "Electronic",
          "Children's",
          "Rock",
          "Electronic",
          "Rock",
          "Electronic",
          "Electronic",
          "Hip Hop",
          "Electronic",
          "Hip Hop",
          "Electronic",
          "Latin",
          "Rock",
          "Electronic",
          "Electronic",
          "Electronic",
          "Rock",
          "Rock",
          "Electronic",
          "Funk / Soul",
          "Latin",
          "Children's",
          "Classical",
          "Rock",
          "Electronic",
          "Rock",
          "Latin",
          "Electronic",
          "Stage & Screen",
          "Latin",
          "Pop",
          "Latin",
          "Rock",
          "Jazz",
          "Pop",
          "Electronic",
          "Electronic",
          "Pop",
          "Electronic",
          "Electronic",
          "Electronic",
          "Hip Hop",
          "Electronic",
          "Pop",
          "Children's",
          "Hip Hop",
          "Hip Hop",
          "Funk / Soul",
          "Hip Hop",
          "Rock",
          "Electronic",
          "Electronic",
          "Folk, World, & Country",
          "Rock",
          "Rock",
          "Rock",
          "Electronic",
          "Rock",
          "Hip Hop",
          "Rock",
          "Hip Hop",
          "Hip Hop",
          "Rock",
          "Electronic",
          "Electronic",
          "Pop",
          "Rock",
          "Electronic",
          "Rock",
          "Hip Hop",
          "Non-Music",
          "Hip Hop",
          "Funk / Soul",
          "Electronic",
          "Rock",
          "Rock",
          "Electronic",
          "Folk, World, & Country",
          "Reggae",
          "Pop",
          "Electronic",
          "Electronic",
          "Hip Hop",
          "Electronic",
          "Reggae",
          "Rock",
          "Hip Hop",
          "Electronic",
          "Classical",
          "Rock",
          "Latin",
          "Pop",
          "Folk, World, & Country",
          "Rock",
          "Electronic",
          "Jazz",
          "Folk, World, & Country",
          "Folk, World, & Country",
          "Rock",
          "Folk, World, & Country",
          "Rock",
          "Hip Hop",
          "Electronic",
          "Rock",
          "Rock",
          "Hip Hop",
          "Electronic",
          "Hip Hop",
          "Pop",
          "Rock",
          "Electronic",
          "Folk, World, & Country",
          "Folk, World, & Country",
          "Reggae",
          "Rock",
          "Latin",
          "Rock",
          "Latin",
          "Pop",
          "Folk, World, & Country",
          "Pop",
          "Rock",
          "Rock",
          "Rock",
          "Rock",
          "Electronic",
          "Hip Hop",
          "Electronic",
          "Classical",
          "Rock",
          "Hip Hop",
          "Rock",
          "Folk, World, & Country",
          "Stage & Screen",
          "Rock",
          "Rock",
          "Reggae",
          "Rock",
          "Folk, World, & Country",
          "Hip Hop",
          "Rock",
          "Electronic",
          "Rock",
          "Classical",
          "Latin",
          "Electronic",
          "Electronic",
          "Rock",
          "Hip Hop",
          "Folk, World, & Country",
          "Reggae",
          "Funk / Soul",
          "Rock",
          "Electronic",
          "Classical",
          "Folk, World, & Country",
          "Rock",
          "Non-Music",
          "Electronic",
          "Latin",
          "Rock",
          "Hip Hop",
          "Rock",
          "Electronic",
          "Classical",
          "Electronic",
          "Classical",
          "Electronic",
          "Electronic",
          "Rock",
          "Rock",
          "Latin",
          "Folk, World, & Country",
          "Rock",
          "Folk, World, & Country",
          "Rock",
          "Rock",
          "Jazz",
          "Electronic",
          "Latin",
          "Electronic",
          "Rock",
          "Hip Hop",
          "Latin",
          "Electronic",
          "Non-Music",
          "Folk, World, & Country",
          "Latin",
          "Electronic",
          "Blues",
          "Folk, World, & Country",
          "Rock",
          "Electronic",
          "Brass & Military",
          "Pop",
          "Classical",
          "Hip Hop",
          "Electronic",
          "Electronic",
          "Electronic",
          "Electronic",
          "Stage & Screen",
          "Electronic",
          "Hip Hop",
          "Latin",
          "Rock",
          "Hip Hop",
          "Latin",
          "Rock",
          "Electronic",
          "Latin",
          "Folk, World, & Country",
          "Latin",
          "Electronic",
          "Folk, World, & Country",
          "Classical",
          "Classical",
          "Hip Hop",
          "Electronic",
          "Folk, World, & Country",
          "Jazz",
          "Hip Hop",
          "Electronic",
          "Hip Hop",
          "Jazz",
          "Hip Hop",
          "Electronic",
          "Non-Music",
          "Classical",
          "Pop",
          "Folk, World, & Country",
          "Blues",
          "Electronic",
          "Pop",
          "Hip Hop",
          "Classical",
          "Pop",
          "Stage & Screen",
          "Pop",
          "Hip Hop",
          "Funk / Soul",
          "Folk, World, & Country",
          "Folk, World, & Country",
          "Latin",
          "Rock",
          "Rock",
          "Rock",
          "Electronic",
          "Pop",
          "Rock",
          "Latin",
          "Folk, World, & Country",
          "Electronic",
          "Rock",
          "Classical",
          "Funk / Soul",
          "Electronic",
          "Rock",
          "Latin",
          "Electronic",
          "Rock",
          "Hip Hop",
          "Folk, World, & Country",
          "Folk, World, & Country",
          "Rock",
          "Folk, World, & Country",
          "Latin",
          "Classical",
          "Hip Hop",
          "Funk / Soul",
          "Folk, World, & Country",
          "Folk, World, & Country",
          "Hip Hop",
          "Funk / Soul",
          "Funk / Soul",
          "Hip Hop",
          "Classical",
          "Electronic",
          "Reggae",
          "Electronic",
          "Rock",
          "Rock",
          "Electronic",
          "Rock",
          "Electronic",
          "Blues",
          "Hip Hop",
          "Classical",
          "Rock",
          "Hip Hop",
          "Electronic",
          "Classical",
          "Rock",
          "Electronic",
          "Folk, World, & Country",
          "Folk, World, & Country",
          "Hip Hop",
          "Electronic",
          "Electronic",
          "Folk, World, & Country",
          "Rock",
          "Folk, World, & Country",
          "Hip Hop",
          "Pop",
          "Electronic",
          "Hip Hop",
          "Folk, World, & Country",
          "Blues",
          "Electronic",
          "Rock",
          "Stage & Screen",
          "Funk / Soul",
          "Rock",
          "Rock",
          "Rock",
          "Hip Hop",
          "Electronic",
          "Classical",
          "Rock",
          "Jazz",
          "Electronic",
          "Stage & Screen",
          "Classical",
          "Folk, World, & Country",
          "Hip Hop",
          "Hip Hop",
          "Rock",
          "Folk, World, & Country",
          "Electronic",
          "Rock",
          "Electronic",
          "Folk, World, & Country",
          "Folk, World, & Country",
          "Reggae",
          "Pop",
          "Rock",
          "Rock",
          "Electronic",
          "Electronic",
          "Electronic",
          "Children's",
          "Pop",
          "Electronic",
          "Electronic",
          "Pop",
          "Electronic",
          "Rock",
          "Electronic",
          "Electronic",
          "Jazz",
          "Latin",
          "Classical",
          "Stage & Screen",
          "Classical",
          "Folk, World, & Country",
          "Electronic",
          "Non-Music",
          "Electronic",
          "Hip Hop",
          "Hip Hop",
          "Electronic",
          "Electronic",
          "Folk, World, & Country",
          "Funk / Soul",
          "Pop",
          "Electronic",
          "Rock",
          "Electronic",
          "Folk, World, & Country",
          "Hip Hop",
          "Funk / Soul",
          "Electronic",
          "Hip Hop",
          "Rock",
          "Electronic",
          "Electronic",
          "Pop",
          "Rock",
          "Hip Hop",
          "Electronic",
          "Classical",
          "Rock",
          "Electronic",
          "Pop",
          "Hip Hop",
          "Hip Hop",
          "Folk, World, & Country",
          "Classical",
          "Hip Hop",
          "Hip Hop",
          "Rock",
          "Rock",
          "Rock",
          "Electronic",
          "Electronic",
          "Folk, World, & Country",
          "Hip Hop",
          "Electronic",
          "Pop",
          "Stage & Screen",
          "Classical",
          "Folk, World, & Country",
          "Electronic",
          "Hip Hop",
          "Classical",
          "Hip Hop",
          "Rock",
          "Rock",
          "Electronic",
          "Electronic",
          "Hip Hop",
          "Rock",
          "Electronic",
          "Electronic",
          "Hip Hop",
          "Rock",
          "Rock",
          "Electronic",
          "Latin",
          "Classical",
          "Electronic",
          "Pop",
          "Rock",
          "Electronic",
          "Rock",
          "Pop",
          "Pop",
          "Funk / Soul",
          "Latin",
          "Stage & Screen",
          "Folk, World, & Country",
          "Latin",
          "Electronic",
          "Electronic",
          "Latin",
          "Classical",
          "Rock",
          "Stage & Screen",
          "Rock",
          "Rock",
          "Hip Hop",
          "Jazz",
          "Electronic",
          "Electronic",
          "Hip Hop",
          "Rock",
          "Electronic",
          "Rock",
          "Reggae",
          "Electronic",
          "Jazz",
          "Folk, World, & Country",
          "Pop",
          "Electronic",
          "Rock",
          "Rock",
          "Hip Hop",
          "Latin",
          "Folk, World, & Country",
          "Hip Hop",
          "Children's",
          "Hip Hop",
          "Electronic",
          "Folk, World, & Country",
          "Folk, World, & Country",
          "Hip Hop",
          "Rock",
          "Electronic",
          "Rock",
          "Rock",
          "Rock",
          "Rock",
          "Rock",
          "Electronic",
          "Folk, World, & Country",
          "Funk / Soul",
          "Hip Hop",
          "Hip Hop",
          "Rock",
          "Electronic",
          "Hip Hop",
          "Hip Hop",
          "Rock",
          "Rock",
          "Rock",
          "Folk, World, & Country",
          "Latin",
          "Electronic",
          "Electronic",
          "Pop",
          "Electronic",
          "Rock",
          "Rock",
          "Rock",
          "Rock",
          "Pop",
          "Rock",
          "Electronic",
          "Rock",
          "Folk, World, & Country",
          "Electronic",
          "Stage & Screen",
          "Hip Hop",
          "Rock",
          "Electronic",
          "Rock",
          "Rock",
          "Jazz",
          "Folk, World, & Country",
          "Classical",
          "Folk, World, & Country",
          "Brass & Military",
          "Folk, World, & Country",
          "Brass & Military",
          "Rock",
          "Rock",
          "Rock",
          "Pop",
          "Jazz",
          "Rock",
          "Hip Hop",
          "Hip Hop",
          "Electronic",
          "Electronic",
          "Rock",
          "Reggae",
          "Jazz",
          "Electronic",
          "Electronic",
          "Rock",
          "Electronic",
          "Rock",
          "Hip Hop",
          "Funk / Soul",
          "Folk, World, & Country",
          "Funk / Soul",
          "Electronic",
          "Pop",
          "Folk, World, & Country",
          "Rock",
          "Rock",
          "Folk, World, & Country",
          "Jazz",
          "Rock",
          "Reggae",
          "Folk, World, & Country",
          "Folk, World, & Country",
          "Rock",
          "Pop",
          "Hip Hop",
          "Jazz",
          "Rock",
          "Folk, World, & Country",
          "Jazz",
          "Hip Hop",
          "Electronic",
          "Reggae",
          "Rock",
          "Rock",
          "Rock",
          "Pop",
          "Classical",
          "Rock",
          "Electronic",
          "Rock",
          "Hip Hop",
          "Rock",
          "Electronic",
          "Stage & Screen",
          "Latin",
          "Blues",
          "Hip Hop",
          "Hip Hop",
          "Folk, World, & Country",
          "Rock",
          "Hip Hop",
          "Rock",
          "Electronic",
          "Folk, World, & Country",
          "Rock",
          "Rock",
          "Rock",
          "Non-Music",
          "Stage & Screen",
          "Folk, World, & Country",
          "Rock",
          "Pop",
          "Funk / Soul",
          "Non-Music",
          "Jazz",
          "Hip Hop",
          "Electronic",
          "Latin",
          "Folk, World, & Country",
          "Rock",
          "Rock",
          "Latin",
          "Electronic",
          "Rock",
          "Rock",
          "Funk / Soul",
          "Rock",
          "Jazz",
          "Jazz",
          "Stage & Screen",
          "Electronic",
          "Pop",
          "Folk, World, & Country",
          "Hip Hop",
          "Electronic",
          "Folk, World, & Country",
          "Rock",
          "Electronic",
          "Non-Music",
          "Hip Hop",
          "Rock",
          "Pop",
          "Electronic",
          "Pop",
          "Folk, World, & Country",
          "Electronic",
          "Electronic",
          "Rock",
          "Folk, World, & Country",
          "Hip Hop",
          "Reggae",
          "Electronic",
          "Electronic",
          "Rock",
          "Electronic",
          "Classical",
          "Pop",
          "Rock",
          "Rock",
          "Pop",
          "Folk, World, & Country",
          "Hip Hop",
          "Hip Hop",
          "Stage & Screen",
          "Jazz",
          "Rock",
          "Classical",
          "Folk, World, & Country",
          "Electronic",
          "Folk, World, & Country",
          "Hip Hop",
          "Electronic",
          "Non-Music",
          "Pop",
          "Classical",
          "Rock",
          "Non-Music",
          "Pop",
          "Reggae",
          "Electronic",
          "Rock",
          "Rock",
          "Latin",
          "Pop",
          "Pop",
          "Rock",
          "Electronic",
          "Electronic",
          "Rock",
          "Electronic",
          "Rock",
          "Latin",
          "Electronic",
          "Electronic",
          "Hip Hop",
          "Rock",
          "Rock",
          "Rock",
          "Reggae",
          "Electronic",
          "Rock",
          "Rock",
          "Rock",
          "Rock",
          "Electronic",
          "Electronic",
          "Electronic",
          "Hip Hop",
          "Pop",
          "Pop",
          "Jazz",
          "Funk / Soul",
          "Hip Hop",
          "Rock",
          "Reggae",
          "Hip Hop",
          "Latin",
          "Rock",
          "Rock",
          "Hip Hop",
          "Hip Hop",
          "Electronic",
          "Rock",
          "Rock",
          "Rock",
          "Classical",
          "Folk, World, & Country",
          "Rock",
          "Pop",
          "Rock",
          "Electronic",
          "Rock",
          "Rock",
          "Latin",
          "Rock",
          "Folk, World, & Country",
          "Jazz",
          "Electronic",
          "Electronic",
          "Rock",
          "Folk, World, & Country",
          "Hip Hop",
          "Electronic",
          "Rock",
          "Rock",
          "Electronic",
          "Electronic",
          "Latin",
          "Funk / Soul",
          "Hip Hop",
          "Rock",
          "Folk, World, & Country",
          "Electronic",
          "Pop",
          "Folk, World, & Country",
          "Rock",
          "Reggae",
          "Folk, World, & Country",
          "Pop",
          "Non-Music",
          "Rock",
          "Hip Hop",
          "Rock",
          "Folk, World, & Country",
          "Electronic",
          "Jazz",
          "Funk / Soul",
          "Latin",
          "Folk, World, & Country",
          "Folk, World, & Country",
          "Pop",
          "Folk, World, & Country",
          "Folk, World, & Country",
          "Electronic",
          "Rock",
          "Pop",
          "Hip Hop",
          "Rock",
          "Rock",
          "Rock",
          "Hip Hop",
          "Rock",
          "Hip Hop",
          "Electronic",
          "Electronic",
          "Hip Hop",
          "Folk, World, & Country",
          "Pop",
          "Funk / Soul",
          "Rock",
          "Electronic",
          "Rock",
          "Latin",
          "Rock",
          "Rock",
          "Folk, World, & Country",
          "Electronic",
          "Electronic",
          "Hip Hop",
          "Electronic",
          "Electronic",
          "Pop",
          "Electronic",
          "Rock",
          "Latin",
          "Funk / Soul",
          "Rock",
          "Folk, World, & Country",
          "Classical",
          "Classical",
          "Rock",
          "Rock",
          "Pop",
          "Hip Hop",
          "Reggae",
          "Hip Hop",
          "Funk / Soul",
          "Folk, World, & Country",
          "Electronic",
          "Rock",
          "Rock",
          "Hip Hop",
          "Rock",
          "Folk, World, & Country",
          "Rock",
          "Pop",
          "Electronic",
          "Electronic",
          "Electronic",
          "Non-Music",
          "Rock",
          "Hip Hop",
          "Electronic",
          "Classical",
          "Rock",
          "Electronic",
          "Rock",
          "Electronic",
          "Jazz",
          "Pop",
          "Hip Hop",
          "Electronic",
          "Latin",
          "Electronic",
          "Funk / Soul",
          "Pop",
          "Pop",
          "Electronic",
          "Funk / Soul",
          "Electronic",
          "Non-Music",
          "Rock",
          "Electronic",
          "Electronic",
          "Hip Hop",
          "Hip Hop",
          "Latin",
          "Pop",
          "Hip Hop",
          "Reggae",
          "Hip Hop",
          "Classical",
          "Rock",
          "Hip Hop",
          "Rock",
          "Pop",
          "Pop",
          "Latin",
          "Rock",
          "Hip Hop",
          "Electronic",
          "Hip Hop",
          "Hip Hop",
          "Hip Hop",
          "Non-Music",
          "Hip Hop",
          "Hip Hop",
          "Rock",
          "Hip Hop",
          "Rock",
          "Rock",
          "Folk, World, & Country",
          "Non-Music",
          "Hip Hop",
          "Latin",
          "Latin",
          "Electronic",
          "Electronic",
          "Pop",
          "Latin",
          "Folk, World, & Country",
          "Electronic",
          "Rock",
          "Rock",
          "Non-Music",
          "Jazz",
          "Electronic",
          "Non-Music",
          "Rock",
          "Classical",
          "Non-Music",
          "Pop",
          "Pop",
          "Folk, World, & Country",
          "Pop",
          "Hip Hop",
          "Pop",
          "Latin",
          "Electronic",
          "Electronic",
          "Hip Hop",
          "Rock",
          "Rock",
          "Electronic",
          "Electronic",
          "Electronic",
          "Hip Hop",
          "Folk, World, & Country",
          "Rock",
          "Hip Hop",
          "Classical",
          "Electronic",
          "Hip Hop",
          "Electronic",
          "Hip Hop",
          "Rock",
          "Pop",
          "Latin",
          "Rock",
          "Electronic",
          "Pop",
          "Rock",
          "Rock",
          "Hip Hop",
          "Electronic",
          "Funk / Soul",
          "Electronic",
          "Pop",
          "Hip Hop",
          "Rock",
          "Funk / Soul",
          "Pop",
          "Electronic",
          "Electronic",
          "Funk / Soul",
          "Stage & Screen",
          "Reggae",
          "Classical",
          "Pop",
          "Folk, World, & Country",
          "Hip Hop",
          "Rock",
          "Rock",
          "Folk, World, & Country",
          "Rock",
          "Hip Hop",
          "Hip Hop",
          "Rock",
          "Rock",
          "Electronic",
          "Rock",
          "Rock",
          "Rock",
          "Hip Hop",
          "Rock",
          "Electronic",
          "Electronic",
          "Electronic",
          "Electronic",
          "Reggae",
          "Hip Hop",
          "Pop",
          "Classical",
          "Jazz",
          "Electronic",
          "Rock",
          "Rock",
          "Electronic",
          "Folk, World, & Country",
          "Electronic",
          "Electronic",
          "Electronic",
          "Rock",
          "Hip Hop",
          "Hip Hop",
          "Rock",
          "Funk / Soul",
          "Latin",
          "Rock",
          "Electronic",
          "Hip Hop",
          "Pop",
          "Electronic",
          "Rock",
          "Electronic",
          "Electronic",
          "Rock",
          "Rock",
          "Blues",
          "Hip Hop",
          "Rock",
          "Electronic",
          "Funk / Soul",
          "Rock",
          "Rock",
          "Electronic",
          "Rock",
          "Electronic",
          "Children's",
          "Pop",
          "Hip Hop",
          "Classical",
          "Folk, World, & Country",
          "Folk, World, & Country",
          "Brass & Military",
          "Rock",
          "Hip Hop",
          "Non-Music",
          "Rock",
          "Latin",
          "Electronic",
          "Classical",
          "Hip Hop",
          "Electronic",
          "Rock",
          "Hip Hop",
          "Pop",
          "Electronic",
          "Classical",
          "Stage & Screen",
          "Rock",
          "Rock",
          "Hip Hop",
          "Non-Music",
          "Hip Hop",
          "Hip Hop",
          "Electronic",
          "Electronic",
          "Classical",
          "Rock",
          "Classical",
          "Jazz",
          "Folk, World, & Country",
          "Hip Hop",
          "Electronic",
          "Latin",
          "Electronic",
          "Classical",
          "Latin",
          "Electronic",
          "Electronic",
          "Classical",
          "Pop",
          "Classical",
          "Rock",
          "Pop",
          "Classical",
          "Funk / Soul",
          "Electronic",
          "Pop",
          "Rock",
          "Rock",
          "Pop",
          "Rock",
          "Electronic",
          "Electronic",
          "Hip Hop",
          "Rock",
          "Rock",
          "Latin",
          "Hip Hop",
          "Rock",
          "Latin",
          "Hip Hop",
          "Electronic",
          "Hip Hop",
          "Classical",
          "Hip Hop",
          "Electronic",
          "Folk, World, & Country",
          "Blues",
          "Electronic",
          "Rock",
          "Electronic",
          "Folk, World, & Country",
          "Hip Hop",
          "Electronic",
          "Rock",
          "Electronic",
          "Rock",
          "Blues",
          "Rock",
          "Pop",
          "Electronic",
          "Latin",
          "Electronic",
          "Funk / Soul",
          "Rock",
          "Hip Hop",
          "Rock",
          "Folk, World, & Country",
          "Electronic",
          "Stage & Screen",
          "Folk, World, & Country",
          "Latin",
          "Electronic",
          "Funk / Soul",
          "Electronic",
          "Electronic",
          "Rock",
          "Jazz",
          "Rock",
          "Rock",
          "Rock",
          "Hip Hop",
          "Hip Hop",
          "Funk / Soul",
          "Folk, World, & Country",
          "Electronic",
          "Blues",
          "Rock",
          "Folk, World, & Country",
          "Latin",
          "Rock",
          "Reggae",
          "Funk / Soul",
          "Pop",
          "Pop",
          "Folk, World, & Country",
          "Rock",
          "Rock",
          "Funk / Soul",
          "Rock",
          "Hip Hop",
          "Rock",
          "Electronic",
          "Electronic",
          "Rock",
          "Rock",
          "Electronic",
          "Latin",
          "Rock",
          "Funk / Soul",
          "Electronic",
          "Rock",
          "Hip Hop",
          "Jazz",
          "Classical",
          "Rock",
          "Rock",
          "Electronic",
          "Hip Hop",
          "Rock",
          "Folk, World, & Country",
          "Hip Hop",
          "Rock",
          "Stage & Screen",
          "Stage & Screen",
          "Rock",
          "Electronic",
          "Rock",
          "Rock",
          "Funk / Soul",
          "Hip Hop",
          "Rock",
          "Latin",
          "Hip Hop",
          "Reggae",
          "Rock",
          "Latin",
          "Latin",
          "Reggae",
          "Folk, World, & Country",
          "Electronic",
          "Rock",
          "Electronic",
          "Classical",
          "Folk, World, & Country",
          "Electronic",
          "Blues",
          "Reggae",
          "Electronic",
          "Rock",
          "Rock",
          "Electronic",
          "Folk, World, & Country",
          "Rock",
          "Rock",
          "Rock",
          "Latin",
          "Rock",
          "Hip Hop",
          "Classical",
          "Non-Music",
          "Pop",
          "Stage & Screen",
          "Folk, World, & Country",
          "Rock",
          "Hip Hop",
          "Jazz",
          "Folk, World, & Country",
          "Rock",
          "Folk, World, & Country",
          "Rock",
          "Pop",
          "Rock",
          "Electronic",
          "Electronic",
          "Rock",
          "Electronic",
          "Rock",
          "Rock",
          "Reggae",
          "Rock",
          "Rock",
          "Rock",
          "Pop",
          "Rock",
          "Rock",
          "Latin",
          "Latin",
          "Rock",
          "Hip Hop",
          "Electronic",
          "Folk, World, & Country",
          "Rock",
          "Folk, World, & Country",
          "Hip Hop",
          "Folk, World, & Country",
          "Classical",
          "Hip Hop",
          "Hip Hop",
          "Rock",
          "Hip Hop",
          "Electronic",
          "Funk / Soul",
          "Funk / Soul",
          "Folk, World, & Country",
          "Electronic",
          "Latin",
          "Funk / Soul",
          "Pop",
          "Hip Hop",
          "Folk, World, & Country",
          "Latin",
          "Folk, World, & Country",
          "Folk, World, & Country",
          "Latin",
          "Hip Hop",
          "Rock",
          "Hip Hop",
          "Rock",
          "Hip Hop",
          "Classical",
          "Electronic",
          "Rock",
          "Hip Hop",
          "Hip Hop",
          "Rock",
          "Rock",
          "Latin",
          "Electronic",
          "Electronic",
          "Rock",
          "Rock",
          "Stage & Screen",
          "Jazz",
          "Electronic",
          "Rock",
          "Latin",
          "Folk, World, & Country",
          "Pop",
          "Reggae",
          "Electronic",
          "Reggae",
          "Rock",
          "Rock",
          "Pop",
          "Hip Hop",
          "Electronic",
          "Latin",
          "Rock",
          "Rock",
          "Classical",
          "Folk, World, & Country",
          "Reggae",
          "Hip Hop",
          "Funk / Soul",
          "Folk, World, & Country",
          "Pop",
          "Pop",
          "Electronic",
          "Rock",
          "Folk, World, & Country",
          "Rock",
          "Pop",
          "Electronic",
          "Rock",
          "Jazz",
          "Hip Hop",
          "Pop",
          "Funk / Soul",
          "Blues",
          "Rock",
          "Classical",
          "Rock",
          "Electronic",
          "Folk, World, & Country",
          "Folk, World, & Country",
          "Classical",
          "Electronic",
          "Folk, World, & Country",
          "Hip Hop",
          "Rock",
          "Hip Hop",
          "Rock",
          "Folk, World, & Country",
          "Electronic",
          "Folk, World, & Country",
          "Brass & Military",
          "Rock",
          "Pop",
          "Electronic",
          "Rock",
          "Hip Hop",
          "Electronic",
          "Pop",
          "Non-Music",
          "Rock",
          "Electronic",
          "Pop",
          "Rock",
          "Rock",
          "Pop",
          "Reggae",
          "Folk, World, & Country",
          "Electronic",
          "Rock",
          "Electronic",
          "Electronic",
          "Jazz",
          "Classical",
          "Pop",
          "Rock",
          "Brass & Military",
          "Rock",
          "Electronic",
          "Electronic",
          "Rock",
          "Pop",
          "Hip Hop",
          "Electronic",
          "Electronic",
          "Rock",
          "Hip Hop",
          "Electronic",
          "Rock",
          "Pop",
          "Folk, World, & Country",
          "Rock",
          "Hip Hop",
          "Folk, World, & Country",
          "Latin",
          "Rock",
          "Rock",
          "Pop",
          "Latin",
          "Latin",
          "Folk, World, & Country",
          "Rock",
          "Latin",
          "Hip Hop",
          "Rock",
          "Rock",
          "Electronic",
          "Blues",
          "Blues",
          "Folk, World, & Country",
          "Folk, World, & Country",
          "Pop",
          "Electronic",
          "Rock",
          "Rock",
          "Rock",
          "Funk / Soul",
          "Electronic",
          "Pop",
          "Folk, World, & Country",
          "Electronic",
          "Reggae",
          "Electronic",
          "Electronic",
          "Hip Hop",
          "Hip Hop",
          "Folk, World, & Country",
          "Rock",
          "Jazz",
          "Rock",
          "Hip Hop",
          "Brass & Military",
          "Latin",
          "Rock",
          "Rock",
          "Folk, World, & Country",
          "Funk / Soul",
          "Hip Hop",
          "Rock",
          "Hip Hop",
          "Electronic",
          "Electronic",
          "Electronic",
          "Latin",
          "Electronic",
          "Hip Hop",
          "Classical",
          "Hip Hop",
          "Rock",
          "Folk, World, & Country",
          "Electronic",
          "Electronic",
          "Electronic",
          "Electronic",
          "Rock",
          "Rock",
          "Electronic",
          "Pop",
          "Hip Hop",
          "Rock",
          "Jazz",
          "Electronic",
          "Rock",
          "Hip Hop",
          "Electronic",
          "Electronic",
          "Folk, World, & Country",
          "Rock",
          "Rock",
          "Folk, World, & Country",
          "Folk, World, & Country",
          "Rock",
          "Hip Hop",
          "Reggae",
          "Funk / Soul",
          "Rock",
          "Electronic",
          "Funk / Soul",
          "Folk, World, & Country",
          "Rock",
          "Rock",
          "Classical",
          "Electronic",
          "Blues",
          "Hip Hop",
          "Electronic",
          "Latin",
          "Funk / Soul",
          "Rock",
          "Electronic",
          "Electronic",
          "Hip Hop",
          "Folk, World, & Country",
          "Rock",
          "Pop",
          "Electronic",
          "Hip Hop",
          "Rock",
          "Classical",
          "Hip Hop",
          "Latin",
          "Electronic",
          "Funk / Soul",
          "Rock",
          "Electronic",
          "Rock",
          "Non-Music",
          "Hip Hop",
          "Latin",
          "Folk, World, & Country",
          "Latin",
          "Folk, World, & Country",
          "Latin",
          "Reggae",
          "Funk / Soul",
          "Jazz",
          "Rock",
          "Electronic",
          "Brass & Military",
          "Hip Hop",
          "Classical",
          "Electronic",
          "Electronic",
          "Rock",
          "Rock",
          "Folk, World, & Country",
          "Pop",
          "Hip Hop",
          "Rock",
          "Rock",
          "Rock",
          "Pop",
          "Rock",
          "Electronic",
          "Folk, World, & Country",
          "Non-Music",
          "Rock",
          "Electronic",
          "Rock",
          "Electronic",
          "Rock",
          "Electronic",
          "Rock",
          "Electronic",
          "Pop",
          "Stage & Screen",
          "Pop",
          "Electronic",
          "Pop",
          "Rock",
          "Pop",
          "Rock",
          "Hip Hop",
          "Electronic",
          "Jazz",
          "Pop",
          "Rock",
          "Folk, World, & Country",
          "Rock",
          "Pop",
          "Electronic",
          "Electronic",
          "Rock",
          "Hip Hop",
          "Hip Hop",
          "Pop",
          "Jazz",
          "Folk, World, & Country",
          "Rock",
          "Folk, World, & Country",
          "Folk, World, & Country",
          "Rock",
          "Rock",
          "Latin",
          "Electronic",
          "Electronic",
          "Electronic",
          "Folk, World, & Country",
          "Children's",
          "Classical",
          "Rock",
          "Rock",
          "Folk, World, & Country",
          "Electronic",
          "Pop",
          "Rock",
          "Classical",
          "Rock",
          "Electronic",
          "Rock",
          "Rock",
          "Pop",
          "Rock",
          "Rock",
          "Folk, World, & Country",
          "Electronic",
          "Rock",
          "Rock",
          "Jazz",
          "Jazz",
          "Rock",
          "Funk / Soul",
          "Hip Hop",
          "Rock",
          "Hip Hop",
          "Folk, World, & Country",
          "Rock",
          "Reggae",
          "Rock",
          "Folk, World, & Country",
          "Rock",
          "Hip Hop",
          "Hip Hop",
          "Rock",
          "Electronic",
          "Electronic",
          "Reggae",
          "Hip Hop",
          "Latin",
          "Folk, World, & Country",
          "Electronic",
          "Folk, World, & Country",
          "Latin",
          "Funk / Soul",
          "Hip Hop",
          "Rock",
          "Electronic",
          "Folk, World, & Country",
          "Rock",
          "Rock",
          "Latin",
          "Rock",
          "Rock",
          "Rock",
          "Electronic",
          "Funk / Soul",
          "Funk / Soul",
          "Rock",
          "Jazz",
          "Folk, World, & Country",
          "Electronic",
          "Jazz",
          "Rock",
          "Electronic",
          "Hip Hop",
          "Hip Hop",
          "Hip Hop",
          "Electronic",
          "Folk, World, & Country",
          "Electronic",
          "Rock",
          "Electronic",
          "Rock",
          "Electronic",
          "Rock",
          "Folk, World, & Country",
          "Pop",
          "Classical",
          "Brass & Military",
          "Hip Hop",
          "Electronic",
          "Jazz",
          "Latin",
          "Classical",
          "Hip Hop",
          "Pop",
          "Stage & Screen",
          "Electronic",
          "Electronic",
          "Rock",
          "Electronic",
          "Latin",
          "Hip Hop",
          "Latin",
          "Latin",
          "Electronic",
          "Electronic",
          "Rock",
          "Funk / Soul",
          "Hip Hop",
          "Electronic",
          "Pop",
          "Latin",
          "Rock",
          "Pop",
          "Rock",
          "Hip Hop",
          "Folk, World, & Country",
          "Folk, World, & Country",
          "Jazz",
          "Hip Hop",
          "Hip Hop",
          "Hip Hop",
          "Hip Hop",
          "Jazz",
          "Folk, World, & Country",
          "Electronic",
          "Latin",
          "Rock",
          "Hip Hop",
          "Rock",
          "Jazz",
          "Hip Hop",
          "Hip Hop",
          "Rock",
          "Rock",
          "Electronic",
          "Pop",
          "Pop",
          "Electronic",
          "Rock",
          "Electronic",
          "Rock",
          "Rock",
          "Hip Hop",
          "Funk / Soul",
          "Hip Hop",
          "Hip Hop",
          "Electronic",
          "Hip Hop",
          "Electronic",
          "Latin",
          "Rock",
          "Folk, World, & Country",
          "Classical",
          "Rock",
          "Rock",
          "Electronic",
          "Children's",
          "Rock",
          "Pop",
          "Non-Music",
          "Hip Hop",
          "Hip Hop",
          "Electronic",
          "Pop",
          "Rock",
          "Rock",
          "Electronic",
          "Hip Hop",
          "Electronic",
          "Rock",
          "Rock",
          "Hip Hop",
          "Electronic",
          "Rock",
          "Rock",
          "Folk, World, & Country",
          "Rock",
          "Hip Hop",
          "Electronic",
          "Electronic",
          "Electronic",
          "Classical",
          "Electronic",
          "Electronic",
          "Latin",
          "Electronic",
          "Folk, World, & Country",
          "Pop",
          "Rock",
          "Electronic",
          "Rock",
          "Funk / Soul",
          "Rock",
          "Electronic",
          "Rock",
          "Electronic",
          "Rock",
          "Classical",
          "Funk / Soul",
          "Classical",
          "Rock",
          "Pop",
          "Hip Hop",
          "Jazz",
          "Rock",
          "Latin",
          "Pop",
          "Folk, World, & Country",
          "Electronic",
          "Hip Hop",
          "Rock",
          "Latin",
          "Latin",
          "Rock",
          "Folk, World, & Country",
          "Folk, World, & Country",
          "Reggae",
          "Rock",
          "Electronic",
          "Pop",
          "Rock",
          "Electronic",
          "Rock",
          "Electronic",
          "Hip Hop",
          "Latin",
          "Folk, World, & Country",
          "Pop",
          "Hip Hop",
          "Pop",
          "Jazz",
          "Electronic",
          "Hip Hop",
          "Rock",
          "Rock",
          "Electronic",
          "Rock",
          "Hip Hop",
          "Hip Hop",
          "Electronic",
          "Electronic",
          "Electronic",
          "Rock",
          "Funk / Soul",
          "Folk, World, & Country",
          "Electronic",
          "Hip Hop",
          "Latin",
          "Folk, World, & Country",
          "Rock",
          "Hip Hop",
          "Electronic",
          "Rock",
          "Rock",
          "Folk, World, & Country",
          "Non-Music",
          "Jazz",
          "Folk, World, & Country",
          "Rock",
          "Hip Hop",
          "Electronic",
          "Latin",
          "Electronic",
          "Latin",
          "Reggae",
          "Folk, World, & Country",
          "Rock",
          "Folk, World, & Country",
          "Rock",
          "Pop",
          "Jazz",
          "Rock",
          "Hip Hop",
          "Electronic",
          "Rock",
          "Folk, World, & Country",
          "Rock",
          "Hip Hop",
          "Hip Hop",
          "Hip Hop",
          "Electronic",
          "Electronic",
          "Jazz",
          "Rock",
          "Pop",
          "Folk, World, & Country",
          "Electronic",
          "Rock",
          "Folk, World, & Country",
          "Rock",
          "Latin",
          "Electronic",
          "Latin",
          "Electronic",
          "Rock",
          "Electronic",
          "Hip Hop",
          "Latin",
          "Electronic",
          "Electronic",
          "Electronic",
          "Electronic",
          "Rock",
          "Rock",
          "Hip Hop",
          "Electronic",
          "Rock",
          "Folk, World, & Country",
          "Rock",
          "Latin",
          "Latin",
          "Electronic",
          "Jazz",
          "Electronic",
          "Jazz",
          "Electronic",
          "Rock",
          "Rock",
          "Rock",
          "Pop",
          "Latin",
          "Rock",
          "Electronic",
          "Rock",
          "Rock",
          "Electronic",
          "Rock",
          "Electronic",
          "Classical",
          "Rock",
          "Rock",
          "Pop",
          "Rock",
          "Rock",
          "Rock",
          "Hip Hop",
          "Hip Hop",
          "Hip Hop",
          "Electronic",
          "Folk, World, & Country",
          "Children's",
          "Rock",
          "Rock",
          "Folk, World, & Country",
          "Folk, World, & Country",
          "Electronic",
          "Pop",
          "Electronic",
          "Rock",
          "Rock",
          "Electronic",
          "Rock",
          "Pop",
          "Blues",
          "Hip Hop",
          "Electronic",
          "Electronic",
          "Rock",
          "Hip Hop",
          "Rock",
          "Folk, World, & Country",
          "Rock",
          "Funk / Soul",
          "Rock",
          "Electronic",
          "Pop",
          "Latin",
          "Rock",
          "Hip Hop",
          "Electronic",
          "Electronic",
          "Rock",
          "Latin",
          "Pop",
          "Rock",
          "Electronic",
          "Reggae",
          "Classical",
          "Electronic",
          "Electronic",
          "Rock",
          "Children's",
          "Electronic",
          "Hip Hop",
          "Classical",
          "Hip Hop",
          "Funk / Soul",
          "Folk, World, & Country",
          "Electronic",
          "Hip Hop",
          "Blues",
          "Electronic",
          "Classical",
          "Rock",
          "Pop",
          "Hip Hop",
          "Rock",
          "Children's",
          "Hip Hop",
          "Pop",
          "Electronic",
          "Electronic",
          "Folk, World, & Country",
          "Folk, World, & Country",
          "Classical",
          "Rock",
          "Jazz",
          "Electronic",
          "Classical",
          "Folk, World, & Country",
          "Electronic",
          "Pop",
          "Rock",
          "Rock",
          "Electronic",
          "Folk, World, & Country",
          "Rock",
          "Electronic",
          "Rock",
          "Electronic",
          "Latin",
          "Rock",
          "Rock"
         ],
         "x0": " ",
         "xaxis": "x",
         "y": {
          "bdata": "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",
          "dtype": "f8"
         },
         "y0": " ",
         "yaxis": "y"
        },
        {
         "marker": {
          "color": "green",
          "opacity": 0.7,
          "size": 12,
          "symbol": "x"
         },
         "mode": "markers",
         "name": "Expected Rock (-8.5 LUFS)",
         "type": "scatter",
         "x": [
          "Rock"
         ],
         "y": [
          -8.5
         ]
        },
        {
         "marker": {
          "color": "green",
          "opacity": 0.7,
          "size": 12,
          "symbol": "diamond"
         },
         "mode": "markers",
         "name": "Expected Electronic (-5.0 LUFS)",
         "type": "scatter",
         "x": [
          "Electronic"
         ],
         "y": [
          -5
         ]
        },
        {
         "marker": {
          "color": "green",
          "opacity": 0.7,
          "size": 12,
          "symbol": "circle"
         },
         "mode": "markers",
         "name": "Expected Pop (-7.0 LUFS)",
         "type": "scatter",
         "x": [
          "Pop"
         ],
         "y": [
          -7
         ]
        }
       ],
       "layout": {
        "boxmode": "group",
        "legend": {
         "tracegroupgap": 0
        },
        "template": {
         "data": {
          "bar": [
           {
            "error_x": {
             "color": "#2a3f5f"
            },
            "error_y": {
             "color": "#2a3f5f"
            },
            "marker": {
             "line": {
              "color": "white",
              "width": 0.5
             },
             "pattern": {
              "fillmode": "overlay",
              "size": 10,
              "solidity": 0.2
             }
            },
            "type": "bar"
           }
          ],
          "barpolar": [
           {
            "marker": {
             "line": {
              "color": "white",
              "width": 0.5
             },
             "pattern": {
              "fillmode": "overlay",
              "size": 10,
              "solidity": 0.2
             }
            },
            "type": "barpolar"
           }
          ],
          "carpet": [
           {
            "aaxis": {
             "endlinecolor": "#2a3f5f",
             "gridcolor": "#C8D4E3",
             "linecolor": "#C8D4E3",
             "minorgridcolor": "#C8D4E3",
             "startlinecolor": "#2a3f5f"
            },
            "baxis": {
             "endlinecolor": "#2a3f5f",
             "gridcolor": "#C8D4E3",
             "linecolor": "#C8D4E3",
             "minorgridcolor": "#C8D4E3",
             "startlinecolor": "#2a3f5f"
            },
            "type": "carpet"
           }
          ],
          "choropleth": [
           {
            "colorbar": {
             "outlinewidth": 0,
             "ticks": ""
            },
            "type": "choropleth"
           }
          ],
          "contour": [
           {
            "colorbar": {
             "outlinewidth": 0,
             "ticks": ""
            },
            "colorscale": [
             [
              0,
              "#0d0887"
             ],
             [
              0.1111111111111111,
              "#46039f"
             ],
             [
              0.2222222222222222,
              "#7201a8"
             ],
             [
              0.3333333333333333,
              "#9c179e"
             ],
             [
              0.4444444444444444,
              "#bd3786"
             ],
             [
              0.5555555555555556,
              "#d8576b"
             ],
             [
              0.6666666666666666,
              "#ed7953"
             ],
             [
              0.7777777777777778,
              "#fb9f3a"
             ],
             [
              0.8888888888888888,
              "#fdca26"
             ],
             [
              1,
              "#f0f921"
             ]
            ],
            "type": "contour"
           }
          ],
          "contourcarpet": [
           {
            "colorbar": {
             "outlinewidth": 0,
             "ticks": ""
            },
            "type": "contourcarpet"
           }
          ],
          "heatmap": [
           {
            "colorbar": {
             "outlinewidth": 0,
             "ticks": ""
            },
            "colorscale": [
             [
              0,
              "#0d0887"
             ],
             [
              0.1111111111111111,
              "#46039f"
             ],
             [
              0.2222222222222222,
              "#7201a8"
             ],
             [
              0.3333333333333333,
              "#9c179e"
             ],
             [
              0.4444444444444444,
              "#bd3786"
             ],
             [
              0.5555555555555556,
              "#d8576b"
             ],
             [
              0.6666666666666666,
              "#ed7953"
             ],
             [
              0.7777777777777778,
              "#fb9f3a"
             ],
             [
              0.8888888888888888,
              "#fdca26"
             ],
             [
              1,
              "#f0f921"
             ]
            ],
            "type": "heatmap"
           }
          ],
          "histogram": [
           {
            "marker": {
             "pattern": {
              "fillmode": "overlay",
              "size": 10,
              "solidity": 0.2
             }
            },
            "type": "histogram"
           }
          ],
          "histogram2d": [
           {
            "colorbar": {
             "outlinewidth": 0,
             "ticks": ""
            },
            "colorscale": [
             [
              0,
              "#0d0887"
             ],
             [
              0.1111111111111111,
              "#46039f"
             ],
             [
              0.2222222222222222,
              "#7201a8"
             ],
             [
              0.3333333333333333,
              "#9c179e"
             ],
             [
              0.4444444444444444,
              "#bd3786"
             ],
             [
              0.5555555555555556,
              "#d8576b"
             ],
             [
              0.6666666666666666,
              "#ed7953"
             ],
             [
              0.7777777777777778,
              "#fb9f3a"
             ],
             [
              0.8888888888888888,
              "#fdca26"
             ],
             [
              1,
              "#f0f921"
             ]
            ],
            "type": "histogram2d"
           }
          ],
          "histogram2dcontour": [
           {
            "colorbar": {
             "outlinewidth": 0,
             "ticks": ""
            },
            "colorscale": [
             [
              0,
              "#0d0887"
             ],
             [
              0.1111111111111111,
              "#46039f"
             ],
             [
              0.2222222222222222,
              "#7201a8"
             ],
             [
              0.3333333333333333,
              "#9c179e"
             ],
             [
              0.4444444444444444,
              "#bd3786"
             ],
             [
              0.5555555555555556,
              "#d8576b"
             ],
             [
              0.6666666666666666,
              "#ed7953"
             ],
             [
              0.7777777777777778,
              "#fb9f3a"
             ],
             [
              0.8888888888888888,
              "#fdca26"
             ],
             [
              1,
              "#f0f921"
             ]
            ],
            "type": "histogram2dcontour"
           }
          ],
          "mesh3d": [
           {
            "colorbar": {
             "outlinewidth": 0,
             "ticks": ""
            },
            "type": "mesh3d"
           }
          ],
          "parcoords": [
           {
            "line": {
             "colorbar": {
              "outlinewidth": 0,
              "ticks": ""
             }
            },
            "type": "parcoords"
           }
          ],
          "pie": [
           {
            "automargin": true,
            "type": "pie"
           }
          ],
          "scatter": [
           {
            "fillpattern": {
             "fillmode": "overlay",
             "size": 10,
             "solidity": 0.2
            },
            "type": "scatter"
           }
          ],
          "scatter3d": [
           {
            "line": {
             "colorbar": {
              "outlinewidth": 0,
              "ticks": ""
             }
            },
            "marker": {
             "colorbar": {
              "outlinewidth": 0,
              "ticks": ""
             }
            },
            "type": "scatter3d"
           }
          ],
          "scattercarpet": [
           {
            "marker": {
             "colorbar": {
              "outlinewidth": 0,
              "ticks": ""
             }
            },
            "type": "scattercarpet"
           }
          ],
          "scattergeo": [
           {
            "marker": {
             "colorbar": {
              "outlinewidth": 0,
              "ticks": ""
             }
            },
            "type": "scattergeo"
           }
          ],
          "scattergl": [
           {
            "marker": {
             "colorbar": {
              "outlinewidth": 0,
              "ticks": ""
             }
            },
            "type": "scattergl"
           }
          ],
          "scattermap": [
           {
            "marker": {
             "colorbar": {
              "outlinewidth": 0,
              "ticks": ""
             }
            },
            "type": "scattermap"
           }
          ],
          "scattermapbox": [
           {
            "marker": {
             "colorbar": {
              "outlinewidth": 0,
              "ticks": ""
             }
            },
            "type": "scattermapbox"
           }
          ],
          "scatterpolar": [
           {
            "marker": {
             "colorbar": {
              "outlinewidth": 0,
              "ticks": ""
             }
            },
            "type": "scatterpolar"
           }
          ],
          "scatterpolargl": [
           {
            "marker": {
             "colorbar": {
              "outlinewidth": 0,
              "ticks": ""
             }
            },
            "type": "scatterpolargl"
           }
          ],
          "scatterternary": [
           {
            "marker": {
             "colorbar": {
              "outlinewidth": 0,
              "ticks": ""
             }
            },
            "type": "scatterternary"
           }
          ],
          "surface": [
           {
            "colorbar": {
             "outlinewidth": 0,
             "ticks": ""
            },
            "colorscale": [
             [
              0,
              "#0d0887"
             ],
             [
              0.1111111111111111,
              "#46039f"
             ],
             [
              0.2222222222222222,
              "#7201a8"
             ],
             [
              0.3333333333333333,
              "#9c179e"
             ],
             [
              0.4444444444444444,
              "#bd3786"
             ],
             [
              0.5555555555555556,
              "#d8576b"
             ],
             [
              0.6666666666666666,
              "#ed7953"
             ],
             [
              0.7777777777777778,
              "#fb9f3a"
             ],
             [
              0.8888888888888888,
              "#fdca26"
             ],
             [
              1,
              "#f0f921"
             ]
            ],
            "type": "surface"
           }
          ],
          "table": [
           {
            "cells": {
             "fill": {
              "color": "#EBF0F8"
             },
             "line": {
              "color": "white"
             }
            },
            "header": {
             "fill": {
              "color": "#C8D4E3"
             },
             "line": {
              "color": "white"
             }
            },
            "type": "table"
           }
          ]
         },
         "layout": {
          "annotationdefaults": {
           "arrowcolor": "#2a3f5f",
           "arrowhead": 0,
           "arrowwidth": 1
          },
          "autotypenumbers": "strict",
          "coloraxis": {
           "colorbar": {
            "outlinewidth": 0,
            "ticks": ""
           }
          },
          "colorscale": {
           "diverging": [
            [
             0,
             "#8e0152"
            ],
            [
             0.1,
             "#c51b7d"
            ],
            [
             0.2,
             "#de77ae"
            ],
            [
             0.3,
             "#f1b6da"
            ],
            [
             0.4,
             "#fde0ef"
            ],
            [
             0.5,
             "#f7f7f7"
            ],
            [
             0.6,
             "#e6f5d0"
            ],
            [
             0.7,
             "#b8e186"
            ],
            [
             0.8,
             "#7fbc41"
            ],
            [
             0.9,
             "#4d9221"
            ],
            [
             1,
             "#276419"
            ]
           ],
           "sequential": [
            [
             0,
             "#0d0887"
            ],
            [
             0.1111111111111111,
             "#46039f"
            ],
            [
             0.2222222222222222,
             "#7201a8"
            ],
            [
             0.3333333333333333,
             "#9c179e"
            ],
            [
             0.4444444444444444,
             "#bd3786"
            ],
            [
             0.5555555555555556,
             "#d8576b"
            ],
            [
             0.6666666666666666,
             "#ed7953"
            ],
            [
             0.7777777777777778,
             "#fb9f3a"
            ],
            [
             0.8888888888888888,
             "#fdca26"
            ],
            [
             1,
             "#f0f921"
            ]
           ],
           "sequentialminus": [
            [
             0,
             "#0d0887"
            ],
            [
             0.1111111111111111,
             "#46039f"
            ],
            [
             0.2222222222222222,
             "#7201a8"
            ],
            [
             0.3333333333333333,
             "#9c179e"
            ],
            [
             0.4444444444444444,
             "#bd3786"
            ],
            [
             0.5555555555555556,
             "#d8576b"
            ],
            [
             0.6666666666666666,
             "#ed7953"
            ],
            [
             0.7777777777777778,
             "#fb9f3a"
            ],
            [
             0.8888888888888888,
             "#fdca26"
            ],
            [
             1,
             "#f0f921"
            ]
           ]
          },
          "colorway": [
           "#636efa",
           "#EF553B",
           "#00cc96",
           "#ab63fa",
           "#FFA15A",
           "#19d3f3",
           "#FF6692",
           "#B6E880",
           "#FF97FF",
           "#FECB52"
          ],
          "font": {
           "color": "#2a3f5f"
          },
          "geo": {
           "bgcolor": "white",
           "lakecolor": "white",
           "landcolor": "white",
           "showlakes": true,
           "showland": true,
           "subunitcolor": "#C8D4E3"
          },
          "hoverlabel": {
           "align": "left"
          },
          "hovermode": "closest",
          "mapbox": {
           "style": "light"
          },
          "paper_bgcolor": "white",
          "plot_bgcolor": "white",
          "polar": {
           "angularaxis": {
            "gridcolor": "#EBF0F8",
            "linecolor": "#EBF0F8",
            "ticks": ""
           },
           "bgcolor": "white",
           "radialaxis": {
            "gridcolor": "#EBF0F8",
            "linecolor": "#EBF0F8",
            "ticks": ""
           }
          },
          "scene": {
           "xaxis": {
            "backgroundcolor": "white",
            "gridcolor": "#DFE8F3",
            "gridwidth": 2,
            "linecolor": "#EBF0F8",
            "showbackground": true,
            "ticks": "",
            "zerolinecolor": "#EBF0F8"
           },
           "yaxis": {
            "backgroundcolor": "white",
            "gridcolor": "#DFE8F3",
            "gridwidth": 2,
            "linecolor": "#EBF0F8",
            "showbackground": true,
            "ticks": "",
            "zerolinecolor": "#EBF0F8"
           },
           "zaxis": {
            "backgroundcolor": "white",
            "gridcolor": "#DFE8F3",
            "gridwidth": 2,
            "linecolor": "#EBF0F8",
            "showbackground": true,
            "ticks": "",
            "zerolinecolor": "#EBF0F8"
           }
          },
          "shapedefaults": {
           "line": {
            "color": "#2a3f5f"
           }
          },
          "ternary": {
           "aaxis": {
            "gridcolor": "#DFE8F3",
            "linecolor": "#A2B1C6",
            "ticks": ""
           },
           "baxis": {
            "gridcolor": "#DFE8F3",
            "linecolor": "#A2B1C6",
            "ticks": ""
           },
           "bgcolor": "white",
           "caxis": {
            "gridcolor": "#DFE8F3",
            "linecolor": "#A2B1C6",
            "ticks": ""
           }
          },
          "title": {
           "x": 0.05
          },
          "xaxis": {
           "automargin": true,
           "gridcolor": "#EBF0F8",
           "linecolor": "#EBF0F8",
           "ticks": "",
           "title": {
            "standoff": 15
           },
           "zerolinecolor": "#EBF0F8",
           "zerolinewidth": 2
          },
          "yaxis": {
           "automargin": true,
           "gridcolor": "#EBF0F8",
           "linecolor": "#EBF0F8",
           "ticks": "",
           "title": {
            "standoff": 15
           },
           "zerolinecolor": "#EBF0F8",
           "zerolinewidth": 2
          }
         }
        },
        "title": {
         "text": "Integrated Loudness Distribution by Primary Genre"
        },
        "xaxis": {
         "anchor": "y",
         "domain": [
          0,
          1
         ],
         "tickangle": -45,
         "title": {
          "text": "Genre"
         }
        },
        "yaxis": {
         "anchor": "x",
         "domain": [
          0,
          1
         ],
         "title": {
          "text": "Integrated Loudness (LUFS)"
         }
        }
       }
      }
     },
     "metadata": {},
     "output_type": "display_data"
    }
   ],
   "source": [
    "def get_primary_genre(genres_list):\n",
    "    \"\"\"\n",
    "    Extracts the primary genre from a list of genre dictionaries by choosing the one\n",
    "    with the highest probability.\n",
    "    \"\"\"\n",
    "    if not genres_list:\n",
    "        return None\n",
    "    # Return the parent genre of the entry with the maximum probability\n",
    "    return max(genres_list, key=lambda x: x[\"probability\"])[\"parent\"]\n",
    "\n",
    "# Create a new column 'primary_genre' in df\n",
    "df[\"primary_genre\"] = df[\"genres_processed\"].apply(get_primary_genre)\n",
    "\n",
    "# Create a box plot of integrated loudness (LUFS) by primary genre\n",
    "fig = px.box(\n",
    "    df,\n",
    "    x=\"primary_genre\",\n",
    "    y=\"loudness\",\n",
    "    points=False,\n",
    "    title=\"Integrated Loudness Distribution by Primary Genre\",\n",
    "    labels={\"primary_genre\": \"Genre\", \"loudness\": \"Integrated Loudness (LUFS)\"},\n",
    "    template=\"plotly_white\"\n",
    ")\n",
    "\n",
    "# Expected target integrated LUFS values based on the statement:\n",
    "expected_targets = {\n",
    "    \"rock\": -8.5,   # Rock tracks typically around -8 or -9 LUFS\n",
    "    \"pop\": -7.0,    # Pop tracks around -7 LUFS\n",
    "    \"electronic\": -5.0     # Aggressive EDM masters around -5 LUFS\n",
    "}\n",
    "\n",
    "# Define marker symbols for each genre\n",
    "genre_markers = {\n",
    "    \"rock\": \"x\",\n",
    "    \"pop\": \"circle\",\n",
    "    \"electronic\": \"diamond\",\n",
    "}\n",
    "\n",
    "# Overlay markers for the expected values where applicable.\n",
    "for genre in df[\"primary_genre\"].dropna().unique():\n",
    "    genre_lower = genre.lower()\n",
    "    if genre_lower in expected_targets:\n",
    "        target_lufs = expected_targets[genre_lower]\n",
    "        marker_symbol = genre_markers.get(genre_lower, \"circle\")  # Default to circle if genre not found\n",
    "        fig.add_trace(go.Scatter(\n",
    "            x=[genre],\n",
    "            y=[target_lufs],\n",
    "            mode=\"markers\",\n",
    "            marker=dict(size=12, color=\"green\", symbol=marker_symbol, opacity=0.7),  # Use genre-specific marker\n",
    "            name=f\"Expected {genre} ({target_lufs} LUFS)\"  # Include LUFS in legend\n",
    "        ))\n",
    "\n",
    "fig.update_layout(\n",
    "    xaxis_tickangle=-45,\n",
    "    yaxis_title=\"Integrated Loudness (LUFS)\"\n",
    ")\n",
    "\n",
    "fig.show()"
   ]
  },
  {
   "cell_type": "markdown",
   "metadata": {},
   "source": [
    "## Emotion Analysis\n",
    "\n",
    "Visualize the emotional characteristics of the music collection."
   ]
  },
  {
   "cell_type": "code",
   "execution_count": 85,
   "metadata": {},
   "outputs": [
    {
     "data": {
      "application/vnd.plotly.v1+json": {
       "config": {
        "plotlyServerURL": "https://plot.ly"
       },
       "data": [
        {
         "colorbar": {
          "title": {
           "text": "Count"
          }
         },
         "colorscale": [
          [
           0,
           "#440154"
          ],
          [
           0.1111111111111111,
           "#482878"
          ],
          [
           0.2222222222222222,
           "#3e4989"
          ],
          [
           0.3333333333333333,
           "#31688e"
          ],
          [
           0.4444444444444444,
           "#26828e"
          ],
          [
           0.5555555555555556,
           "#1f9e89"
          ],
          [
           0.6666666666666666,
           "#35b779"
          ],
          [
           0.7777777777777778,
           "#6ece58"
          ],
          [
           0.8888888888888888,
           "#b5de2b"
          ],
          [
           1,
           "#fde725"
          ]
         ],
         "type": "histogram2d",
         "x": {
          "bdata": "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",
          "dtype": "f8"
         },
         "xbins": {
          "end": 1,
          "size": 0.1,
          "start": -1
         },
         "y": {
          "bdata": "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",
          "dtype": "f8"
         },
         "ybins": {
          "end": 1,
          "size": 0.1,
          "start": -1
         }
        }
       ],
       "layout": {
        "annotations": [
         {
          "font": {
           "color": "white"
          },
          "text": "<span style='text-shadow: -1px -1px 0px black, 1px -1px 0px black, -1px 1px 0px black, 1px 1px 0px black;'>Exciting<br>Positive</span>",
          "x": 0.65,
          "y": 0.65
         },
         {
          "font": {
           "color": "white"
          },
          "text": "<span style='text-shadow: -1px -1px 0px black, 1px -1px 0px black, -1px 1px 0px black, 1px 1px 0px black;'>Stressful<br>Negative</span>",
          "x": -0.65,
          "y": 0.65
         },
         {
          "font": {
           "color": "white"
          },
          "text": "<span style='text-shadow: -1px -1px 0px black, 1px -1px 0px black, -1px 1px 0px black, 1px 1px 0px black;'>Content<br>Calm</span>",
          "x": 0.65,
          "y": -0.65
         },
         {
          "font": {
           "color": "white"
          },
          "text": "<span style='text-shadow: -1px -1px 0px black, 1px -1px 0px black, -1px 1px 0px black, 1px 1px 0px black;'>Depressing<br>Sad</span>",
          "x": -0.65,
          "y": -0.65
         }
        ],
        "height": 700,
        "template": {
         "data": {
          "bar": [
           {
            "error_x": {
             "color": "#2a3f5f"
            },
            "error_y": {
             "color": "#2a3f5f"
            },
            "marker": {
             "line": {
              "color": "#E5ECF6",
              "width": 0.5
             },
             "pattern": {
              "fillmode": "overlay",
              "size": 10,
              "solidity": 0.2
             }
            },
            "type": "bar"
           }
          ],
          "barpolar": [
           {
            "marker": {
             "line": {
              "color": "#E5ECF6",
              "width": 0.5
             },
             "pattern": {
              "fillmode": "overlay",
              "size": 10,
              "solidity": 0.2
             }
            },
            "type": "barpolar"
           }
          ],
          "carpet": [
           {
            "aaxis": {
             "endlinecolor": "#2a3f5f",
             "gridcolor": "white",
             "linecolor": "white",
             "minorgridcolor": "white",
             "startlinecolor": "#2a3f5f"
            },
            "baxis": {
             "endlinecolor": "#2a3f5f",
             "gridcolor": "white",
             "linecolor": "white",
             "minorgridcolor": "white",
             "startlinecolor": "#2a3f5f"
            },
            "type": "carpet"
           }
          ],
          "choropleth": [
           {
            "colorbar": {
             "outlinewidth": 0,
             "ticks": ""
            },
            "type": "choropleth"
           }
          ],
          "contour": [
           {
            "colorbar": {
             "outlinewidth": 0,
             "ticks": ""
            },
            "colorscale": [
             [
              0,
              "#0d0887"
             ],
             [
              0.1111111111111111,
              "#46039f"
             ],
             [
              0.2222222222222222,
              "#7201a8"
             ],
             [
              0.3333333333333333,
              "#9c179e"
             ],
             [
              0.4444444444444444,
              "#bd3786"
             ],
             [
              0.5555555555555556,
              "#d8576b"
             ],
             [
              0.6666666666666666,
              "#ed7953"
             ],
             [
              0.7777777777777778,
              "#fb9f3a"
             ],
             [
              0.8888888888888888,
              "#fdca26"
             ],
             [
              1,
              "#f0f921"
             ]
            ],
            "type": "contour"
           }
          ],
          "contourcarpet": [
           {
            "colorbar": {
             "outlinewidth": 0,
             "ticks": ""
            },
            "type": "contourcarpet"
           }
          ],
          "heatmap": [
           {
            "colorbar": {
             "outlinewidth": 0,
             "ticks": ""
            },
            "colorscale": [
             [
              0,
              "#0d0887"
             ],
             [
              0.1111111111111111,
              "#46039f"
             ],
             [
              0.2222222222222222,
              "#7201a8"
             ],
             [
              0.3333333333333333,
              "#9c179e"
             ],
             [
              0.4444444444444444,
              "#bd3786"
             ],
             [
              0.5555555555555556,
              "#d8576b"
             ],
             [
              0.6666666666666666,
              "#ed7953"
             ],
             [
              0.7777777777777778,
              "#fb9f3a"
             ],
             [
              0.8888888888888888,
              "#fdca26"
             ],
             [
              1,
              "#f0f921"
             ]
            ],
            "type": "heatmap"
           }
          ],
          "histogram": [
           {
            "marker": {
             "pattern": {
              "fillmode": "overlay",
              "size": 10,
              "solidity": 0.2
             }
            },
            "type": "histogram"
           }
          ],
          "histogram2d": [
           {
            "colorbar": {
             "outlinewidth": 0,
             "ticks": ""
            },
            "colorscale": [
             [
              0,
              "#0d0887"
             ],
             [
              0.1111111111111111,
              "#46039f"
             ],
             [
              0.2222222222222222,
              "#7201a8"
             ],
             [
              0.3333333333333333,
              "#9c179e"
             ],
             [
              0.4444444444444444,
              "#bd3786"
             ],
             [
              0.5555555555555556,
              "#d8576b"
             ],
             [
              0.6666666666666666,
              "#ed7953"
             ],
             [
              0.7777777777777778,
              "#fb9f3a"
             ],
             [
              0.8888888888888888,
              "#fdca26"
             ],
             [
              1,
              "#f0f921"
             ]
            ],
            "type": "histogram2d"
           }
          ],
          "histogram2dcontour": [
           {
            "colorbar": {
             "outlinewidth": 0,
             "ticks": ""
            },
            "colorscale": [
             [
              0,
              "#0d0887"
             ],
             [
              0.1111111111111111,
              "#46039f"
             ],
             [
              0.2222222222222222,
              "#7201a8"
             ],
             [
              0.3333333333333333,
              "#9c179e"
             ],
             [
              0.4444444444444444,
              "#bd3786"
             ],
             [
              0.5555555555555556,
              "#d8576b"
             ],
             [
              0.6666666666666666,
              "#ed7953"
             ],
             [
              0.7777777777777778,
              "#fb9f3a"
             ],
             [
              0.8888888888888888,
              "#fdca26"
             ],
             [
              1,
              "#f0f921"
             ]
            ],
            "type": "histogram2dcontour"
           }
          ],
          "mesh3d": [
           {
            "colorbar": {
             "outlinewidth": 0,
             "ticks": ""
            },
            "type": "mesh3d"
           }
          ],
          "parcoords": [
           {
            "line": {
             "colorbar": {
              "outlinewidth": 0,
              "ticks": ""
             }
            },
            "type": "parcoords"
           }
          ],
          "pie": [
           {
            "automargin": true,
            "type": "pie"
           }
          ],
          "scatter": [
           {
            "fillpattern": {
             "fillmode": "overlay",
             "size": 10,
             "solidity": 0.2
            },
            "type": "scatter"
           }
          ],
          "scatter3d": [
           {
            "line": {
             "colorbar": {
              "outlinewidth": 0,
              "ticks": ""
             }
            },
            "marker": {
             "colorbar": {
              "outlinewidth": 0,
              "ticks": ""
             }
            },
            "type": "scatter3d"
           }
          ],
          "scattercarpet": [
           {
            "marker": {
             "colorbar": {
              "outlinewidth": 0,
              "ticks": ""
             }
            },
            "type": "scattercarpet"
           }
          ],
          "scattergeo": [
           {
            "marker": {
             "colorbar": {
              "outlinewidth": 0,
              "ticks": ""
             }
            },
            "type": "scattergeo"
           }
          ],
          "scattergl": [
           {
            "marker": {
             "colorbar": {
              "outlinewidth": 0,
              "ticks": ""
             }
            },
            "type": "scattergl"
           }
          ],
          "scattermap": [
           {
            "marker": {
             "colorbar": {
              "outlinewidth": 0,
              "ticks": ""
             }
            },
            "type": "scattermap"
           }
          ],
          "scattermapbox": [
           {
            "marker": {
             "colorbar": {
              "outlinewidth": 0,
              "ticks": ""
             }
            },
            "type": "scattermapbox"
           }
          ],
          "scatterpolar": [
           {
            "marker": {
             "colorbar": {
              "outlinewidth": 0,
              "ticks": ""
             }
            },
            "type": "scatterpolar"
           }
          ],
          "scatterpolargl": [
           {
            "marker": {
             "colorbar": {
              "outlinewidth": 0,
              "ticks": ""
             }
            },
            "type": "scatterpolargl"
           }
          ],
          "scatterternary": [
           {
            "marker": {
             "colorbar": {
              "outlinewidth": 0,
              "ticks": ""
             }
            },
            "type": "scatterternary"
           }
          ],
          "surface": [
           {
            "colorbar": {
             "outlinewidth": 0,
             "ticks": ""
            },
            "colorscale": [
             [
              0,
              "#0d0887"
             ],
             [
              0.1111111111111111,
              "#46039f"
             ],
             [
              0.2222222222222222,
              "#7201a8"
             ],
             [
              0.3333333333333333,
              "#9c179e"
             ],
             [
              0.4444444444444444,
              "#bd3786"
             ],
             [
              0.5555555555555556,
              "#d8576b"
             ],
             [
              0.6666666666666666,
              "#ed7953"
             ],
             [
              0.7777777777777778,
              "#fb9f3a"
             ],
             [
              0.8888888888888888,
              "#fdca26"
             ],
             [
              1,
              "#f0f921"
             ]
            ],
            "type": "surface"
           }
          ],
          "table": [
           {
            "cells": {
             "fill": {
              "color": "#EBF0F8"
             },
             "line": {
              "color": "white"
             }
            },
            "header": {
             "fill": {
              "color": "#C8D4E3"
             },
             "line": {
              "color": "white"
             }
            },
            "type": "table"
           }
          ]
         },
         "layout": {
          "annotationdefaults": {
           "arrowcolor": "#2a3f5f",
           "arrowhead": 0,
           "arrowwidth": 1
          },
          "autotypenumbers": "strict",
          "coloraxis": {
           "colorbar": {
            "outlinewidth": 0,
            "ticks": ""
           }
          },
          "colorscale": {
           "diverging": [
            [
             0,
             "#8e0152"
            ],
            [
             0.1,
             "#c51b7d"
            ],
            [
             0.2,
             "#de77ae"
            ],
            [
             0.3,
             "#f1b6da"
            ],
            [
             0.4,
             "#fde0ef"
            ],
            [
             0.5,
             "#f7f7f7"
            ],
            [
             0.6,
             "#e6f5d0"
            ],
            [
             0.7,
             "#b8e186"
            ],
            [
             0.8,
             "#7fbc41"
            ],
            [
             0.9,
             "#4d9221"
            ],
            [
             1,
             "#276419"
            ]
           ],
           "sequential": [
            [
             0,
             "#0d0887"
            ],
            [
             0.1111111111111111,
             "#46039f"
            ],
            [
             0.2222222222222222,
             "#7201a8"
            ],
            [
             0.3333333333333333,
             "#9c179e"
            ],
            [
             0.4444444444444444,
             "#bd3786"
            ],
            [
             0.5555555555555556,
             "#d8576b"
            ],
            [
             0.6666666666666666,
             "#ed7953"
            ],
            [
             0.7777777777777778,
             "#fb9f3a"
            ],
            [
             0.8888888888888888,
             "#fdca26"
            ],
            [
             1,
             "#f0f921"
            ]
           ],
           "sequentialminus": [
            [
             0,
             "#0d0887"
            ],
            [
             0.1111111111111111,
             "#46039f"
            ],
            [
             0.2222222222222222,
             "#7201a8"
            ],
            [
             0.3333333333333333,
             "#9c179e"
            ],
            [
             0.4444444444444444,
             "#bd3786"
            ],
            [
             0.5555555555555556,
             "#d8576b"
            ],
            [
             0.6666666666666666,
             "#ed7953"
            ],
            [
             0.7777777777777778,
             "#fb9f3a"
            ],
            [
             0.8888888888888888,
             "#fdca26"
            ],
            [
             1,
             "#f0f921"
            ]
           ]
          },
          "colorway": [
           "#636efa",
           "#EF553B",
           "#00cc96",
           "#ab63fa",
           "#FFA15A",
           "#19d3f3",
           "#FF6692",
           "#B6E880",
           "#FF97FF",
           "#FECB52"
          ],
          "font": {
           "color": "#2a3f5f"
          },
          "geo": {
           "bgcolor": "white",
           "lakecolor": "white",
           "landcolor": "#E5ECF6",
           "showlakes": true,
           "showland": true,
           "subunitcolor": "white"
          },
          "hoverlabel": {
           "align": "left"
          },
          "hovermode": "closest",
          "mapbox": {
           "style": "light"
          },
          "paper_bgcolor": "white",
          "plot_bgcolor": "#E5ECF6",
          "polar": {
           "angularaxis": {
            "gridcolor": "white",
            "linecolor": "white",
            "ticks": ""
           },
           "bgcolor": "#E5ECF6",
           "radialaxis": {
            "gridcolor": "white",
            "linecolor": "white",
            "ticks": ""
           }
          },
          "scene": {
           "xaxis": {
            "backgroundcolor": "#E5ECF6",
            "gridcolor": "white",
            "gridwidth": 2,
            "linecolor": "white",
            "showbackground": true,
            "ticks": "",
            "zerolinecolor": "white"
           },
           "yaxis": {
            "backgroundcolor": "#E5ECF6",
            "gridcolor": "white",
            "gridwidth": 2,
            "linecolor": "white",
            "showbackground": true,
            "ticks": "",
            "zerolinecolor": "white"
           },
           "zaxis": {
            "backgroundcolor": "#E5ECF6",
            "gridcolor": "white",
            "gridwidth": 2,
            "linecolor": "white",
            "showbackground": true,
            "ticks": "",
            "zerolinecolor": "white"
           }
          },
          "shapedefaults": {
           "line": {
            "color": "#2a3f5f"
           }
          },
          "ternary": {
           "aaxis": {
            "gridcolor": "white",
            "linecolor": "white",
            "ticks": ""
           },
           "baxis": {
            "gridcolor": "white",
            "linecolor": "white",
            "ticks": ""
           },
           "bgcolor": "#E5ECF6",
           "caxis": {
            "gridcolor": "white",
            "linecolor": "white",
            "ticks": ""
           }
          },
          "title": {
           "x": 0.05
          },
          "xaxis": {
           "automargin": true,
           "gridcolor": "white",
           "linecolor": "white",
           "ticks": "",
           "title": {
            "standoff": 15
           },
           "zerolinecolor": "white",
           "zerolinewidth": 2
          },
          "yaxis": {
           "automargin": true,
           "gridcolor": "white",
           "linecolor": "white",
           "ticks": "",
           "title": {
            "standoff": 15
           },
           "zerolinecolor": "white",
           "zerolinewidth": 2
          }
         }
        },
        "title": {
         "text": "Musical Emotion Landscape (Normalized)"
        },
        "width": 700,
        "xaxis": {
         "range": [
          -1,
          1
         ],
         "title": {
          "text": "Valence (Normalized from -1 to 1)"
         }
        },
        "yaxis": {
         "range": [
          -1,
          1
         ],
         "title": {
          "text": "Arousal (Normalized from -1 to 1)"
         }
        }
       }
      }
     },
     "metadata": {},
     "output_type": "display_data"
    }
   ],
   "source": [
    "# Normalize the valence and arousal values from [1,9] to [-1,1]\n",
    "df[\"valence_normalized\"] = (df[\"valence\"] - 5) / 4.0\n",
    "df[\"arousal_normalized\"] = (df[\"arousal\"] - 5) / 4.0\n",
    "\n",
    "# Plot the normalized values\n",
    "fig = go.Figure(\n",
    "    go.Histogram2d(\n",
    "        x=df[\"valence_normalized\"],\n",
    "        y=df[\"arousal_normalized\"],\n",
    "        colorscale=\"Viridis\",\n",
    "        xbins=dict(start=-1, end=1, size=0.1),  # Define x-axis bins\n",
    "        ybins=dict(start=-1, end=1, size=0.1),  # Define y-axis bins\n",
    "        colorbar=dict(title=\"Count\"),  # Add colorbar title\n",
    "    )\n",
    ")\n",
    "annotations = [\n",
    "    dict(\n",
    "        x=0.65,\n",
    "        y=0.65,\n",
    "        text=\"<span style='text-shadow: -1px -1px 0px black, 1px -1px 0px black, -1px 1px 0px black, 1px 1px 0px black;'>Exciting<br>Positive</span>\",\n",
    "        font=dict(color=\"white\"),\n",
    "    ),\n",
    "    dict(\n",
    "        x=-0.65,\n",
    "        y=0.65,\n",
    "        text=\"<span style='text-shadow: -1px -1px 0px black, 1px -1px 0px black, -1px 1px 0px black, 1px 1px 0px black;'>Stressful<br>Negative</span>\",\n",
    "        font=dict(color=\"white\"),\n",
    "    ),\n",
    "    dict(\n",
    "        x=0.65,\n",
    "        y=-0.65,\n",
    "        text=\"<span style='text-shadow: -1px -1px 0px black, 1px -1px 0px black, -1px 1px 0px black, 1px 1px 0px black;'>Content<br>Calm</span>\",\n",
    "        font=dict(color=\"white\"),\n",
    "    ),\n",
    "    dict(\n",
    "        x=-0.65,\n",
    "        y=-0.65,\n",
    "        text=\"<span style='text-shadow: -1px -1px 0px black, 1px -1px 0px black, -1px 1px 0px black, 1px 1px 0px black;'>Depressing<br>Sad</span>\",\n",
    "        font=dict(color=\"white\"),\n",
    "    ),\n",
    "]\n",
    "\n",
    "fig.update_layout(\n",
    "    title=\"Musical Emotion Landscape (Normalized)\",\n",
    "    xaxis_title=\"Valence (Normalized from -1 to 1)\",\n",
    "    yaxis_title=\"Arousal (Normalized from -1 to 1)\",\n",
    "    xaxis=dict(range=[-1, 1]),\n",
    "    yaxis=dict(range=[-1, 1]),\n",
    "    annotations=annotations,\n",
    "    height=700,\n",
    "    width=700,\n",
    ")\n",
    "\n",
    "fig.show()"
   ]
  },
  {
   "cell_type": "markdown",
   "metadata": {},
   "source": [
    "## Vocal Analysis\n",
    "\n",
    "Analyze the distribution of vocal vs instrumental content."
   ]
  },
  {
   "cell_type": "code",
   "execution_count": 11,
   "metadata": {},
   "outputs": [
    {
     "data": {
      "application/vnd.plotly.v1+json": {
       "config": {
        "plotlyServerURL": "https://plot.ly"
       },
       "data": [
        {
         "hole": 0.7,
         "labels": [
          "Vocal",
          "Instrumental"
         ],
         "marker": {
          "colors": [
           "#FF6B6B",
           "#4ECDC4"
          ]
         },
         "textinfo": "percent+label",
         "type": "pie",
         "values": [
          0.6843765628549348,
          0.31562343714506524
         ]
        }
       ],
       "layout": {
        "annotations": [
         {
          "font": {
           "size": 20
          },
          "showarrow": false,
          "text": "68.4%<br>Vocal<br>Tracks",
          "x": 0.5,
          "y": 0.5
         }
        ],
        "template": {
         "data": {
          "bar": [
           {
            "error_x": {
             "color": "#2a3f5f"
            },
            "error_y": {
             "color": "#2a3f5f"
            },
            "marker": {
             "line": {
              "color": "#E5ECF6",
              "width": 0.5
             },
             "pattern": {
              "fillmode": "overlay",
              "size": 10,
              "solidity": 0.2
             }
            },
            "type": "bar"
           }
          ],
          "barpolar": [
           {
            "marker": {
             "line": {
              "color": "#E5ECF6",
              "width": 0.5
             },
             "pattern": {
              "fillmode": "overlay",
              "size": 10,
              "solidity": 0.2
             }
            },
            "type": "barpolar"
           }
          ],
          "carpet": [
           {
            "aaxis": {
             "endlinecolor": "#2a3f5f",
             "gridcolor": "white",
             "linecolor": "white",
             "minorgridcolor": "white",
             "startlinecolor": "#2a3f5f"
            },
            "baxis": {
             "endlinecolor": "#2a3f5f",
             "gridcolor": "white",
             "linecolor": "white",
             "minorgridcolor": "white",
             "startlinecolor": "#2a3f5f"
            },
            "type": "carpet"
           }
          ],
          "choropleth": [
           {
            "colorbar": {
             "outlinewidth": 0,
             "ticks": ""
            },
            "type": "choropleth"
           }
          ],
          "contour": [
           {
            "colorbar": {
             "outlinewidth": 0,
             "ticks": ""
            },
            "colorscale": [
             [
              0,
              "#0d0887"
             ],
             [
              0.1111111111111111,
              "#46039f"
             ],
             [
              0.2222222222222222,
              "#7201a8"
             ],
             [
              0.3333333333333333,
              "#9c179e"
             ],
             [
              0.4444444444444444,
              "#bd3786"
             ],
             [
              0.5555555555555556,
              "#d8576b"
             ],
             [
              0.6666666666666666,
              "#ed7953"
             ],
             [
              0.7777777777777778,
              "#fb9f3a"
             ],
             [
              0.8888888888888888,
              "#fdca26"
             ],
             [
              1,
              "#f0f921"
             ]
            ],
            "type": "contour"
           }
          ],
          "contourcarpet": [
           {
            "colorbar": {
             "outlinewidth": 0,
             "ticks": ""
            },
            "type": "contourcarpet"
           }
          ],
          "heatmap": [
           {
            "colorbar": {
             "outlinewidth": 0,
             "ticks": ""
            },
            "colorscale": [
             [
              0,
              "#0d0887"
             ],
             [
              0.1111111111111111,
              "#46039f"
             ],
             [
              0.2222222222222222,
              "#7201a8"
             ],
             [
              0.3333333333333333,
              "#9c179e"
             ],
             [
              0.4444444444444444,
              "#bd3786"
             ],
             [
              0.5555555555555556,
              "#d8576b"
             ],
             [
              0.6666666666666666,
              "#ed7953"
             ],
             [
              0.7777777777777778,
              "#fb9f3a"
             ],
             [
              0.8888888888888888,
              "#fdca26"
             ],
             [
              1,
              "#f0f921"
             ]
            ],
            "type": "heatmap"
           }
          ],
          "histogram": [
           {
            "marker": {
             "pattern": {
              "fillmode": "overlay",
              "size": 10,
              "solidity": 0.2
             }
            },
            "type": "histogram"
           }
          ],
          "histogram2d": [
           {
            "colorbar": {
             "outlinewidth": 0,
             "ticks": ""
            },
            "colorscale": [
             [
              0,
              "#0d0887"
             ],
             [
              0.1111111111111111,
              "#46039f"
             ],
             [
              0.2222222222222222,
              "#7201a8"
             ],
             [
              0.3333333333333333,
              "#9c179e"
             ],
             [
              0.4444444444444444,
              "#bd3786"
             ],
             [
              0.5555555555555556,
              "#d8576b"
             ],
             [
              0.6666666666666666,
              "#ed7953"
             ],
             [
              0.7777777777777778,
              "#fb9f3a"
             ],
             [
              0.8888888888888888,
              "#fdca26"
             ],
             [
              1,
              "#f0f921"
             ]
            ],
            "type": "histogram2d"
           }
          ],
          "histogram2dcontour": [
           {
            "colorbar": {
             "outlinewidth": 0,
             "ticks": ""
            },
            "colorscale": [
             [
              0,
              "#0d0887"
             ],
             [
              0.1111111111111111,
              "#46039f"
             ],
             [
              0.2222222222222222,
              "#7201a8"
             ],
             [
              0.3333333333333333,
              "#9c179e"
             ],
             [
              0.4444444444444444,
              "#bd3786"
             ],
             [
              0.5555555555555556,
              "#d8576b"
             ],
             [
              0.6666666666666666,
              "#ed7953"
             ],
             [
              0.7777777777777778,
              "#fb9f3a"
             ],
             [
              0.8888888888888888,
              "#fdca26"
             ],
             [
              1,
              "#f0f921"
             ]
            ],
            "type": "histogram2dcontour"
           }
          ],
          "mesh3d": [
           {
            "colorbar": {
             "outlinewidth": 0,
             "ticks": ""
            },
            "type": "mesh3d"
           }
          ],
          "parcoords": [
           {
            "line": {
             "colorbar": {
              "outlinewidth": 0,
              "ticks": ""
             }
            },
            "type": "parcoords"
           }
          ],
          "pie": [
           {
            "automargin": true,
            "type": "pie"
           }
          ],
          "scatter": [
           {
            "fillpattern": {
             "fillmode": "overlay",
             "size": 10,
             "solidity": 0.2
            },
            "type": "scatter"
           }
          ],
          "scatter3d": [
           {
            "line": {
             "colorbar": {
              "outlinewidth": 0,
              "ticks": ""
             }
            },
            "marker": {
             "colorbar": {
              "outlinewidth": 0,
              "ticks": ""
             }
            },
            "type": "scatter3d"
           }
          ],
          "scattercarpet": [
           {
            "marker": {
             "colorbar": {
              "outlinewidth": 0,
              "ticks": ""
             }
            },
            "type": "scattercarpet"
           }
          ],
          "scattergeo": [
           {
            "marker": {
             "colorbar": {
              "outlinewidth": 0,
              "ticks": ""
             }
            },
            "type": "scattergeo"
           }
          ],
          "scattergl": [
           {
            "marker": {
             "colorbar": {
              "outlinewidth": 0,
              "ticks": ""
             }
            },
            "type": "scattergl"
           }
          ],
          "scattermap": [
           {
            "marker": {
             "colorbar": {
              "outlinewidth": 0,
              "ticks": ""
             }
            },
            "type": "scattermap"
           }
          ],
          "scattermapbox": [
           {
            "marker": {
             "colorbar": {
              "outlinewidth": 0,
              "ticks": ""
             }
            },
            "type": "scattermapbox"
           }
          ],
          "scatterpolar": [
           {
            "marker": {
             "colorbar": {
              "outlinewidth": 0,
              "ticks": ""
             }
            },
            "type": "scatterpolar"
           }
          ],
          "scatterpolargl": [
           {
            "marker": {
             "colorbar": {
              "outlinewidth": 0,
              "ticks": ""
             }
            },
            "type": "scatterpolargl"
           }
          ],
          "scatterternary": [
           {
            "marker": {
             "colorbar": {
              "outlinewidth": 0,
              "ticks": ""
             }
            },
            "type": "scatterternary"
           }
          ],
          "surface": [
           {
            "colorbar": {
             "outlinewidth": 0,
             "ticks": ""
            },
            "colorscale": [
             [
              0,
              "#0d0887"
             ],
             [
              0.1111111111111111,
              "#46039f"
             ],
             [
              0.2222222222222222,
              "#7201a8"
             ],
             [
              0.3333333333333333,
              "#9c179e"
             ],
             [
              0.4444444444444444,
              "#bd3786"
             ],
             [
              0.5555555555555556,
              "#d8576b"
             ],
             [
              0.6666666666666666,
              "#ed7953"
             ],
             [
              0.7777777777777778,
              "#fb9f3a"
             ],
             [
              0.8888888888888888,
              "#fdca26"
             ],
             [
              1,
              "#f0f921"
             ]
            ],
            "type": "surface"
           }
          ],
          "table": [
           {
            "cells": {
             "fill": {
              "color": "#EBF0F8"
             },
             "line": {
              "color": "white"
             }
            },
            "header": {
             "fill": {
              "color": "#C8D4E3"
             },
             "line": {
              "color": "white"
             }
            },
            "type": "table"
           }
          ]
         },
         "layout": {
          "annotationdefaults": {
           "arrowcolor": "#2a3f5f",
           "arrowhead": 0,
           "arrowwidth": 1
          },
          "autotypenumbers": "strict",
          "coloraxis": {
           "colorbar": {
            "outlinewidth": 0,
            "ticks": ""
           }
          },
          "colorscale": {
           "diverging": [
            [
             0,
             "#8e0152"
            ],
            [
             0.1,
             "#c51b7d"
            ],
            [
             0.2,
             "#de77ae"
            ],
            [
             0.3,
             "#f1b6da"
            ],
            [
             0.4,
             "#fde0ef"
            ],
            [
             0.5,
             "#f7f7f7"
            ],
            [
             0.6,
             "#e6f5d0"
            ],
            [
             0.7,
             "#b8e186"
            ],
            [
             0.8,
             "#7fbc41"
            ],
            [
             0.9,
             "#4d9221"
            ],
            [
             1,
             "#276419"
            ]
           ],
           "sequential": [
            [
             0,
             "#0d0887"
            ],
            [
             0.1111111111111111,
             "#46039f"
            ],
            [
             0.2222222222222222,
             "#7201a8"
            ],
            [
             0.3333333333333333,
             "#9c179e"
            ],
            [
             0.4444444444444444,
             "#bd3786"
            ],
            [
             0.5555555555555556,
             "#d8576b"
            ],
            [
             0.6666666666666666,
             "#ed7953"
            ],
            [
             0.7777777777777778,
             "#fb9f3a"
            ],
            [
             0.8888888888888888,
             "#fdca26"
            ],
            [
             1,
             "#f0f921"
            ]
           ],
           "sequentialminus": [
            [
             0,
             "#0d0887"
            ],
            [
             0.1111111111111111,
             "#46039f"
            ],
            [
             0.2222222222222222,
             "#7201a8"
            ],
            [
             0.3333333333333333,
             "#9c179e"
            ],
            [
             0.4444444444444444,
             "#bd3786"
            ],
            [
             0.5555555555555556,
             "#d8576b"
            ],
            [
             0.6666666666666666,
             "#ed7953"
            ],
            [
             0.7777777777777778,
             "#fb9f3a"
            ],
            [
             0.8888888888888888,
             "#fdca26"
            ],
            [
             1,
             "#f0f921"
            ]
           ]
          },
          "colorway": [
           "#636efa",
           "#EF553B",
           "#00cc96",
           "#ab63fa",
           "#FFA15A",
           "#19d3f3",
           "#FF6692",
           "#B6E880",
           "#FF97FF",
           "#FECB52"
          ],
          "font": {
           "color": "#2a3f5f"
          },
          "geo": {
           "bgcolor": "white",
           "lakecolor": "white",
           "landcolor": "#E5ECF6",
           "showlakes": true,
           "showland": true,
           "subunitcolor": "white"
          },
          "hoverlabel": {
           "align": "left"
          },
          "hovermode": "closest",
          "mapbox": {
           "style": "light"
          },
          "paper_bgcolor": "white",
          "plot_bgcolor": "#E5ECF6",
          "polar": {
           "angularaxis": {
            "gridcolor": "white",
            "linecolor": "white",
            "ticks": ""
           },
           "bgcolor": "#E5ECF6",
           "radialaxis": {
            "gridcolor": "white",
            "linecolor": "white",
            "ticks": ""
           }
          },
          "scene": {
           "xaxis": {
            "backgroundcolor": "#E5ECF6",
            "gridcolor": "white",
            "gridwidth": 2,
            "linecolor": "white",
            "showbackground": true,
            "ticks": "",
            "zerolinecolor": "white"
           },
           "yaxis": {
            "backgroundcolor": "#E5ECF6",
            "gridcolor": "white",
            "gridwidth": 2,
            "linecolor": "white",
            "showbackground": true,
            "ticks": "",
            "zerolinecolor": "white"
           },
           "zaxis": {
            "backgroundcolor": "#E5ECF6",
            "gridcolor": "white",
            "gridwidth": 2,
            "linecolor": "white",
            "showbackground": true,
            "ticks": "",
            "zerolinecolor": "white"
           }
          },
          "shapedefaults": {
           "line": {
            "color": "#2a3f5f"
           }
          },
          "ternary": {
           "aaxis": {
            "gridcolor": "white",
            "linecolor": "white",
            "ticks": ""
           },
           "baxis": {
            "gridcolor": "white",
            "linecolor": "white",
            "ticks": ""
           },
           "bgcolor": "#E5ECF6",
           "caxis": {
            "gridcolor": "white",
            "linecolor": "white",
            "ticks": ""
           }
          },
          "title": {
           "x": 0.05
          },
          "xaxis": {
           "automargin": true,
           "gridcolor": "white",
           "linecolor": "white",
           "ticks": "",
           "title": {
            "standoff": 15
           },
           "zerolinecolor": "white",
           "zerolinewidth": 2
          },
          "yaxis": {
           "automargin": true,
           "gridcolor": "white",
           "linecolor": "white",
           "ticks": "",
           "title": {
            "standoff": 15
           },
           "zerolinecolor": "white",
           "zerolinewidth": 2
          }
         }
        },
        "title": {
         "text": "Vocal Presence in Collection"
        }
       }
      }
     },
     "metadata": {},
     "output_type": "display_data"
    }
   ],
   "source": [
    "# Calculate vocal mean\n",
    "vocal_mean = df[\"voice_instrumental\"].apply(lambda x: x[\"voice\"]).mean()\n",
    "\n",
    "# Interactive plot\n",
    "fig = go.Figure(\n",
    "    go.Pie(\n",
    "        values=[vocal_mean, 1 - vocal_mean],\n",
    "        labels=[\"Vocal\", \"Instrumental\"],\n",
    "        hole=0.7,\n",
    "        textinfo=\"percent+label\",\n",
    "        marker_colors=[\"#FF6B6B\", \"#4ECDC4\"],\n",
    "    )\n",
    ")\n",
    "\n",
    "fig.update_layout(\n",
    "    title=\"Vocal Presence in Collection\",\n",
    "    annotations=[\n",
    "        dict(\n",
    "            text=f\"{vocal_mean:.1%}<br>Vocal<br>Tracks\",\n",
    "            x=0.5,\n",
    "            y=0.5,\n",
    "            font_size=20,\n",
    "            showarrow=False,\n",
    "        )\n",
    "    ],\n",
    ")\n",
    "\n",
    "fig.show()"
   ]
  }
 ],
 "metadata": {
  "kernelspec": {
   "display_name": ".venv",
   "language": "python",
   "name": "python3"
  },
  "language_info": {
   "codemirror_mode": {
    "name": "ipython",
    "version": 3
   },
   "file_extension": ".py",
   "mimetype": "text/x-python",
   "name": "python",
   "nbconvert_exporter": "python",
   "pygments_lexer": "ipython3",
   "version": "3.10.15"
  }
 },
 "nbformat": 4,
 "nbformat_minor": 2
}
